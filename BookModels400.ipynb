{
 "cells": [
  {
   "cell_type": "code",
   "execution_count": 1,
   "id": "0e33633b",
   "metadata": {},
   "outputs": [],
   "source": [
    "import pandas as pd\n",
    "from nltk.tokenize import word_tokenize, sent_tokenize\n",
    "from nltk.corpus import stopwords\n",
    "from nltk import ngrams\n",
    "import nltk\n",
    "from nltk import pos_tag\n",
    "import string\n",
    "import re"
   ]
  },
  {
   "cell_type": "code",
   "execution_count": 2,
   "id": "ca0d05b7",
   "metadata": {},
   "outputs": [],
   "source": [
    "from sklearn.feature_extraction.text import TfidfVectorizer\n",
    "from sklearn.pipeline import Pipeline\n",
    "from sklearn.neural_network import MLPRegressor, MLPClassifier\n",
    "from sklearn.model_selection import cross_val_score\n",
    "from sklearn.metrics import precision_recall_fscore_support\n",
    "from sklearn.metrics import accuracy_score\n",
    "from sklearn.metrics import confusion_matrix\n",
    "from keras.layers import Dense\n",
    "from keras.models import Sequential\n",
    "from keras.wrappers.scikit_learn import KerasClassifier\n",
    "import scipy\n",
    "from sklearn.model_selection import train_test_split"
   ]
  },
  {
   "cell_type": "code",
   "execution_count": 3,
   "id": "c0857c15",
   "metadata": {},
   "outputs": [
    {
     "data": {
      "text/html": [
       "<div>\n",
       "<style scoped>\n",
       "    .dataframe tbody tr th:only-of-type {\n",
       "        vertical-align: middle;\n",
       "    }\n",
       "\n",
       "    .dataframe tbody tr th {\n",
       "        vertical-align: top;\n",
       "    }\n",
       "\n",
       "    .dataframe thead th {\n",
       "        text-align: right;\n",
       "    }\n",
       "</style>\n",
       "<table border=\"1\" class=\"dataframe\">\n",
       "  <thead>\n",
       "    <tr style=\"text-align: right;\">\n",
       "      <th></th>\n",
       "      <th>name</th>\n",
       "      <th>author</th>\n",
       "      <th>url</th>\n",
       "      <th>length</th>\n",
       "      <th>sample0</th>\n",
       "      <th>sample1</th>\n",
       "      <th>sample2</th>\n",
       "      <th>sample3</th>\n",
       "      <th>sample4</th>\n",
       "      <th>sample5</th>\n",
       "      <th>sample6</th>\n",
       "      <th>sample7</th>\n",
       "      <th>sample8</th>\n",
       "      <th>sample9</th>\n",
       "    </tr>\n",
       "  </thead>\n",
       "  <tbody>\n",
       "    <tr>\n",
       "      <th>0</th>\n",
       "      <td>Gunnison's Bonanza</td>\n",
       "      <td>Dick Purcell.</td>\n",
       "      <td>https://www.gutenberg.org/files/66752/66752-h/...</td>\n",
       "      <td>3706</td>\n",
       "      <td>of cunning and cruelty. Now he changed his min...</td>\n",
       "      <td>the hair off their own hides. But what did the...</td>\n",
       "      <td>it would have dangled him helpless and kicking...</td>\n",
       "      <td>I get my money back?\" The pilot returned the g...</td>\n",
       "      <td>death, Gunnison could not help marveling. What...</td>\n",
       "      <td>from the path of a whizzing missile. The whist...</td>\n",
       "      <td>the hideous head. The result was amazing. The ...</td>\n",
       "      <td>bitter, because even so extraordinary a situat...</td>\n",
       "      <td>Gunnison had certainly done his part. He was s...</td>\n",
       "      <td>fortune and the arena was all to his favor. He...</td>\n",
       "    </tr>\n",
       "    <tr>\n",
       "      <th>1</th>\n",
       "      <td>Life Of Schamyl</td>\n",
       "      <td>J. Milton Mackie.</td>\n",
       "      <td>https://www.gutenberg.org/files/22533/22533-h/...</td>\n",
       "      <td>52521</td>\n",
       "      <td>hither he brought, as to a place of safety, ma...</td>\n",
       "      <td>Koran, is discountenanced by the Sufis and Sch...</td>\n",
       "      <td>in reaching the river unobserved, have swept l...</td>\n",
       "      <td>put Achwerdu-Mahomet to death. For alike despi...</td>\n",
       "      <td>vanguard pretended that they had seen here and...</td>\n",
       "      <td>in the contest, and whose position on the Kois...</td>\n",
       "      <td>on hand a considerable quantity, such as maize...</td>\n",
       "      <td>gift of the grace of our lord the emperor, who...</td>\n",
       "      <td>encounter. [43] X. HUNTING. Schamyl's love for...</td>\n",
       "      <td>subject to him. His head-quarters he establish...</td>\n",
       "    </tr>\n",
       "    <tr>\n",
       "      <th>2</th>\n",
       "      <td>Further Experiences of an Irish R.M.</td>\n",
       "      <td>E. Å. Somerville and Martin Ross</td>\n",
       "      <td>https://www.gutenberg.org/files/38108/38108-h/...</td>\n",
       "      <td>66688</td>\n",
       "      <td>ring the bell, I could then and there have bro...</td>\n",
       "      <td>without a change of expression, and turned to ...</td>\n",
       "      <td>by Mrs. Cadogan for sore throats, and divined ...</td>\n",
       "      <td>Master Eddy should proffer him the bone while ...</td>\n",
       "      <td>spine, in her effort to fall again into stroke...</td>\n",
       "      <td>The voice, still more wrathfully, demanded the...</td>\n",
       "      <td>the decencies from thrashing him past the long...</td>\n",
       "      <td>by drunken people. I had assured Philippa (wit...</td>\n",
       "      <td>next incident in the affair occurred at about ...</td>\n",
       "      <td>the chimney, and the tray was emptied into the...</td>\n",
       "    </tr>\n",
       "    <tr>\n",
       "      <th>3</th>\n",
       "      <td>Feminism in Greek Literature</td>\n",
       "      <td>F. A. Wright.</td>\n",
       "      <td>https://www.gutenberg.org/files/59205/59205-h/...</td>\n",
       "      <td>51723</td>\n",
       "      <td>her a minstrel, whom Agamemnon, when he went t...</td>\n",
       "      <td>believe: they are deceived by the adept, and m...</td>\n",
       "      <td>mixture in the six hundred lines of the Sixth ...</td>\n",
       "      <td>merely is he, perhaps, the greatest mind that ...</td>\n",
       "      <td>you mean by that?â she cries. âI have been...</td>\n",
       "      <td>wife is in this speech accused by her stepson ...</td>\n",
       "      <td>surest bond of union between us. At first, gen...</td>\n",
       "      <td>exists. To begin with, we must outbid each oth...</td>\n",
       "      <td>gentleman in matters of the affections that we...</td>\n",
       "      <td>head goes bald because the brain is there and ...</td>\n",
       "    </tr>\n",
       "    <tr>\n",
       "      <th>4</th>\n",
       "      <td>Three Years in the Federal Cavalry</td>\n",
       "      <td>Willard Glazier.</td>\n",
       "      <td>https://www.gutenberg.org/files/29660/29660-h/...</td>\n",
       "      <td>80560</td>\n",
       "      <td>disabled, and at length our assailing ranks re...</td>\n",
       "      <td>in his eagerness for a fight, had advanced his...</td>\n",
       "      <td>Policy of the Rebellion.—Pennsylvania and the ...</td>\n",
       "      <td>quietness to the city; and about three miles b...</td>\n",
       "      <td>at the Pamunkey River. Here we captured a Rebe...</td>\n",
       "      <td>true soldier that suggests the experience and ...</td>\n",
       "      <td>cavalry service, or any thing else, and a frie...</td>\n",
       "      <td>men were already on our way to \"Richmond!\" The...</td>\n",
       "      <td>its usual time.\" It is evident that we are gre...</td>\n",
       "      <td>[Pg 274]\"I saw that he had been properly infor...</td>\n",
       "    </tr>\n",
       "  </tbody>\n",
       "</table>\n",
       "</div>"
      ],
      "text/plain": [
       "                                   name                             author  \\\n",
       "0                    Gunnison's Bonanza                      Dick Purcell.   \n",
       "1                       Life Of Schamyl                  J. Milton Mackie.   \n",
       "2  Further Experiences of an Irish R.M.  E. Å. Somerville and Martin Ross   \n",
       "3          Feminism in Greek Literature                      F. A. Wright.   \n",
       "4    Three Years in the Federal Cavalry                   Willard Glazier.   \n",
       "\n",
       "                                                 url  length  \\\n",
       "0  https://www.gutenberg.org/files/66752/66752-h/...    3706   \n",
       "1  https://www.gutenberg.org/files/22533/22533-h/...   52521   \n",
       "2  https://www.gutenberg.org/files/38108/38108-h/...   66688   \n",
       "3  https://www.gutenberg.org/files/59205/59205-h/...   51723   \n",
       "4  https://www.gutenberg.org/files/29660/29660-h/...   80560   \n",
       "\n",
       "                                             sample0  \\\n",
       "0  of cunning and cruelty. Now he changed his min...   \n",
       "1  hither he brought, as to a place of safety, ma...   \n",
       "2  ring the bell, I could then and there have bro...   \n",
       "3  her a minstrel, whom Agamemnon, when he went t...   \n",
       "4  disabled, and at length our assailing ranks re...   \n",
       "\n",
       "                                             sample1  \\\n",
       "0  the hair off their own hides. But what did the...   \n",
       "1  Koran, is discountenanced by the Sufis and Sch...   \n",
       "2  without a change of expression, and turned to ...   \n",
       "3  believe: they are deceived by the adept, and m...   \n",
       "4  in his eagerness for a fight, had advanced his...   \n",
       "\n",
       "                                             sample2  \\\n",
       "0  it would have dangled him helpless and kicking...   \n",
       "1  in reaching the river unobserved, have swept l...   \n",
       "2  by Mrs. Cadogan for sore throats, and divined ...   \n",
       "3  mixture in the six hundred lines of the Sixth ...   \n",
       "4  Policy of the Rebellion.—Pennsylvania and the ...   \n",
       "\n",
       "                                             sample3  \\\n",
       "0  I get my money back?\" The pilot returned the g...   \n",
       "1  put Achwerdu-Mahomet to death. For alike despi...   \n",
       "2  Master Eddy should proffer him the bone while ...   \n",
       "3  merely is he, perhaps, the greatest mind that ...   \n",
       "4  quietness to the city; and about three miles b...   \n",
       "\n",
       "                                             sample4  \\\n",
       "0  death, Gunnison could not help marveling. What...   \n",
       "1  vanguard pretended that they had seen here and...   \n",
       "2  spine, in her effort to fall again into stroke...   \n",
       "3  you mean by that?â she cries. âI have been...   \n",
       "4  at the Pamunkey River. Here we captured a Rebe...   \n",
       "\n",
       "                                             sample5  \\\n",
       "0  from the path of a whizzing missile. The whist...   \n",
       "1  in the contest, and whose position on the Kois...   \n",
       "2  The voice, still more wrathfully, demanded the...   \n",
       "3  wife is in this speech accused by her stepson ...   \n",
       "4  true soldier that suggests the experience and ...   \n",
       "\n",
       "                                             sample6  \\\n",
       "0  the hideous head. The result was amazing. The ...   \n",
       "1  on hand a considerable quantity, such as maize...   \n",
       "2  the decencies from thrashing him past the long...   \n",
       "3  surest bond of union between us. At first, gen...   \n",
       "4  cavalry service, or any thing else, and a frie...   \n",
       "\n",
       "                                             sample7  \\\n",
       "0  bitter, because even so extraordinary a situat...   \n",
       "1  gift of the grace of our lord the emperor, who...   \n",
       "2  by drunken people. I had assured Philippa (wit...   \n",
       "3  exists. To begin with, we must outbid each oth...   \n",
       "4  men were already on our way to \"Richmond!\" The...   \n",
       "\n",
       "                                             sample8  \\\n",
       "0  Gunnison had certainly done his part. He was s...   \n",
       "1  encounter. [43] X. HUNTING. Schamyl's love for...   \n",
       "2  next incident in the affair occurred at about ...   \n",
       "3  gentleman in matters of the affections that we...   \n",
       "4  its usual time.\" It is evident that we are gre...   \n",
       "\n",
       "                                             sample9  \n",
       "0  fortune and the arena was all to his favor. He...  \n",
       "1  subject to him. His head-quarters he establish...  \n",
       "2  the chimney, and the tray was emptied into the...  \n",
       "3  head goes bald because the brain is there and ...  \n",
       "4  [Pg 274]\"I saw that he had been properly infor...  "
      ]
     },
     "execution_count": 3,
     "metadata": {},
     "output_type": "execute_result"
    }
   ],
   "source": [
    "books_df = pd.read_csv('book_df.csv', index_col= 0)\n",
    "books_df.head()"
   ]
  },
  {
   "cell_type": "code",
   "execution_count": 4,
   "id": "6c783eb3",
   "metadata": {},
   "outputs": [
    {
     "data": {
      "text/plain": [
       "array([[<AxesSubplot:title={'center':'length'}>]], dtype=object)"
      ]
     },
     "execution_count": 4,
     "metadata": {},
     "output_type": "execute_result"
    },
    {
     "data": {
      "image/png": "[encoded data removed]",
      "text/plain": [
       "<Figure size 432x288 with 1 Axes>"
      ]
     },
     "metadata": {
      "needs_background": "light"
     },
     "output_type": "display_data"
    }
   ],
   "source": [
    "books_df.hist(bins=30)"
   ]
  },
  {
   "cell_type": "code",
   "execution_count": 5,
   "id": "c6981079",
   "metadata": {},
   "outputs": [
    {
     "data": {
      "text/plain": [
       "<AxesSubplot:>"
      ]
     },
     "execution_count": 5,
     "metadata": {},
     "output_type": "execute_result"
    },
    {
     "data": {
      "image/png": "[encoded data removed]",
      "text/plain": [
       "<Figure size 432x288 with 1 Axes>"
      ]
     },
     "metadata": {
      "needs_background": "light"
     },
     "output_type": "display_data"
    }
   ],
   "source": [
    "books_df.boxplot()"
   ]
  },
  {
   "cell_type": "code",
   "execution_count": 6,
   "id": "e0f0413b",
   "metadata": {},
   "outputs": [
    {
     "data": {
      "text/plain": [
       "array([[<AxesSubplot:title={'center':'length'}>]], dtype=object)"
      ]
     },
     "execution_count": 6,
     "metadata": {},
     "output_type": "execute_result"
    },
    {
     "data": {
      "image/png": "[encoded data removed]",
      "text/plain": [
       "<Figure size 432x288 with 1 Axes>"
      ]
     },
     "metadata": {
      "needs_background": "light"
     },
     "output_type": "display_data"
    }
   ],
   "source": [
    "books_df[books_df['length'] < 400000].hist(bins=50)"
   ]
  },
  {
   "cell_type": "code",
   "execution_count": 7,
   "id": "b5062b4b",
   "metadata": {},
   "outputs": [
    {
     "data": {
      "text/plain": [
       "<AxesSubplot:>"
      ]
     },
     "execution_count": 7,
     "metadata": {},
     "output_type": "execute_result"
    },
    {
     "data": {
      "image/png": "[encoded data removed]",
      "text/plain": [
       "<Figure size 432x288 with 1 Axes>"
      ]
     },
     "metadata": {
      "needs_background": "light"
     },
     "output_type": "display_data"
    }
   ],
   "source": [
    "books_df['author'].value_counts().hist()"
   ]
  },
  {
   "cell_type": "code",
   "execution_count": 8,
   "id": "0a9814d9",
   "metadata": {},
   "outputs": [
    {
     "data": {
      "text/plain": [
       "Index(['name', 'author', 'url', 'length', 'sample0', 'sample1', 'sample2',\n",
       "       'sample3', 'sample4', 'sample5', 'sample6', 'sample7', 'sample8',\n",
       "       'sample9'],\n",
       "      dtype='object')"
      ]
     },
     "execution_count": 8,
     "metadata": {},
     "output_type": "execute_result"
    }
   ],
   "source": [
    "books_df.columns"
   ]
  },
  {
   "cell_type": "code",
   "execution_count": 9,
   "id": "787e57ee",
   "metadata": {},
   "outputs": [],
   "source": [
    "l = pd.wide_to_long(books_df, stubnames='sample',i = ['name', 'author', 'length'], j= 'number')\n",
    "l.reset_index(inplace= True)"
   ]
  },
  {
   "cell_type": "code",
   "execution_count": 10,
   "id": "31381640",
   "metadata": {},
   "outputs": [
    {
     "data": {
      "text/html": [
       "<div>\n",
       "<style scoped>\n",
       "    .dataframe tbody tr th:only-of-type {\n",
       "        vertical-align: middle;\n",
       "    }\n",
       "\n",
       "    .dataframe tbody tr th {\n",
       "        vertical-align: top;\n",
       "    }\n",
       "\n",
       "    .dataframe thead th {\n",
       "        text-align: right;\n",
       "    }\n",
       "</style>\n",
       "<table border=\"1\" class=\"dataframe\">\n",
       "  <thead>\n",
       "    <tr style=\"text-align: right;\">\n",
       "      <th></th>\n",
       "      <th>name</th>\n",
       "      <th>author</th>\n",
       "      <th>length</th>\n",
       "      <th>number</th>\n",
       "      <th>url</th>\n",
       "      <th>sample</th>\n",
       "    </tr>\n",
       "  </thead>\n",
       "  <tbody>\n",
       "    <tr>\n",
       "      <th>0</th>\n",
       "      <td>Gunnison's Bonanza</td>\n",
       "      <td>Dick Purcell.</td>\n",
       "      <td>3706</td>\n",
       "      <td>0</td>\n",
       "      <td>https://www.gutenberg.org/files/66752/66752-h/...</td>\n",
       "      <td>of cunning and cruelty. Now he changed his min...</td>\n",
       "    </tr>\n",
       "    <tr>\n",
       "      <th>1</th>\n",
       "      <td>Gunnison's Bonanza</td>\n",
       "      <td>Dick Purcell.</td>\n",
       "      <td>3706</td>\n",
       "      <td>1</td>\n",
       "      <td>https://www.gutenberg.org/files/66752/66752-h/...</td>\n",
       "      <td>the hair off their own hides. But what did the...</td>\n",
       "    </tr>\n",
       "    <tr>\n",
       "      <th>2</th>\n",
       "      <td>Gunnison's Bonanza</td>\n",
       "      <td>Dick Purcell.</td>\n",
       "      <td>3706</td>\n",
       "      <td>2</td>\n",
       "      <td>https://www.gutenberg.org/files/66752/66752-h/...</td>\n",
       "      <td>it would have dangled him helpless and kicking...</td>\n",
       "    </tr>\n",
       "    <tr>\n",
       "      <th>3</th>\n",
       "      <td>Gunnison's Bonanza</td>\n",
       "      <td>Dick Purcell.</td>\n",
       "      <td>3706</td>\n",
       "      <td>3</td>\n",
       "      <td>https://www.gutenberg.org/files/66752/66752-h/...</td>\n",
       "      <td>I get my money back?\" The pilot returned the g...</td>\n",
       "    </tr>\n",
       "    <tr>\n",
       "      <th>4</th>\n",
       "      <td>Gunnison's Bonanza</td>\n",
       "      <td>Dick Purcell.</td>\n",
       "      <td>3706</td>\n",
       "      <td>4</td>\n",
       "      <td>https://www.gutenberg.org/files/66752/66752-h/...</td>\n",
       "      <td>death, Gunnison could not help marveling. What...</td>\n",
       "    </tr>\n",
       "    <tr>\n",
       "      <th>5</th>\n",
       "      <td>Gunnison's Bonanza</td>\n",
       "      <td>Dick Purcell.</td>\n",
       "      <td>3706</td>\n",
       "      <td>5</td>\n",
       "      <td>https://www.gutenberg.org/files/66752/66752-h/...</td>\n",
       "      <td>from the path of a whizzing missile. The whist...</td>\n",
       "    </tr>\n",
       "    <tr>\n",
       "      <th>6</th>\n",
       "      <td>Gunnison's Bonanza</td>\n",
       "      <td>Dick Purcell.</td>\n",
       "      <td>3706</td>\n",
       "      <td>6</td>\n",
       "      <td>https://www.gutenberg.org/files/66752/66752-h/...</td>\n",
       "      <td>the hideous head. The result was amazing. The ...</td>\n",
       "    </tr>\n",
       "    <tr>\n",
       "      <th>7</th>\n",
       "      <td>Gunnison's Bonanza</td>\n",
       "      <td>Dick Purcell.</td>\n",
       "      <td>3706</td>\n",
       "      <td>7</td>\n",
       "      <td>https://www.gutenberg.org/files/66752/66752-h/...</td>\n",
       "      <td>bitter, because even so extraordinary a situat...</td>\n",
       "    </tr>\n",
       "    <tr>\n",
       "      <th>8</th>\n",
       "      <td>Gunnison's Bonanza</td>\n",
       "      <td>Dick Purcell.</td>\n",
       "      <td>3706</td>\n",
       "      <td>8</td>\n",
       "      <td>https://www.gutenberg.org/files/66752/66752-h/...</td>\n",
       "      <td>Gunnison had certainly done his part. He was s...</td>\n",
       "    </tr>\n",
       "    <tr>\n",
       "      <th>9</th>\n",
       "      <td>Gunnison's Bonanza</td>\n",
       "      <td>Dick Purcell.</td>\n",
       "      <td>3706</td>\n",
       "      <td>9</td>\n",
       "      <td>https://www.gutenberg.org/files/66752/66752-h/...</td>\n",
       "      <td>fortune and the arena was all to his favor. He...</td>\n",
       "    </tr>\n",
       "  </tbody>\n",
       "</table>\n",
       "</div>"
      ],
      "text/plain": [
       "                 name         author  length  number  \\\n",
       "0  Gunnison's Bonanza  Dick Purcell.    3706       0   \n",
       "1  Gunnison's Bonanza  Dick Purcell.    3706       1   \n",
       "2  Gunnison's Bonanza  Dick Purcell.    3706       2   \n",
       "3  Gunnison's Bonanza  Dick Purcell.    3706       3   \n",
       "4  Gunnison's Bonanza  Dick Purcell.    3706       4   \n",
       "5  Gunnison's Bonanza  Dick Purcell.    3706       5   \n",
       "6  Gunnison's Bonanza  Dick Purcell.    3706       6   \n",
       "7  Gunnison's Bonanza  Dick Purcell.    3706       7   \n",
       "8  Gunnison's Bonanza  Dick Purcell.    3706       8   \n",
       "9  Gunnison's Bonanza  Dick Purcell.    3706       9   \n",
       "\n",
       "                                                 url  \\\n",
       "0  https://www.gutenberg.org/files/66752/66752-h/...   \n",
       "1  https://www.gutenberg.org/files/66752/66752-h/...   \n",
       "2  https://www.gutenberg.org/files/66752/66752-h/...   \n",
       "3  https://www.gutenberg.org/files/66752/66752-h/...   \n",
       "4  https://www.gutenberg.org/files/66752/66752-h/...   \n",
       "5  https://www.gutenberg.org/files/66752/66752-h/...   \n",
       "6  https://www.gutenberg.org/files/66752/66752-h/...   \n",
       "7  https://www.gutenberg.org/files/66752/66752-h/...   \n",
       "8  https://www.gutenberg.org/files/66752/66752-h/...   \n",
       "9  https://www.gutenberg.org/files/66752/66752-h/...   \n",
       "\n",
       "                                              sample  \n",
       "0  of cunning and cruelty. Now he changed his min...  \n",
       "1  the hair off their own hides. But what did the...  \n",
       "2  it would have dangled him helpless and kicking...  \n",
       "3  I get my money back?\" The pilot returned the g...  \n",
       "4  death, Gunnison could not help marveling. What...  \n",
       "5  from the path of a whizzing missile. The whist...  \n",
       "6  the hideous head. The result was amazing. The ...  \n",
       "7  bitter, because even so extraordinary a situat...  \n",
       "8  Gunnison had certainly done his part. He was s...  \n",
       "9  fortune and the arena was all to his favor. He...  "
      ]
     },
     "execution_count": 10,
     "metadata": {},
     "output_type": "execute_result"
    }
   ],
   "source": [
    "l.head(10)"
   ]
  },
  {
   "cell_type": "code",
   "execution_count": 11,
   "id": "f1a160af",
   "metadata": {},
   "outputs": [
    {
     "name": "stdout",
     "output_type": "stream",
     "text": [
      "0\n",
      "0\n"
     ]
    }
   ],
   "source": [
    "print(sum(l.duplicated(subset = ['sample'])))\n",
    "# print(sum(books_df.duplicated(subset = ['sample', 'rating'])))\n",
    "# books_df.drop_duplicates(subset = ['sample', 'rating'], inplace=True)\n",
    "print(sum(l.duplicated()))\n",
    "# books_df.drop(['reviewer'], axis=1, inplace=True)"
   ]
  },
  {
   "cell_type": "code",
   "execution_count": 14,
   "id": "ee69a19e",
   "metadata": {},
   "outputs": [
    {
     "name": "stdout",
     "output_type": "stream",
     "text": [
      "Empty DataFrame\n",
      "Columns: [name, author, length, number, url, sample]\n",
      "Index: []\n"
     ]
    }
   ],
   "source": [
    "print(l[l.duplicated(subset = ['sample'], keep= False)== True])\n",
    "l.drop_duplicates(subset= ['sample'], keep= False, inplace = True)"
   ]
  },
  {
   "cell_type": "code",
   "execution_count": 15,
   "id": "b30ed196",
   "metadata": {},
   "outputs": [],
   "source": [
    "l['tagged_sample'] = l['sample'].apply(lambda x : pos_tag(word_tokenize(x))) # Ad\n"
   ]
  },
  {
   "cell_type": "code",
   "execution_count": 16,
   "id": "0833e950",
   "metadata": {},
   "outputs": [
    {
     "data": {
      "text/html": [
       "<div>\n",
       "<style scoped>\n",
       "    .dataframe tbody tr th:only-of-type {\n",
       "        vertical-align: middle;\n",
       "    }\n",
       "\n",
       "    .dataframe tbody tr th {\n",
       "        vertical-align: top;\n",
       "    }\n",
       "\n",
       "    .dataframe thead th {\n",
       "        text-align: right;\n",
       "    }\n",
       "</style>\n",
       "<table border=\"1\" class=\"dataframe\">\n",
       "  <thead>\n",
       "    <tr style=\"text-align: right;\">\n",
       "      <th></th>\n",
       "      <th>name</th>\n",
       "      <th>author</th>\n",
       "      <th>length</th>\n",
       "      <th>number</th>\n",
       "      <th>url</th>\n",
       "      <th>sample</th>\n",
       "      <th>tagged_sample</th>\n",
       "    </tr>\n",
       "  </thead>\n",
       "  <tbody>\n",
       "    <tr>\n",
       "      <th>0</th>\n",
       "      <td>Gunnison's Bonanza</td>\n",
       "      <td>Dick Purcell.</td>\n",
       "      <td>3706</td>\n",
       "      <td>0</td>\n",
       "      <td>https://www.gutenberg.org/files/66752/66752-h/...</td>\n",
       "      <td>of cunning and cruelty. Now he changed his min...</td>\n",
       "      <td>[(of, IN), (cunning, VBG), (and, CC), (cruelty...</td>\n",
       "    </tr>\n",
       "    <tr>\n",
       "      <th>1</th>\n",
       "      <td>Gunnison's Bonanza</td>\n",
       "      <td>Dick Purcell.</td>\n",
       "      <td>3706</td>\n",
       "      <td>1</td>\n",
       "      <td>https://www.gutenberg.org/files/66752/66752-h/...</td>\n",
       "      <td>the hair off their own hides. But what did the...</td>\n",
       "      <td>[(the, DT), (hair, NN), (off, RP), (their, PRP...</td>\n",
       "    </tr>\n",
       "    <tr>\n",
       "      <th>2</th>\n",
       "      <td>Gunnison's Bonanza</td>\n",
       "      <td>Dick Purcell.</td>\n",
       "      <td>3706</td>\n",
       "      <td>2</td>\n",
       "      <td>https://www.gutenberg.org/files/66752/66752-h/...</td>\n",
       "      <td>it would have dangled him helpless and kicking...</td>\n",
       "      <td>[(it, PRP), (would, MD), (have, VB), (dangled,...</td>\n",
       "    </tr>\n",
       "    <tr>\n",
       "      <th>3</th>\n",
       "      <td>Gunnison's Bonanza</td>\n",
       "      <td>Dick Purcell.</td>\n",
       "      <td>3706</td>\n",
       "      <td>3</td>\n",
       "      <td>https://www.gutenberg.org/files/66752/66752-h/...</td>\n",
       "      <td>I get my money back?\" The pilot returned the g...</td>\n",
       "      <td>[(I, PRP), (get, VBP), (my, PRP$), (money, NN)...</td>\n",
       "    </tr>\n",
       "    <tr>\n",
       "      <th>4</th>\n",
       "      <td>Gunnison's Bonanza</td>\n",
       "      <td>Dick Purcell.</td>\n",
       "      <td>3706</td>\n",
       "      <td>4</td>\n",
       "      <td>https://www.gutenberg.org/files/66752/66752-h/...</td>\n",
       "      <td>death, Gunnison could not help marveling. What...</td>\n",
       "      <td>[(death, NN), (,, ,), (Gunnison, NNP), (could,...</td>\n",
       "    </tr>\n",
       "  </tbody>\n",
       "</table>\n",
       "</div>"
      ],
      "text/plain": [
       "                 name         author  length  number  \\\n",
       "0  Gunnison's Bonanza  Dick Purcell.    3706       0   \n",
       "1  Gunnison's Bonanza  Dick Purcell.    3706       1   \n",
       "2  Gunnison's Bonanza  Dick Purcell.    3706       2   \n",
       "3  Gunnison's Bonanza  Dick Purcell.    3706       3   \n",
       "4  Gunnison's Bonanza  Dick Purcell.    3706       4   \n",
       "\n",
       "                                                 url  \\\n",
       "0  https://www.gutenberg.org/files/66752/66752-h/...   \n",
       "1  https://www.gutenberg.org/files/66752/66752-h/...   \n",
       "2  https://www.gutenberg.org/files/66752/66752-h/...   \n",
       "3  https://www.gutenberg.org/files/66752/66752-h/...   \n",
       "4  https://www.gutenberg.org/files/66752/66752-h/...   \n",
       "\n",
       "                                              sample  \\\n",
       "0  of cunning and cruelty. Now he changed his min...   \n",
       "1  the hair off their own hides. But what did the...   \n",
       "2  it would have dangled him helpless and kicking...   \n",
       "3  I get my money back?\" The pilot returned the g...   \n",
       "4  death, Gunnison could not help marveling. What...   \n",
       "\n",
       "                                       tagged_sample  \n",
       "0  [(of, IN), (cunning, VBG), (and, CC), (cruelty...  \n",
       "1  [(the, DT), (hair, NN), (off, RP), (their, PRP...  \n",
       "2  [(it, PRP), (would, MD), (have, VB), (dangled,...  \n",
       "3  [(I, PRP), (get, VBP), (my, PRP$), (money, NN)...  \n",
       "4  [(death, NN), (,, ,), (Gunnison, NNP), (could,...  "
      ]
     },
     "execution_count": 16,
     "metadata": {},
     "output_type": "execute_result"
    }
   ],
   "source": [
    "l.head()"
   ]
  },
  {
   "cell_type": "code",
   "execution_count": 17,
   "id": "09393ca5",
   "metadata": {},
   "outputs": [
    {
     "data": {
      "text/html": [
       "<div>\n",
       "<style scoped>\n",
       "    .dataframe tbody tr th:only-of-type {\n",
       "        vertical-align: middle;\n",
       "    }\n",
       "\n",
       "    .dataframe tbody tr th {\n",
       "        vertical-align: top;\n",
       "    }\n",
       "\n",
       "    .dataframe thead th {\n",
       "        text-align: right;\n",
       "    }\n",
       "</style>\n",
       "<table border=\"1\" class=\"dataframe\">\n",
       "  <thead>\n",
       "    <tr style=\"text-align: right;\">\n",
       "      <th></th>\n",
       "      <th>name</th>\n",
       "      <th>author</th>\n",
       "      <th>length</th>\n",
       "      <th>number</th>\n",
       "      <th>url</th>\n",
       "      <th>sample</th>\n",
       "      <th>tagged_sample</th>\n",
       "      <th>tags</th>\n",
       "    </tr>\n",
       "  </thead>\n",
       "  <tbody>\n",
       "    <tr>\n",
       "      <th>0</th>\n",
       "      <td>Gunnison's Bonanza</td>\n",
       "      <td>Dick Purcell.</td>\n",
       "      <td>3706</td>\n",
       "      <td>0</td>\n",
       "      <td>https://www.gutenberg.org/files/66752/66752-h/...</td>\n",
       "      <td>of cunning and cruelty. Now he changed his min...</td>\n",
       "      <td>[(of, IN), (cunning, VBG), (and, CC), (cruelty...</td>\n",
       "      <td>IN VBG CC NN . RB PRP VBD PRP$ NN . VBN IN DT ...</td>\n",
       "    </tr>\n",
       "    <tr>\n",
       "      <th>1</th>\n",
       "      <td>Gunnison's Bonanza</td>\n",
       "      <td>Dick Purcell.</td>\n",
       "      <td>3706</td>\n",
       "      <td>1</td>\n",
       "      <td>https://www.gutenberg.org/files/66752/66752-h/...</td>\n",
       "      <td>the hair off their own hides. But what did the...</td>\n",
       "      <td>[(the, DT), (hair, NN), (off, RP), (their, PRP...</td>\n",
       "      <td>DT NN RP PRP$ JJ NNS . CC WP VBD PRP VB . NN C...</td>\n",
       "    </tr>\n",
       "    <tr>\n",
       "      <th>2</th>\n",
       "      <td>Gunnison's Bonanza</td>\n",
       "      <td>Dick Purcell.</td>\n",
       "      <td>3706</td>\n",
       "      <td>2</td>\n",
       "      <td>https://www.gutenberg.org/files/66752/66752-h/...</td>\n",
       "      <td>it would have dangled him helpless and kicking...</td>\n",
       "      <td>[(it, PRP), (would, MD), (have, VB), (dangled,...</td>\n",
       "      <td>PRP MD VB VBN PRP JJ CC VBG IN NN . NNP IN JJ ...</td>\n",
       "    </tr>\n",
       "    <tr>\n",
       "      <th>3</th>\n",
       "      <td>Gunnison's Bonanza</td>\n",
       "      <td>Dick Purcell.</td>\n",
       "      <td>3706</td>\n",
       "      <td>3</td>\n",
       "      <td>https://www.gutenberg.org/files/66752/66752-h/...</td>\n",
       "      <td>I get my money back?\" The pilot returned the g...</td>\n",
       "      <td>[(I, PRP), (get, VBP), (my, PRP$), (money, NN)...</td>\n",
       "      <td>PRP VBP PRP$ NN RB . '' DT NN VBD DT NN . `` P...</td>\n",
       "    </tr>\n",
       "    <tr>\n",
       "      <th>4</th>\n",
       "      <td>Gunnison's Bonanza</td>\n",
       "      <td>Dick Purcell.</td>\n",
       "      <td>3706</td>\n",
       "      <td>4</td>\n",
       "      <td>https://www.gutenberg.org/files/66752/66752-h/...</td>\n",
       "      <td>death, Gunnison could not help marveling. What...</td>\n",
       "      <td>[(death, NN), (,, ,), (Gunnison, NNP), (could,...</td>\n",
       "      <td>NN , NNP MD RB VB VBG . WP NN IN JJ NNS VBD DT...</td>\n",
       "    </tr>\n",
       "  </tbody>\n",
       "</table>\n",
       "</div>"
      ],
      "text/plain": [
       "                 name         author  length  number  \\\n",
       "0  Gunnison's Bonanza  Dick Purcell.    3706       0   \n",
       "1  Gunnison's Bonanza  Dick Purcell.    3706       1   \n",
       "2  Gunnison's Bonanza  Dick Purcell.    3706       2   \n",
       "3  Gunnison's Bonanza  Dick Purcell.    3706       3   \n",
       "4  Gunnison's Bonanza  Dick Purcell.    3706       4   \n",
       "\n",
       "                                                 url  \\\n",
       "0  https://www.gutenberg.org/files/66752/66752-h/...   \n",
       "1  https://www.gutenberg.org/files/66752/66752-h/...   \n",
       "2  https://www.gutenberg.org/files/66752/66752-h/...   \n",
       "3  https://www.gutenberg.org/files/66752/66752-h/...   \n",
       "4  https://www.gutenberg.org/files/66752/66752-h/...   \n",
       "\n",
       "                                              sample  \\\n",
       "0  of cunning and cruelty. Now he changed his min...   \n",
       "1  the hair off their own hides. But what did the...   \n",
       "2  it would have dangled him helpless and kicking...   \n",
       "3  I get my money back?\" The pilot returned the g...   \n",
       "4  death, Gunnison could not help marveling. What...   \n",
       "\n",
       "                                       tagged_sample  \\\n",
       "0  [(of, IN), (cunning, VBG), (and, CC), (cruelty...   \n",
       "1  [(the, DT), (hair, NN), (off, RP), (their, PRP...   \n",
       "2  [(it, PRP), (would, MD), (have, VB), (dangled,...   \n",
       "3  [(I, PRP), (get, VBP), (my, PRP$), (money, NN)...   \n",
       "4  [(death, NN), (,, ,), (Gunnison, NNP), (could,...   \n",
       "\n",
       "                                                tags  \n",
       "0  IN VBG CC NN . RB PRP VBD PRP$ NN . VBN IN DT ...  \n",
       "1  DT NN RP PRP$ JJ NNS . CC WP VBD PRP VB . NN C...  \n",
       "2  PRP MD VB VBN PRP JJ CC VBG IN NN . NNP IN JJ ...  \n",
       "3  PRP VBP PRP$ NN RB . '' DT NN VBD DT NN . `` P...  \n",
       "4  NN , NNP MD RB VB VBG . WP NN IN JJ NNS VBD DT...  "
      ]
     },
     "execution_count": 17,
     "metadata": {},
     "output_type": "execute_result"
    }
   ],
   "source": [
    "l['tags'] = l['tagged_sample'].apply(lambda x : ' '.join([i[1] for i in x]))\n",
    "l.head()"
   ]
  },
  {
   "cell_type": "code",
   "execution_count": 18,
   "id": "79378ed4",
   "metadata": {},
   "outputs": [],
   "source": [
    "def clean_text(text):\n",
    "    # Clean text, remove end of lines, remove uppercase letters, puctuation and numbers.\n",
    "    text = text.replace('\\n','')\n",
    "    text = text.lower()\n",
    "    text = text.translate(str.maketrans('', '', string.punctuation))\n",
    "    r=re.compile(r'\\d')\n",
    "    text = r.sub('', text)\n",
    "    text = text.strip()\n",
    "    return text\n",
    "def stringit(x):\n",
    "    # Convert list of words to string\n",
    "    y = \" \"\n",
    "    \n",
    "    return y.join(x)\n",
    "def normalize_text(df, col, add_on= ''):\n",
    "    # Clean, Tokenize, and stem text. Remove stopwords from text. Returns a cleaned column, a tokenized column, and a column of tokens as string\n",
    "    df['clean_txt' + add_on] = df[col].apply(lambda x : clean_text(x))\n",
    "    df['tokenized_txt' + add_on] = df['clean_txt' + add_on].apply(lambda x : word_tokenize(x))\n",
    "    stopword = stopwords.words('english') # Set stopwords\n",
    "    df['tokenized_txt' + add_on] = df['tokenized_txt' + add_on].apply(lambda x : [word for word in x if word not in stopword]) # Remove stopwords for each row\n",
    "    df['tokenized_string' + add_on] = df['tokenized_txt' + add_on].apply(lambda x : stringit(x))\n",
    "    porter = nltk.stem.PorterStemmer() # Create stemmer\n",
    "    df['stemmed_txt' + add_on] = df['tokenized_txt' +add_on].apply(lambda x : [porter.stem(word) for word in x])\n",
    "    df['stemmed_string' + add_on] = df['stemmed_txt' + add_on].apply(lambda x : stringit(x))\n",
    "    \n",
    "normalize_text(l, 'sample') # Apply normilization"
   ]
  },
  {
   "cell_type": "code",
   "execution_count": 19,
   "id": "5427f2fa",
   "metadata": {},
   "outputs": [
    {
     "data": {
      "text/html": [
       "<div>\n",
       "<style scoped>\n",
       "    .dataframe tbody tr th:only-of-type {\n",
       "        vertical-align: middle;\n",
       "    }\n",
       "\n",
       "    .dataframe tbody tr th {\n",
       "        vertical-align: top;\n",
       "    }\n",
       "\n",
       "    .dataframe thead th {\n",
       "        text-align: right;\n",
       "    }\n",
       "</style>\n",
       "<table border=\"1\" class=\"dataframe\">\n",
       "  <thead>\n",
       "    <tr style=\"text-align: right;\">\n",
       "      <th></th>\n",
       "      <th>name</th>\n",
       "      <th>author</th>\n",
       "      <th>length</th>\n",
       "      <th>number</th>\n",
       "      <th>url</th>\n",
       "      <th>sample</th>\n",
       "      <th>tagged_sample</th>\n",
       "      <th>tags</th>\n",
       "      <th>clean_txt</th>\n",
       "      <th>tokenized_txt</th>\n",
       "      <th>tokenized_string</th>\n",
       "      <th>stemmed_txt</th>\n",
       "      <th>stemmed_string</th>\n",
       "    </tr>\n",
       "  </thead>\n",
       "  <tbody>\n",
       "    <tr>\n",
       "      <th>0</th>\n",
       "      <td>Gunnison's Bonanza</td>\n",
       "      <td>Dick Purcell.</td>\n",
       "      <td>3706</td>\n",
       "      <td>0</td>\n",
       "      <td>https://www.gutenberg.org/files/66752/66752-h/...</td>\n",
       "      <td>of cunning and cruelty. Now he changed his min...</td>\n",
       "      <td>[(of, IN), (cunning, VBG), (and, CC), (cruelty...</td>\n",
       "      <td>IN VBG CC NN . RB PRP VBD PRP$ NN . VBN IN DT ...</td>\n",
       "      <td>of cunning and cruelty now he changed his mind...</td>\n",
       "      <td>[cunning, cruelty, changed, mind, coupled, emb...</td>\n",
       "      <td>cunning cruelty changed mind coupled embarrass...</td>\n",
       "      <td>[cun, cruelti, chang, mind, coupl, embarrass, ...</td>\n",
       "      <td>cun cruelti chang mind coupl embarrass twist p...</td>\n",
       "    </tr>\n",
       "    <tr>\n",
       "      <th>1</th>\n",
       "      <td>Gunnison's Bonanza</td>\n",
       "      <td>Dick Purcell.</td>\n",
       "      <td>3706</td>\n",
       "      <td>1</td>\n",
       "      <td>https://www.gutenberg.org/files/66752/66752-h/...</td>\n",
       "      <td>the hair off their own hides. But what did the...</td>\n",
       "      <td>[(the, DT), (hair, NN), (off, RP), (their, PRP...</td>\n",
       "      <td>DT NN RP PRP$ JJ NNS . CC WP VBD PRP VB . NN C...</td>\n",
       "      <td>the hair off their own hides but what did they...</td>\n",
       "      <td>[hair, hides, nothing, old, bones, teeth, naus...</td>\n",
       "      <td>hair hides nothing old bones teeth nauseating ...</td>\n",
       "      <td>[hair, hide, noth, old, bone, teeth, nauseat, ...</td>\n",
       "      <td>hair hide noth old bone teeth nauseat concoct ...</td>\n",
       "    </tr>\n",
       "    <tr>\n",
       "      <th>2</th>\n",
       "      <td>Gunnison's Bonanza</td>\n",
       "      <td>Dick Purcell.</td>\n",
       "      <td>3706</td>\n",
       "      <td>2</td>\n",
       "      <td>https://www.gutenberg.org/files/66752/66752-h/...</td>\n",
       "      <td>it would have dangled him helpless and kicking...</td>\n",
       "      <td>[(it, PRP), (would, MD), (have, VB), (dangled,...</td>\n",
       "      <td>PRP MD VB VBN PRP JJ CC VBG IN NN . NNP IN JJ ...</td>\n",
       "      <td>it would have dangled him helpless and kicking...</td>\n",
       "      <td>[would, dangled, helpless, kicking, space, set...</td>\n",
       "      <td>would dangled helpless kicking space set half ...</td>\n",
       "      <td>[would, dangl, helpless, kick, space, set, hal...</td>\n",
       "      <td>would dangl helpless kick space set half power...</td>\n",
       "    </tr>\n",
       "    <tr>\n",
       "      <th>3</th>\n",
       "      <td>Gunnison's Bonanza</td>\n",
       "      <td>Dick Purcell.</td>\n",
       "      <td>3706</td>\n",
       "      <td>3</td>\n",
       "      <td>https://www.gutenberg.org/files/66752/66752-h/...</td>\n",
       "      <td>I get my money back?\" The pilot returned the g...</td>\n",
       "      <td>[(I, PRP), (get, VBP), (my, PRP$), (money, NN)...</td>\n",
       "      <td>PRP VBP PRP$ NN RB . '' DT NN VBD DT NN . `` P...</td>\n",
       "      <td>i get my money back the pilot returned the gri...</td>\n",
       "      <td>[get, money, back, pilot, returned, grin, im, ...</td>\n",
       "      <td>get money back pilot returned grin im afraid i...</td>\n",
       "      <td>[get, money, back, pilot, return, grin, im, af...</td>\n",
       "      <td>get money back pilot return grin im afraid ive...</td>\n",
       "    </tr>\n",
       "    <tr>\n",
       "      <th>4</th>\n",
       "      <td>Gunnison's Bonanza</td>\n",
       "      <td>Dick Purcell.</td>\n",
       "      <td>3706</td>\n",
       "      <td>4</td>\n",
       "      <td>https://www.gutenberg.org/files/66752/66752-h/...</td>\n",
       "      <td>death, Gunnison could not help marveling. What...</td>\n",
       "      <td>[(death, NN), (,, ,), (Gunnison, NNP), (could,...</td>\n",
       "      <td>NN , NNP MD RB VB VBG . WP NN IN JJ NNS VBD DT...</td>\n",
       "      <td>death gunnison could not help marveling what m...</td>\n",
       "      <td>[death, gunnison, could, help, marveling, mann...</td>\n",
       "      <td>death gunnison could help marveling manner pit...</td>\n",
       "      <td>[death, gunnison, could, help, marvel, manner,...</td>\n",
       "      <td>death gunnison could help marvel manner piti t...</td>\n",
       "    </tr>\n",
       "  </tbody>\n",
       "</table>\n",
       "</div>"
      ],
      "text/plain": [
       "                 name         author  length  number  \\\n",
       "0  Gunnison's Bonanza  Dick Purcell.    3706       0   \n",
       "1  Gunnison's Bonanza  Dick Purcell.    3706       1   \n",
       "2  Gunnison's Bonanza  Dick Purcell.    3706       2   \n",
       "3  Gunnison's Bonanza  Dick Purcell.    3706       3   \n",
       "4  Gunnison's Bonanza  Dick Purcell.    3706       4   \n",
       "\n",
       "                                                 url  \\\n",
       "0  https://www.gutenberg.org/files/66752/66752-h/...   \n",
       "1  https://www.gutenberg.org/files/66752/66752-h/...   \n",
       "2  https://www.gutenberg.org/files/66752/66752-h/...   \n",
       "3  https://www.gutenberg.org/files/66752/66752-h/...   \n",
       "4  https://www.gutenberg.org/files/66752/66752-h/...   \n",
       "\n",
       "                                              sample  \\\n",
       "0  of cunning and cruelty. Now he changed his min...   \n",
       "1  the hair off their own hides. But what did the...   \n",
       "2  it would have dangled him helpless and kicking...   \n",
       "3  I get my money back?\" The pilot returned the g...   \n",
       "4  death, Gunnison could not help marveling. What...   \n",
       "\n",
       "                                       tagged_sample  \\\n",
       "0  [(of, IN), (cunning, VBG), (and, CC), (cruelty...   \n",
       "1  [(the, DT), (hair, NN), (off, RP), (their, PRP...   \n",
       "2  [(it, PRP), (would, MD), (have, VB), (dangled,...   \n",
       "3  [(I, PRP), (get, VBP), (my, PRP$), (money, NN)...   \n",
       "4  [(death, NN), (,, ,), (Gunnison, NNP), (could,...   \n",
       "\n",
       "                                                tags  \\\n",
       "0  IN VBG CC NN . RB PRP VBD PRP$ NN . VBN IN DT ...   \n",
       "1  DT NN RP PRP$ JJ NNS . CC WP VBD PRP VB . NN C...   \n",
       "2  PRP MD VB VBN PRP JJ CC VBG IN NN . NNP IN JJ ...   \n",
       "3  PRP VBP PRP$ NN RB . '' DT NN VBD DT NN . `` P...   \n",
       "4  NN , NNP MD RB VB VBG . WP NN IN JJ NNS VBD DT...   \n",
       "\n",
       "                                           clean_txt  \\\n",
       "0  of cunning and cruelty now he changed his mind...   \n",
       "1  the hair off their own hides but what did they...   \n",
       "2  it would have dangled him helpless and kicking...   \n",
       "3  i get my money back the pilot returned the gri...   \n",
       "4  death gunnison could not help marveling what m...   \n",
       "\n",
       "                                       tokenized_txt  \\\n",
       "0  [cunning, cruelty, changed, mind, coupled, emb...   \n",
       "1  [hair, hides, nothing, old, bones, teeth, naus...   \n",
       "2  [would, dangled, helpless, kicking, space, set...   \n",
       "3  [get, money, back, pilot, returned, grin, im, ...   \n",
       "4  [death, gunnison, could, help, marveling, mann...   \n",
       "\n",
       "                                    tokenized_string  \\\n",
       "0  cunning cruelty changed mind coupled embarrass...   \n",
       "1  hair hides nothing old bones teeth nauseating ...   \n",
       "2  would dangled helpless kicking space set half ...   \n",
       "3  get money back pilot returned grin im afraid i...   \n",
       "4  death gunnison could help marveling manner pit...   \n",
       "\n",
       "                                         stemmed_txt  \\\n",
       "0  [cun, cruelti, chang, mind, coupl, embarrass, ...   \n",
       "1  [hair, hide, noth, old, bone, teeth, nauseat, ...   \n",
       "2  [would, dangl, helpless, kick, space, set, hal...   \n",
       "3  [get, money, back, pilot, return, grin, im, af...   \n",
       "4  [death, gunnison, could, help, marvel, manner,...   \n",
       "\n",
       "                                      stemmed_string  \n",
       "0  cun cruelti chang mind coupl embarrass twist p...  \n",
       "1  hair hide noth old bone teeth nauseat concoct ...  \n",
       "2  would dangl helpless kick space set half power...  \n",
       "3  get money back pilot return grin im afraid ive...  \n",
       "4  death gunnison could help marvel manner piti t...  "
      ]
     },
     "execution_count": 19,
     "metadata": {},
     "output_type": "execute_result"
    }
   ],
   "source": [
    "l.head()"
   ]
  },
  {
   "cell_type": "code",
   "execution_count": 20,
   "id": "587b0d84",
   "metadata": {},
   "outputs": [
    {
     "data": {
      "text/plain": [
       "name                0\n",
       "author              0\n",
       "length              0\n",
       "number              0\n",
       "url                 0\n",
       "sample              0\n",
       "tagged_sample       0\n",
       "tags                0\n",
       "clean_txt           0\n",
       "tokenized_txt       0\n",
       "tokenized_string    0\n",
       "stemmed_txt         0\n",
       "stemmed_string      0\n",
       "dtype: int64"
      ]
     },
     "execution_count": 20,
     "metadata": {},
     "output_type": "execute_result"
    }
   ],
   "source": [
    "l = l.dropna()\n",
    "l.isna().sum()"
   ]
  },
  {
   "cell_type": "code",
   "execution_count": 21,
   "id": "bfa5b079",
   "metadata": {},
   "outputs": [],
   "source": [
    "X = l['stemmed_string']\n",
    "y = l['name']\n",
    "X_train, X_val, y_train, y_val = train_test_split(X, y, test_size =0.3, random_state=11)"
   ]
  },
  {
   "cell_type": "code",
   "execution_count": 22,
   "id": "1d3f2f35",
   "metadata": {},
   "outputs": [
    {
     "data": {
      "text/plain": [
       "<AxesSubplot:>"
      ]
     },
     "execution_count": 22,
     "metadata": {},
     "output_type": "execute_result"
    },
    {
     "data": {
      "image/png": "[encoded data removed]",
      "text/plain": [
       "<Figure size 432x288 with 1 Axes>"
      ]
     },
     "metadata": {
      "needs_background": "light"
     },
     "output_type": "display_data"
    }
   ],
   "source": [
    "y_val.value_counts().hist(bins=30)"
   ]
  },
  {
   "cell_type": "code",
   "execution_count": 23,
   "id": "27185466",
   "metadata": {},
   "outputs": [
    {
     "data": {
      "text/plain": [
       "<AxesSubplot:>"
      ]
     },
     "execution_count": 23,
     "metadata": {},
     "output_type": "execute_result"
    },
    {
     "data": {
      "image/png": "[encoded data removed]",
      "text/plain": [
       "<Figure size 432x288 with 1 Axes>"
      ]
     },
     "metadata": {
      "needs_background": "light"
     },
     "output_type": "display_data"
    }
   ],
   "source": [
    "y_train.value_counts().hist(bins=30)"
   ]
  },
  {
   "cell_type": "code",
   "execution_count": 24,
   "id": "60c103ca",
   "metadata": {},
   "outputs": [],
   "source": [
    "N_FEATURES = 5000 # Set number of features\n",
    "N_CLASSES = len(l['name'].unique()) # Set number of classes\n",
    "\n",
    "def build_network():\n",
    "    # Compile a neural network\n",
    "    nn = Sequential()\n",
    "    nn.add(Dense(500, activation='relu', input_shape= (N_FEATURES,)))\n",
    "    nn.add(Dense(150, activation= 'relu'))\n",
    "    nn.add(Dense(N_CLASSES, activation= 'softmax'))\n",
    "    nn.compile(\n",
    "        loss= 'categorical_crossentropy',\n",
    "        optimizer='adam',\n",
    "        metrics=['accuracy']\n",
    "    )\n",
    "    return nn"
   ]
  },
  {
   "cell_type": "code",
   "execution_count": 25,
   "id": "24ac736b",
   "metadata": {},
   "outputs": [],
   "source": [
    "vectorizer = TfidfVectorizer( max_features= 5000) # Create vectorizer\n",
    "tfidf_train = vectorizer.fit_transform(X_train) # Return features and tfidf values for training set\n",
    "tfidf_train.sort_indices() # Sort by index (required by tensorflow)\n",
    "tfidf_val = vectorizer.transform(X_val)  # Return tfidf values for test set\n",
    "tfidf_val.sort_indices()"
   ]
  },
  {
   "cell_type": "code",
   "execution_count": null,
   "id": "8fe5e413",
   "metadata": {},
   "outputs": [
    {
     "name": "stderr",
     "output_type": "stream",
     "text": [
      "C:\\Users\\aarme\\AppData\\Local\\Temp/ipykernel_33096/2714318305.py:4: DeprecationWarning: KerasClassifier is deprecated, use Sci-Keras (https://github.com/adriangb/scikeras) instead. See https://www.adriangb.com/scikeras/stable/migration.html for help migrating.\n",
      "  dnn =  KerasClassifier(build_fn= build_network,\n"
     ]
    },
    {
     "name": "stdout",
     "output_type": "stream",
     "text": [
      "Epoch 1/5\n"
     ]
    },
    {
     "name": "stderr",
     "output_type": "stream",
     "text": [
      "C:\\Users\\aarme\\anaconda3\\lib\\site-packages\\tensorflow\\python\\framework\\indexed_slices.py:444: UserWarning: Converting sparse IndexedSlices(IndexedSlices(indices=Tensor(\"gradient_tape/sequential/dense/embedding_lookup_sparse/Reshape_1:0\", shape=(None,), dtype=int32), values=Tensor(\"gradient_tape/sequential/dense/embedding_lookup_sparse/Reshape:0\", shape=(None, 500), dtype=float32), dense_shape=Tensor(\"gradient_tape/sequential/dense/embedding_lookup_sparse/Cast:0\", shape=(2,), dtype=int32))) to a dense Tensor of unknown shape. This may consume a large amount of memory.\n",
      "  warnings.warn(\n"
     ]
    },
    {
     "name": "stdout",
     "output_type": "stream",
     "text": [
      "Epoch 2/5\n",
      "Epoch 3/5\n",
      "Epoch 4/5\n",
      "Epoch 5/5\n"
     ]
    },
    {
     "name": "stderr",
     "output_type": "stream",
     "text": [
      "C:\\Users\\aarme\\AppData\\Local\\Temp/ipykernel_33096/2714318305.py:4: DeprecationWarning: KerasClassifier is deprecated, use Sci-Keras (https://github.com/adriangb/scikeras) instead. See https://www.adriangb.com/scikeras/stable/migration.html for help migrating.\n",
      "  dnn =  KerasClassifier(build_fn= build_network,\n"
     ]
    },
    {
     "name": "stdout",
     "output_type": "stream",
     "text": [
      "Epoch 1/10\n"
     ]
    },
    {
     "name": "stderr",
     "output_type": "stream",
     "text": [
      "C:\\Users\\aarme\\anaconda3\\lib\\site-packages\\tensorflow\\python\\framework\\indexed_slices.py:444: UserWarning: Converting sparse IndexedSlices(IndexedSlices(indices=Tensor(\"gradient_tape/sequential_1/dense_3/embedding_lookup_sparse/Reshape_1:0\", shape=(None,), dtype=int32), values=Tensor(\"gradient_tape/sequential_1/dense_3/embedding_lookup_sparse/Reshape:0\", shape=(None, 500), dtype=float32), dense_shape=Tensor(\"gradient_tape/sequential_1/dense_3/embedding_lookup_sparse/Cast:0\", shape=(2,), dtype=int32))) to a dense Tensor of unknown shape. This may consume a large amount of memory.\n",
      "  warnings.warn(\n"
     ]
    },
    {
     "name": "stdout",
     "output_type": "stream",
     "text": [
      "Epoch 2/10\n",
      "Epoch 3/10\n",
      "Epoch 4/10\n",
      "Epoch 5/10\n",
      "Epoch 6/10\n",
      "Epoch 7/10\n",
      "Epoch 8/10\n",
      "Epoch 9/10\n",
      "Epoch 10/10\n"
     ]
    },
    {
     "name": "stderr",
     "output_type": "stream",
     "text": [
      "C:\\Users\\aarme\\AppData\\Local\\Temp/ipykernel_33096/2714318305.py:4: DeprecationWarning: KerasClassifier is deprecated, use Sci-Keras (https://github.com/adriangb/scikeras) instead. See https://www.adriangb.com/scikeras/stable/migration.html for help migrating.\n",
      "  dnn =  KerasClassifier(build_fn= build_network,\n"
     ]
    },
    {
     "name": "stdout",
     "output_type": "stream",
     "text": [
      "Epoch 1/15\n"
     ]
    },
    {
     "name": "stderr",
     "output_type": "stream",
     "text": [
      "C:\\Users\\aarme\\anaconda3\\lib\\site-packages\\tensorflow\\python\\framework\\indexed_slices.py:444: UserWarning: Converting sparse IndexedSlices(IndexedSlices(indices=Tensor(\"gradient_tape/sequential_2/dense_6/embedding_lookup_sparse/Reshape_1:0\", shape=(None,), dtype=int32), values=Tensor(\"gradient_tape/sequential_2/dense_6/embedding_lookup_sparse/Reshape:0\", shape=(None, 500), dtype=float32), dense_shape=Tensor(\"gradient_tape/sequential_2/dense_6/embedding_lookup_sparse/Cast:0\", shape=(2,), dtype=int32))) to a dense Tensor of unknown shape. This may consume a large amount of memory.\n",
      "  warnings.warn(\n"
     ]
    },
    {
     "name": "stdout",
     "output_type": "stream",
     "text": [
      "Epoch 2/15\n",
      "Epoch 3/15\n",
      "Epoch 4/15\n",
      "Epoch 5/15\n",
      "Epoch 6/15\n",
      "Epoch 7/15\n",
      "Epoch 8/15\n",
      "Epoch 9/15\n",
      "Epoch 10/15\n",
      "Epoch 11/15\n",
      "Epoch 12/15\n",
      "Epoch 13/15\n",
      "Epoch 14/15\n",
      "Epoch 15/15\n"
     ]
    },
    {
     "name": "stderr",
     "output_type": "stream",
     "text": [
      "C:\\Users\\aarme\\AppData\\Local\\Temp/ipykernel_33096/2714318305.py:4: DeprecationWarning: KerasClassifier is deprecated, use Sci-Keras (https://github.com/adriangb/scikeras) instead. See https://www.adriangb.com/scikeras/stable/migration.html for help migrating.\n",
      "  dnn =  KerasClassifier(build_fn= build_network,\n"
     ]
    },
    {
     "name": "stdout",
     "output_type": "stream",
     "text": [
      "Epoch 1/20\n"
     ]
    },
    {
     "name": "stderr",
     "output_type": "stream",
     "text": [
      "C:\\Users\\aarme\\anaconda3\\lib\\site-packages\\tensorflow\\python\\framework\\indexed_slices.py:444: UserWarning: Converting sparse IndexedSlices(IndexedSlices(indices=Tensor(\"gradient_tape/sequential_3/dense_9/embedding_lookup_sparse/Reshape_1:0\", shape=(None,), dtype=int32), values=Tensor(\"gradient_tape/sequential_3/dense_9/embedding_lookup_sparse/Reshape:0\", shape=(None, 500), dtype=float32), dense_shape=Tensor(\"gradient_tape/sequential_3/dense_9/embedding_lookup_sparse/Cast:0\", shape=(2,), dtype=int32))) to a dense Tensor of unknown shape. This may consume a large amount of memory.\n",
      "  warnings.warn(\n"
     ]
    },
    {
     "name": "stdout",
     "output_type": "stream",
     "text": [
      "Epoch 2/20\n",
      "Epoch 3/20\n",
      "Epoch 4/20\n",
      "Epoch 5/20\n",
      "Epoch 6/20\n",
      "Epoch 7/20\n",
      "Epoch 8/20\n",
      "Epoch 9/20\n",
      "Epoch 10/20\n",
      "Epoch 11/20\n",
      "Epoch 12/20\n",
      "Epoch 13/20\n",
      "Epoch 14/20\n",
      "Epoch 15/20\n",
      "Epoch 16/20\n",
      "Epoch 17/20\n",
      "Epoch 18/20\n",
      "Epoch 19/20\n",
      "Epoch 20/20\n"
     ]
    },
    {
     "name": "stderr",
     "output_type": "stream",
     "text": [
      "C:\\Users\\aarme\\AppData\\Local\\Temp/ipykernel_33096/2714318305.py:4: DeprecationWarning: KerasClassifier is deprecated, use Sci-Keras (https://github.com/adriangb/scikeras) instead. See https://www.adriangb.com/scikeras/stable/migration.html for help migrating.\n",
      "  dnn =  KerasClassifier(build_fn= build_network,\n"
     ]
    },
    {
     "name": "stdout",
     "output_type": "stream",
     "text": [
      "Epoch 1/25\n"
     ]
    },
    {
     "name": "stderr",
     "output_type": "stream",
     "text": [
      "C:\\Users\\aarme\\anaconda3\\lib\\site-packages\\tensorflow\\python\\framework\\indexed_slices.py:444: UserWarning: Converting sparse IndexedSlices(IndexedSlices(indices=Tensor(\"gradient_tape/sequential_4/dense_12/embedding_lookup_sparse/Reshape_1:0\", shape=(None,), dtype=int32), values=Tensor(\"gradient_tape/sequential_4/dense_12/embedding_lookup_sparse/Reshape:0\", shape=(None, 500), dtype=float32), dense_shape=Tensor(\"gradient_tape/sequential_4/dense_12/embedding_lookup_sparse/Cast:0\", shape=(2,), dtype=int32))) to a dense Tensor of unknown shape. This may consume a large amount of memory.\n",
      "  warnings.warn(\n"
     ]
    },
    {
     "name": "stdout",
     "output_type": "stream",
     "text": [
      "Epoch 2/25\n",
      "Epoch 3/25\n",
      "Epoch 4/25\n",
      "Epoch 5/25\n",
      "Epoch 6/25\n",
      "Epoch 7/25\n",
      "Epoch 8/25\n",
      "Epoch 9/25\n",
      "Epoch 10/25\n",
      "Epoch 11/25\n",
      "Epoch 12/25\n",
      "Epoch 13/25\n",
      "Epoch 14/25\n",
      "Epoch 15/25\n",
      "Epoch 16/25\n",
      "Epoch 17/25\n",
      "Epoch 18/25\n",
      "Epoch 19/25\n",
      "Epoch 20/25\n",
      "Epoch 21/25\n",
      "Epoch 22/25\n",
      "Epoch 23/25\n",
      "Epoch 24/25\n",
      "Epoch 25/25\n"
     ]
    },
    {
     "name": "stderr",
     "output_type": "stream",
     "text": [
      "C:\\Users\\aarme\\AppData\\Local\\Temp/ipykernel_33096/2714318305.py:4: DeprecationWarning: KerasClassifier is deprecated, use Sci-Keras (https://github.com/adriangb/scikeras) instead. See https://www.adriangb.com/scikeras/stable/migration.html for help migrating.\n",
      "  dnn =  KerasClassifier(build_fn= build_network,\n"
     ]
    },
    {
     "name": "stdout",
     "output_type": "stream",
     "text": [
      "Epoch 1/30\n"
     ]
    },
    {
     "name": "stderr",
     "output_type": "stream",
     "text": [
      "C:\\Users\\aarme\\anaconda3\\lib\\site-packages\\tensorflow\\python\\framework\\indexed_slices.py:444: UserWarning: Converting sparse IndexedSlices(IndexedSlices(indices=Tensor(\"gradient_tape/sequential_5/dense_15/embedding_lookup_sparse/Reshape_1:0\", shape=(None,), dtype=int32), values=Tensor(\"gradient_tape/sequential_5/dense_15/embedding_lookup_sparse/Reshape:0\", shape=(None, 500), dtype=float32), dense_shape=Tensor(\"gradient_tape/sequential_5/dense_15/embedding_lookup_sparse/Cast:0\", shape=(2,), dtype=int32))) to a dense Tensor of unknown shape. This may consume a large amount of memory.\n",
      "  warnings.warn(\n"
     ]
    },
    {
     "name": "stdout",
     "output_type": "stream",
     "text": [
      "Epoch 2/30\n",
      "Epoch 3/30\n",
      "Epoch 4/30\n",
      "Epoch 5/30\n",
      "Epoch 6/30\n",
      "Epoch 7/30\n",
      "Epoch 8/30\n",
      "Epoch 9/30\n",
      "Epoch 10/30\n",
      "Epoch 11/30\n",
      "Epoch 12/30\n",
      "Epoch 13/30\n",
      "Epoch 14/30\n",
      "Epoch 15/30\n",
      "Epoch 16/30\n",
      "Epoch 17/30\n",
      "Epoch 18/30\n",
      "Epoch 19/30\n",
      "Epoch 20/30\n",
      "Epoch 21/30\n"
     ]
    }
   ],
   "source": [
    "train = {}\n",
    "test = {}\n",
    "for i in range(5, 50, 5):\n",
    "    dnn =  KerasClassifier(build_fn= build_network,\n",
    "                            epochs= i,\n",
    "                            batch_size=128,\n",
    "                          verbose=10)\n",
    "    train_k = dnn.fit(tfidf_train, y_train) # Train model\n",
    "    train[i] = train_k.history\n",
    "\n",
    "    preds = dnn.predict(tfidf_val)\n",
    "    accuracy = accuracy_score(y_val, preds) # Get accuracy of model\n",
    "    test[i] = accuracy\n",
    "# score_list = precision_recall_fscore_support(y_val, preds) # Get precision, recall, and f1 scores\n",
    "print('Accuracy: ',accuracy)\n",
    "# print('Precision:', score_list[0])\n",
    "# print('Recall:   ', score_list[1])\n",
    "# print('F1 score: ', score_list[2])\n",
    "# mat = ConfusionMatrixDisplay(confusion_matrix(y_val, preds))\n",
    "# mat.plot()"
   ]
  },
  {
   "cell_type": "code",
   "execution_count": null,
   "id": "837c9a47",
   "metadata": {},
   "outputs": [],
   "source": [
    "test"
   ]
  },
  {
   "cell_type": "code",
   "execution_count": null,
   "id": "144a05c8",
   "metadata": {},
   "outputs": [],
   "source": [
    "train"
   ]
  },
  {
   "cell_type": "code",
   "execution_count": null,
   "id": "e21d3da9",
   "metadata": {},
   "outputs": [],
   "source": [
    "import matplotlib.pyplot as plt\n",
    "plt.plot(train[45]['accuracy'], label= 'train')\n",
    "plt.plot(test.keys(), test.values(), label= 'test')\n",
    "plt.legend()\n",
    "plt.title('Name Accuracy')\n"
   ]
  },
  {
   "cell_type": "code",
   "execution_count": 313,
   "id": "06ff8383",
   "metadata": {
    "scrolled": true
   },
   "outputs": [],
   "source": [
    "X = l['stemmed_string']\n",
    "y2 = l['author']\n",
    "X2_train, X2_val, y2_train, y2_val = train_test_split(X, y2, test_size =0.3, random_state=11)\n",
    "\n",
    "N_FEATURES = 15000 # Set number of features\n",
    "N_CLASSES = len(l['author'].unique()) # Set number of classes\n",
    "\n",
    "def build_network():\n",
    "    # Compile a neural network\n",
    "    nn = Sequential()\n",
    "    nn.add(Dense(500, activation='relu', input_shape= (N_FEATURES,)))\n",
    "    nn.add(Dense(150, activation= 'relu'))\n",
    "    nn.add(Dense(N_CLASSES, activation= 'softmax'))\n",
    "    nn.compile(\n",
    "        loss= 'categorical_crossentropy',\n",
    "        optimizer='adam',\n",
    "        metrics=['accuracy']\n",
    "    )\n",
    "    return nn\n",
    "\n",
    "vectorizer = TfidfVectorizer(ngram_range= (1,5), max_features= N_FEATURES) # Create vectorizer\n",
    "tfidf_train = vectorizer.fit_transform(X2_train) # Return features and tfidf values for training set\n",
    "tfidf_train.sort_indices() # Sort by index (required by tensorflow)\n",
    "tfidf_val = vectorizer.transform(X2_val)  # Return tfidf values for test set\n",
    "tfidf_val.sort_indices()"
   ]
  },
  {
   "cell_type": "code",
   "execution_count": 314,
   "id": "b81b32f3",
   "metadata": {},
   "outputs": [
    {
     "name": "stderr",
     "output_type": "stream",
     "text": [
      "C:\\Users\\aarme\\AppData\\Local\\Temp/ipykernel_2108/4203925436.py:4: DeprecationWarning: KerasClassifier is deprecated, use Sci-Keras (https://github.com/adriangb/scikeras) instead. See https://www.adriangb.com/scikeras/stable/migration.html for help migrating.\n",
      "  dnn =  KerasClassifier(build_fn= build_network,\n"
     ]
    },
    {
     "name": "stdout",
     "output_type": "stream",
     "text": [
      "Epoch 1/5\n"
     ]
    },
    {
     "name": "stderr",
     "output_type": "stream",
     "text": [
      "C:\\Users\\aarme\\anaconda3\\lib\\site-packages\\tensorflow\\python\\framework\\indexed_slices.py:444: UserWarning: Converting sparse IndexedSlices(IndexedSlices(indices=Tensor(\"gradient_tape/sequential_104/dense_295/embedding_lookup_sparse/Reshape_1:0\", shape=(None,), dtype=int32), values=Tensor(\"gradient_tape/sequential_104/dense_295/embedding_lookup_sparse/Reshape:0\", shape=(None, 500), dtype=float32), dense_shape=Tensor(\"gradient_tape/sequential_104/dense_295/embedding_lookup_sparse/Cast:0\", shape=(2,), dtype=int32))) to a dense Tensor of unknown shape. This may consume a large amount of memory.\n",
      "  warnings.warn(\n"
     ]
    },
    {
     "name": "stdout",
     "output_type": "stream",
     "text": [
      "Epoch 2/5\n",
      "Epoch 3/5\n",
      "Epoch 4/5\n",
      "Epoch 5/5\n"
     ]
    },
    {
     "name": "stderr",
     "output_type": "stream",
     "text": [
      "C:\\Users\\aarme\\AppData\\Local\\Temp/ipykernel_2108/4203925436.py:4: DeprecationWarning: KerasClassifier is deprecated, use Sci-Keras (https://github.com/adriangb/scikeras) instead. See https://www.adriangb.com/scikeras/stable/migration.html for help migrating.\n",
      "  dnn =  KerasClassifier(build_fn= build_network,\n"
     ]
    },
    {
     "name": "stdout",
     "output_type": "stream",
     "text": [
      "Epoch 1/10\n"
     ]
    },
    {
     "name": "stderr",
     "output_type": "stream",
     "text": [
      "C:\\Users\\aarme\\anaconda3\\lib\\site-packages\\tensorflow\\python\\framework\\indexed_slices.py:444: UserWarning: Converting sparse IndexedSlices(IndexedSlices(indices=Tensor(\"gradient_tape/sequential_105/dense_298/embedding_lookup_sparse/Reshape_1:0\", shape=(None,), dtype=int32), values=Tensor(\"gradient_tape/sequential_105/dense_298/embedding_lookup_sparse/Reshape:0\", shape=(None, 500), dtype=float32), dense_shape=Tensor(\"gradient_tape/sequential_105/dense_298/embedding_lookup_sparse/Cast:0\", shape=(2,), dtype=int32))) to a dense Tensor of unknown shape. This may consume a large amount of memory.\n",
      "  warnings.warn(\n"
     ]
    },
    {
     "name": "stdout",
     "output_type": "stream",
     "text": [
      "Epoch 2/10\n",
      "Epoch 3/10\n",
      "Epoch 4/10\n",
      "Epoch 5/10\n",
      "Epoch 6/10\n",
      "Epoch 7/10\n",
      "Epoch 8/10\n",
      "Epoch 9/10\n",
      "Epoch 10/10\n"
     ]
    },
    {
     "name": "stderr",
     "output_type": "stream",
     "text": [
      "C:\\Users\\aarme\\AppData\\Local\\Temp/ipykernel_2108/4203925436.py:4: DeprecationWarning: KerasClassifier is deprecated, use Sci-Keras (https://github.com/adriangb/scikeras) instead. See https://www.adriangb.com/scikeras/stable/migration.html for help migrating.\n",
      "  dnn =  KerasClassifier(build_fn= build_network,\n"
     ]
    },
    {
     "name": "stdout",
     "output_type": "stream",
     "text": [
      "Epoch 1/15\n"
     ]
    },
    {
     "name": "stderr",
     "output_type": "stream",
     "text": [
      "C:\\Users\\aarme\\anaconda3\\lib\\site-packages\\tensorflow\\python\\framework\\indexed_slices.py:444: UserWarning: Converting sparse IndexedSlices(IndexedSlices(indices=Tensor(\"gradient_tape/sequential_106/dense_301/embedding_lookup_sparse/Reshape_1:0\", shape=(None,), dtype=int32), values=Tensor(\"gradient_tape/sequential_106/dense_301/embedding_lookup_sparse/Reshape:0\", shape=(None, 500), dtype=float32), dense_shape=Tensor(\"gradient_tape/sequential_106/dense_301/embedding_lookup_sparse/Cast:0\", shape=(2,), dtype=int32))) to a dense Tensor of unknown shape. This may consume a large amount of memory.\n",
      "  warnings.warn(\n"
     ]
    },
    {
     "name": "stdout",
     "output_type": "stream",
     "text": [
      "Epoch 2/15\n",
      "Epoch 3/15\n",
      "Epoch 4/15\n",
      "Epoch 5/15\n",
      "Epoch 6/15\n",
      "Epoch 7/15\n",
      "Epoch 8/15\n",
      "Epoch 9/15\n",
      "Epoch 10/15\n",
      "Epoch 11/15\n",
      "Epoch 12/15\n",
      "Epoch 13/15\n",
      "Epoch 14/15\n",
      "Epoch 15/15\n"
     ]
    },
    {
     "name": "stderr",
     "output_type": "stream",
     "text": [
      "C:\\Users\\aarme\\AppData\\Local\\Temp/ipykernel_2108/4203925436.py:4: DeprecationWarning: KerasClassifier is deprecated, use Sci-Keras (https://github.com/adriangb/scikeras) instead. See https://www.adriangb.com/scikeras/stable/migration.html for help migrating.\n",
      "  dnn =  KerasClassifier(build_fn= build_network,\n"
     ]
    },
    {
     "name": "stdout",
     "output_type": "stream",
     "text": [
      "Epoch 1/20\n"
     ]
    },
    {
     "name": "stderr",
     "output_type": "stream",
     "text": [
      "C:\\Users\\aarme\\anaconda3\\lib\\site-packages\\tensorflow\\python\\framework\\indexed_slices.py:444: UserWarning: Converting sparse IndexedSlices(IndexedSlices(indices=Tensor(\"gradient_tape/sequential_107/dense_304/embedding_lookup_sparse/Reshape_1:0\", shape=(None,), dtype=int32), values=Tensor(\"gradient_tape/sequential_107/dense_304/embedding_lookup_sparse/Reshape:0\", shape=(None, 500), dtype=float32), dense_shape=Tensor(\"gradient_tape/sequential_107/dense_304/embedding_lookup_sparse/Cast:0\", shape=(2,), dtype=int32))) to a dense Tensor of unknown shape. This may consume a large amount of memory.\n",
      "  warnings.warn(\n"
     ]
    },
    {
     "name": "stdout",
     "output_type": "stream",
     "text": [
      "Epoch 2/20\n",
      "Epoch 3/20\n",
      "Epoch 4/20\n",
      "Epoch 5/20\n",
      "Epoch 6/20\n",
      "Epoch 7/20\n",
      "Epoch 8/20\n",
      "Epoch 9/20\n",
      "Epoch 10/20\n",
      "Epoch 11/20\n",
      "Epoch 12/20\n",
      "Epoch 13/20\n",
      "Epoch 14/20\n",
      "Epoch 15/20\n",
      "Epoch 16/20\n",
      "Epoch 17/20\n",
      "Epoch 18/20\n",
      "Epoch 19/20\n",
      "Epoch 20/20\n"
     ]
    },
    {
     "name": "stderr",
     "output_type": "stream",
     "text": [
      "C:\\Users\\aarme\\AppData\\Local\\Temp/ipykernel_2108/4203925436.py:4: DeprecationWarning: KerasClassifier is deprecated, use Sci-Keras (https://github.com/adriangb/scikeras) instead. See https://www.adriangb.com/scikeras/stable/migration.html for help migrating.\n",
      "  dnn =  KerasClassifier(build_fn= build_network,\n"
     ]
    },
    {
     "name": "stdout",
     "output_type": "stream",
     "text": [
      "Epoch 1/25\n"
     ]
    },
    {
     "name": "stderr",
     "output_type": "stream",
     "text": [
      "C:\\Users\\aarme\\anaconda3\\lib\\site-packages\\tensorflow\\python\\framework\\indexed_slices.py:444: UserWarning: Converting sparse IndexedSlices(IndexedSlices(indices=Tensor(\"gradient_tape/sequential_108/dense_307/embedding_lookup_sparse/Reshape_1:0\", shape=(None,), dtype=int32), values=Tensor(\"gradient_tape/sequential_108/dense_307/embedding_lookup_sparse/Reshape:0\", shape=(None, 500), dtype=float32), dense_shape=Tensor(\"gradient_tape/sequential_108/dense_307/embedding_lookup_sparse/Cast:0\", shape=(2,), dtype=int32))) to a dense Tensor of unknown shape. This may consume a large amount of memory.\n",
      "  warnings.warn(\n"
     ]
    },
    {
     "name": "stdout",
     "output_type": "stream",
     "text": [
      "Epoch 2/25\n",
      "Epoch 3/25\n",
      "Epoch 4/25\n",
      "Epoch 5/25\n",
      "Epoch 6/25\n",
      "Epoch 7/25\n",
      "Epoch 8/25\n",
      "Epoch 9/25\n",
      "Epoch 10/25\n",
      "Epoch 11/25\n",
      "Epoch 12/25\n",
      "Epoch 13/25\n",
      "Epoch 14/25\n",
      "Epoch 15/25\n",
      "Epoch 16/25\n",
      "Epoch 17/25\n",
      "Epoch 18/25\n",
      "Epoch 19/25\n",
      "Epoch 20/25\n",
      "Epoch 21/25\n",
      "Epoch 22/25\n",
      "Epoch 23/25\n",
      "Epoch 24/25\n",
      "Epoch 25/25\n"
     ]
    },
    {
     "name": "stderr",
     "output_type": "stream",
     "text": [
      "C:\\Users\\aarme\\AppData\\Local\\Temp/ipykernel_2108/4203925436.py:4: DeprecationWarning: KerasClassifier is deprecated, use Sci-Keras (https://github.com/adriangb/scikeras) instead. See https://www.adriangb.com/scikeras/stable/migration.html for help migrating.\n",
      "  dnn =  KerasClassifier(build_fn= build_network,\n"
     ]
    },
    {
     "name": "stdout",
     "output_type": "stream",
     "text": [
      "Epoch 1/30\n"
     ]
    },
    {
     "name": "stderr",
     "output_type": "stream",
     "text": [
      "C:\\Users\\aarme\\anaconda3\\lib\\site-packages\\tensorflow\\python\\framework\\indexed_slices.py:444: UserWarning: Converting sparse IndexedSlices(IndexedSlices(indices=Tensor(\"gradient_tape/sequential_109/dense_310/embedding_lookup_sparse/Reshape_1:0\", shape=(None,), dtype=int32), values=Tensor(\"gradient_tape/sequential_109/dense_310/embedding_lookup_sparse/Reshape:0\", shape=(None, 500), dtype=float32), dense_shape=Tensor(\"gradient_tape/sequential_109/dense_310/embedding_lookup_sparse/Cast:0\", shape=(2,), dtype=int32))) to a dense Tensor of unknown shape. This may consume a large amount of memory.\n",
      "  warnings.warn(\n"
     ]
    },
    {
     "name": "stdout",
     "output_type": "stream",
     "text": [
      "Epoch 2/30\n",
      "Epoch 3/30\n",
      "Epoch 4/30\n",
      "Epoch 5/30\n",
      "Epoch 6/30\n",
      "Epoch 7/30\n",
      "Epoch 8/30\n",
      "Epoch 9/30\n",
      "Epoch 10/30\n",
      "Epoch 11/30\n",
      "Epoch 12/30\n",
      "Epoch 13/30\n",
      "Epoch 14/30\n",
      "Epoch 15/30\n",
      "Epoch 16/30\n",
      "Epoch 17/30\n",
      "Epoch 18/30\n",
      "Epoch 19/30\n",
      "Epoch 20/30\n",
      "Epoch 21/30\n",
      "Epoch 22/30\n",
      "Epoch 23/30\n",
      "Epoch 24/30\n",
      "Epoch 25/30\n",
      "Epoch 26/30\n",
      "Epoch 27/30\n",
      "Epoch 28/30\n",
      "Epoch 29/30\n",
      "Epoch 30/30\n"
     ]
    },
    {
     "name": "stderr",
     "output_type": "stream",
     "text": [
      "C:\\Users\\aarme\\AppData\\Local\\Temp/ipykernel_2108/4203925436.py:4: DeprecationWarning: KerasClassifier is deprecated, use Sci-Keras (https://github.com/adriangb/scikeras) instead. See https://www.adriangb.com/scikeras/stable/migration.html for help migrating.\n",
      "  dnn =  KerasClassifier(build_fn= build_network,\n"
     ]
    },
    {
     "name": "stdout",
     "output_type": "stream",
     "text": [
      "Epoch 1/35\n"
     ]
    },
    {
     "name": "stderr",
     "output_type": "stream",
     "text": [
      "C:\\Users\\aarme\\anaconda3\\lib\\site-packages\\tensorflow\\python\\framework\\indexed_slices.py:444: UserWarning: Converting sparse IndexedSlices(IndexedSlices(indices=Tensor(\"gradient_tape/sequential_110/dense_313/embedding_lookup_sparse/Reshape_1:0\", shape=(None,), dtype=int32), values=Tensor(\"gradient_tape/sequential_110/dense_313/embedding_lookup_sparse/Reshape:0\", shape=(None, 500), dtype=float32), dense_shape=Tensor(\"gradient_tape/sequential_110/dense_313/embedding_lookup_sparse/Cast:0\", shape=(2,), dtype=int32))) to a dense Tensor of unknown shape. This may consume a large amount of memory.\n",
      "  warnings.warn(\n"
     ]
    },
    {
     "name": "stdout",
     "output_type": "stream",
     "text": [
      "Epoch 2/35\n",
      "Epoch 3/35\n",
      "Epoch 4/35\n",
      "Epoch 5/35\n",
      "Epoch 6/35\n",
      "Epoch 7/35\n",
      "Epoch 8/35\n",
      "Epoch 9/35\n",
      "Epoch 10/35\n",
      "Epoch 11/35\n",
      "Epoch 12/35\n",
      "Epoch 13/35\n",
      "Epoch 14/35\n",
      "Epoch 15/35\n",
      "Epoch 16/35\n",
      "Epoch 17/35\n",
      "Epoch 18/35\n",
      "Epoch 19/35\n",
      "Epoch 20/35\n",
      "Epoch 21/35\n",
      "Epoch 22/35\n",
      "Epoch 23/35\n",
      "Epoch 24/35\n",
      "Epoch 25/35\n",
      "Epoch 26/35\n",
      "Epoch 27/35\n",
      "Epoch 28/35\n",
      "Epoch 29/35\n",
      "Epoch 30/35\n",
      "Epoch 31/35\n",
      "Epoch 32/35\n",
      "Epoch 33/35\n",
      "Epoch 34/35\n",
      "Epoch 35/35\n"
     ]
    },
    {
     "name": "stderr",
     "output_type": "stream",
     "text": [
      "C:\\Users\\aarme\\AppData\\Local\\Temp/ipykernel_2108/4203925436.py:4: DeprecationWarning: KerasClassifier is deprecated, use Sci-Keras (https://github.com/adriangb/scikeras) instead. See https://www.adriangb.com/scikeras/stable/migration.html for help migrating.\n",
      "  dnn =  KerasClassifier(build_fn= build_network,\n"
     ]
    },
    {
     "name": "stdout",
     "output_type": "stream",
     "text": [
      "Epoch 1/40\n"
     ]
    },
    {
     "name": "stderr",
     "output_type": "stream",
     "text": [
      "C:\\Users\\aarme\\anaconda3\\lib\\site-packages\\tensorflow\\python\\framework\\indexed_slices.py:444: UserWarning: Converting sparse IndexedSlices(IndexedSlices(indices=Tensor(\"gradient_tape/sequential_111/dense_316/embedding_lookup_sparse/Reshape_1:0\", shape=(None,), dtype=int32), values=Tensor(\"gradient_tape/sequential_111/dense_316/embedding_lookup_sparse/Reshape:0\", shape=(None, 500), dtype=float32), dense_shape=Tensor(\"gradient_tape/sequential_111/dense_316/embedding_lookup_sparse/Cast:0\", shape=(2,), dtype=int32))) to a dense Tensor of unknown shape. This may consume a large amount of memory.\n",
      "  warnings.warn(\n"
     ]
    },
    {
     "name": "stdout",
     "output_type": "stream",
     "text": [
      "Epoch 2/40\n",
      "Epoch 3/40\n",
      "Epoch 4/40\n",
      "Epoch 5/40\n",
      "Epoch 6/40\n",
      "Epoch 7/40\n",
      "Epoch 8/40\n",
      "Epoch 9/40\n",
      "Epoch 10/40\n",
      "Epoch 11/40\n",
      "Epoch 12/40\n",
      "Epoch 13/40\n",
      "Epoch 14/40\n",
      "Epoch 15/40\n",
      "Epoch 16/40\n",
      "Epoch 17/40\n",
      "Epoch 18/40\n",
      "Epoch 19/40\n",
      "Epoch 20/40\n",
      "Epoch 21/40\n",
      "Epoch 22/40\n",
      "Epoch 23/40\n",
      "Epoch 24/40\n",
      "Epoch 25/40\n",
      "Epoch 26/40\n",
      "Epoch 27/40\n",
      "Epoch 28/40\n",
      "Epoch 29/40\n",
      "Epoch 30/40\n",
      "Epoch 31/40\n",
      "Epoch 32/40\n",
      "Epoch 33/40\n",
      "Epoch 34/40\n",
      "Epoch 35/40\n",
      "Epoch 36/40\n",
      "Epoch 37/40\n",
      "Epoch 38/40\n",
      "Epoch 39/40\n",
      "Epoch 40/40\n"
     ]
    },
    {
     "name": "stderr",
     "output_type": "stream",
     "text": [
      "C:\\Users\\aarme\\AppData\\Local\\Temp/ipykernel_2108/4203925436.py:4: DeprecationWarning: KerasClassifier is deprecated, use Sci-Keras (https://github.com/adriangb/scikeras) instead. See https://www.adriangb.com/scikeras/stable/migration.html for help migrating.\n",
      "  dnn =  KerasClassifier(build_fn= build_network,\n"
     ]
    },
    {
     "name": "stdout",
     "output_type": "stream",
     "text": [
      "Epoch 1/45\n"
     ]
    },
    {
     "name": "stderr",
     "output_type": "stream",
     "text": [
      "C:\\Users\\aarme\\anaconda3\\lib\\site-packages\\tensorflow\\python\\framework\\indexed_slices.py:444: UserWarning: Converting sparse IndexedSlices(IndexedSlices(indices=Tensor(\"gradient_tape/sequential_112/dense_319/embedding_lookup_sparse/Reshape_1:0\", shape=(None,), dtype=int32), values=Tensor(\"gradient_tape/sequential_112/dense_319/embedding_lookup_sparse/Reshape:0\", shape=(None, 500), dtype=float32), dense_shape=Tensor(\"gradient_tape/sequential_112/dense_319/embedding_lookup_sparse/Cast:0\", shape=(2,), dtype=int32))) to a dense Tensor of unknown shape. This may consume a large amount of memory.\n",
      "  warnings.warn(\n"
     ]
    },
    {
     "name": "stdout",
     "output_type": "stream",
     "text": [
      "Epoch 2/45\n",
      "Epoch 3/45\n",
      "Epoch 4/45\n",
      "Epoch 5/45\n",
      "Epoch 6/45\n",
      "Epoch 7/45\n",
      "Epoch 8/45\n",
      "Epoch 9/45\n",
      "Epoch 10/45\n",
      "Epoch 11/45\n",
      "Epoch 12/45\n",
      "Epoch 13/45\n",
      "Epoch 14/45\n",
      "Epoch 15/45\n",
      "Epoch 16/45\n",
      "Epoch 17/45\n",
      "Epoch 18/45\n",
      "Epoch 19/45\n",
      "Epoch 20/45\n",
      "Epoch 21/45\n",
      "Epoch 22/45\n",
      "Epoch 23/45\n",
      "Epoch 24/45\n",
      "Epoch 25/45\n",
      "Epoch 26/45\n",
      "Epoch 27/45\n",
      "Epoch 28/45\n",
      "Epoch 29/45\n",
      "Epoch 30/45\n",
      "Epoch 31/45\n",
      "Epoch 32/45\n",
      "Epoch 33/45\n",
      "Epoch 34/45\n",
      "Epoch 35/45\n",
      "Epoch 36/45\n",
      "Epoch 37/45\n",
      "Epoch 38/45\n",
      "Epoch 39/45\n",
      "Epoch 40/45\n",
      "Epoch 41/45\n",
      "Epoch 42/45\n",
      "Epoch 43/45\n",
      "Epoch 44/45\n",
      "Epoch 45/45\n"
     ]
    }
   ],
   "source": [
    "aut_train = {}\n",
    "aut_test = {}\n",
    "for i in range(5, 50, 5):\n",
    "    dnn =  KerasClassifier(build_fn= build_network,\n",
    "                            epochs= i,\n",
    "                            batch_size=128,\n",
    "                          verbose=10)\n",
    "    train_k = dnn.fit(tfidf_train, y2_train) # Train model\n",
    "    aut_train[i] = train_k.history\n",
    "    preds = dnn.predict(tfidf_val)\n",
    "    accuracy = accuracy_score(y2_val, preds) # Get accuracy of model\n",
    "    aut_test[i] = accuracy\n",
    "# score_list = precision_recall_fscore_support(y2_val, preds) # Get precision, recall, and f1 scores\n",
    "# print('Accuracy: ',accuracy)\n",
    "# print('Precision:', score_list[0])\n",
    "# print('Recall:   ', score_list[1])\n",
    "# print('F1 score: ', score_list[2])\n",
    "# mat = ConfusionMatrixDisplay(confusion_matrix(y2_val, preds))\n",
    "# mat.plot()"
   ]
  },
  {
   "cell_type": "code",
   "execution_count": 315,
   "id": "d1f079a4",
   "metadata": {},
   "outputs": [
    {
     "data": {
      "text/plain": [
       "{5: 0.34367183591795897,\n",
       " 10: 0.4203768550942138,\n",
       " 15: 0.43271635817908954,\n",
       " 20: 0.4382191095547774,\n",
       " 25: 0.4432216108054027,\n",
       " 30: 0.43638485909621477,\n",
       " 35: 0.43638485909621477,\n",
       " 40: 0.4373853593463398,\n",
       " 45: 0.44772386193096547}"
      ]
     },
     "execution_count": 315,
     "metadata": {},
     "output_type": "execute_result"
    }
   ],
   "source": [
    "aut_test"
   ]
  },
  {
   "cell_type": "code",
   "execution_count": 316,
   "id": "c89431ca",
   "metadata": {},
   "outputs": [
    {
     "data": {
      "text/plain": [
       "{5: {'loss': [7.396191596984863,\n",
       "   6.319626808166504,\n",
       "   4.38673210144043,\n",
       "   2.4749042987823486,\n",
       "   1.1598618030548096],\n",
       "  'accuracy': [0.007074966095387936,\n",
       "   0.03423140197992325,\n",
       "   0.21039091050624847,\n",
       "   0.5295504927635193,\n",
       "   0.8056885600090027]},\n",
       " 10: {'loss': [7.374117851257324,\n",
       "   6.218838214874268,\n",
       "   4.267079830169678,\n",
       "   2.4126524925231934,\n",
       "   1.1671282052993774,\n",
       "   0.48791608214378357,\n",
       "   0.19329369068145752,\n",
       "   0.08577363193035126,\n",
       "   0.04410126060247421,\n",
       "   0.02872326783835888],\n",
       "  'accuracy': [0.006074465811252594,\n",
       "   0.03637532889842987,\n",
       "   0.22968627512454987,\n",
       "   0.5404130816459656,\n",
       "   0.7990424036979675,\n",
       "   0.9446866512298584,\n",
       "   0.9893518090248108,\n",
       "   0.9981419444084167,\n",
       "   0.9996426701545715,\n",
       "   0.9998570680618286]},\n",
       " 15: {'loss': [7.378219127655029,\n",
       "   6.23476505279541,\n",
       "   4.239920139312744,\n",
       "   2.3461639881134033,\n",
       "   1.0931285619735718,\n",
       "   0.44145551323890686,\n",
       "   0.1690889447927475,\n",
       "   0.07455035299062729,\n",
       "   0.04016231372952461,\n",
       "   0.027245420962572098,\n",
       "   0.0202790480107069,\n",
       "   0.015074826776981354,\n",
       "   0.012017130851745605,\n",
       "   0.009799573570489883,\n",
       "   0.008230539038777351],\n",
       "  'accuracy': [0.006288858596235514,\n",
       "   0.03587508201599121,\n",
       "   0.23476023972034454,\n",
       "   0.557921826839447,\n",
       "   0.8150503635406494,\n",
       "   0.9521189332008362,\n",
       "   0.9918530583381653,\n",
       "   0.9983563423156738,\n",
       "   0.9994997382164001,\n",
       "   0.9995712041854858,\n",
       "   0.9996426701545715,\n",
       "   1.0,\n",
       "   1.0,\n",
       "   1.0,\n",
       "   1.0]},\n",
       " 20: {'loss': [7.387668132781982,\n",
       "   6.275628089904785,\n",
       "   4.396615028381348,\n",
       "   2.492302894592285,\n",
       "   1.1737031936645508,\n",
       "   0.47572627663612366,\n",
       "   0.18520140647888184,\n",
       "   0.07811228930950165,\n",
       "   0.041172631084918976,\n",
       "   0.02766304463148117,\n",
       "   0.019863015040755272,\n",
       "   0.01505523081868887,\n",
       "   0.012037307024002075,\n",
       "   0.009855695068836212,\n",
       "   0.008254311978816986,\n",
       "   0.007063606753945351,\n",
       "   0.0060821035876870155,\n",
       "   0.00524784903973341,\n",
       "   0.004603124223649502,\n",
       "   0.0040657841600477695],\n",
       "  'accuracy': [0.0053598228842020035,\n",
       "   0.03122990019619465,\n",
       "   0.21039091050624847,\n",
       "   0.529621958732605,\n",
       "   0.8051882982254028,\n",
       "   0.946687638759613,\n",
       "   0.9881369471549988,\n",
       "   0.9979990124702454,\n",
       "   0.9997141361236572,\n",
       "   0.9996426701545715,\n",
       "   0.9997856020927429,\n",
       "   0.9999285340309143,\n",
       "   0.9999285340309143,\n",
       "   1.0,\n",
       "   1.0,\n",
       "   1.0,\n",
       "   1.0,\n",
       "   1.0,\n",
       "   1.0,\n",
       "   1.0]},\n",
       " 25: {'loss': [7.383552074432373,\n",
       "   6.21201229095459,\n",
       "   4.214675426483154,\n",
       "   2.3069794178009033,\n",
       "   1.0672370195388794,\n",
       "   0.42018988728523254,\n",
       "   0.15963852405548096,\n",
       "   0.07056476175785065,\n",
       "   0.040372319519519806,\n",
       "   0.026139702647924423,\n",
       "   0.018941182643175125,\n",
       "   0.014732538722455502,\n",
       "   0.011836755089461803,\n",
       "   0.009683803655207157,\n",
       "   0.008123994804918766,\n",
       "   0.006912190932780504,\n",
       "   0.005965870805084705,\n",
       "   0.005188396200537682,\n",
       "   0.004550994373857975,\n",
       "   0.004005986265838146,\n",
       "   0.0035599886905401945,\n",
       "   0.00317507516592741,\n",
       "   0.0028475685976445675,\n",
       "   0.00255706743337214,\n",
       "   0.002310840878635645],\n",
       "  'accuracy': [0.007074966095387936,\n",
       "   0.036303866654634476,\n",
       "   0.23947687447071075,\n",
       "   0.5667119026184082,\n",
       "   0.824912428855896,\n",
       "   0.9559065103530884,\n",
       "   0.9917815923690796,\n",
       "   0.9985707402229309,\n",
       "   0.999070942401886,\n",
       "   0.9998570680618286,\n",
       "   0.9998570680618286,\n",
       "   0.9998570680618286,\n",
       "   1.0,\n",
       "   1.0,\n",
       "   1.0,\n",
       "   1.0,\n",
       "   1.0,\n",
       "   1.0,\n",
       "   1.0,\n",
       "   1.0,\n",
       "   1.0,\n",
       "   1.0,\n",
       "   1.0,\n",
       "   1.0,\n",
       "   1.0]},\n",
       " 30: {'loss': [7.37730073928833,\n",
       "   6.193536281585693,\n",
       "   4.299651622772217,\n",
       "   2.451078414916992,\n",
       "   1.1688235998153687,\n",
       "   0.48581957817077637,\n",
       "   0.18789523839950562,\n",
       "   0.08242431282997131,\n",
       "   0.04406041279435158,\n",
       "   0.028541935607790947,\n",
       "   0.020429028198122978,\n",
       "   0.01560016069561243,\n",
       "   0.012497750110924244,\n",
       "   0.010268675163388252,\n",
       "   0.00856726709753275,\n",
       "   0.007293712813407183,\n",
       "   0.006257790606468916,\n",
       "   0.005431820638477802,\n",
       "   0.0047600422985851765,\n",
       "   0.004194094333797693,\n",
       "   0.003717841114848852,\n",
       "   0.0033122499007731676,\n",
       "   0.0029648051131516695,\n",
       "   0.002661219798028469,\n",
       "   0.002402713056653738,\n",
       "   0.002176622860133648,\n",
       "   0.0019718697294592857,\n",
       "   0.0017934268107637763,\n",
       "   0.0016336588887497783,\n",
       "   0.0014954954385757446],\n",
       "  'accuracy': [0.006145929917693138,\n",
       "   0.03387407958507538,\n",
       "   0.22153934836387634,\n",
       "   0.5341956615447998,\n",
       "   0.8038305044174194,\n",
       "   0.9452583193778992,\n",
       "   0.9894232749938965,\n",
       "   0.9967840909957886,\n",
       "   0.9992138743400574,\n",
       "   0.9996426701545715,\n",
       "   0.9997856020927429,\n",
       "   1.0,\n",
       "   1.0,\n",
       "   1.0,\n",
       "   1.0,\n",
       "   1.0,\n",
       "   1.0,\n",
       "   1.0,\n",
       "   1.0,\n",
       "   1.0,\n",
       "   1.0,\n",
       "   1.0,\n",
       "   1.0,\n",
       "   1.0,\n",
       "   1.0,\n",
       "   1.0,\n",
       "   1.0,\n",
       "   1.0,\n",
       "   1.0,\n",
       "   1.0]},\n",
       " 35: {'loss': [7.385900020599365,\n",
       "   6.197986602783203,\n",
       "   4.188045978546143,\n",
       "   2.313014268875122,\n",
       "   1.0747822523117065,\n",
       "   0.4366894066333771,\n",
       "   0.16494829952716827,\n",
       "   0.07141290605068207,\n",
       "   0.03988182172179222,\n",
       "   0.0268397219479084,\n",
       "   0.01926516927778721,\n",
       "   0.015115970745682716,\n",
       "   0.011998161673545837,\n",
       "   0.009896212257444859,\n",
       "   0.008313515223562717,\n",
       "   0.007052164990454912,\n",
       "   0.0060909828171133995,\n",
       "   0.005282055586576462,\n",
       "   0.004633813165128231,\n",
       "   0.004076771438121796,\n",
       "   0.0036207232624292374,\n",
       "   0.0032307987567037344,\n",
       "   0.002891318639740348,\n",
       "   0.0026000426150858402,\n",
       "   0.0023469438310712576,\n",
       "   0.0021203672513365746,\n",
       "   0.0019260791596025229,\n",
       "   0.0017519782995805144,\n",
       "   0.001600583316758275,\n",
       "   0.0014619386056438088,\n",
       "   0.0013394118286669254,\n",
       "   0.0012277039932087064,\n",
       "   0.0011294775176793337,\n",
       "   0.0010390146635472775,\n",
       "   0.000955813389737159],\n",
       "  'accuracy': [0.005288358312100172,\n",
       "   0.03701850771903992,\n",
       "   0.2329736351966858,\n",
       "   0.5540627241134644,\n",
       "   0.8209819197654724,\n",
       "   0.9529764652252197,\n",
       "   0.992853581905365,\n",
       "   0.9989280104637146,\n",
       "   0.9996426701545715,\n",
       "   0.9998570680618286,\n",
       "   0.9999285340309143,\n",
       "   0.9998570680618286,\n",
       "   1.0,\n",
       "   1.0,\n",
       "   1.0,\n",
       "   1.0,\n",
       "   1.0,\n",
       "   1.0,\n",
       "   1.0,\n",
       "   1.0,\n",
       "   1.0,\n",
       "   1.0,\n",
       "   1.0,\n",
       "   1.0,\n",
       "   1.0,\n",
       "   1.0,\n",
       "   1.0,\n",
       "   1.0,\n",
       "   1.0,\n",
       "   1.0,\n",
       "   1.0,\n",
       "   1.0,\n",
       "   1.0,\n",
       "   1.0,\n",
       "   1.0]},\n",
       " 40: {'loss': [7.371670722961426,\n",
       "   6.1839094161987305,\n",
       "   4.205463886260986,\n",
       "   2.3411340713500977,\n",
       "   1.0841585397720337,\n",
       "   0.4250582456588745,\n",
       "   0.1639159619808197,\n",
       "   0.07266110926866531,\n",
       "   0.039804115891456604,\n",
       "   0.026719830930233,\n",
       "   0.019064517691731453,\n",
       "   0.014574051834642887,\n",
       "   0.011706322431564331,\n",
       "   0.009696616791188717,\n",
       "   0.008122643455862999,\n",
       "   0.006910925265401602,\n",
       "   0.005950885824859142,\n",
       "   0.005169436801224947,\n",
       "   0.004528472665697336,\n",
       "   0.004001731984317303,\n",
       "   0.0035524365957826376,\n",
       "   0.003163969609886408,\n",
       "   0.0028328788466751575,\n",
       "   0.0025484380312263966,\n",
       "   0.0022992100566625595,\n",
       "   0.002080881968140602,\n",
       "   0.0018916979897767305,\n",
       "   0.0017215427942574024,\n",
       "   0.001572607085108757,\n",
       "   0.0014345912495628,\n",
       "   0.0013141793897375464,\n",
       "   0.0012058899737894535,\n",
       "   0.001107579912059009,\n",
       "   0.0010192125337198377,\n",
       "   0.0009392125648446381,\n",
       "   0.0008674425189383328,\n",
       "   0.0008008908480405807,\n",
       "   0.0007408836390823126,\n",
       "   0.0006863184389658272,\n",
       "   0.0006357534439302981],\n",
       "  'accuracy': [0.007217894773930311,\n",
       "   0.040020011365413666,\n",
       "   0.23383119702339172,\n",
       "   0.5539912581443787,\n",
       "   0.8176230788230896,\n",
       "   0.9550489783287048,\n",
       "   0.9915671944618225,\n",
       "   0.9977131485939026,\n",
       "   0.9991424083709717,\n",
       "   0.9994997382164001,\n",
       "   0.9999285340309143,\n",
       "   1.0,\n",
       "   1.0,\n",
       "   1.0,\n",
       "   1.0,\n",
       "   1.0,\n",
       "   1.0,\n",
       "   1.0,\n",
       "   1.0,\n",
       "   1.0,\n",
       "   1.0,\n",
       "   1.0,\n",
       "   1.0,\n",
       "   1.0,\n",
       "   1.0,\n",
       "   1.0,\n",
       "   1.0,\n",
       "   1.0,\n",
       "   1.0,\n",
       "   1.0,\n",
       "   1.0,\n",
       "   1.0,\n",
       "   1.0,\n",
       "   1.0,\n",
       "   1.0,\n",
       "   1.0,\n",
       "   1.0,\n",
       "   1.0,\n",
       "   1.0,\n",
       "   1.0]},\n",
       " 45: {'loss': [7.384045124053955,\n",
       "   6.243683815002441,\n",
       "   4.241086483001709,\n",
       "   2.3327784538269043,\n",
       "   1.076340913772583,\n",
       "   0.4316219687461853,\n",
       "   0.1651279777288437,\n",
       "   0.07372885197401047,\n",
       "   0.040017448365688324,\n",
       "   0.027052277699112892,\n",
       "   0.019382532685995102,\n",
       "   0.015101739205420017,\n",
       "   0.012079448439180851,\n",
       "   0.009760027751326561,\n",
       "   0.008188401348888874,\n",
       "   0.0069791460409760475,\n",
       "   0.00600146409124136,\n",
       "   0.005224115215241909,\n",
       "   0.004569642711430788,\n",
       "   0.004032432567328215,\n",
       "   0.003577986964955926,\n",
       "   0.003191513242200017,\n",
       "   0.0028536291792988777,\n",
       "   0.00257128500379622,\n",
       "   0.002315675839781761,\n",
       "   0.002095616888254881,\n",
       "   0.0019038035534322262,\n",
       "   0.00173380842898041,\n",
       "   0.0015816711820662022,\n",
       "   0.0014436994679272175,\n",
       "   0.0013237021630629897,\n",
       "   0.0012150414986535907,\n",
       "   0.0011142515577375889,\n",
       "   0.0010262507712468505,\n",
       "   0.0009455730905756354,\n",
       "   0.0008719926117919385,\n",
       "   0.0008065194124355912,\n",
       "   0.0007446523522958159,\n",
       "   0.0006902935565449297,\n",
       "   0.0006399290869012475,\n",
       "   0.0005927496240474284,\n",
       "   0.0005507029127329588,\n",
       "   0.0005109374178573489,\n",
       "   0.00047565551358275115,\n",
       "   0.0004419193137437105],\n",
       "  'accuracy': [0.0075752162374556065,\n",
       "   0.03287357836961746,\n",
       "   0.2354034185409546,\n",
       "   0.5677838921546936,\n",
       "   0.8261988162994385,\n",
       "   0.9544772505760193,\n",
       "   0.9915671944618225,\n",
       "   0.9979275465011597,\n",
       "   0.9994997382164001,\n",
       "   0.9997856020927429,\n",
       "   0.9999285340309143,\n",
       "   0.9998570680618286,\n",
       "   0.9999285340309143,\n",
       "   1.0,\n",
       "   1.0,\n",
       "   1.0,\n",
       "   1.0,\n",
       "   1.0,\n",
       "   1.0,\n",
       "   1.0,\n",
       "   1.0,\n",
       "   1.0,\n",
       "   1.0,\n",
       "   1.0,\n",
       "   1.0,\n",
       "   1.0,\n",
       "   1.0,\n",
       "   1.0,\n",
       "   1.0,\n",
       "   1.0,\n",
       "   1.0,\n",
       "   1.0,\n",
       "   1.0,\n",
       "   1.0,\n",
       "   1.0,\n",
       "   1.0,\n",
       "   1.0,\n",
       "   1.0,\n",
       "   1.0,\n",
       "   1.0,\n",
       "   1.0,\n",
       "   1.0,\n",
       "   1.0,\n",
       "   1.0,\n",
       "   1.0]}}"
      ]
     },
     "execution_count": 316,
     "metadata": {},
     "output_type": "execute_result"
    }
   ],
   "source": [
    "aut_train"
   ]
  },
  {
   "cell_type": "code",
   "execution_count": 317,
   "id": "a35f253e",
   "metadata": {},
   "outputs": [
    {
     "data": {
      "text/plain": [
       "Text(0.5, 1.0, 'Author Accuracy w/ N-grams')"
      ]
     },
     "execution_count": 317,
     "metadata": {},
     "output_type": "execute_result"
    },
    {
     "data": {
      "image/png": "[encoded data removed]",
      "text/plain": [
       "<Figure size 432x288 with 1 Axes>"
      ]
     },
     "metadata": {
      "needs_background": "light"
     },
     "output_type": "display_data"
    }
   ],
   "source": [
    "import matplotlib.pyplot as plt\n",
    "plt.plot(aut_train[45]['accuracy'], label= 'train')\n",
    "plt.plot(aut_test.keys(), aut_test.values(), label= 'test')\n",
    "plt.legend()\n",
    "plt.title('Author Accuracy w/ N-grams')\n"
   ]
  },
  {
   "cell_type": "code",
   "execution_count": 318,
   "id": "3daf9c02",
   "metadata": {},
   "outputs": [],
   "source": [
    "X = l['stemmed_string']\n",
    "y = l['name']\n",
    "X_train, X_val, y_train, y_val = train_test_split(X, y, test_size =0.3, random_state=11)\n",
    "\n",
    "N_FEATURES = 10000 # Set number of features\n",
    "N_CLASSES = len(l['name'].unique()) # Set number of classes\n",
    "\n",
    "def build_network():\n",
    "    # Compile a neural network\n",
    "    nn = Sequential()\n",
    "    nn.add(Dense(500, activation='relu', input_shape= (N_FEATURES,)))\n",
    "    nn.add(Dense(150, activation= 'relu'))\n",
    "    nn.add(Dense(N_CLASSES, activation= 'softmax'))\n",
    "    nn.compile(\n",
    "        loss= 'categorical_crossentropy',\n",
    "        optimizer='adam',\n",
    "        metrics=['accuracy']\n",
    "    )\n",
    "    return nn\n",
    "\n",
    "vectorizer = TfidfVectorizer(ngram_range= (1,5), max_features= N_FEATURES) # Create vectorizer\n",
    "tfidf_train = vectorizer.fit_transform(X_train) # Return features and tfidf values for training set\n",
    "tfidf_train.sort_indices() # Sort by index (required by tensorflow)\n",
    "tfidf_val = vectorizer.transform(X_val)  # Return tfidf values for test set\n",
    "tfidf_val.sort_indices()"
   ]
  },
  {
   "cell_type": "code",
   "execution_count": 319,
   "id": "4b6beef6",
   "metadata": {},
   "outputs": [
    {
     "name": "stderr",
     "output_type": "stream",
     "text": [
      "C:\\Users\\aarme\\AppData\\Local\\Temp/ipykernel_2108/3793485457.py:4: DeprecationWarning: KerasClassifier is deprecated, use Sci-Keras (https://github.com/adriangb/scikeras) instead. See https://www.adriangb.com/scikeras/stable/migration.html for help migrating.\n",
      "  dnn =  KerasClassifier(build_fn= build_network,\n"
     ]
    },
    {
     "name": "stdout",
     "output_type": "stream",
     "text": [
      "Epoch 1/5\n"
     ]
    },
    {
     "name": "stderr",
     "output_type": "stream",
     "text": [
      "C:\\Users\\aarme\\anaconda3\\lib\\site-packages\\tensorflow\\python\\framework\\indexed_slices.py:444: UserWarning: Converting sparse IndexedSlices(IndexedSlices(indices=Tensor(\"gradient_tape/sequential_113/dense_322/embedding_lookup_sparse/Reshape_1:0\", shape=(None,), dtype=int32), values=Tensor(\"gradient_tape/sequential_113/dense_322/embedding_lookup_sparse/Reshape:0\", shape=(None, 500), dtype=float32), dense_shape=Tensor(\"gradient_tape/sequential_113/dense_322/embedding_lookup_sparse/Cast:0\", shape=(2,), dtype=int32))) to a dense Tensor of unknown shape. This may consume a large amount of memory.\n",
      "  warnings.warn(\n"
     ]
    },
    {
     "name": "stdout",
     "output_type": "stream",
     "text": [
      "Epoch 2/5\n",
      "Epoch 3/5\n",
      "Epoch 4/5\n",
      "Epoch 5/5\n"
     ]
    },
    {
     "name": "stderr",
     "output_type": "stream",
     "text": [
      "C:\\Users\\aarme\\AppData\\Local\\Temp/ipykernel_2108/3793485457.py:4: DeprecationWarning: KerasClassifier is deprecated, use Sci-Keras (https://github.com/adriangb/scikeras) instead. See https://www.adriangb.com/scikeras/stable/migration.html for help migrating.\n",
      "  dnn =  KerasClassifier(build_fn= build_network,\n"
     ]
    },
    {
     "name": "stdout",
     "output_type": "stream",
     "text": [
      "Epoch 1/10\n"
     ]
    },
    {
     "name": "stderr",
     "output_type": "stream",
     "text": [
      "C:\\Users\\aarme\\anaconda3\\lib\\site-packages\\tensorflow\\python\\framework\\indexed_slices.py:444: UserWarning: Converting sparse IndexedSlices(IndexedSlices(indices=Tensor(\"gradient_tape/sequential_114/dense_325/embedding_lookup_sparse/Reshape_1:0\", shape=(None,), dtype=int32), values=Tensor(\"gradient_tape/sequential_114/dense_325/embedding_lookup_sparse/Reshape:0\", shape=(None, 500), dtype=float32), dense_shape=Tensor(\"gradient_tape/sequential_114/dense_325/embedding_lookup_sparse/Cast:0\", shape=(2,), dtype=int32))) to a dense Tensor of unknown shape. This may consume a large amount of memory.\n",
      "  warnings.warn(\n"
     ]
    },
    {
     "name": "stdout",
     "output_type": "stream",
     "text": [
      "Epoch 2/10\n",
      "Epoch 3/10\n",
      "Epoch 4/10\n",
      "Epoch 5/10\n",
      "Epoch 6/10\n",
      "Epoch 7/10\n",
      "Epoch 8/10\n",
      "Epoch 9/10\n",
      "Epoch 10/10\n"
     ]
    },
    {
     "name": "stderr",
     "output_type": "stream",
     "text": [
      "C:\\Users\\aarme\\AppData\\Local\\Temp/ipykernel_2108/3793485457.py:4: DeprecationWarning: KerasClassifier is deprecated, use Sci-Keras (https://github.com/adriangb/scikeras) instead. See https://www.adriangb.com/scikeras/stable/migration.html for help migrating.\n",
      "  dnn =  KerasClassifier(build_fn= build_network,\n"
     ]
    },
    {
     "name": "stdout",
     "output_type": "stream",
     "text": [
      "Epoch 1/15\n"
     ]
    },
    {
     "name": "stderr",
     "output_type": "stream",
     "text": [
      "C:\\Users\\aarme\\anaconda3\\lib\\site-packages\\tensorflow\\python\\framework\\indexed_slices.py:444: UserWarning: Converting sparse IndexedSlices(IndexedSlices(indices=Tensor(\"gradient_tape/sequential_115/dense_328/embedding_lookup_sparse/Reshape_1:0\", shape=(None,), dtype=int32), values=Tensor(\"gradient_tape/sequential_115/dense_328/embedding_lookup_sparse/Reshape:0\", shape=(None, 500), dtype=float32), dense_shape=Tensor(\"gradient_tape/sequential_115/dense_328/embedding_lookup_sparse/Cast:0\", shape=(2,), dtype=int32))) to a dense Tensor of unknown shape. This may consume a large amount of memory.\n",
      "  warnings.warn(\n"
     ]
    },
    {
     "name": "stdout",
     "output_type": "stream",
     "text": [
      "Epoch 2/15\n",
      "Epoch 3/15\n",
      "Epoch 4/15\n",
      "Epoch 5/15\n",
      "Epoch 6/15\n",
      "Epoch 7/15\n",
      "Epoch 8/15\n",
      "Epoch 9/15\n",
      "Epoch 10/15\n",
      "Epoch 11/15\n",
      "Epoch 12/15\n",
      "Epoch 13/15\n",
      "Epoch 14/15\n",
      "Epoch 15/15\n"
     ]
    },
    {
     "name": "stderr",
     "output_type": "stream",
     "text": [
      "C:\\Users\\aarme\\AppData\\Local\\Temp/ipykernel_2108/3793485457.py:4: DeprecationWarning: KerasClassifier is deprecated, use Sci-Keras (https://github.com/adriangb/scikeras) instead. See https://www.adriangb.com/scikeras/stable/migration.html for help migrating.\n",
      "  dnn =  KerasClassifier(build_fn= build_network,\n"
     ]
    },
    {
     "name": "stdout",
     "output_type": "stream",
     "text": [
      "Epoch 1/20\n"
     ]
    },
    {
     "name": "stderr",
     "output_type": "stream",
     "text": [
      "C:\\Users\\aarme\\anaconda3\\lib\\site-packages\\tensorflow\\python\\framework\\indexed_slices.py:444: UserWarning: Converting sparse IndexedSlices(IndexedSlices(indices=Tensor(\"gradient_tape/sequential_116/dense_331/embedding_lookup_sparse/Reshape_1:0\", shape=(None,), dtype=int32), values=Tensor(\"gradient_tape/sequential_116/dense_331/embedding_lookup_sparse/Reshape:0\", shape=(None, 500), dtype=float32), dense_shape=Tensor(\"gradient_tape/sequential_116/dense_331/embedding_lookup_sparse/Cast:0\", shape=(2,), dtype=int32))) to a dense Tensor of unknown shape. This may consume a large amount of memory.\n",
      "  warnings.warn(\n"
     ]
    },
    {
     "name": "stdout",
     "output_type": "stream",
     "text": [
      "Epoch 2/20\n",
      "Epoch 3/20\n",
      "Epoch 4/20\n",
      "Epoch 5/20\n",
      "Epoch 6/20\n",
      "Epoch 7/20\n",
      "Epoch 8/20\n",
      "Epoch 9/20\n",
      "Epoch 10/20\n",
      "Epoch 11/20\n",
      "Epoch 12/20\n",
      "Epoch 13/20\n",
      "Epoch 14/20\n",
      "Epoch 15/20\n",
      "Epoch 16/20\n",
      "Epoch 17/20\n",
      "Epoch 18/20\n",
      "Epoch 19/20\n",
      "Epoch 20/20\n"
     ]
    },
    {
     "name": "stderr",
     "output_type": "stream",
     "text": [
      "C:\\Users\\aarme\\AppData\\Local\\Temp/ipykernel_2108/3793485457.py:4: DeprecationWarning: KerasClassifier is deprecated, use Sci-Keras (https://github.com/adriangb/scikeras) instead. See https://www.adriangb.com/scikeras/stable/migration.html for help migrating.\n",
      "  dnn =  KerasClassifier(build_fn= build_network,\n"
     ]
    },
    {
     "name": "stdout",
     "output_type": "stream",
     "text": [
      "Epoch 1/25\n"
     ]
    },
    {
     "name": "stderr",
     "output_type": "stream",
     "text": [
      "C:\\Users\\aarme\\anaconda3\\lib\\site-packages\\tensorflow\\python\\framework\\indexed_slices.py:444: UserWarning: Converting sparse IndexedSlices(IndexedSlices(indices=Tensor(\"gradient_tape/sequential_117/dense_334/embedding_lookup_sparse/Reshape_1:0\", shape=(None,), dtype=int32), values=Tensor(\"gradient_tape/sequential_117/dense_334/embedding_lookup_sparse/Reshape:0\", shape=(None, 500), dtype=float32), dense_shape=Tensor(\"gradient_tape/sequential_117/dense_334/embedding_lookup_sparse/Cast:0\", shape=(2,), dtype=int32))) to a dense Tensor of unknown shape. This may consume a large amount of memory.\n",
      "  warnings.warn(\n"
     ]
    },
    {
     "name": "stdout",
     "output_type": "stream",
     "text": [
      "Epoch 2/25\n",
      "Epoch 3/25\n",
      "Epoch 4/25\n",
      "Epoch 5/25\n",
      "Epoch 6/25\n",
      "Epoch 7/25\n",
      "Epoch 8/25\n",
      "Epoch 9/25\n",
      "Epoch 10/25\n",
      "Epoch 11/25\n",
      "Epoch 12/25\n",
      "Epoch 13/25\n",
      "Epoch 14/25\n",
      "Epoch 15/25\n",
      "Epoch 16/25\n",
      "Epoch 17/25\n",
      "Epoch 18/25\n",
      "Epoch 19/25\n",
      "Epoch 20/25\n",
      "Epoch 21/25\n",
      "Epoch 22/25\n",
      "Epoch 23/25\n",
      "Epoch 24/25\n",
      "Epoch 25/25\n"
     ]
    },
    {
     "name": "stderr",
     "output_type": "stream",
     "text": [
      "C:\\Users\\aarme\\AppData\\Local\\Temp/ipykernel_2108/3793485457.py:4: DeprecationWarning: KerasClassifier is deprecated, use Sci-Keras (https://github.com/adriangb/scikeras) instead. See https://www.adriangb.com/scikeras/stable/migration.html for help migrating.\n",
      "  dnn =  KerasClassifier(build_fn= build_network,\n"
     ]
    },
    {
     "name": "stdout",
     "output_type": "stream",
     "text": [
      "Epoch 1/30\n"
     ]
    },
    {
     "name": "stderr",
     "output_type": "stream",
     "text": [
      "C:\\Users\\aarme\\anaconda3\\lib\\site-packages\\tensorflow\\python\\framework\\indexed_slices.py:444: UserWarning: Converting sparse IndexedSlices(IndexedSlices(indices=Tensor(\"gradient_tape/sequential_118/dense_337/embedding_lookup_sparse/Reshape_1:0\", shape=(None,), dtype=int32), values=Tensor(\"gradient_tape/sequential_118/dense_337/embedding_lookup_sparse/Reshape:0\", shape=(None, 500), dtype=float32), dense_shape=Tensor(\"gradient_tape/sequential_118/dense_337/embedding_lookup_sparse/Cast:0\", shape=(2,), dtype=int32))) to a dense Tensor of unknown shape. This may consume a large amount of memory.\n",
      "  warnings.warn(\n"
     ]
    },
    {
     "name": "stdout",
     "output_type": "stream",
     "text": [
      "Epoch 2/30\n",
      "Epoch 3/30\n",
      "Epoch 4/30\n",
      "Epoch 5/30\n",
      "Epoch 6/30\n",
      "Epoch 7/30\n",
      "Epoch 8/30\n",
      "Epoch 9/30\n",
      "Epoch 10/30\n",
      "Epoch 11/30\n",
      "Epoch 12/30\n",
      "Epoch 13/30\n",
      "Epoch 14/30\n",
      "Epoch 15/30\n",
      "Epoch 16/30\n",
      "Epoch 17/30\n",
      "Epoch 18/30\n",
      "Epoch 19/30\n",
      "Epoch 20/30\n",
      "Epoch 21/30\n",
      "Epoch 22/30\n",
      "Epoch 23/30\n",
      "Epoch 24/30\n",
      "Epoch 25/30\n",
      "Epoch 26/30\n",
      "Epoch 27/30\n",
      "Epoch 28/30\n",
      "Epoch 29/30\n",
      "Epoch 30/30\n"
     ]
    },
    {
     "name": "stderr",
     "output_type": "stream",
     "text": [
      "C:\\Users\\aarme\\AppData\\Local\\Temp/ipykernel_2108/3793485457.py:4: DeprecationWarning: KerasClassifier is deprecated, use Sci-Keras (https://github.com/adriangb/scikeras) instead. See https://www.adriangb.com/scikeras/stable/migration.html for help migrating.\n",
      "  dnn =  KerasClassifier(build_fn= build_network,\n"
     ]
    },
    {
     "name": "stdout",
     "output_type": "stream",
     "text": [
      "Epoch 1/35\n"
     ]
    },
    {
     "name": "stderr",
     "output_type": "stream",
     "text": [
      "C:\\Users\\aarme\\anaconda3\\lib\\site-packages\\tensorflow\\python\\framework\\indexed_slices.py:444: UserWarning: Converting sparse IndexedSlices(IndexedSlices(indices=Tensor(\"gradient_tape/sequential_119/dense_340/embedding_lookup_sparse/Reshape_1:0\", shape=(None,), dtype=int32), values=Tensor(\"gradient_tape/sequential_119/dense_340/embedding_lookup_sparse/Reshape:0\", shape=(None, 500), dtype=float32), dense_shape=Tensor(\"gradient_tape/sequential_119/dense_340/embedding_lookup_sparse/Cast:0\", shape=(2,), dtype=int32))) to a dense Tensor of unknown shape. This may consume a large amount of memory.\n",
      "  warnings.warn(\n"
     ]
    },
    {
     "name": "stdout",
     "output_type": "stream",
     "text": [
      "Epoch 2/35\n",
      "Epoch 3/35\n",
      "Epoch 4/35\n",
      "Epoch 5/35\n",
      "Epoch 6/35\n",
      "Epoch 7/35\n",
      "Epoch 8/35\n",
      "Epoch 9/35\n",
      "Epoch 10/35\n",
      "Epoch 11/35\n",
      "Epoch 12/35\n",
      "Epoch 13/35\n",
      "Epoch 14/35\n",
      "Epoch 15/35\n",
      "Epoch 16/35\n",
      "Epoch 17/35\n",
      "Epoch 18/35\n",
      "Epoch 19/35\n",
      "Epoch 20/35\n",
      "Epoch 21/35\n",
      "Epoch 22/35\n",
      "Epoch 23/35\n",
      "Epoch 24/35\n",
      "Epoch 25/35\n",
      "Epoch 26/35\n",
      "Epoch 27/35\n",
      "Epoch 28/35\n",
      "Epoch 29/35\n",
      "Epoch 30/35\n",
      "Epoch 31/35\n",
      "Epoch 32/35\n",
      "Epoch 33/35\n",
      "Epoch 34/35\n",
      "Epoch 35/35\n"
     ]
    },
    {
     "name": "stderr",
     "output_type": "stream",
     "text": [
      "C:\\Users\\aarme\\AppData\\Local\\Temp/ipykernel_2108/3793485457.py:4: DeprecationWarning: KerasClassifier is deprecated, use Sci-Keras (https://github.com/adriangb/scikeras) instead. See https://www.adriangb.com/scikeras/stable/migration.html for help migrating.\n",
      "  dnn =  KerasClassifier(build_fn= build_network,\n"
     ]
    },
    {
     "name": "stdout",
     "output_type": "stream",
     "text": [
      "Epoch 1/40\n"
     ]
    },
    {
     "name": "stderr",
     "output_type": "stream",
     "text": [
      "C:\\Users\\aarme\\anaconda3\\lib\\site-packages\\tensorflow\\python\\framework\\indexed_slices.py:444: UserWarning: Converting sparse IndexedSlices(IndexedSlices(indices=Tensor(\"gradient_tape/sequential_120/dense_343/embedding_lookup_sparse/Reshape_1:0\", shape=(None,), dtype=int32), values=Tensor(\"gradient_tape/sequential_120/dense_343/embedding_lookup_sparse/Reshape:0\", shape=(None, 500), dtype=float32), dense_shape=Tensor(\"gradient_tape/sequential_120/dense_343/embedding_lookup_sparse/Cast:0\", shape=(2,), dtype=int32))) to a dense Tensor of unknown shape. This may consume a large amount of memory.\n",
      "  warnings.warn(\n"
     ]
    },
    {
     "name": "stdout",
     "output_type": "stream",
     "text": [
      "Epoch 2/40\n",
      "Epoch 3/40\n",
      "Epoch 4/40\n",
      "Epoch 5/40\n",
      "Epoch 6/40\n",
      "Epoch 7/40\n",
      "Epoch 8/40\n",
      "Epoch 9/40\n",
      "Epoch 10/40\n",
      "Epoch 11/40\n",
      "Epoch 12/40\n",
      "Epoch 13/40\n",
      "Epoch 14/40\n",
      "Epoch 15/40\n",
      "Epoch 16/40\n",
      "Epoch 17/40\n",
      "Epoch 18/40\n",
      "Epoch 19/40\n",
      "Epoch 20/40\n",
      "Epoch 21/40\n",
      "Epoch 22/40\n",
      "Epoch 23/40\n",
      "Epoch 24/40\n",
      "Epoch 25/40\n",
      "Epoch 26/40\n",
      "Epoch 27/40\n",
      "Epoch 28/40\n",
      "Epoch 29/40\n",
      "Epoch 30/40\n",
      "Epoch 31/40\n",
      "Epoch 32/40\n",
      "Epoch 33/40\n",
      "Epoch 34/40\n",
      "Epoch 35/40\n",
      "Epoch 36/40\n",
      "Epoch 37/40\n",
      "Epoch 38/40\n",
      "Epoch 39/40\n",
      "Epoch 40/40\n"
     ]
    },
    {
     "name": "stderr",
     "output_type": "stream",
     "text": [
      "C:\\Users\\aarme\\AppData\\Local\\Temp/ipykernel_2108/3793485457.py:4: DeprecationWarning: KerasClassifier is deprecated, use Sci-Keras (https://github.com/adriangb/scikeras) instead. See https://www.adriangb.com/scikeras/stable/migration.html for help migrating.\n",
      "  dnn =  KerasClassifier(build_fn= build_network,\n"
     ]
    },
    {
     "name": "stdout",
     "output_type": "stream",
     "text": [
      "Epoch 1/45\n"
     ]
    },
    {
     "name": "stderr",
     "output_type": "stream",
     "text": [
      "C:\\Users\\aarme\\anaconda3\\lib\\site-packages\\tensorflow\\python\\framework\\indexed_slices.py:444: UserWarning: Converting sparse IndexedSlices(IndexedSlices(indices=Tensor(\"gradient_tape/sequential_121/dense_346/embedding_lookup_sparse/Reshape_1:0\", shape=(None,), dtype=int32), values=Tensor(\"gradient_tape/sequential_121/dense_346/embedding_lookup_sparse/Reshape:0\", shape=(None, 500), dtype=float32), dense_shape=Tensor(\"gradient_tape/sequential_121/dense_346/embedding_lookup_sparse/Cast:0\", shape=(2,), dtype=int32))) to a dense Tensor of unknown shape. This may consume a large amount of memory.\n",
      "  warnings.warn(\n"
     ]
    },
    {
     "name": "stdout",
     "output_type": "stream",
     "text": [
      "Epoch 2/45\n",
      "Epoch 3/45\n",
      "Epoch 4/45\n",
      "Epoch 5/45\n",
      "Epoch 6/45\n",
      "Epoch 7/45\n",
      "Epoch 8/45\n",
      "Epoch 9/45\n",
      "Epoch 10/45\n",
      "Epoch 11/45\n",
      "Epoch 12/45\n",
      "Epoch 13/45\n",
      "Epoch 14/45\n",
      "Epoch 15/45\n",
      "Epoch 16/45\n",
      "Epoch 17/45\n",
      "Epoch 18/45\n",
      "Epoch 19/45\n",
      "Epoch 20/45\n",
      "Epoch 21/45\n",
      "Epoch 22/45\n",
      "Epoch 23/45\n",
      "Epoch 24/45\n",
      "Epoch 25/45\n",
      "Epoch 26/45\n",
      "Epoch 27/45\n",
      "Epoch 28/45\n",
      "Epoch 29/45\n",
      "Epoch 30/45\n",
      "Epoch 31/45\n",
      "Epoch 32/45\n",
      "Epoch 33/45\n",
      "Epoch 34/45\n",
      "Epoch 35/45\n",
      "Epoch 36/45\n",
      "Epoch 37/45\n",
      "Epoch 38/45\n",
      "Epoch 39/45\n",
      "Epoch 40/45\n",
      "Epoch 41/45\n",
      "Epoch 42/45\n",
      "Epoch 43/45\n",
      "Epoch 44/45\n",
      "Epoch 45/45\n"
     ]
    }
   ],
   "source": [
    "n_train = {}\n",
    "n_test = {}\n",
    "for i in range(5, 50, 5):\n",
    "    dnn =  KerasClassifier(build_fn= build_network,\n",
    "                            epochs= i,\n",
    "                            batch_size=128,\n",
    "                          verbose=10)\n",
    "    train_k = dnn.fit(tfidf_train, y_train) # Train model\n",
    "    n_train[i] = train_k.history\n",
    "    preds = dnn.predict(tfidf_val)\n",
    "    accuracy = accuracy_score(y_val, preds) # Get accuracy of model\n",
    "    n_test[i] = accuracy"
   ]
  },
  {
   "cell_type": "code",
   "execution_count": 320,
   "id": "7ade78de",
   "metadata": {},
   "outputs": [
    {
     "data": {
      "text/plain": [
       "{5: 0.30748707687176924,\n",
       " 10: 0.3871935967983992,\n",
       " 15: 0.39803234950808736,\n",
       " 20: 0.40286810071702517,\n",
       " 25: 0.39919959979989994,\n",
       " 30: 0.3988660997165249,\n",
       " 35: 0.4020343505085876,\n",
       " 40: 0.41870935467733866,\n",
       " 45: 0.40970485242621313}"
      ]
     },
     "execution_count": 320,
     "metadata": {},
     "output_type": "execute_result"
    }
   ],
   "source": [
    "n_test"
   ]
  },
  {
   "cell_type": "code",
   "execution_count": 321,
   "id": "459b7bf4",
   "metadata": {},
   "outputs": [
    {
     "data": {
      "text/plain": [
       "{5: {'loss': [7.477164268493652,\n",
       "   6.312003135681152,\n",
       "   4.510071277618408,\n",
       "   2.8386940956115723,\n",
       "   1.6147102117538452],\n",
       "  'accuracy': [0.005216894205659628,\n",
       "   0.030801115557551384,\n",
       "   0.18923747539520264,\n",
       "   0.4489387571811676,\n",
       "   0.6873436570167542]},\n",
       " 10: {'loss': [7.4731550216674805,\n",
       "   6.260126113891602,\n",
       "   4.37173318862915,\n",
       "   2.7667603492736816,\n",
       "   1.5994665622711182,\n",
       "   0.852570116519928,\n",
       "   0.4143575131893158,\n",
       "   0.19208602607250214,\n",
       "   0.09949550777673721,\n",
       "   0.055082932114601135],\n",
       "  'accuracy': [0.004073465242981911,\n",
       "   0.03658972308039665,\n",
       "   0.199385404586792,\n",
       "   0.4511541426181793,\n",
       "   0.6846994757652283,\n",
       "   0.8524262309074402,\n",
       "   0.9497606158256531,\n",
       "   0.9863502979278564,\n",
       "   0.995712161064148,\n",
       "   0.9986422061920166]},\n",
       " 15: {'loss': [7.488119125366211,\n",
       "   6.277777671813965,\n",
       "   4.330216407775879,\n",
       "   2.6662752628326416,\n",
       "   1.4911530017852783,\n",
       "   0.7672055959701538,\n",
       "   0.35710495710372925,\n",
       "   0.16225647926330566,\n",
       "   0.08174919337034225,\n",
       "   0.04805615171790123,\n",
       "   0.032291918992996216,\n",
       "   0.023487435653805733,\n",
       "   0.018427764996886253,\n",
       "   0.014607356861233711,\n",
       "   0.011986150406301022],\n",
       "  'accuracy': [0.007646680343896151,\n",
       "   0.0360180102288723,\n",
       "   0.20588865876197815,\n",
       "   0.47245052456855774,\n",
       "   0.7062817215919495,\n",
       "   0.8735081553459167,\n",
       "   0.9616236686706543,\n",
       "   0.9897091388702393,\n",
       "   0.9972128868103027,\n",
       "   0.9987850785255432,\n",
       "   0.9993568062782288,\n",
       "   0.9998570680618286,\n",
       "   0.9997856020927429,\n",
       "   0.9999285340309143,\n",
       "   1.0]},\n",
       " 20: {'loss': [7.480896472930908,\n",
       "   6.291317462921143,\n",
       "   4.368325710296631,\n",
       "   2.726173162460327,\n",
       "   1.5617269277572632,\n",
       "   0.8055726289749146,\n",
       "   0.389140784740448,\n",
       "   0.1807706654071808,\n",
       "   0.09121599048376083,\n",
       "   0.053266096860170364,\n",
       "   0.036907702684402466,\n",
       "   0.02548917755484581,\n",
       "   0.01965636946260929,\n",
       "   0.016016434878110886,\n",
       "   0.012916911393404007,\n",
       "   0.010941185988485813,\n",
       "   0.009171665646135807,\n",
       "   0.007874011993408203,\n",
       "   0.006880342029035091,\n",
       "   0.006025146692991257],\n",
       "  'accuracy': [0.005288358312100172,\n",
       "   0.03437433019280434,\n",
       "   0.20510254800319672,\n",
       "   0.45815765857696533,\n",
       "   0.7014936208724976,\n",
       "   0.8685771226882935,\n",
       "   0.9559065103530884,\n",
       "   0.9886371493339539,\n",
       "   0.9964267611503601,\n",
       "   0.999070942401886,\n",
       "   0.9989280104637146,\n",
       "   0.9996426701545715,\n",
       "   0.9997856020927429,\n",
       "   0.9997856020927429,\n",
       "   0.9999285340309143,\n",
       "   0.9998570680618286,\n",
       "   1.0,\n",
       "   1.0,\n",
       "   1.0,\n",
       "   1.0]},\n",
       " 25: {'loss': [7.476649761199951,\n",
       "   6.299712181091309,\n",
       "   4.459827423095703,\n",
       "   2.81046462059021,\n",
       "   1.5972942113876343,\n",
       "   0.8357466459274292,\n",
       "   0.4059336185455322,\n",
       "   0.1878681629896164,\n",
       "   0.09349150955677032,\n",
       "   0.054057419300079346,\n",
       "   0.036264341324567795,\n",
       "   0.02576262876391411,\n",
       "   0.019645558670163155,\n",
       "   0.015620085410773754,\n",
       "   0.012845148332417011,\n",
       "   0.01074520405381918,\n",
       "   0.009149325080215931,\n",
       "   0.007864066399633884,\n",
       "   0.006844859104603529,\n",
       "   0.005983544513583183,\n",
       "   0.00524088554084301,\n",
       "   0.004667429253458977,\n",
       "   0.004154786467552185,\n",
       "   0.0037386631593108177,\n",
       "   0.0033673858270049095],\n",
       "  'accuracy': [0.003430286655202508,\n",
       "   0.03401700779795647,\n",
       "   0.19159579277038574,\n",
       "   0.4426499009132385,\n",
       "   0.6884871125221252,\n",
       "   0.8590009212493896,\n",
       "   0.9491174221038818,\n",
       "   0.9865646958351135,\n",
       "   0.9961409568786621,\n",
       "   0.9986422061920166,\n",
       "   0.9992138743400574,\n",
       "   0.9996426701545715,\n",
       "   0.9998570680618286,\n",
       "   1.0,\n",
       "   1.0,\n",
       "   1.0,\n",
       "   1.0,\n",
       "   0.9999285340309143,\n",
       "   1.0,\n",
       "   1.0,\n",
       "   1.0,\n",
       "   1.0,\n",
       "   1.0,\n",
       "   1.0,\n",
       "   1.0]},\n",
       " 30: {'loss': [7.478919506072998,\n",
       "   6.267045974731445,\n",
       "   4.4184160232543945,\n",
       "   2.854874610900879,\n",
       "   1.6849180459976196,\n",
       "   0.9005966186523438,\n",
       "   0.4406038224697113,\n",
       "   0.20746077597141266,\n",
       "   0.10533953458070755,\n",
       "   0.058052439242601395,\n",
       "   0.03841857984662056,\n",
       "   0.02673243172466755,\n",
       "   0.02100910060107708,\n",
       "   0.016668424010276794,\n",
       "   0.013367246836423874,\n",
       "   0.011198162101209164,\n",
       "   0.009645833633840084,\n",
       "   0.00835912860929966,\n",
       "   0.0070570847019553185,\n",
       "   0.006198329851031303,\n",
       "   0.005443890113383532,\n",
       "   0.0048419213853776455,\n",
       "   0.004315465688705444,\n",
       "   0.003864531870931387,\n",
       "   0.003473105141893029,\n",
       "   0.00312972953543067,\n",
       "   0.002834856044501066,\n",
       "   0.0025732330977916718,\n",
       "   0.0023452669847756624,\n",
       "   0.002136784605681896],\n",
       "  'accuracy': [0.004359322600066662,\n",
       "   0.03651826083660126,\n",
       "   0.1885942965745926,\n",
       "   0.4307868182659149,\n",
       "   0.6705495715141296,\n",
       "   0.8459944128990173,\n",
       "   0.9447581171989441,\n",
       "   0.9844207763671875,\n",
       "   0.9962838292121887,\n",
       "   0.999070942401886,\n",
       "   0.9992138743400574,\n",
       "   1.0,\n",
       "   0.9996426701545715,\n",
       "   0.9998570680618286,\n",
       "   1.0,\n",
       "   1.0,\n",
       "   0.9999285340309143,\n",
       "   0.9999285340309143,\n",
       "   1.0,\n",
       "   1.0,\n",
       "   1.0,\n",
       "   1.0,\n",
       "   1.0,\n",
       "   1.0,\n",
       "   1.0,\n",
       "   1.0,\n",
       "   1.0,\n",
       "   1.0,\n",
       "   1.0,\n",
       "   1.0]},\n",
       " 35: {'loss': [7.4853010177612305,\n",
       "   6.34075927734375,\n",
       "   4.465034008026123,\n",
       "   2.791224479675293,\n",
       "   1.6063239574432373,\n",
       "   0.8484542965888977,\n",
       "   0.42287948727607727,\n",
       "   0.19909434020519257,\n",
       "   0.09846406430006027,\n",
       "   0.05610242113471031,\n",
       "   0.03710263594985008,\n",
       "   0.027151143178343773,\n",
       "   0.02072226256132126,\n",
       "   0.016980290412902832,\n",
       "   0.01336237508803606,\n",
       "   0.011257363483309746,\n",
       "   0.009580795653164387,\n",
       "   0.008185045793652534,\n",
       "   0.007098838221281767,\n",
       "   0.0062015182338654995,\n",
       "   0.005484289955347776,\n",
       "   0.004851650912314653,\n",
       "   0.004344159737229347,\n",
       "   0.003877182025462389,\n",
       "   0.0034920184407383204,\n",
       "   0.0031500174663960934,\n",
       "   0.0028548389673233032,\n",
       "   0.0025870981626212597,\n",
       "   0.0023585089948028326,\n",
       "   0.0021517411805689335,\n",
       "   0.001962425420060754,\n",
       "   0.0018010311760008335,\n",
       "   0.0016538654454052448,\n",
       "   0.001515178824774921,\n",
       "   0.0013982037780806422],\n",
       "  'accuracy': [0.004430786706507206,\n",
       "   0.030157936736941338,\n",
       "   0.1895947903394699,\n",
       "   0.45108267664909363,\n",
       "   0.6875580549240112,\n",
       "   0.8542128205299377,\n",
       "   0.9479739665985107,\n",
       "   0.9866361618041992,\n",
       "   0.9967126250267029,\n",
       "   0.9987136721611023,\n",
       "   0.9993568062782288,\n",
       "   0.9994997382164001,\n",
       "   0.9998570680618286,\n",
       "   0.9994997382164001,\n",
       "   0.9999285340309143,\n",
       "   1.0,\n",
       "   0.9999285340309143,\n",
       "   1.0,\n",
       "   1.0,\n",
       "   1.0,\n",
       "   1.0,\n",
       "   1.0,\n",
       "   1.0,\n",
       "   1.0,\n",
       "   1.0,\n",
       "   1.0,\n",
       "   1.0,\n",
       "   1.0,\n",
       "   1.0,\n",
       "   1.0,\n",
       "   1.0,\n",
       "   1.0,\n",
       "   1.0,\n",
       "   1.0,\n",
       "   1.0]},\n",
       " 40: {'loss': [7.496541976928711,\n",
       "   6.338194370269775,\n",
       "   4.429249286651611,\n",
       "   2.694319725036621,\n",
       "   1.4669452905654907,\n",
       "   0.7234816551208496,\n",
       "   0.32971301674842834,\n",
       "   0.15242145955562592,\n",
       "   0.07833953201770782,\n",
       "   0.045522045344114304,\n",
       "   0.03121742606163025,\n",
       "   0.022756820544600487,\n",
       "   0.017418459057807922,\n",
       "   0.014602105133235455,\n",
       "   0.011797494255006313,\n",
       "   0.009891870431602001,\n",
       "   0.008236512541770935,\n",
       "   0.007160776760429144,\n",
       "   0.006207493133842945,\n",
       "   0.005460105836391449,\n",
       "   0.0048330407589674,\n",
       "   0.0042932298965752125,\n",
       "   0.003832170506939292,\n",
       "   0.0034476150758564472,\n",
       "   0.0030957218259572983,\n",
       "   0.0027996571734547615,\n",
       "   0.002538332948461175,\n",
       "   0.0023024834226816893,\n",
       "   0.00209935219027102,\n",
       "   0.0019155265763401985,\n",
       "   0.0017560888081789017,\n",
       "   0.0016066826647147536,\n",
       "   0.001475866767577827,\n",
       "   0.0013570457231253386,\n",
       "   0.0012487554922699928,\n",
       "   0.0011512424098327756,\n",
       "   0.0010634231148287654,\n",
       "   0.000982780009508133,\n",
       "   0.0009094016277231276,\n",
       "   0.0008421607781201601],\n",
       "  'accuracy': [0.004359322600066662,\n",
       "   0.037876080721616745,\n",
       "   0.19974273443222046,\n",
       "   0.4717358648777008,\n",
       "   0.7230043411254883,\n",
       "   0.8862287998199463,\n",
       "   0.9648395776748657,\n",
       "   0.9917815923690796,\n",
       "   0.9964982271194458,\n",
       "   0.9989994764328003,\n",
       "   0.9993568062782288,\n",
       "   0.9997856020927429,\n",
       "   0.9999285340309143,\n",
       "   0.9997141361236572,\n",
       "   0.9998570680618286,\n",
       "   0.9998570680618286,\n",
       "   1.0,\n",
       "   1.0,\n",
       "   1.0,\n",
       "   1.0,\n",
       "   1.0,\n",
       "   1.0,\n",
       "   1.0,\n",
       "   1.0,\n",
       "   1.0,\n",
       "   1.0,\n",
       "   1.0,\n",
       "   1.0,\n",
       "   1.0,\n",
       "   1.0,\n",
       "   1.0,\n",
       "   1.0,\n",
       "   1.0,\n",
       "   1.0,\n",
       "   1.0,\n",
       "   1.0,\n",
       "   1.0,\n",
       "   1.0,\n",
       "   1.0,\n",
       "   1.0]},\n",
       " 45: {'loss': [7.465326309204102,\n",
       "   6.246710300445557,\n",
       "   4.451611042022705,\n",
       "   2.8166344165802,\n",
       "   1.6185868978500366,\n",
       "   0.8570680022239685,\n",
       "   0.4102685749530792,\n",
       "   0.18991023302078247,\n",
       "   0.09687037765979767,\n",
       "   0.055359262973070145,\n",
       "   0.03569895774126053,\n",
       "   0.025656376034021378,\n",
       "   0.019921932369470596,\n",
       "   0.015862487256526947,\n",
       "   0.01319036539644003,\n",
       "   0.011135082691907883,\n",
       "   0.009347931481897831,\n",
       "   0.007939213886857033,\n",
       "   0.006848274730145931,\n",
       "   0.006017619278281927,\n",
       "   0.00529462331905961,\n",
       "   0.0046983687207102776,\n",
       "   0.004194526467472315,\n",
       "   0.003755350597202778,\n",
       "   0.0033831337932497263,\n",
       "   0.0030505897011607885,\n",
       "   0.0027619802858680487,\n",
       "   0.0025114775635302067,\n",
       "   0.0022859610617160797,\n",
       "   0.002085975371301174,\n",
       "   0.0019075084710493684,\n",
       "   0.0017456253990530968,\n",
       "   0.0016043796204030514,\n",
       "   0.0014729863032698631,\n",
       "   0.0013561424566432834,\n",
       "   0.0012498341966420412,\n",
       "   0.001152223558165133,\n",
       "   0.0010663947323337197,\n",
       "   0.0009861630387604237,\n",
       "   0.0009132646955549717,\n",
       "   0.000844857597257942,\n",
       "   0.0007845959044061601,\n",
       "   0.000728802231606096,\n",
       "   0.0006759120733477175,\n",
       "   0.0006286019342951477],\n",
       "  'accuracy': [0.00357321510091424,\n",
       "   0.03351675719022751,\n",
       "   0.1919531226158142,\n",
       "   0.4418637752532959,\n",
       "   0.6824126243591309,\n",
       "   0.8557135462760925,\n",
       "   0.9509040117263794,\n",
       "   0.9883513450622559,\n",
       "   0.995712161064148,\n",
       "   0.9986422061920166,\n",
       "   0.9994282722473145,\n",
       "   0.9997856020927429,\n",
       "   0.9997856020927429,\n",
       "   0.9997856020927429,\n",
       "   0.9998570680618286,\n",
       "   0.9997856020927429,\n",
       "   0.9999285340309143,\n",
       "   1.0,\n",
       "   1.0,\n",
       "   1.0,\n",
       "   1.0,\n",
       "   1.0,\n",
       "   1.0,\n",
       "   1.0,\n",
       "   1.0,\n",
       "   1.0,\n",
       "   1.0,\n",
       "   1.0,\n",
       "   1.0,\n",
       "   1.0,\n",
       "   1.0,\n",
       "   1.0,\n",
       "   1.0,\n",
       "   1.0,\n",
       "   1.0,\n",
       "   1.0,\n",
       "   1.0,\n",
       "   1.0,\n",
       "   1.0,\n",
       "   1.0,\n",
       "   1.0,\n",
       "   1.0,\n",
       "   1.0,\n",
       "   1.0,\n",
       "   1.0]}}"
      ]
     },
     "execution_count": 321,
     "metadata": {},
     "output_type": "execute_result"
    }
   ],
   "source": [
    "n_train"
   ]
  },
  {
   "cell_type": "code",
   "execution_count": 322,
   "id": "78288000",
   "metadata": {},
   "outputs": [
    {
     "data": {
      "text/plain": [
       "Text(0.5, 1.0, 'Name Accuracy w/ N-grams')"
      ]
     },
     "execution_count": 322,
     "metadata": {},
     "output_type": "execute_result"
    },
    {
     "data": {
      "image/png": "[encoded data removed]",
      "text/plain": [
       "<Figure size 432x288 with 1 Axes>"
      ]
     },
     "metadata": {
      "needs_background": "light"
     },
     "output_type": "display_data"
    }
   ],
   "source": [
    "import matplotlib.pyplot as plt\n",
    "plt.plot(n_train[45]['accuracy'], label= 'train')\n",
    "plt.plot(n_test.keys(), n_test.values(), label= 'test')\n",
    "plt.legend()\n",
    "plt.title('Name Accuracy w/ N-grams')\n"
   ]
  },
  {
   "cell_type": "code",
   "execution_count": 323,
   "id": "b9b4b3da",
   "metadata": {},
   "outputs": [
    {
     "data": {
      "text/plain": [
       "Text(0, 0.5, 'accuracy')"
      ]
     },
     "execution_count": 323,
     "metadata": {},
     "output_type": "execute_result"
    },
    {
     "data": {
      "image/png": "[encoded data removed]",
      "text/plain": [
       "<Figure size 432x288 with 1 Axes>"
      ]
     },
     "metadata": {
      "needs_background": "light"
     },
     "output_type": "display_data"
    }
   ],
   "source": [
    "plt.plot(aut_test.keys(), aut_test.values(), label= 'n-gram author')\n",
    "plt.plot(n_test.keys(), n_test.values(), label= 'n-gram name')\n",
    "plt.plot(test.keys(), test.values(), label= 'uni-gram name')\n",
    "plt.legend()\n",
    "plt.title('Model Test Accuracy Comparison')\n",
    "plt.xlabel('epochs')\n",
    "plt.ylabel('accuracy')"
   ]
  },
  {
   "cell_type": "code",
   "execution_count": 324,
   "id": "0763adcb",
   "metadata": {},
   "outputs": [
    {
     "data": {
      "text/plain": [
       "{'loss': [7.465326309204102,\n",
       "  6.246710300445557,\n",
       "  4.451611042022705,\n",
       "  2.8166344165802,\n",
       "  1.6185868978500366,\n",
       "  0.8570680022239685,\n",
       "  0.4102685749530792,\n",
       "  0.18991023302078247,\n",
       "  0.09687037765979767,\n",
       "  0.055359262973070145,\n",
       "  0.03569895774126053,\n",
       "  0.025656376034021378,\n",
       "  0.019921932369470596,\n",
       "  0.015862487256526947,\n",
       "  0.01319036539644003,\n",
       "  0.011135082691907883,\n",
       "  0.009347931481897831,\n",
       "  0.007939213886857033,\n",
       "  0.006848274730145931,\n",
       "  0.006017619278281927,\n",
       "  0.00529462331905961,\n",
       "  0.0046983687207102776,\n",
       "  0.004194526467472315,\n",
       "  0.003755350597202778,\n",
       "  0.0033831337932497263,\n",
       "  0.0030505897011607885,\n",
       "  0.0027619802858680487,\n",
       "  0.0025114775635302067,\n",
       "  0.0022859610617160797,\n",
       "  0.002085975371301174,\n",
       "  0.0019075084710493684,\n",
       "  0.0017456253990530968,\n",
       "  0.0016043796204030514,\n",
       "  0.0014729863032698631,\n",
       "  0.0013561424566432834,\n",
       "  0.0012498341966420412,\n",
       "  0.001152223558165133,\n",
       "  0.0010663947323337197,\n",
       "  0.0009861630387604237,\n",
       "  0.0009132646955549717,\n",
       "  0.000844857597257942,\n",
       "  0.0007845959044061601,\n",
       "  0.000728802231606096,\n",
       "  0.0006759120733477175,\n",
       "  0.0006286019342951477],\n",
       " 'accuracy': [0.00357321510091424,\n",
       "  0.03351675719022751,\n",
       "  0.1919531226158142,\n",
       "  0.4418637752532959,\n",
       "  0.6824126243591309,\n",
       "  0.8557135462760925,\n",
       "  0.9509040117263794,\n",
       "  0.9883513450622559,\n",
       "  0.995712161064148,\n",
       "  0.9986422061920166,\n",
       "  0.9994282722473145,\n",
       "  0.9997856020927429,\n",
       "  0.9997856020927429,\n",
       "  0.9997856020927429,\n",
       "  0.9998570680618286,\n",
       "  0.9997856020927429,\n",
       "  0.9999285340309143,\n",
       "  1.0,\n",
       "  1.0,\n",
       "  1.0,\n",
       "  1.0,\n",
       "  1.0,\n",
       "  1.0,\n",
       "  1.0,\n",
       "  1.0,\n",
       "  1.0,\n",
       "  1.0,\n",
       "  1.0,\n",
       "  1.0,\n",
       "  1.0,\n",
       "  1.0,\n",
       "  1.0,\n",
       "  1.0,\n",
       "  1.0,\n",
       "  1.0,\n",
       "  1.0,\n",
       "  1.0,\n",
       "  1.0,\n",
       "  1.0,\n",
       "  1.0,\n",
       "  1.0,\n",
       "  1.0,\n",
       "  1.0,\n",
       "  1.0,\n",
       "  1.0]}"
      ]
     },
     "execution_count": 324,
     "metadata": {},
     "output_type": "execute_result"
    }
   ],
   "source": [
    "train_k.history"
   ]
  },
  {
   "cell_type": "code",
   "execution_count": 325,
   "id": "e3bbf175",
   "metadata": {},
   "outputs": [],
   "source": [
    "x_val =tfidf_val.toarray()"
   ]
  },
  {
   "cell_type": "code",
   "execution_count": 326,
   "id": "5f745bc3",
   "metadata": {},
   "outputs": [],
   "source": [
    "X = l['stemmed_string']\n",
    "y = l['author']\n",
    "X_train, X_val, y_train, y_val = train_test_split(X, y, test_size =0.3, random_state=11)"
   ]
  },
  {
   "cell_type": "code",
   "execution_count": 327,
   "id": "9cef5a2a",
   "metadata": {},
   "outputs": [],
   "source": [
    "N_FEATURES = 15000 # Set number of features\n",
    "N_CLASSES = len(l['author'].unique()) # Set number of classes\n",
    "\n",
    "def build_network():\n",
    "    # Compile a neural network\n",
    "    nn = Sequential()\n",
    "    nn.add(Dense(500, activation='relu', input_shape= (N_FEATURES,)))\n",
    "    nn.add(Dense(150, activation= 'relu'))\n",
    "    nn.add(Dense(N_CLASSES, activation= 'softmax'))\n",
    "    nn.compile(\n",
    "        loss= 'categorical_crossentropy',\n",
    "        optimizer='adam',\n",
    "        metrics=['accuracy']\n",
    "    )\n",
    "    return nn"
   ]
  },
  {
   "cell_type": "code",
   "execution_count": 328,
   "id": "144cab34",
   "metadata": {},
   "outputs": [],
   "source": [
    "vectorizer = TfidfVectorizer(ngram_range= (1,5), max_features= 15000) # Create vectorizer\n",
    "tfidf_train = vectorizer.fit_transform(X_train) # Return features and tfidf values for training set\n",
    "tfidf_train.sort_indices() # Sort by index (required by tensorflow)\n",
    "tfidf_val = vectorizer.transform(X_val)  # Return tfidf values for test set\n",
    "tfidf_val.sort_indices()"
   ]
  },
  {
   "cell_type": "code",
   "execution_count": 329,
   "id": "30211a18",
   "metadata": {},
   "outputs": [
    {
     "name": "stderr",
     "output_type": "stream",
     "text": [
      "C:\\Users\\aarme\\AppData\\Local\\Temp/ipykernel_2108/1357904680.py:1: DeprecationWarning: KerasClassifier is deprecated, use Sci-Keras (https://github.com/adriangb/scikeras) instead. See https://www.adriangb.com/scikeras/stable/migration.html for help migrating.\n",
      "  dnn =  KerasClassifier(build_fn= build_network,\n"
     ]
    },
    {
     "name": "stdout",
     "output_type": "stream",
     "text": [
      "Epoch 1/100\n"
     ]
    },
    {
     "name": "stderr",
     "output_type": "stream",
     "text": [
      "C:\\Users\\aarme\\anaconda3\\lib\\site-packages\\tensorflow\\python\\framework\\indexed_slices.py:444: UserWarning: Converting sparse IndexedSlices(IndexedSlices(indices=Tensor(\"gradient_tape/sequential_122/dense_349/embedding_lookup_sparse/Reshape_1:0\", shape=(None,), dtype=int32), values=Tensor(\"gradient_tape/sequential_122/dense_349/embedding_lookup_sparse/Reshape:0\", shape=(None, 500), dtype=float32), dense_shape=Tensor(\"gradient_tape/sequential_122/dense_349/embedding_lookup_sparse/Cast:0\", shape=(2,), dtype=int32))) to a dense Tensor of unknown shape. This may consume a large amount of memory.\n",
      "  warnings.warn(\n"
     ]
    },
    {
     "name": "stdout",
     "output_type": "stream",
     "text": [
      "Epoch 2/100\n",
      "Epoch 3/100\n",
      "Epoch 4/100\n",
      "Epoch 5/100\n",
      "Epoch 6/100\n",
      "Epoch 7/100\n",
      "Epoch 8/100\n",
      "Epoch 9/100\n",
      "Epoch 10/100\n",
      "Epoch 11/100\n",
      "Epoch 12/100\n",
      "Epoch 13/100\n",
      "Epoch 14/100\n",
      "Epoch 15/100\n",
      "Epoch 16/100\n",
      "Epoch 17/100\n",
      "Epoch 18/100\n",
      "Epoch 19/100\n",
      "Epoch 20/100\n",
      "Epoch 21/100\n",
      "Epoch 22/100\n",
      "Epoch 23/100\n",
      "Epoch 24/100\n",
      "Epoch 25/100\n",
      "Epoch 26/100\n",
      "Epoch 27/100\n",
      "Epoch 28/100\n",
      "Epoch 29/100\n",
      "Epoch 30/100\n",
      "Epoch 31/100\n",
      "Epoch 32/100\n",
      "Epoch 33/100\n",
      "Epoch 34/100\n",
      "Epoch 35/100\n",
      "Epoch 36/100\n",
      "Epoch 37/100\n",
      "Epoch 38/100\n",
      "Epoch 39/100\n",
      "Epoch 40/100\n",
      "Epoch 41/100\n",
      "Epoch 42/100\n",
      "Epoch 43/100\n",
      "Epoch 44/100\n",
      "Epoch 45/100\n",
      "Epoch 46/100\n",
      "Epoch 47/100\n",
      "Epoch 48/100\n",
      "Epoch 49/100\n",
      "Epoch 50/100\n",
      "Epoch 51/100\n",
      "Epoch 52/100\n",
      "Epoch 53/100\n",
      "Epoch 54/100\n",
      "Epoch 55/100\n",
      "Epoch 56/100\n",
      "Epoch 57/100\n",
      "Epoch 58/100\n",
      "Epoch 59/100\n",
      "Epoch 60/100\n",
      "Epoch 61/100\n",
      "Epoch 62/100\n",
      "Epoch 63/100\n",
      "Epoch 64/100\n",
      "Epoch 65/100\n",
      "Epoch 66/100\n",
      "Epoch 67/100\n",
      "Epoch 68/100\n",
      "Epoch 69/100\n",
      "Epoch 70/100\n",
      "Epoch 71/100\n",
      "Epoch 72/100\n",
      "Epoch 73/100\n",
      "Epoch 74/100\n",
      "Epoch 75/100\n",
      "Epoch 76/100\n",
      "Epoch 77/100\n",
      "Epoch 78/100\n",
      "Epoch 79/100\n",
      "Epoch 80/100\n",
      "Epoch 81/100\n",
      "Epoch 82/100\n",
      "Epoch 83/100\n",
      "Epoch 84/100\n",
      "Epoch 85/100\n",
      "Epoch 86/100\n",
      "Epoch 87/100\n",
      "Epoch 88/100\n",
      "Epoch 89/100\n",
      "Epoch 90/100\n",
      "Epoch 91/100\n",
      "Epoch 92/100\n",
      "Epoch 93/100\n",
      "Epoch 94/100\n",
      "Epoch 95/100\n",
      "Epoch 96/100\n",
      "Epoch 97/100\n",
      "Epoch 98/100\n",
      "Epoch 99/100\n",
      "Epoch 100/100\n",
      "Accuracy:  0.4483908620977155\n",
      "Precision: [0.33333333 0.         1.         ... 0.66666667 0.75       0.5       ]\n",
      "Recall:    [0.33333333 0.         1.         ... 1.         1.         0.4       ]\n",
      "F1 score:  [0.33333333 0.         1.         ... 0.8        0.85714286 0.44444444]\n"
     ]
    },
    {
     "name": "stderr",
     "output_type": "stream",
     "text": [
      "C:\\Users\\aarme\\anaconda3\\lib\\site-packages\\sklearn\\metrics\\_classification.py:1248: UndefinedMetricWarning: Precision and F-score are ill-defined and being set to 0.0 in labels with no predicted samples. Use `zero_division` parameter to control this behavior.\n",
      "  >>> from sklearn.metrics import fbeta_score\n",
      "C:\\Users\\aarme\\anaconda3\\lib\\site-packages\\sklearn\\metrics\\_classification.py:1248: UndefinedMetricWarning: Recall and F-score are ill-defined and being set to 0.0 in labels with no true samples. Use `zero_division` parameter to control this behavior.\n",
      "  >>> from sklearn.metrics import fbeta_score\n"
     ]
    }
   ],
   "source": [
    "dnn =  KerasClassifier(build_fn= build_network,\n",
    "                        epochs= 100,\n",
    "                        batch_size=128,\n",
    "                      verbose=10)\n",
    "train_k = dnn.fit(tfidf_train, y_train) # Train model\n",
    "\n",
    "preds = dnn.predict(tfidf_val)\n",
    "accuracy = accuracy_score(y_val, preds) # Get accuracy of model\n",
    "score_list = precision_recall_fscore_support(y_val, preds) # Get precision, recall, and f1 scores\n",
    "print('Accuracy: ',accuracy)\n",
    "print('Precision:', score_list[0])\n",
    "print('Recall:   ', score_list[1])\n",
    "print('F1 score: ', score_list[2])"
   ]
  },
  {
   "cell_type": "code",
   "execution_count": 330,
   "id": "6400a2c2",
   "metadata": {},
   "outputs": [
    {
     "name": "stderr",
     "output_type": "stream",
     "text": [
      "C:\\Users\\aarme\\AppData\\Local\\Temp/ipykernel_2108/3994896152.py:28: DeprecationWarning: KerasClassifier is deprecated, use Sci-Keras (https://github.com/adriangb/scikeras) instead. See https://www.adriangb.com/scikeras/stable/migration.html for help migrating.\n",
      "  dnn =  KerasClassifier(build_fn= build_network,\n"
     ]
    },
    {
     "name": "stdout",
     "output_type": "stream",
     "text": [
      "Epoch 1/100\n"
     ]
    },
    {
     "name": "stderr",
     "output_type": "stream",
     "text": [
      "C:\\Users\\aarme\\anaconda3\\lib\\site-packages\\tensorflow\\python\\framework\\indexed_slices.py:444: UserWarning: Converting sparse IndexedSlices(IndexedSlices(indices=Tensor(\"gradient_tape/sequential_123/dense_352/embedding_lookup_sparse/Reshape_1:0\", shape=(None,), dtype=int32), values=Tensor(\"gradient_tape/sequential_123/dense_352/embedding_lookup_sparse/Reshape:0\", shape=(None, 500), dtype=float32), dense_shape=Tensor(\"gradient_tape/sequential_123/dense_352/embedding_lookup_sparse/Cast:0\", shape=(2,), dtype=int32))) to a dense Tensor of unknown shape. This may consume a large amount of memory.\n",
      "  warnings.warn(\n"
     ]
    },
    {
     "name": "stdout",
     "output_type": "stream",
     "text": [
      "Epoch 2/100\n",
      "Epoch 3/100\n",
      "Epoch 4/100\n",
      "Epoch 5/100\n",
      "Epoch 6/100\n",
      "Epoch 7/100\n",
      "Epoch 8/100\n",
      "Epoch 9/100\n",
      "Epoch 10/100\n",
      "Epoch 11/100\n",
      "Epoch 12/100\n",
      "Epoch 13/100\n",
      "Epoch 14/100\n",
      "Epoch 15/100\n",
      "Epoch 16/100\n",
      "Epoch 17/100\n",
      "Epoch 18/100\n",
      "Epoch 19/100\n",
      "Epoch 20/100\n",
      "Epoch 21/100\n",
      "Epoch 22/100\n",
      "Epoch 23/100\n",
      "Epoch 24/100\n",
      "Epoch 25/100\n",
      "Epoch 26/100\n",
      "Epoch 27/100\n",
      "Epoch 28/100\n",
      "Epoch 29/100\n",
      "Epoch 30/100\n",
      "Epoch 31/100\n",
      "Epoch 32/100\n",
      "Epoch 33/100\n",
      "Epoch 34/100\n",
      "Epoch 35/100\n",
      "Epoch 36/100\n",
      "Epoch 37/100\n",
      "Epoch 38/100\n",
      "Epoch 39/100\n",
      "Epoch 40/100\n",
      "Epoch 41/100\n",
      "Epoch 42/100\n",
      "Epoch 43/100\n",
      "Epoch 44/100\n",
      "Epoch 45/100\n",
      "Epoch 46/100\n",
      "Epoch 47/100\n",
      "Epoch 48/100\n",
      "Epoch 49/100\n",
      "Epoch 50/100\n",
      "Epoch 51/100\n",
      "Epoch 52/100\n",
      "Epoch 53/100\n",
      "Epoch 54/100\n",
      "Epoch 55/100\n",
      "Epoch 56/100\n",
      "Epoch 57/100\n",
      "Epoch 58/100\n",
      "Epoch 59/100\n",
      "Epoch 60/100\n",
      "Epoch 61/100\n",
      "Epoch 62/100\n",
      "Epoch 63/100\n",
      "Epoch 64/100\n",
      "Epoch 65/100\n",
      "Epoch 66/100\n",
      "Epoch 67/100\n",
      "Epoch 68/100\n",
      "Epoch 69/100\n",
      "Epoch 70/100\n",
      "Epoch 71/100\n",
      "Epoch 72/100\n",
      "Epoch 73/100\n",
      "Epoch 74/100\n",
      "Epoch 75/100\n",
      "Epoch 76/100\n",
      "Epoch 77/100\n",
      "Epoch 78/100\n",
      "Epoch 79/100\n",
      "Epoch 80/100\n",
      "Epoch 81/100\n",
      "Epoch 82/100\n",
      "Epoch 83/100\n",
      "Epoch 84/100\n",
      "Epoch 85/100\n",
      "Epoch 86/100\n",
      "Epoch 87/100\n",
      "Epoch 88/100\n",
      "Epoch 89/100\n",
      "Epoch 90/100\n",
      "Epoch 91/100\n",
      "Epoch 92/100\n",
      "Epoch 93/100\n",
      "Epoch 94/100\n",
      "Epoch 95/100\n",
      "Epoch 96/100\n",
      "Epoch 97/100\n",
      "Epoch 98/100\n",
      "Epoch 99/100\n",
      "Epoch 100/100\n",
      "Accuracy:  0.3284975821243955\n",
      "Precision: [1.         0.5        1.         ... 0.85714286 0.33333333 1.        ]\n",
      "Recall:    [0.5        0.125      1.         ... 1.         0.33333333 0.5       ]\n",
      "F1 score:  [0.66666667 0.2        1.         ... 0.92307692 0.33333333 0.66666667]\n"
     ]
    },
    {
     "name": "stderr",
     "output_type": "stream",
     "text": [
      "C:\\Users\\aarme\\anaconda3\\lib\\site-packages\\sklearn\\metrics\\_classification.py:1248: UndefinedMetricWarning: Precision and F-score are ill-defined and being set to 0.0 in labels with no predicted samples. Use `zero_division` parameter to control this behavior.\n",
      "  >>> from sklearn.metrics import fbeta_score\n",
      "C:\\Users\\aarme\\anaconda3\\lib\\site-packages\\sklearn\\metrics\\_classification.py:1248: UndefinedMetricWarning: Recall and F-score are ill-defined and being set to 0.0 in labels with no true samples. Use `zero_division` parameter to control this behavior.\n",
      "  >>> from sklearn.metrics import fbeta_score\n"
     ]
    }
   ],
   "source": [
    "X = l['stemmed_string']\n",
    "y = l['name']\n",
    "X_train, X_val, y_train, y_val = train_test_split(X, y, test_size =0.3, random_state=11)\n",
    "\n",
    "N_FEATURES = 20000 # Set number of features\n",
    "N_CLASSES = len(l['name'].unique()) # Set number of classes\n",
    "\n",
    "def build_network():\n",
    "    # Compile a neural network\n",
    "    nn = Sequential()\n",
    "    nn.add(Dense(500, activation='relu', input_shape= (N_FEATURES,)))\n",
    "    nn.add(Dense(250, activation='relu'))\n",
    "    nn.add(Dense(150, activation= 'relu'))\n",
    "    nn.add(Dense(N_CLASSES, activation= 'softmax'))\n",
    "    nn.compile(\n",
    "        loss= 'categorical_crossentropy',\n",
    "        optimizer='adam',\n",
    "        metrics=['accuracy']\n",
    "    )\n",
    "    return nn\n",
    "\n",
    "vectorizer = TfidfVectorizer(ngram_range= (1,5), max_features= 20000) # Create vectorizer\n",
    "tfidf_train = vectorizer.fit_transform(X_train) # Return features and tfidf values for training set\n",
    "tfidf_train.sort_indices() # Sort by index (required by tensorflow)\n",
    "tfidf_val = vectorizer.transform(X_val)  # Return tfidf values for test set\n",
    "tfidf_val.sort_indices()\n",
    "\n",
    "dnn =  KerasClassifier(build_fn= build_network,\n",
    "                        epochs= 100,\n",
    "                        batch_size=128,\n",
    "                      verbose=10)\n",
    "train_k = dnn.fit(tfidf_train, y_train) # Train model\n",
    "\n",
    "preds = dnn.predict(tfidf_val)\n",
    "accuracy = accuracy_score(y_val, preds) # Get accuracy of model\n",
    "score_list = precision_recall_fscore_support(y_val, preds) # Get precision, recall, and f1 scores\n",
    "print('Accuracy: ',accuracy)\n",
    "print('Precision:', score_list[0])\n",
    "print('Recall:   ', score_list[1])\n",
    "print('F1 score: ', score_list[2])"
   ]
  },
  {
   "cell_type": "code",
   "execution_count": 331,
   "id": "f6a666d6",
   "metadata": {},
   "outputs": [],
   "source": [
    "X = l['tags']\n",
    "y = l['name']\n",
    "X_train, X_val, y_train, y_val = train_test_split(X, y, test_size =0.3, random_state=11)\n",
    "\n",
    "N_FEATURES = 15000 # Set number of features\n",
    "N_CLASSES = len(l['name'].unique()) # Set number of classes\n",
    "\n",
    "def build_network():\n",
    "    # Compile a neural network\n",
    "    nn = Sequential()\n",
    "    nn.add(Dense(500, activation='relu', input_shape= (N_FEATURES,)))\n",
    "    nn.add(Dense(150, activation= 'relu'))\n",
    "    nn.add(Dense(N_CLASSES, activation= 'softmax'))\n",
    "    nn.compile(\n",
    "        loss= 'categorical_crossentropy',\n",
    "        optimizer='adam',\n",
    "        metrics=['accuracy']\n",
    "    )\n",
    "    return nn\n",
    "\n",
    "vectorizer = TfidfVectorizer(ngram_range= (3,8), max_features= N_FEATURES) # Create vectorizer\n",
    "tfidf_train = vectorizer.fit_transform(X_train) # Return features and tfidf values for training set\n",
    "tfidf_train.sort_indices() # Sort by index (required by tensorflow)\n",
    "\n",
    "tfidf_val = vectorizer.transform(X_val)  # Return tfidf values for test set\n",
    "tfidf_val.sort_indices()\n"
   ]
  },
  {
   "cell_type": "code",
   "execution_count": 332,
   "id": "3d855013",
   "metadata": {},
   "outputs": [
    {
     "name": "stderr",
     "output_type": "stream",
     "text": [
      "C:\\Users\\aarme\\AppData\\Local\\Temp/ipykernel_2108/1481549808.py:1: DeprecationWarning: KerasClassifier is deprecated, use Sci-Keras (https://github.com/adriangb/scikeras) instead. See https://www.adriangb.com/scikeras/stable/migration.html for help migrating.\n",
      "  dnn =  KerasClassifier(build_fn= build_network,\n"
     ]
    },
    {
     "name": "stdout",
     "output_type": "stream",
     "text": [
      "Epoch 1/50\n"
     ]
    },
    {
     "name": "stderr",
     "output_type": "stream",
     "text": [
      "C:\\Users\\aarme\\anaconda3\\lib\\site-packages\\tensorflow\\python\\framework\\indexed_slices.py:444: UserWarning: Converting sparse IndexedSlices(IndexedSlices(indices=Tensor(\"gradient_tape/sequential_124/dense_356/embedding_lookup_sparse/Reshape_1:0\", shape=(None,), dtype=int32), values=Tensor(\"gradient_tape/sequential_124/dense_356/embedding_lookup_sparse/Reshape:0\", shape=(None, 500), dtype=float32), dense_shape=Tensor(\"gradient_tape/sequential_124/dense_356/embedding_lookup_sparse/Cast:0\", shape=(2,), dtype=int32))) to a dense Tensor of unknown shape. This may consume a large amount of memory.\n",
      "  warnings.warn(\n"
     ]
    },
    {
     "name": "stdout",
     "output_type": "stream",
     "text": [
      "Epoch 2/50\n",
      "Epoch 3/50\n",
      "Epoch 4/50\n",
      "Epoch 5/50\n",
      "Epoch 6/50\n",
      "Epoch 7/50\n",
      "Epoch 8/50\n",
      "Epoch 9/50\n",
      "Epoch 10/50\n",
      "Epoch 11/50\n",
      "Epoch 12/50\n",
      "Epoch 13/50\n",
      "Epoch 14/50\n",
      "Epoch 15/50\n",
      "Epoch 16/50\n",
      "Epoch 17/50\n",
      "Epoch 18/50\n",
      "Epoch 19/50\n",
      "Epoch 20/50\n",
      "Epoch 21/50\n",
      "Epoch 22/50\n",
      "Epoch 23/50\n",
      "Epoch 24/50\n",
      "Epoch 25/50\n",
      "Epoch 26/50\n",
      "Epoch 27/50\n",
      "Epoch 28/50\n",
      "Epoch 29/50\n",
      "Epoch 30/50\n",
      "Epoch 31/50\n",
      "Epoch 32/50\n",
      "Epoch 33/50\n",
      "Epoch 34/50\n",
      "Epoch 35/50\n",
      "Epoch 36/50\n",
      "Epoch 37/50\n",
      "Epoch 38/50\n",
      "Epoch 39/50\n",
      "Epoch 40/50\n",
      "Epoch 41/50\n",
      "Epoch 42/50\n",
      "Epoch 43/50\n",
      "Epoch 44/50\n",
      "Epoch 45/50\n",
      "Epoch 46/50\n",
      "Epoch 47/50\n",
      "Epoch 48/50\n",
      "Epoch 49/50\n",
      "Epoch 50/50\n",
      "Accuracy:  0.15574453893613474\n"
     ]
    },
    {
     "name": "stderr",
     "output_type": "stream",
     "text": [
      "C:\\Users\\aarme\\anaconda3\\lib\\site-packages\\sklearn\\metrics\\_classification.py:1248: UndefinedMetricWarning: Precision and F-score are ill-defined and being set to 0.0 in labels with no predicted samples. Use `zero_division` parameter to control this behavior.\n",
      "  >>> from sklearn.metrics import fbeta_score\n",
      "C:\\Users\\aarme\\anaconda3\\lib\\site-packages\\sklearn\\metrics\\_classification.py:1248: UndefinedMetricWarning: Recall and F-score are ill-defined and being set to 0.0 in labels with no true samples. Use `zero_division` parameter to control this behavior.\n",
      "  >>> from sklearn.metrics import fbeta_score\n"
     ]
    }
   ],
   "source": [
    "dnn =  KerasClassifier(build_fn= build_network,\n",
    "                        epochs= 50,\n",
    "                        batch_size=128,\n",
    "                      verbose=10)\n",
    "train_k = dnn.fit(tfidf_train, y_train) # Train model\n",
    "\n",
    "preds = dnn.predict(tfidf_val)\n",
    "accuracy = accuracy_score(y_val, preds) # Get accuracy of model\n",
    "score_list = precision_recall_fscore_support(y_val, preds) # Get precision, recall, and f1 scores\n",
    "print('Accuracy: ',accuracy)\n",
    "# print('Precision:', score_list[0])\n",
    "# print('Recall:   ', score_list[1])\n",
    "# print('F1 score: ', score_list[2])"
   ]
  },
  {
   "cell_type": "code",
   "execution_count": 333,
   "id": "1bfd016a",
   "metadata": {},
   "outputs": [],
   "source": [
    "from nltk import ngrams"
   ]
  },
  {
   "cell_type": "code",
   "execution_count": null,
   "id": "a97368cf",
   "metadata": {},
   "outputs": [],
   "source": [
    "x = l['stemmed_string'].apply(lambda x : ngrams(x, 3))"
   ]
  },
  {
   "cell_type": "code",
   "execution_count": 101,
   "id": "5e152c1b",
   "metadata": {},
   "outputs": [
    {
     "name": "stdout",
     "output_type": "stream",
     "text": [
      "Model: \"sequential_21\"\n",
      "_________________________________________________________________\n",
      " Layer (type)                Output Shape              Param #   \n",
      "=================================================================\n",
      " dense_53 (Dense)            (None, 500)               5000500   \n",
      "                                                                 \n",
      " dense_54 (Dense)            (None, 150)               75150     \n",
      "                                                                 \n",
      "=================================================================\n",
      "Total params: 5,075,650\n",
      "Trainable params: 5,075,650\n",
      "Non-trainable params: 0\n",
      "_________________________________________________________________\n"
     ]
    }
   ],
   "source": [
    "from keras import models, layers\n",
    "model = models.Sequential()\n",
    "# model.add(layers.Conv1D(32, (3), activation= 'relu', input_shape=(N_FEATURES,)))\n",
    "# model.add(layers.MaxPooling2D((2,2)))\n",
    "# model.add(layers.Conv2D(64, (3,3),activation= 'relu'))\n",
    "# model.add(layers.MaxPooling2D((2,2)))\n",
    "# model.add(layers.Conv2D(64, (3,3), activation= 'relu'))\n",
    "\n",
    "# model.add(layers.Flatten())\n",
    "model.add(layers.Input(shape= (N_FEATURES,)))\n",
    "model.add(layers.Dense(500, activation= 'relu'))\n",
    "model.add(layers.Dense(150, activation= 'softmax'))\n",
    "\n",
    "model.summary()"
   ]
  },
  {
   "cell_type": "code",
   "execution_count": 107,
   "id": "e225f185",
   "metadata": {},
   "outputs": [
    {
     "name": "stdout",
     "output_type": "stream",
     "text": [
      "WARNING:tensorflow:Keras is training/fitting/evaluating on array-like data. Keras may not be optimized for this format, so if your input data format is supported by TensorFlow I/O (https://github.com/tensorflow/io) we recommend using that to load a Dataset instead.\n",
      "Epoch 1/20\n"
     ]
    },
    {
     "ename": "ValueError",
     "evalue": "in user code:\n\n    File \"C:\\Users\\aarme\\anaconda3\\lib\\site-packages\\keras\\engine\\training.py\", line 1021, in train_function  *\n        return step_function(self, iterator)\n    File \"C:\\Users\\aarme\\anaconda3\\lib\\site-packages\\keras\\engine\\training.py\", line 1010, in step_function  **\n        outputs = model.distribute_strategy.run(run_step, args=(data,))\n    File \"C:\\Users\\aarme\\anaconda3\\lib\\site-packages\\keras\\engine\\training.py\", line 1000, in run_step  **\n        outputs = model.train_step(data)\n    File \"C:\\Users\\aarme\\anaconda3\\lib\\site-packages\\keras\\engine\\training.py\", line 860, in train_step\n        loss = self.compute_loss(x, y, y_pred, sample_weight)\n    File \"C:\\Users\\aarme\\anaconda3\\lib\\site-packages\\keras\\engine\\training.py\", line 918, in compute_loss\n        return self.compiled_loss(\n    File \"C:\\Users\\aarme\\anaconda3\\lib\\site-packages\\keras\\engine\\compile_utils.py\", line 201, in __call__\n        loss_value = loss_obj(y_t, y_p, sample_weight=sw)\n    File \"C:\\Users\\aarme\\anaconda3\\lib\\site-packages\\keras\\losses.py\", line 141, in __call__\n        losses = call_fn(y_true, y_pred)\n    File \"C:\\Users\\aarme\\anaconda3\\lib\\site-packages\\keras\\losses.py\", line 245, in call  **\n        return ag_fn(y_true, y_pred, **self._fn_kwargs)\n    File \"C:\\Users\\aarme\\anaconda3\\lib\\site-packages\\keras\\losses.py\", line 1789, in categorical_crossentropy\n        return backend.categorical_crossentropy(\n    File \"C:\\Users\\aarme\\anaconda3\\lib\\site-packages\\keras\\backend.py\", line 5083, in categorical_crossentropy\n        target.shape.assert_is_compatible_with(output.shape)\n\n    ValueError: Shapes (None, 1) and (None, 150) are incompatible\n",
     "output_type": "error",
     "traceback": [
      "\u001b[1;31m---------------------------------------------------------------------------\u001b[0m",
      "\u001b[1;31mValueError\u001b[0m                                Traceback (most recent call last)",
      "\u001b[1;32m~\\AppData\\Local\\Temp/ipykernel_2108/1762806209.py\u001b[0m in \u001b[0;36m<module>\u001b[1;34m\u001b[0m\n\u001b[0;32m      2\u001b[0m              \u001b[0mloss\u001b[0m\u001b[1;33m=\u001b[0m \u001b[1;34m'categorical_crossentropy'\u001b[0m\u001b[1;33m,\u001b[0m\u001b[1;33m\u001b[0m\u001b[1;33m\u001b[0m\u001b[0m\n\u001b[0;32m      3\u001b[0m              metrics= ['accuracy'])\n\u001b[1;32m----> 4\u001b[1;33m \u001b[0mhistory\u001b[0m \u001b[1;33m=\u001b[0m \u001b[0mmodel\u001b[0m\u001b[1;33m.\u001b[0m\u001b[0mfit\u001b[0m\u001b[1;33m(\u001b[0m\u001b[0mtfidf_train\u001b[0m\u001b[1;33m,\u001b[0m \u001b[0my_train\u001b[0m\u001b[1;33m,\u001b[0m \u001b[0mepochs\u001b[0m\u001b[1;33m=\u001b[0m \u001b[1;36m20\u001b[0m\u001b[1;33m,\u001b[0m \u001b[0mbatch_size\u001b[0m\u001b[1;33m=\u001b[0m \u001b[1;36m128\u001b[0m\u001b[1;33m)\u001b[0m\u001b[1;33m\u001b[0m\u001b[1;33m\u001b[0m\u001b[0m\n\u001b[0m",
      "\u001b[1;32m~\\anaconda3\\lib\\site-packages\\keras\\utils\\traceback_utils.py\u001b[0m in \u001b[0;36merror_handler\u001b[1;34m(*args, **kwargs)\u001b[0m\n\u001b[0;32m     65\u001b[0m     \u001b[1;32mexcept\u001b[0m \u001b[0mException\u001b[0m \u001b[1;32mas\u001b[0m \u001b[0me\u001b[0m\u001b[1;33m:\u001b[0m  \u001b[1;31m# pylint: disable=broad-except\u001b[0m\u001b[1;33m\u001b[0m\u001b[1;33m\u001b[0m\u001b[0m\n\u001b[0;32m     66\u001b[0m       \u001b[0mfiltered_tb\u001b[0m \u001b[1;33m=\u001b[0m \u001b[0m_process_traceback_frames\u001b[0m\u001b[1;33m(\u001b[0m\u001b[0me\u001b[0m\u001b[1;33m.\u001b[0m\u001b[0m__traceback__\u001b[0m\u001b[1;33m)\u001b[0m\u001b[1;33m\u001b[0m\u001b[1;33m\u001b[0m\u001b[0m\n\u001b[1;32m---> 67\u001b[1;33m       \u001b[1;32mraise\u001b[0m \u001b[0me\u001b[0m\u001b[1;33m.\u001b[0m\u001b[0mwith_traceback\u001b[0m\u001b[1;33m(\u001b[0m\u001b[0mfiltered_tb\u001b[0m\u001b[1;33m)\u001b[0m \u001b[1;32mfrom\u001b[0m \u001b[1;32mNone\u001b[0m\u001b[1;33m\u001b[0m\u001b[1;33m\u001b[0m\u001b[0m\n\u001b[0m\u001b[0;32m     68\u001b[0m     \u001b[1;32mfinally\u001b[0m\u001b[1;33m:\u001b[0m\u001b[1;33m\u001b[0m\u001b[1;33m\u001b[0m\u001b[0m\n\u001b[0;32m     69\u001b[0m       \u001b[1;32mdel\u001b[0m \u001b[0mfiltered_tb\u001b[0m\u001b[1;33m\u001b[0m\u001b[1;33m\u001b[0m\u001b[0m\n",
      "\u001b[1;32m~\\anaconda3\\lib\\site-packages\\tensorflow\\python\\framework\\func_graph.py\u001b[0m in \u001b[0;36mautograph_handler\u001b[1;34m(*args, **kwargs)\u001b[0m\n\u001b[0;32m   1145\u001b[0m           \u001b[1;32mexcept\u001b[0m \u001b[0mException\u001b[0m \u001b[1;32mas\u001b[0m \u001b[0me\u001b[0m\u001b[1;33m:\u001b[0m  \u001b[1;31m# pylint:disable=broad-except\u001b[0m\u001b[1;33m\u001b[0m\u001b[1;33m\u001b[0m\u001b[0m\n\u001b[0;32m   1146\u001b[0m             \u001b[1;32mif\u001b[0m \u001b[0mhasattr\u001b[0m\u001b[1;33m(\u001b[0m\u001b[0me\u001b[0m\u001b[1;33m,\u001b[0m \u001b[1;34m\"ag_error_metadata\"\u001b[0m\u001b[1;33m)\u001b[0m\u001b[1;33m:\u001b[0m\u001b[1;33m\u001b[0m\u001b[1;33m\u001b[0m\u001b[0m\n\u001b[1;32m-> 1147\u001b[1;33m               \u001b[1;32mraise\u001b[0m \u001b[0me\u001b[0m\u001b[1;33m.\u001b[0m\u001b[0mag_error_metadata\u001b[0m\u001b[1;33m.\u001b[0m\u001b[0mto_exception\u001b[0m\u001b[1;33m(\u001b[0m\u001b[0me\u001b[0m\u001b[1;33m)\u001b[0m\u001b[1;33m\u001b[0m\u001b[1;33m\u001b[0m\u001b[0m\n\u001b[0m\u001b[0;32m   1148\u001b[0m             \u001b[1;32melse\u001b[0m\u001b[1;33m:\u001b[0m\u001b[1;33m\u001b[0m\u001b[1;33m\u001b[0m\u001b[0m\n\u001b[0;32m   1149\u001b[0m               \u001b[1;32mraise\u001b[0m\u001b[1;33m\u001b[0m\u001b[1;33m\u001b[0m\u001b[0m\n",
      "\u001b[1;31mValueError\u001b[0m: in user code:\n\n    File \"C:\\Users\\aarme\\anaconda3\\lib\\site-packages\\keras\\engine\\training.py\", line 1021, in train_function  *\n        return step_function(self, iterator)\n    File \"C:\\Users\\aarme\\anaconda3\\lib\\site-packages\\keras\\engine\\training.py\", line 1010, in step_function  **\n        outputs = model.distribute_strategy.run(run_step, args=(data,))\n    File \"C:\\Users\\aarme\\anaconda3\\lib\\site-packages\\keras\\engine\\training.py\", line 1000, in run_step  **\n        outputs = model.train_step(data)\n    File \"C:\\Users\\aarme\\anaconda3\\lib\\site-packages\\keras\\engine\\training.py\", line 860, in train_step\n        loss = self.compute_loss(x, y, y_pred, sample_weight)\n    File \"C:\\Users\\aarme\\anaconda3\\lib\\site-packages\\keras\\engine\\training.py\", line 918, in compute_loss\n        return self.compiled_loss(\n    File \"C:\\Users\\aarme\\anaconda3\\lib\\site-packages\\keras\\engine\\compile_utils.py\", line 201, in __call__\n        loss_value = loss_obj(y_t, y_p, sample_weight=sw)\n    File \"C:\\Users\\aarme\\anaconda3\\lib\\site-packages\\keras\\losses.py\", line 141, in __call__\n        losses = call_fn(y_true, y_pred)\n    File \"C:\\Users\\aarme\\anaconda3\\lib\\site-packages\\keras\\losses.py\", line 245, in call  **\n        return ag_fn(y_true, y_pred, **self._fn_kwargs)\n    File \"C:\\Users\\aarme\\anaconda3\\lib\\site-packages\\keras\\losses.py\", line 1789, in categorical_crossentropy\n        return backend.categorical_crossentropy(\n    File \"C:\\Users\\aarme\\anaconda3\\lib\\site-packages\\keras\\backend.py\", line 5083, in categorical_crossentropy\n        target.shape.assert_is_compatible_with(output.shape)\n\n    ValueError: Shapes (None, 1) and (None, 150) are incompatible\n"
     ]
    }
   ],
   "source": [
    "model.compile(optimizer= 'rmsprop',\n",
    "             loss= 'categorical_crossentropy',\n",
    "             metrics= ['accuracy'])\n",
    "history = model.fit(tfidf_train, y_train, epochs= 20, batch_size= 128)"
   ]
  },
  {
   "cell_type": "code",
   "execution_count": 118,
   "id": "cc331c1f",
   "metadata": {},
   "outputs": [
    {
     "name": "stderr",
     "output_type": "stream",
     "text": [
      "C:\\Users\\aarme\\anaconda3\\lib\\site-packages\\sklearn\\neural_network\\_multilayer_perceptron.py:619: UserWarning: Training interrupted by user.\n",
      "  if self.shuffle:\n"
     ]
    }
   ],
   "source": [
    "clf = MLPClassifier(random_state=1, max_iter=3).fit(tfidf_train, y_train)"
   ]
  },
  {
   "cell_type": "code",
   "execution_count": 120,
   "id": "435828a4",
   "metadata": {},
   "outputs": [
    {
     "data": {
      "text/plain": [
       "array(<13998x10000 sparse matrix of type '<class 'numpy.float64'>'\n",
       "\twith 2288215 stored elements in Compressed Sparse Row format>,\n",
       "      dtype=object)"
      ]
     },
     "execution_count": 120,
     "metadata": {},
     "output_type": "execute_result"
    }
   ],
   "source": [
    "import numpy as np\n",
    "np.array(tfidf_train)"
   ]
  },
  {
   "cell_type": "code",
   "execution_count": 121,
   "id": "607bc5cb",
   "metadata": {},
   "outputs": [
    {
     "data": {
      "text/plain": [
       "array(<6000x10000 sparse matrix of type '<class 'numpy.float64'>'\n",
       "\twith 974387 stored elements in Compressed Sparse Row format>,\n",
       "      dtype=object)"
      ]
     },
     "execution_count": 121,
     "metadata": {},
     "output_type": "execute_result"
    }
   ],
   "source": [
    "np.array(tfidf_val)"
   ]
  },
  {
   "cell_type": "code",
   "execution_count": 125,
   "id": "db56cdce",
   "metadata": {},
   "outputs": [],
   "source": [
    "idx, idy, val = sparse.find(tfidf_val)"
   ]
  },
  {
   "cell_type": "code",
   "execution_count": 127,
   "id": "92e624a1",
   "metadata": {},
   "outputs": [],
   "source": [
    "from scipy import sparse\n",
    "import tensorflow as tf"
   ]
  },
  {
   "cell_type": "code",
   "execution_count": 128,
   "id": "9519d4d0",
   "metadata": {},
   "outputs": [],
   "source": [
    "full_indices = tf.stack([idx, idy], axis=1)"
   ]
  },
  {
   "cell_type": "code",
   "execution_count": 129,
   "id": "d1f0d3c5",
   "metadata": {},
   "outputs": [
    {
     "data": {
      "text/plain": [
       "(6000, 10000)"
      ]
     },
     "execution_count": 129,
     "metadata": {},
     "output_type": "execute_result"
    }
   ],
   "source": [
    "tfidf_val.shape"
   ]
  },
  {
   "cell_type": "code",
   "execution_count": 140,
   "id": "8f398bd4",
   "metadata": {},
   "outputs": [],
   "source": [
    "sp_input = tf.SparseTensor(\n",
    "  dense_shape=[6000, 10000],\n",
    "  values=val,\n",
    "  indices =tf.cast(full_indices, tf.int64))"
   ]
  },
  {
   "cell_type": "code",
   "execution_count": 147,
   "id": "66ed4bd9",
   "metadata": {},
   "outputs": [
    {
     "data": {
      "text/plain": [
       "<tf.Tensor: shape=(6000, 10000), dtype=float64, numpy=\n",
       "array([[0., 0., 0., ..., 0., 0., 0.],\n",
       "       [0., 0., 0., ..., 0., 0., 0.],\n",
       "       [0., 0., 0., ..., 0., 0., 0.],\n",
       "       ...,\n",
       "       [0., 0., 0., ..., 0., 0., 0.],\n",
       "       [0., 0., 0., ..., 0., 0., 0.],\n",
       "       [0., 0., 0., ..., 0., 0., 0.]])>"
      ]
     },
     "execution_count": 147,
     "metadata": {},
     "output_type": "execute_result"
    }
   ],
   "source": [
    "tf.sparse.to_dense(tf.sparse.reorder(sp_input))\n"
   ]
  },
  {
   "cell_type": "code",
   "execution_count": 144,
   "id": "1220f7f4",
   "metadata": {},
   "outputs": [
    {
     "data": {
      "text/plain": [
       "array([[0., 0., 0., ..., 0., 0., 0.],\n",
       "       [0., 0., 0., ..., 0., 0., 0.],\n",
       "       [0., 0., 0., ..., 0., 0., 0.],\n",
       "       ...,\n",
       "       [0., 0., 0., ..., 0., 0., 0.],\n",
       "       [0., 0., 0., ..., 0., 0., 0.],\n",
       "       [0., 0., 0., ..., 0., 0., 0.]])"
      ]
     },
     "execution_count": 144,
     "metadata": {},
     "output_type": "execute_result"
    }
   ],
   "source": [
    "tfidf_val.toarray()"
   ]
  },
  {
   "cell_type": "code",
   "execution_count": 146,
   "id": "d86c567c",
   "metadata": {},
   "outputs": [
    {
     "data": {
      "text/plain": [
       "True"
      ]
     },
     "execution_count": 146,
     "metadata": {},
     "output_type": "execute_result"
    }
   ],
   "source": [
    "np.array_equiv(tf.sparse.to_dense(tf.sparse.reorder(sp_input)).numpy(), tfidf_val.toarray())\n",
    "   "
   ]
  },
  {
   "cell_type": "code",
   "execution_count": null,
   "id": "58566eb8",
   "metadata": {},
   "outputs": [],
   "source": [
    "N_FEATURES = 5000 # Set number of features\n",
    "N_CLASSES = len(l['name'].unique()) # Set number of classes\n",
    "\n",
    "def build_network():\n",
    "    # Compile a neural network\n",
    "    nn = Sequential()\n",
    "    nn.add(Dense(500, activation='relu', input_shape= (N_FEATURES,)))\n",
    "    nn.add(Dense(150, activation= 'relu'))\n",
    "    nn.add(Dense(N_CLASSES, activation= 'softmax'))\n",
    "    nn.compile(\n",
    "        loss= 'categorical_crossentropy',\n",
    "        optimizer='adam',\n",
    "        metrics=['accuracy']\n",
    "    )\n",
    "    return nn\n",
    "\n",
    "vectorizer = TfidfVectorizer( max_features= N_FEATURES) # Create vectorizer\n",
    "tfidf_train = vectorizer.fit_transform(X_train) # Return features and tfidf values for training set\n",
    "tfidf_train.sort_indices() # Sort by index (required by tensorflow)\n",
    "tfidf_val = vectorizer.transform(X_val)  # Return tfidf values for test set\n",
    "tfidf_val.sort_indices()"
   ]
  },
  {
   "cell_type": "code",
   "execution_count": 198,
   "id": "d549a297",
   "metadata": {},
   "outputs": [],
   "source": []
  },
  {
   "cell_type": "code",
   "execution_count": 230,
   "id": "94ddc205",
   "metadata": {},
   "outputs": [
    {
     "name": "stderr",
     "output_type": "stream",
     "text": [
      "C:\\Users\\aarme\\AppData\\Local\\Temp/ipykernel_2108/1582084651.py:23: DeprecationWarning: KerasClassifier is deprecated, use Sci-Keras (https://github.com/adriangb/scikeras) instead. See https://www.adriangb.com/scikeras/stable/migration.html for help migrating.\n",
      "  dnn =  KerasClassifier(build_fn= build_network,\n"
     ]
    },
    {
     "ename": "ValueError",
     "evalue": "warm_start_from is not a legal parameter",
     "output_type": "error",
     "traceback": [
      "\u001b[1;31m---------------------------------------------------------------------------\u001b[0m",
      "\u001b[1;31mValueError\u001b[0m                                Traceback (most recent call last)",
      "\u001b[1;32m~\\AppData\\Local\\Temp/ipykernel_2108/1582084651.py\u001b[0m in \u001b[0;36m<module>\u001b[1;34m\u001b[0m\n\u001b[0;32m     21\u001b[0m \u001b[0mtfidf_val\u001b[0m\u001b[1;33m.\u001b[0m\u001b[0msort_indices\u001b[0m\u001b[1;33m(\u001b[0m\u001b[1;33m)\u001b[0m\u001b[1;33m\u001b[0m\u001b[1;33m\u001b[0m\u001b[0m\n\u001b[0;32m     22\u001b[0m \u001b[1;33m\u001b[0m\u001b[0m\n\u001b[1;32m---> 23\u001b[1;33m dnn =  KerasClassifier(build_fn= build_network,\n\u001b[0m\u001b[0;32m     24\u001b[0m                         \u001b[0mepochs\u001b[0m\u001b[1;33m=\u001b[0m \u001b[1;36m5\u001b[0m\u001b[1;33m,\u001b[0m\u001b[1;33m\u001b[0m\u001b[1;33m\u001b[0m\u001b[0m\n\u001b[0;32m     25\u001b[0m                         \u001b[0mbatch_size\u001b[0m\u001b[1;33m=\u001b[0m\u001b[1;36m128\u001b[0m\u001b[1;33m,\u001b[0m\u001b[1;33m\u001b[0m\u001b[1;33m\u001b[0m\u001b[0m\n",
      "\u001b[1;32m~\\anaconda3\\lib\\site-packages\\keras\\wrappers\\scikit_learn.py\u001b[0m in \u001b[0;36m__init__\u001b[1;34m(self, build_fn, **sk_params)\u001b[0m\n\u001b[0;32m    204\u001b[0m         \u001b[0mDeprecationWarning\u001b[0m\u001b[1;33m,\u001b[0m\u001b[1;33m\u001b[0m\u001b[1;33m\u001b[0m\u001b[0m\n\u001b[0;32m    205\u001b[0m         stacklevel=2)\n\u001b[1;32m--> 206\u001b[1;33m     \u001b[0msuper\u001b[0m\u001b[1;33m(\u001b[0m\u001b[1;33m)\u001b[0m\u001b[1;33m.\u001b[0m\u001b[0m__init__\u001b[0m\u001b[1;33m(\u001b[0m\u001b[0mbuild_fn\u001b[0m\u001b[1;33m,\u001b[0m \u001b[1;33m**\u001b[0m\u001b[0msk_params\u001b[0m\u001b[1;33m)\u001b[0m\u001b[1;33m\u001b[0m\u001b[1;33m\u001b[0m\u001b[0m\n\u001b[0m\u001b[0;32m    207\u001b[0m \u001b[1;33m\u001b[0m\u001b[0m\n\u001b[0;32m    208\u001b[0m   \u001b[1;32mdef\u001b[0m \u001b[0mfit\u001b[0m\u001b[1;33m(\u001b[0m\u001b[0mself\u001b[0m\u001b[1;33m,\u001b[0m \u001b[0mx\u001b[0m\u001b[1;33m,\u001b[0m \u001b[0my\u001b[0m\u001b[1;33m,\u001b[0m \u001b[1;33m**\u001b[0m\u001b[0mkwargs\u001b[0m\u001b[1;33m)\u001b[0m\u001b[1;33m:\u001b[0m\u001b[1;33m\u001b[0m\u001b[1;33m\u001b[0m\u001b[0m\n",
      "\u001b[1;32m~\\anaconda3\\lib\\site-packages\\keras\\wrappers\\scikit_learn.py\u001b[0m in \u001b[0;36m__init__\u001b[1;34m(self, build_fn, **sk_params)\u001b[0m\n\u001b[0;32m     74\u001b[0m     \u001b[0mself\u001b[0m\u001b[1;33m.\u001b[0m\u001b[0mbuild_fn\u001b[0m \u001b[1;33m=\u001b[0m \u001b[0mbuild_fn\u001b[0m\u001b[1;33m\u001b[0m\u001b[1;33m\u001b[0m\u001b[0m\n\u001b[0;32m     75\u001b[0m     \u001b[0mself\u001b[0m\u001b[1;33m.\u001b[0m\u001b[0msk_params\u001b[0m \u001b[1;33m=\u001b[0m \u001b[0msk_params\u001b[0m\u001b[1;33m\u001b[0m\u001b[1;33m\u001b[0m\u001b[0m\n\u001b[1;32m---> 76\u001b[1;33m     \u001b[0mself\u001b[0m\u001b[1;33m.\u001b[0m\u001b[0mcheck_params\u001b[0m\u001b[1;33m(\u001b[0m\u001b[0msk_params\u001b[0m\u001b[1;33m)\u001b[0m\u001b[1;33m\u001b[0m\u001b[1;33m\u001b[0m\u001b[0m\n\u001b[0m\u001b[0;32m     77\u001b[0m \u001b[1;33m\u001b[0m\u001b[0m\n\u001b[0;32m     78\u001b[0m   \u001b[1;32mdef\u001b[0m \u001b[0mcheck_params\u001b[0m\u001b[1;33m(\u001b[0m\u001b[0mself\u001b[0m\u001b[1;33m,\u001b[0m \u001b[0mparams\u001b[0m\u001b[1;33m)\u001b[0m\u001b[1;33m:\u001b[0m\u001b[1;33m\u001b[0m\u001b[1;33m\u001b[0m\u001b[0m\n",
      "\u001b[1;32m~\\anaconda3\\lib\\site-packages\\keras\\wrappers\\scikit_learn.py\u001b[0m in \u001b[0;36mcheck_params\u001b[1;34m(self, params)\u001b[0m\n\u001b[0;32m    102\u001b[0m       \u001b[1;32melse\u001b[0m\u001b[1;33m:\u001b[0m\u001b[1;33m\u001b[0m\u001b[1;33m\u001b[0m\u001b[0m\n\u001b[0;32m    103\u001b[0m         \u001b[1;32mif\u001b[0m \u001b[0mparams_name\u001b[0m \u001b[1;33m!=\u001b[0m \u001b[1;34m'nb_epoch'\u001b[0m\u001b[1;33m:\u001b[0m\u001b[1;33m\u001b[0m\u001b[1;33m\u001b[0m\u001b[0m\n\u001b[1;32m--> 104\u001b[1;33m           \u001b[1;32mraise\u001b[0m \u001b[0mValueError\u001b[0m\u001b[1;33m(\u001b[0m\u001b[1;34m'{} is not a legal parameter'\u001b[0m\u001b[1;33m.\u001b[0m\u001b[0mformat\u001b[0m\u001b[1;33m(\u001b[0m\u001b[0mparams_name\u001b[0m\u001b[1;33m)\u001b[0m\u001b[1;33m)\u001b[0m\u001b[1;33m\u001b[0m\u001b[1;33m\u001b[0m\u001b[0m\n\u001b[0m\u001b[0;32m    105\u001b[0m \u001b[1;33m\u001b[0m\u001b[0m\n\u001b[0;32m    106\u001b[0m   \u001b[1;32mdef\u001b[0m \u001b[0mget_params\u001b[0m\u001b[1;33m(\u001b[0m\u001b[0mself\u001b[0m\u001b[1;33m,\u001b[0m \u001b[1;33m**\u001b[0m\u001b[0mparams\u001b[0m\u001b[1;33m)\u001b[0m\u001b[1;33m:\u001b[0m  \u001b[1;31m# pylint: disable=unused-argument\u001b[0m\u001b[1;33m\u001b[0m\u001b[1;33m\u001b[0m\u001b[0m\n",
      "\u001b[1;31mValueError\u001b[0m: warm_start_from is not a legal parameter"
     ]
    }
   ],
   "source": [
    "N_FEATURES = 5000 # Set number of features\n",
    "N_CLASSES = len(l['name'].unique()) # Set number of classes\n",
    "\n",
    "def build_network():\n",
    "    # Compile a neural network\n",
    "    nn = Sequential()\n",
    "    nn.add(Dense(500, activation='relu', input_shape= (N_FEATURES,)))\n",
    "    nn.add(Dense(150, activation= 'relu'))\n",
    "    nn.add(Dense(N_CLASSES, activation= 'softmax'))\n",
    "    nn.compile(\n",
    "        loss= 'categorical_crossentropy',\n",
    "        optimizer='adam',\n",
    "        metrics=['accuracy']\n",
    "    )\n",
    "    return nn\n",
    "\n",
    "vectorizer = TfidfVectorizer( max_features= N_FEATURES) # Create vectorizer\n",
    "tfidf_train = vectorizer.fit_transform(X_train) # Return features and tfidf values for training set\n",
    "tfidf_train.sort_indices() # Sort by index (required by tensorflow)\n",
    "tfidf_val = vectorizer.transform(X_val)  # Return tfidf values for test set\n",
    "tfidf_val.sort_indices()\n",
    "\n",
    "dnn =  KerasClassifier(build_fn= build_network,\n",
    "                        epochs= 5,\n",
    "                        batch_size=128,\n",
    "                      verbose=10)\n"
   ]
  },
  {
   "cell_type": "code",
   "execution_count": null,
   "id": "59cda95e",
   "metadata": {},
   "outputs": [],
   "source": [
    "train_k = dnn.fit(tfidf_train, y_train) # Train model\n",
    "\n",
    "# preds = dnn.predict(tfidf_val)\n",
    "# accuracy = accuracy_score(y_val, preds)"
   ]
  },
  {
   "cell_type": "code",
   "execution_count": 221,
   "id": "582ae7be",
   "metadata": {},
   "outputs": [
    {
     "data": {
      "text/plain": [
       "{'loss': [7.483886241912842,\n",
       "  6.147985935211182,\n",
       "  4.288735389709473,\n",
       "  2.8758764266967773,\n",
       "  1.8949254751205444],\n",
       " 'accuracy': [0.005357908084988594,\n",
       "  0.04000571370124817,\n",
       "  0.1994570642709732,\n",
       "  0.41170167922973633,\n",
       "  0.597942590713501]}"
      ]
     },
     "execution_count": 221,
     "metadata": {},
     "output_type": "execute_result"
    }
   ],
   "source": [
    "train_k.history"
   ]
  },
  {
   "cell_type": "code",
   "execution_count": 223,
   "id": "0a77ee56",
   "metadata": {},
   "outputs": [
    {
     "data": {
      "text/plain": [
       "{'loss': [7.480738162994385,\n",
       "  6.15192985534668,\n",
       "  4.322259426116943,\n",
       "  2.9353580474853516,\n",
       "  1.954768419265747],\n",
       " 'accuracy': [0.004929275717586279,\n",
       "  0.03679097071290016,\n",
       "  0.19688527286052704,\n",
       "  0.4015573561191559,\n",
       "  0.5866552591323853]}"
      ]
     },
     "execution_count": 223,
     "metadata": {},
     "output_type": "execute_result"
    }
   ],
   "source": [
    "train_k.history"
   ]
  },
  {
   "cell_type": "code",
   "execution_count": 233,
   "id": "2276f3f7",
   "metadata": {},
   "outputs": [
    {
     "name": "stdout",
     "output_type": "stream",
     "text": [
      "5\n",
      "10\n",
      "15\n",
      "20\n",
      "25\n",
      "30\n",
      "35\n",
      "40\n",
      "45\n",
      "50\n",
      "55\n",
      "60\n",
      "65\n",
      "70\n",
      "75\n",
      "80\n",
      "85\n",
      "90\n",
      "95\n"
     ]
    }
   ],
   "source": [
    "for i in range(5, 100, 5):\n",
    "    "
   ]
  },
  {
   "cell_type": "code",
   "execution_count": 266,
   "id": "138d1a40",
   "metadata": {},
   "outputs": [
    {
     "data": {
      "text/plain": [
       "1836"
      ]
     },
     "execution_count": 266,
     "metadata": {},
     "output_type": "execute_result"
    }
   ],
   "source": [
    "len(l['author'].unique())"
   ]
  },
  {
   "cell_type": "code",
   "execution_count": 267,
   "id": "0a26a88e",
   "metadata": {},
   "outputs": [
    {
     "data": {
      "text/plain": [
       "1985"
      ]
     },
     "execution_count": 267,
     "metadata": {},
     "output_type": "execute_result"
    }
   ],
   "source": [
    "len(l['name'].unique())"
   ]
  },
  {
   "cell_type": "code",
   "execution_count": 13,
   "id": "49e7dac4",
   "metadata": {},
   "outputs": [
    {
     "data": {
      "text/plain": [
       "400"
      ]
     },
     "execution_count": 13,
     "metadata": {},
     "output_type": "execute_result"
    }
   ],
   "source": [
    "len(l.iloc[1]['sample'].split())"
   ]
  },
  {
   "cell_type": "code",
   "execution_count": null,
   "id": "d52b5b66",
   "metadata": {},
   "outputs": [],
   "source": []
  }
 ],
 "metadata": {
  "kernelspec": {
   "display_name": "Python 3 (ipykernel)",
   "language": "python",
   "name": "python3"
  },
  "language_info": {
   "codemirror_mode": {
    "name": "ipython",
    "version": 3
   },
   "file_extension": ".py",
   "mimetype": "text/x-python",
   "name": "python",
   "nbconvert_exporter": "python",
   "pygments_lexer": "ipython3",
   "version": "3.9.7"
  }
 },
 "nbformat": 4,
 "nbformat_minor": 5
}
