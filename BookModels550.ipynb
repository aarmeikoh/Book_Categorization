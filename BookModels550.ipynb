{
 "cells": [
  {
   "cell_type": "code",
   "execution_count": 1,
   "id": "0e33633b",
   "metadata": {},
   "outputs": [],
   "source": [
    "import pandas as pd\n",
    "from nltk.tokenize import word_tokenize, sent_tokenize\n",
    "from nltk.corpus import stopwords\n",
    "from nltk import ngrams\n",
    "import nltk\n",
    "from nltk import pos_tag\n",
    "import string\n",
    "import re"
   ]
  },
  {
   "cell_type": "code",
   "execution_count": 2,
   "id": "ca0d05b7",
   "metadata": {},
   "outputs": [],
   "source": [
    "from sklearn.feature_extraction.text import TfidfVectorizer\n",
    "from sklearn.pipeline import Pipeline\n",
    "from sklearn.neural_network import MLPRegressor, MLPClassifier\n",
    "from sklearn.model_selection import cross_val_score\n",
    "from sklearn.metrics import precision_recall_fscore_support\n",
    "from sklearn.metrics import accuracy_score\n",
    "from sklearn.metrics import confusion_matrix\n",
    "from keras.layers import Dense\n",
    "from keras.models import Sequential\n",
    "from keras.wrappers.scikit_learn import KerasClassifier\n",
    "import scipy\n",
    "from sklearn.model_selection import train_test_split"
   ]
  },
  {
   "cell_type": "code",
   "execution_count": 3,
   "id": "c0857c15",
   "metadata": {},
   "outputs": [
    {
     "data": {
      "text/html": [
       "<div>\n",
       "<style scoped>\n",
       "    .dataframe tbody tr th:only-of-type {\n",
       "        vertical-align: middle;\n",
       "    }\n",
       "\n",
       "    .dataframe tbody tr th {\n",
       "        vertical-align: top;\n",
       "    }\n",
       "\n",
       "    .dataframe thead th {\n",
       "        text-align: right;\n",
       "    }\n",
       "</style>\n",
       "<table border=\"1\" class=\"dataframe\">\n",
       "  <thead>\n",
       "    <tr style=\"text-align: right;\">\n",
       "      <th></th>\n",
       "      <th>name</th>\n",
       "      <th>author</th>\n",
       "      <th>url</th>\n",
       "      <th>length</th>\n",
       "      <th>sample0</th>\n",
       "      <th>sample1</th>\n",
       "      <th>sample2</th>\n",
       "      <th>sample3</th>\n",
       "      <th>sample4</th>\n",
       "      <th>sample5</th>\n",
       "      <th>sample6</th>\n",
       "      <th>sample7</th>\n",
       "      <th>sample8</th>\n",
       "      <th>sample9</th>\n",
       "    </tr>\n",
       "  </thead>\n",
       "  <tbody>\n",
       "    <tr>\n",
       "      <th>0</th>\n",
       "      <td>The Confessions of a Poacher</td>\n",
       "      <td>James Watson</td>\n",
       "      <td>https://www.gutenberg.org/files/36970/36970-h/...</td>\n",
       "      <td>25752</td>\n",
       "      <td>never done before. It was a bad case he said, ...</td>\n",
       "      <td>the greatest numbers. We took them alive in ne...</td>\n",
       "      <td>more rabbits than every other stroke of woodcr...</td>\n",
       "      <td>a remarkable addition to our fur and feather. ...</td>\n",
       "      <td>The only serious fights I ever had were when k...</td>\n",
       "      <td>he captures with his hands. Examine his aquari...</td>\n",
       "      <td>the marsh and shore birds he knew by heart, an...</td>\n",
       "      <td>and \"springes,\" and one morning on going to ex...</td>\n",
       "      <td>to feed immediately. This was the critical mom...</td>\n",
       "      <td>Kittiwake had worked a decoy, as had his fathe...</td>\n",
       "    </tr>\n",
       "    <tr>\n",
       "      <th>1</th>\n",
       "      <td>The Valkyries</td>\n",
       "      <td>E. F. Benson.</td>\n",
       "      <td>https://www.gutenberg.org/files/46119/46119-h/...</td>\n",
       "      <td>31804</td>\n",
       "      <td>and was now angry for the first time, and with...</td>\n",
       "      <td>and look well at it to see if indeed it merits...</td>\n",
       "      <td>entrance had turned himself, and risen from hi...</td>\n",
       "      <td>the heavens were clear, and the benediction of...</td>\n",
       "      <td>cannot do the deed that was laid on me. She sh...</td>\n",
       "      <td>remembered he that Sieglinde's last look had d...</td>\n",
       "      <td>to me, piercing my soul to its uttermost. And ...</td>\n",
       "      <td>but which was still among the unfound things o...</td>\n",
       "      <td>Hunding hated the sword-hilt, for he had not b...</td>\n",
       "      <td>bear that the woman should be blamed for what ...</td>\n",
       "    </tr>\n",
       "    <tr>\n",
       "      <th>2</th>\n",
       "      <td>Time and Tide</td>\n",
       "      <td>Robert S. (Robert Stawell) Ball</td>\n",
       "      <td>https://www.gutenberg.org/files/24236/24236-h/...</td>\n",
       "      <td>37483</td>\n",
       "      <td>then if a wall were thrown across the mouth so...</td>\n",
       "      <td>profound law of nature, which tells us that ac...</td>\n",
       "      <td>century in the earth's internal heat is absolu...</td>\n",
       "      <td>are at present doing work, and have been doing...</td>\n",
       "      <td>not the sole agent engaged in producing this[1...</td>\n",
       "      <td>attracting bodies of our system are separated ...</td>\n",
       "      <td>period which depends on the size of the vessel...</td>\n",
       "      <td>that the laws of motion, as we understand them...</td>\n",
       "      <td>correct the establishment by -60m., and find t...</td>\n",
       "      <td>the solar system could be tampered with is by ...</td>\n",
       "    </tr>\n",
       "    <tr>\n",
       "      <th>3</th>\n",
       "      <td>The Great Events by Famous Historians, Volume 9</td>\n",
       "      <td>Famous Historians, Volume 9, by Various</td>\n",
       "      <td>https://www.gutenberg.org/files/26337/26337-h/...</td>\n",
       "      <td>157207</td>\n",
       "      <td>order, who, when they came, were found to be l...</td>\n",
       "      <td>blew a horn from the tower of the cathedral on...</td>\n",
       "      <td>against Algiers. Hungary overrun by the Turks,...</td>\n",
       "      <td>to procure his master an opportunity of escapi...</td>\n",
       "      <td>his generals, Kondera and Konishi Setsu-no-Kam...</td>\n",
       "      <td>with a deadly hatred. His French alliances, hi...</td>\n",
       "      <td>Judge. This was what the Pope and his theologi...</td>\n",
       "      <td>Luther as his advocate the lawyer Jerome Schur...</td>\n",
       "      <td>and then, a white staff having been placed in ...</td>\n",
       "      <td>on a level with the great nobles of the counci...</td>\n",
       "    </tr>\n",
       "    <tr>\n",
       "      <th>4</th>\n",
       "      <td>Honey-Sweet</td>\n",
       "      <td>Edna Turpin</td>\n",
       "      <td>https://www.gutenberg.org/files/17892/17892-h/...</td>\n",
       "      <td>49797</td>\n",
       "      <td>rough-and-tumble gang.\" Mr. Patterson summoned...</td>\n",
       "      <td>you Anne! You wouldn't be selfish, would you?\"...</td>\n",
       "      <td>ain't got no sewin' money,\" said Mrs. Callahan...</td>\n",
       "      <td>niece, Anne Lewis. The cook had never seen nor...</td>\n",
       "      <td>I can't see Lois.\" It was a raw December day a...</td>\n",
       "      <td>our dresses in the sun before we go home. Oh, ...</td>\n",
       "      <td>sure she might answer this. \"And then seeing D...</td>\n",
       "      <td>Rev. Newell Dwight Hillis. \"Its whole tone and...</td>\n",
       "      <td>ma'am. Peggy, give the little lady some roses,...</td>\n",
       "      <td>CHAPTER XIV One Saturday afternoon in July, wh...</td>\n",
       "    </tr>\n",
       "  </tbody>\n",
       "</table>\n",
       "</div>"
      ],
      "text/plain": [
       "                                              name  \\\n",
       "0                     The Confessions of a Poacher   \n",
       "1                                    The Valkyries   \n",
       "2                                    Time and Tide   \n",
       "3  The Great Events by Famous Historians, Volume 9   \n",
       "4                                      Honey-Sweet   \n",
       "\n",
       "                                    author  \\\n",
       "0                             James Watson   \n",
       "1                            E. F. Benson.   \n",
       "2          Robert S. (Robert Stawell) Ball   \n",
       "3  Famous Historians, Volume 9, by Various   \n",
       "4                              Edna Turpin   \n",
       "\n",
       "                                                 url  length  \\\n",
       "0  https://www.gutenberg.org/files/36970/36970-h/...   25752   \n",
       "1  https://www.gutenberg.org/files/46119/46119-h/...   31804   \n",
       "2  https://www.gutenberg.org/files/24236/24236-h/...   37483   \n",
       "3  https://www.gutenberg.org/files/26337/26337-h/...  157207   \n",
       "4  https://www.gutenberg.org/files/17892/17892-h/...   49797   \n",
       "\n",
       "                                             sample0  \\\n",
       "0  never done before. It was a bad case he said, ...   \n",
       "1  and was now angry for the first time, and with...   \n",
       "2  then if a wall were thrown across the mouth so...   \n",
       "3  order, who, when they came, were found to be l...   \n",
       "4  rough-and-tumble gang.\" Mr. Patterson summoned...   \n",
       "\n",
       "                                             sample1  \\\n",
       "0  the greatest numbers. We took them alive in ne...   \n",
       "1  and look well at it to see if indeed it merits...   \n",
       "2  profound law of nature, which tells us that ac...   \n",
       "3  blew a horn from the tower of the cathedral on...   \n",
       "4  you Anne! You wouldn't be selfish, would you?\"...   \n",
       "\n",
       "                                             sample2  \\\n",
       "0  more rabbits than every other stroke of woodcr...   \n",
       "1  entrance had turned himself, and risen from hi...   \n",
       "2  century in the earth's internal heat is absolu...   \n",
       "3  against Algiers. Hungary overrun by the Turks,...   \n",
       "4  ain't got no sewin' money,\" said Mrs. Callahan...   \n",
       "\n",
       "                                             sample3  \\\n",
       "0  a remarkable addition to our fur and feather. ...   \n",
       "1  the heavens were clear, and the benediction of...   \n",
       "2  are at present doing work, and have been doing...   \n",
       "3  to procure his master an opportunity of escapi...   \n",
       "4  niece, Anne Lewis. The cook had never seen nor...   \n",
       "\n",
       "                                             sample4  \\\n",
       "0  The only serious fights I ever had were when k...   \n",
       "1  cannot do the deed that was laid on me. She sh...   \n",
       "2  not the sole agent engaged in producing this[1...   \n",
       "3  his generals, Kondera and Konishi Setsu-no-Kam...   \n",
       "4  I can't see Lois.\" It was a raw December day a...   \n",
       "\n",
       "                                             sample5  \\\n",
       "0  he captures with his hands. Examine his aquari...   \n",
       "1  remembered he that Sieglinde's last look had d...   \n",
       "2  attracting bodies of our system are separated ...   \n",
       "3  with a deadly hatred. His French alliances, hi...   \n",
       "4  our dresses in the sun before we go home. Oh, ...   \n",
       "\n",
       "                                             sample6  \\\n",
       "0  the marsh and shore birds he knew by heart, an...   \n",
       "1  to me, piercing my soul to its uttermost. And ...   \n",
       "2  period which depends on the size of the vessel...   \n",
       "3  Judge. This was what the Pope and his theologi...   \n",
       "4  sure she might answer this. \"And then seeing D...   \n",
       "\n",
       "                                             sample7  \\\n",
       "0  and \"springes,\" and one morning on going to ex...   \n",
       "1  but which was still among the unfound things o...   \n",
       "2  that the laws of motion, as we understand them...   \n",
       "3  Luther as his advocate the lawyer Jerome Schur...   \n",
       "4  Rev. Newell Dwight Hillis. \"Its whole tone and...   \n",
       "\n",
       "                                             sample8  \\\n",
       "0  to feed immediately. This was the critical mom...   \n",
       "1  Hunding hated the sword-hilt, for he had not b...   \n",
       "2  correct the establishment by -60m., and find t...   \n",
       "3  and then, a white staff having been placed in ...   \n",
       "4  ma'am. Peggy, give the little lady some roses,...   \n",
       "\n",
       "                                             sample9  \n",
       "0  Kittiwake had worked a decoy, as had his fathe...  \n",
       "1  bear that the woman should be blamed for what ...  \n",
       "2  the solar system could be tampered with is by ...  \n",
       "3  on a level with the great nobles of the counci...  \n",
       "4  CHAPTER XIV One Saturday afternoon in July, wh...  "
      ]
     },
     "execution_count": 3,
     "metadata": {},
     "output_type": "execute_result"
    }
   ],
   "source": [
    "books_df = pd.read_csv('book_df2.csv', index_col= 0)\n",
    "books_df.head()"
   ]
  },
  {
   "cell_type": "code",
   "execution_count": 4,
   "id": "6c783eb3",
   "metadata": {},
   "outputs": [
    {
     "data": {
      "text/plain": [
       "array([[<AxesSubplot:title={'center':'length'}>]], dtype=object)"
      ]
     },
     "execution_count": 4,
     "metadata": {},
     "output_type": "execute_result"
    },
    {
     "data": {
      "image/png": "[encoded data removed]",
      "text/plain": [
       "<Figure size 432x288 with 1 Axes>"
      ]
     },
     "metadata": {
      "needs_background": "light"
     },
     "output_type": "display_data"
    }
   ],
   "source": [
    "books_df.hist(bins=30)"
   ]
  },
  {
   "cell_type": "code",
   "execution_count": 5,
   "id": "c6981079",
   "metadata": {},
   "outputs": [
    {
     "data": {
      "text/plain": [
       "<AxesSubplot:>"
      ]
     },
     "execution_count": 5,
     "metadata": {},
     "output_type": "execute_result"
    },
    {
     "data": {
      "image/png": "[encoded data removed]",
      "text/plain": [
       "<Figure size 432x288 with 1 Axes>"
      ]
     },
     "metadata": {
      "needs_background": "light"
     },
     "output_type": "display_data"
    }
   ],
   "source": [
    "books_df.boxplot()"
   ]
  },
  {
   "cell_type": "code",
   "execution_count": 6,
   "id": "e0f0413b",
   "metadata": {},
   "outputs": [
    {
     "data": {
      "text/plain": [
       "array([[<AxesSubplot:title={'center':'length'}>]], dtype=object)"
      ]
     },
     "execution_count": 6,
     "metadata": {},
     "output_type": "execute_result"
    },
    {
     "data": {
      "image/png": "[encoded data removed]",
      "text/plain": [
       "<Figure size 432x288 with 1 Axes>"
      ]
     },
     "metadata": {
      "needs_background": "light"
     },
     "output_type": "display_data"
    }
   ],
   "source": [
    "books_df[books_df['length'] < 400000].hist(bins=50)"
   ]
  },
  {
   "cell_type": "code",
   "execution_count": 7,
   "id": "b5062b4b",
   "metadata": {},
   "outputs": [
    {
     "data": {
      "text/plain": [
       "<AxesSubplot:>"
      ]
     },
     "execution_count": 7,
     "metadata": {},
     "output_type": "execute_result"
    },
    {
     "data": {
      "image/png": "[encoded data removed]",
      "text/plain": [
       "<Figure size 432x288 with 1 Axes>"
      ]
     },
     "metadata": {
      "needs_background": "light"
     },
     "output_type": "display_data"
    }
   ],
   "source": [
    "books_df['author'].value_counts().hist()"
   ]
  },
  {
   "cell_type": "code",
   "execution_count": 8,
   "id": "0a9814d9",
   "metadata": {},
   "outputs": [
    {
     "data": {
      "text/plain": [
       "Index(['name', 'author', 'url', 'length', 'sample0', 'sample1', 'sample2',\n",
       "       'sample3', 'sample4', 'sample5', 'sample6', 'sample7', 'sample8',\n",
       "       'sample9'],\n",
       "      dtype='object')"
      ]
     },
     "execution_count": 8,
     "metadata": {},
     "output_type": "execute_result"
    }
   ],
   "source": [
    "books_df.columns"
   ]
  },
  {
   "cell_type": "code",
   "execution_count": 9,
   "id": "787e57ee",
   "metadata": {},
   "outputs": [],
   "source": [
    "l = pd.wide_to_long(books_df, stubnames='sample',i = ['name', 'author', 'length'], j= 'number')\n",
    "l.reset_index(inplace= True)"
   ]
  },
  {
   "cell_type": "code",
   "execution_count": 10,
   "id": "31381640",
   "metadata": {},
   "outputs": [
    {
     "data": {
      "text/html": [
       "<div>\n",
       "<style scoped>\n",
       "    .dataframe tbody tr th:only-of-type {\n",
       "        vertical-align: middle;\n",
       "    }\n",
       "\n",
       "    .dataframe tbody tr th {\n",
       "        vertical-align: top;\n",
       "    }\n",
       "\n",
       "    .dataframe thead th {\n",
       "        text-align: right;\n",
       "    }\n",
       "</style>\n",
       "<table border=\"1\" class=\"dataframe\">\n",
       "  <thead>\n",
       "    <tr style=\"text-align: right;\">\n",
       "      <th></th>\n",
       "      <th>name</th>\n",
       "      <th>author</th>\n",
       "      <th>length</th>\n",
       "      <th>number</th>\n",
       "      <th>url</th>\n",
       "      <th>sample</th>\n",
       "    </tr>\n",
       "  </thead>\n",
       "  <tbody>\n",
       "    <tr>\n",
       "      <th>0</th>\n",
       "      <td>The Confessions of a Poacher</td>\n",
       "      <td>James Watson</td>\n",
       "      <td>25752</td>\n",
       "      <td>0</td>\n",
       "      <td>https://www.gutenberg.org/files/36970/36970-h/...</td>\n",
       "      <td>never done before. It was a bad case he said, ...</td>\n",
       "    </tr>\n",
       "    <tr>\n",
       "      <th>1</th>\n",
       "      <td>The Confessions of a Poacher</td>\n",
       "      <td>James Watson</td>\n",
       "      <td>25752</td>\n",
       "      <td>1</td>\n",
       "      <td>https://www.gutenberg.org/files/36970/36970-h/...</td>\n",
       "      <td>the greatest numbers. We took them alive in ne...</td>\n",
       "    </tr>\n",
       "    <tr>\n",
       "      <th>2</th>\n",
       "      <td>The Confessions of a Poacher</td>\n",
       "      <td>James Watson</td>\n",
       "      <td>25752</td>\n",
       "      <td>2</td>\n",
       "      <td>https://www.gutenberg.org/files/36970/36970-h/...</td>\n",
       "      <td>more rabbits than every other stroke of woodcr...</td>\n",
       "    </tr>\n",
       "    <tr>\n",
       "      <th>3</th>\n",
       "      <td>The Confessions of a Poacher</td>\n",
       "      <td>James Watson</td>\n",
       "      <td>25752</td>\n",
       "      <td>3</td>\n",
       "      <td>https://www.gutenberg.org/files/36970/36970-h/...</td>\n",
       "      <td>a remarkable addition to our fur and feather. ...</td>\n",
       "    </tr>\n",
       "    <tr>\n",
       "      <th>4</th>\n",
       "      <td>The Confessions of a Poacher</td>\n",
       "      <td>James Watson</td>\n",
       "      <td>25752</td>\n",
       "      <td>4</td>\n",
       "      <td>https://www.gutenberg.org/files/36970/36970-h/...</td>\n",
       "      <td>The only serious fights I ever had were when k...</td>\n",
       "    </tr>\n",
       "    <tr>\n",
       "      <th>5</th>\n",
       "      <td>The Confessions of a Poacher</td>\n",
       "      <td>James Watson</td>\n",
       "      <td>25752</td>\n",
       "      <td>5</td>\n",
       "      <td>https://www.gutenberg.org/files/36970/36970-h/...</td>\n",
       "      <td>he captures with his hands. Examine his aquari...</td>\n",
       "    </tr>\n",
       "    <tr>\n",
       "      <th>6</th>\n",
       "      <td>The Confessions of a Poacher</td>\n",
       "      <td>James Watson</td>\n",
       "      <td>25752</td>\n",
       "      <td>6</td>\n",
       "      <td>https://www.gutenberg.org/files/36970/36970-h/...</td>\n",
       "      <td>the marsh and shore birds he knew by heart, an...</td>\n",
       "    </tr>\n",
       "    <tr>\n",
       "      <th>7</th>\n",
       "      <td>The Confessions of a Poacher</td>\n",
       "      <td>James Watson</td>\n",
       "      <td>25752</td>\n",
       "      <td>7</td>\n",
       "      <td>https://www.gutenberg.org/files/36970/36970-h/...</td>\n",
       "      <td>and \"springes,\" and one morning on going to ex...</td>\n",
       "    </tr>\n",
       "    <tr>\n",
       "      <th>8</th>\n",
       "      <td>The Confessions of a Poacher</td>\n",
       "      <td>James Watson</td>\n",
       "      <td>25752</td>\n",
       "      <td>8</td>\n",
       "      <td>https://www.gutenberg.org/files/36970/36970-h/...</td>\n",
       "      <td>to feed immediately. This was the critical mom...</td>\n",
       "    </tr>\n",
       "    <tr>\n",
       "      <th>9</th>\n",
       "      <td>The Confessions of a Poacher</td>\n",
       "      <td>James Watson</td>\n",
       "      <td>25752</td>\n",
       "      <td>9</td>\n",
       "      <td>https://www.gutenberg.org/files/36970/36970-h/...</td>\n",
       "      <td>Kittiwake had worked a decoy, as had his fathe...</td>\n",
       "    </tr>\n",
       "  </tbody>\n",
       "</table>\n",
       "</div>"
      ],
      "text/plain": [
       "                           name        author  length  number  \\\n",
       "0  The Confessions of a Poacher  James Watson   25752       0   \n",
       "1  The Confessions of a Poacher  James Watson   25752       1   \n",
       "2  The Confessions of a Poacher  James Watson   25752       2   \n",
       "3  The Confessions of a Poacher  James Watson   25752       3   \n",
       "4  The Confessions of a Poacher  James Watson   25752       4   \n",
       "5  The Confessions of a Poacher  James Watson   25752       5   \n",
       "6  The Confessions of a Poacher  James Watson   25752       6   \n",
       "7  The Confessions of a Poacher  James Watson   25752       7   \n",
       "8  The Confessions of a Poacher  James Watson   25752       8   \n",
       "9  The Confessions of a Poacher  James Watson   25752       9   \n",
       "\n",
       "                                                 url  \\\n",
       "0  https://www.gutenberg.org/files/36970/36970-h/...   \n",
       "1  https://www.gutenberg.org/files/36970/36970-h/...   \n",
       "2  https://www.gutenberg.org/files/36970/36970-h/...   \n",
       "3  https://www.gutenberg.org/files/36970/36970-h/...   \n",
       "4  https://www.gutenberg.org/files/36970/36970-h/...   \n",
       "5  https://www.gutenberg.org/files/36970/36970-h/...   \n",
       "6  https://www.gutenberg.org/files/36970/36970-h/...   \n",
       "7  https://www.gutenberg.org/files/36970/36970-h/...   \n",
       "8  https://www.gutenberg.org/files/36970/36970-h/...   \n",
       "9  https://www.gutenberg.org/files/36970/36970-h/...   \n",
       "\n",
       "                                              sample  \n",
       "0  never done before. It was a bad case he said, ...  \n",
       "1  the greatest numbers. We took them alive in ne...  \n",
       "2  more rabbits than every other stroke of woodcr...  \n",
       "3  a remarkable addition to our fur and feather. ...  \n",
       "4  The only serious fights I ever had were when k...  \n",
       "5  he captures with his hands. Examine his aquari...  \n",
       "6  the marsh and shore birds he knew by heart, an...  \n",
       "7  and \"springes,\" and one morning on going to ex...  \n",
       "8  to feed immediately. This was the critical mom...  \n",
       "9  Kittiwake had worked a decoy, as had his fathe...  "
      ]
     },
     "execution_count": 10,
     "metadata": {},
     "output_type": "execute_result"
    }
   ],
   "source": [
    "l.head(10)"
   ]
  },
  {
   "cell_type": "code",
   "execution_count": 11,
   "id": "f1a160af",
   "metadata": {},
   "outputs": [
    {
     "name": "stdout",
     "output_type": "stream",
     "text": [
      "0\n",
      "0\n"
     ]
    }
   ],
   "source": [
    "print(sum(l.duplicated(subset = ['sample'])))\n",
    "# print(sum(books_df.duplicated(subset = ['sample', 'rating'])))\n",
    "# books_df.drop_duplicates(subset = ['sample', 'rating'], inplace=True)\n",
    "print(sum(l.duplicated()))\n",
    "# books_df.drop(['reviewer'], axis=1, inplace=True)"
   ]
  },
  {
   "cell_type": "code",
   "execution_count": 12,
   "id": "ee69a19e",
   "metadata": {},
   "outputs": [
    {
     "name": "stdout",
     "output_type": "stream",
     "text": [
      "Empty DataFrame\n",
      "Columns: [name, author, length, number, url, sample]\n",
      "Index: []\n"
     ]
    }
   ],
   "source": [
    "print(l[l.duplicated(subset = ['sample'], keep= False)== True])\n",
    "l.drop_duplicates(subset= ['sample'], keep= False, inplace = True)"
   ]
  },
  {
   "cell_type": "code",
   "execution_count": 13,
   "id": "b30ed196",
   "metadata": {},
   "outputs": [],
   "source": [
    "l['tagged_sample'] = l['sample'].apply(lambda x : pos_tag(word_tokenize(x))) # Ad\n"
   ]
  },
  {
   "cell_type": "code",
   "execution_count": 14,
   "id": "0833e950",
   "metadata": {},
   "outputs": [
    {
     "data": {
      "text/html": [
       "<div>\n",
       "<style scoped>\n",
       "    .dataframe tbody tr th:only-of-type {\n",
       "        vertical-align: middle;\n",
       "    }\n",
       "\n",
       "    .dataframe tbody tr th {\n",
       "        vertical-align: top;\n",
       "    }\n",
       "\n",
       "    .dataframe thead th {\n",
       "        text-align: right;\n",
       "    }\n",
       "</style>\n",
       "<table border=\"1\" class=\"dataframe\">\n",
       "  <thead>\n",
       "    <tr style=\"text-align: right;\">\n",
       "      <th></th>\n",
       "      <th>name</th>\n",
       "      <th>author</th>\n",
       "      <th>length</th>\n",
       "      <th>number</th>\n",
       "      <th>url</th>\n",
       "      <th>sample</th>\n",
       "      <th>tagged_sample</th>\n",
       "    </tr>\n",
       "  </thead>\n",
       "  <tbody>\n",
       "    <tr>\n",
       "      <th>0</th>\n",
       "      <td>The Confessions of a Poacher</td>\n",
       "      <td>James Watson</td>\n",
       "      <td>25752</td>\n",
       "      <td>0</td>\n",
       "      <td>https://www.gutenberg.org/files/36970/36970-h/...</td>\n",
       "      <td>never done before. It was a bad case he said, ...</td>\n",
       "      <td>[(never, RB), (done, VBN), (before, RB), (., ....</td>\n",
       "    </tr>\n",
       "    <tr>\n",
       "      <th>1</th>\n",
       "      <td>The Confessions of a Poacher</td>\n",
       "      <td>James Watson</td>\n",
       "      <td>25752</td>\n",
       "      <td>1</td>\n",
       "      <td>https://www.gutenberg.org/files/36970/36970-h/...</td>\n",
       "      <td>the greatest numbers. We took them alive in ne...</td>\n",
       "      <td>[(the, DT), (greatest, JJS), (numbers, NNS), (...</td>\n",
       "    </tr>\n",
       "    <tr>\n",
       "      <th>2</th>\n",
       "      <td>The Confessions of a Poacher</td>\n",
       "      <td>James Watson</td>\n",
       "      <td>25752</td>\n",
       "      <td>2</td>\n",
       "      <td>https://www.gutenberg.org/files/36970/36970-h/...</td>\n",
       "      <td>more rabbits than every other stroke of woodcr...</td>\n",
       "      <td>[(more, RBR), (rabbits, NNS), (than, IN), (eve...</td>\n",
       "    </tr>\n",
       "    <tr>\n",
       "      <th>3</th>\n",
       "      <td>The Confessions of a Poacher</td>\n",
       "      <td>James Watson</td>\n",
       "      <td>25752</td>\n",
       "      <td>3</td>\n",
       "      <td>https://www.gutenberg.org/files/36970/36970-h/...</td>\n",
       "      <td>a remarkable addition to our fur and feather. ...</td>\n",
       "      <td>[(a, DT), (remarkable, JJ), (addition, NN), (t...</td>\n",
       "    </tr>\n",
       "    <tr>\n",
       "      <th>4</th>\n",
       "      <td>The Confessions of a Poacher</td>\n",
       "      <td>James Watson</td>\n",
       "      <td>25752</td>\n",
       "      <td>4</td>\n",
       "      <td>https://www.gutenberg.org/files/36970/36970-h/...</td>\n",
       "      <td>The only serious fights I ever had were when k...</td>\n",
       "      <td>[(The, DT), (only, RB), (serious, JJ), (fights...</td>\n",
       "    </tr>\n",
       "  </tbody>\n",
       "</table>\n",
       "</div>"
      ],
      "text/plain": [
       "                           name        author  length  number  \\\n",
       "0  The Confessions of a Poacher  James Watson   25752       0   \n",
       "1  The Confessions of a Poacher  James Watson   25752       1   \n",
       "2  The Confessions of a Poacher  James Watson   25752       2   \n",
       "3  The Confessions of a Poacher  James Watson   25752       3   \n",
       "4  The Confessions of a Poacher  James Watson   25752       4   \n",
       "\n",
       "                                                 url  \\\n",
       "0  https://www.gutenberg.org/files/36970/36970-h/...   \n",
       "1  https://www.gutenberg.org/files/36970/36970-h/...   \n",
       "2  https://www.gutenberg.org/files/36970/36970-h/...   \n",
       "3  https://www.gutenberg.org/files/36970/36970-h/...   \n",
       "4  https://www.gutenberg.org/files/36970/36970-h/...   \n",
       "\n",
       "                                              sample  \\\n",
       "0  never done before. It was a bad case he said, ...   \n",
       "1  the greatest numbers. We took them alive in ne...   \n",
       "2  more rabbits than every other stroke of woodcr...   \n",
       "3  a remarkable addition to our fur and feather. ...   \n",
       "4  The only serious fights I ever had were when k...   \n",
       "\n",
       "                                       tagged_sample  \n",
       "0  [(never, RB), (done, VBN), (before, RB), (., ....  \n",
       "1  [(the, DT), (greatest, JJS), (numbers, NNS), (...  \n",
       "2  [(more, RBR), (rabbits, NNS), (than, IN), (eve...  \n",
       "3  [(a, DT), (remarkable, JJ), (addition, NN), (t...  \n",
       "4  [(The, DT), (only, RB), (serious, JJ), (fights...  "
      ]
     },
     "execution_count": 14,
     "metadata": {},
     "output_type": "execute_result"
    }
   ],
   "source": [
    "l.head()"
   ]
  },
  {
   "cell_type": "code",
   "execution_count": 15,
   "id": "09393ca5",
   "metadata": {},
   "outputs": [
    {
     "data": {
      "text/html": [
       "<div>\n",
       "<style scoped>\n",
       "    .dataframe tbody tr th:only-of-type {\n",
       "        vertical-align: middle;\n",
       "    }\n",
       "\n",
       "    .dataframe tbody tr th {\n",
       "        vertical-align: top;\n",
       "    }\n",
       "\n",
       "    .dataframe thead th {\n",
       "        text-align: right;\n",
       "    }\n",
       "</style>\n",
       "<table border=\"1\" class=\"dataframe\">\n",
       "  <thead>\n",
       "    <tr style=\"text-align: right;\">\n",
       "      <th></th>\n",
       "      <th>name</th>\n",
       "      <th>author</th>\n",
       "      <th>length</th>\n",
       "      <th>number</th>\n",
       "      <th>url</th>\n",
       "      <th>sample</th>\n",
       "      <th>tagged_sample</th>\n",
       "      <th>tags</th>\n",
       "    </tr>\n",
       "  </thead>\n",
       "  <tbody>\n",
       "    <tr>\n",
       "      <th>0</th>\n",
       "      <td>The Confessions of a Poacher</td>\n",
       "      <td>James Watson</td>\n",
       "      <td>25752</td>\n",
       "      <td>0</td>\n",
       "      <td>https://www.gutenberg.org/files/36970/36970-h/...</td>\n",
       "      <td>never done before. It was a bad case he said, ...</td>\n",
       "      <td>[(never, RB), (done, VBN), (before, RB), (., ....</td>\n",
       "      <td>RB VBN RB . PRP VBD DT JJ NN PRP VBD , CC VBD ...</td>\n",
       "    </tr>\n",
       "    <tr>\n",
       "      <th>1</th>\n",
       "      <td>The Confessions of a Poacher</td>\n",
       "      <td>James Watson</td>\n",
       "      <td>25752</td>\n",
       "      <td>1</td>\n",
       "      <td>https://www.gutenberg.org/files/36970/36970-h/...</td>\n",
       "      <td>the greatest numbers. We took them alive in ne...</td>\n",
       "      <td>[(the, DT), (greatest, JJS), (numbers, NNS), (...</td>\n",
       "      <td>DT JJS NNS . PRP VBD PRP JJ IN NNS , CC RB VBD...</td>\n",
       "    </tr>\n",
       "    <tr>\n",
       "      <th>2</th>\n",
       "      <td>The Confessions of a Poacher</td>\n",
       "      <td>James Watson</td>\n",
       "      <td>25752</td>\n",
       "      <td>2</td>\n",
       "      <td>https://www.gutenberg.org/files/36970/36970-h/...</td>\n",
       "      <td>more rabbits than every other stroke of woodcr...</td>\n",
       "      <td>[(more, RBR), (rabbits, NNS), (than, IN), (eve...</td>\n",
       "      <td>RBR NNS IN DT JJ NN IN NN DT NN VBZ . NNS . PR...</td>\n",
       "    </tr>\n",
       "    <tr>\n",
       "      <th>3</th>\n",
       "      <td>The Confessions of a Poacher</td>\n",
       "      <td>James Watson</td>\n",
       "      <td>25752</td>\n",
       "      <td>3</td>\n",
       "      <td>https://www.gutenberg.org/files/36970/36970-h/...</td>\n",
       "      <td>a remarkable addition to our fur and feather. ...</td>\n",
       "      <td>[(a, DT), (remarkable, JJ), (addition, NN), (t...</td>\n",
       "      <td>DT JJ NN TO PRP$ NN CC NN . IN DT NN DT NN VBD...</td>\n",
       "    </tr>\n",
       "    <tr>\n",
       "      <th>4</th>\n",
       "      <td>The Confessions of a Poacher</td>\n",
       "      <td>James Watson</td>\n",
       "      <td>25752</td>\n",
       "      <td>4</td>\n",
       "      <td>https://www.gutenberg.org/files/36970/36970-h/...</td>\n",
       "      <td>The only serious fights I ever had were when k...</td>\n",
       "      <td>[(The, DT), (only, RB), (serious, JJ), (fights...</td>\n",
       "      <td>DT RB JJ NNS PRP RB VBD VBD WRB NNS VBD TO VB ...</td>\n",
       "    </tr>\n",
       "  </tbody>\n",
       "</table>\n",
       "</div>"
      ],
      "text/plain": [
       "                           name        author  length  number  \\\n",
       "0  The Confessions of a Poacher  James Watson   25752       0   \n",
       "1  The Confessions of a Poacher  James Watson   25752       1   \n",
       "2  The Confessions of a Poacher  James Watson   25752       2   \n",
       "3  The Confessions of a Poacher  James Watson   25752       3   \n",
       "4  The Confessions of a Poacher  James Watson   25752       4   \n",
       "\n",
       "                                                 url  \\\n",
       "0  https://www.gutenberg.org/files/36970/36970-h/...   \n",
       "1  https://www.gutenberg.org/files/36970/36970-h/...   \n",
       "2  https://www.gutenberg.org/files/36970/36970-h/...   \n",
       "3  https://www.gutenberg.org/files/36970/36970-h/...   \n",
       "4  https://www.gutenberg.org/files/36970/36970-h/...   \n",
       "\n",
       "                                              sample  \\\n",
       "0  never done before. It was a bad case he said, ...   \n",
       "1  the greatest numbers. We took them alive in ne...   \n",
       "2  more rabbits than every other stroke of woodcr...   \n",
       "3  a remarkable addition to our fur and feather. ...   \n",
       "4  The only serious fights I ever had were when k...   \n",
       "\n",
       "                                       tagged_sample  \\\n",
       "0  [(never, RB), (done, VBN), (before, RB), (., ....   \n",
       "1  [(the, DT), (greatest, JJS), (numbers, NNS), (...   \n",
       "2  [(more, RBR), (rabbits, NNS), (than, IN), (eve...   \n",
       "3  [(a, DT), (remarkable, JJ), (addition, NN), (t...   \n",
       "4  [(The, DT), (only, RB), (serious, JJ), (fights...   \n",
       "\n",
       "                                                tags  \n",
       "0  RB VBN RB . PRP VBD DT JJ NN PRP VBD , CC VBD ...  \n",
       "1  DT JJS NNS . PRP VBD PRP JJ IN NNS , CC RB VBD...  \n",
       "2  RBR NNS IN DT JJ NN IN NN DT NN VBZ . NNS . PR...  \n",
       "3  DT JJ NN TO PRP$ NN CC NN . IN DT NN DT NN VBD...  \n",
       "4  DT RB JJ NNS PRP RB VBD VBD WRB NNS VBD TO VB ...  "
      ]
     },
     "execution_count": 15,
     "metadata": {},
     "output_type": "execute_result"
    }
   ],
   "source": [
    "l['tags'] = l['tagged_sample'].apply(lambda x : ' '.join([i[1] for i in x]))\n",
    "l.head()"
   ]
  },
  {
   "cell_type": "code",
   "execution_count": 16,
   "id": "79378ed4",
   "metadata": {},
   "outputs": [],
   "source": [
    "def clean_text(text):\n",
    "    # Clean text, remove end of lines, remove uppercase letters, puctuation and numbers.\n",
    "    text = text.replace('\\n','')\n",
    "    text = text.lower()\n",
    "    text = text.translate(str.maketrans('', '', string.punctuation))\n",
    "    r=re.compile(r'\\d')\n",
    "    text = r.sub('', text)\n",
    "    text = text.strip()\n",
    "    return text\n",
    "def stringit(x):\n",
    "    # Convert list of words to string\n",
    "    y = \" \"\n",
    "    \n",
    "    return y.join(x)\n",
    "def normalize_text(df, col, add_on= ''):\n",
    "    # Clean, Tokenize, and stem text. Remove stopwords from text. Returns a cleaned column, a tokenized column, and a column of tokens as string\n",
    "    df['clean_txt' + add_on] = df[col].apply(lambda x : clean_text(x))\n",
    "    df['tokenized_txt' + add_on] = df['clean_txt' + add_on].apply(lambda x : word_tokenize(x))\n",
    "    stopword = stopwords.words('english') # Set stopwords\n",
    "    df['tokenized_txt' + add_on] = df['tokenized_txt' + add_on].apply(lambda x : [word for word in x if word not in stopword]) # Remove stopwords for each row\n",
    "    df['tokenized_string' + add_on] = df['tokenized_txt' + add_on].apply(lambda x : stringit(x))\n",
    "    porter = nltk.stem.PorterStemmer() # Create stemmer\n",
    "    df['stemmed_txt' + add_on] = df['tokenized_txt' +add_on].apply(lambda x : [porter.stem(word) for word in x])\n",
    "    df['stemmed_string' + add_on] = df['stemmed_txt' + add_on].apply(lambda x : stringit(x))\n",
    "    \n",
    "normalize_text(l, 'sample') # Apply normilization"
   ]
  },
  {
   "cell_type": "code",
   "execution_count": 17,
   "id": "5427f2fa",
   "metadata": {},
   "outputs": [
    {
     "data": {
      "text/html": [
       "<div>\n",
       "<style scoped>\n",
       "    .dataframe tbody tr th:only-of-type {\n",
       "        vertical-align: middle;\n",
       "    }\n",
       "\n",
       "    .dataframe tbody tr th {\n",
       "        vertical-align: top;\n",
       "    }\n",
       "\n",
       "    .dataframe thead th {\n",
       "        text-align: right;\n",
       "    }\n",
       "</style>\n",
       "<table border=\"1\" class=\"dataframe\">\n",
       "  <thead>\n",
       "    <tr style=\"text-align: right;\">\n",
       "      <th></th>\n",
       "      <th>name</th>\n",
       "      <th>author</th>\n",
       "      <th>length</th>\n",
       "      <th>number</th>\n",
       "      <th>url</th>\n",
       "      <th>sample</th>\n",
       "      <th>tagged_sample</th>\n",
       "      <th>tags</th>\n",
       "      <th>clean_txt</th>\n",
       "      <th>tokenized_txt</th>\n",
       "      <th>tokenized_string</th>\n",
       "      <th>stemmed_txt</th>\n",
       "      <th>stemmed_string</th>\n",
       "    </tr>\n",
       "  </thead>\n",
       "  <tbody>\n",
       "    <tr>\n",
       "      <th>0</th>\n",
       "      <td>The Confessions of a Poacher</td>\n",
       "      <td>James Watson</td>\n",
       "      <td>25752</td>\n",
       "      <td>0</td>\n",
       "      <td>https://www.gutenberg.org/files/36970/36970-h/...</td>\n",
       "      <td>never done before. It was a bad case he said, ...</td>\n",
       "      <td>[(never, RB), (done, VBN), (before, RB), (., ....</td>\n",
       "      <td>RB VBN RB . PRP VBD DT JJ NN PRP VBD , CC VBD ...</td>\n",
       "      <td>never done before it was a bad case he said bu...</td>\n",
       "      <td>[never, done, bad, case, said, added, never, c...</td>\n",
       "      <td>never done bad case said added never charged n...</td>\n",
       "      <td>[never, done, bad, case, said, ad, never, char...</td>\n",
       "      <td>never done bad case said ad never charg net cl...</td>\n",
       "    </tr>\n",
       "    <tr>\n",
       "      <th>1</th>\n",
       "      <td>The Confessions of a Poacher</td>\n",
       "      <td>James Watson</td>\n",
       "      <td>25752</td>\n",
       "      <td>1</td>\n",
       "      <td>https://www.gutenberg.org/files/36970/36970-h/...</td>\n",
       "      <td>the greatest numbers. We took them alive in ne...</td>\n",
       "      <td>[(the, DT), (greatest, JJS), (numbers, NNS), (...</td>\n",
       "      <td>DT JJS NNS . PRP VBD PRP JJ IN NNS , CC RB VBD...</td>\n",
       "      <td>the greatest numbers we took them alive in net...</td>\n",
       "      <td>[greatest, numbers, took, alive, nets, fattene...</td>\n",
       "      <td>greatest numbers took alive nets fattened soak...</td>\n",
       "      <td>[greatest, number, took, aliv, net, fatten, so...</td>\n",
       "      <td>greatest number took aliv net fatten soak whea...</td>\n",
       "    </tr>\n",
       "    <tr>\n",
       "      <th>2</th>\n",
       "      <td>The Confessions of a Poacher</td>\n",
       "      <td>James Watson</td>\n",
       "      <td>25752</td>\n",
       "      <td>2</td>\n",
       "      <td>https://www.gutenberg.org/files/36970/36970-h/...</td>\n",
       "      <td>more rabbits than every other stroke of woodcr...</td>\n",
       "      <td>[(more, RBR), (rabbits, NNS), (than, IN), (eve...</td>\n",
       "      <td>RBR NNS IN DT JJ NN IN NN DT NN VBZ . NNS . PR...</td>\n",
       "      <td>more rabbits than every other stroke of woodcr...</td>\n",
       "      <td>[rabbits, every, stroke, woodcraft, poacher, k...</td>\n",
       "      <td>rabbits every stroke woodcraft poacher knows t...</td>\n",
       "      <td>[rabbit, everi, stroke, woodcraft, poacher, kn...</td>\n",
       "      <td>rabbit everi stroke woodcraft poacher know tri...</td>\n",
       "    </tr>\n",
       "    <tr>\n",
       "      <th>3</th>\n",
       "      <td>The Confessions of a Poacher</td>\n",
       "      <td>James Watson</td>\n",
       "      <td>25752</td>\n",
       "      <td>3</td>\n",
       "      <td>https://www.gutenberg.org/files/36970/36970-h/...</td>\n",
       "      <td>a remarkable addition to our fur and feather. ...</td>\n",
       "      <td>[(a, DT), (remarkable, JJ), (addition, NN), (t...</td>\n",
       "      <td>DT JJ NN TO PRP$ NN CC NN . IN DT NN DT NN VBD...</td>\n",
       "      <td>a remarkable addition to our fur and feather i...</td>\n",
       "      <td>[remarkable, addition, fur, feather, darkness,...</td>\n",
       "      <td>remarkable addition fur feather darkness movem...</td>\n",
       "      <td>[remark, addit, fur, feather, dark, movement, ...</td>\n",
       "      <td>remark addit fur feather dark movement heard a...</td>\n",
       "    </tr>\n",
       "    <tr>\n",
       "      <th>4</th>\n",
       "      <td>The Confessions of a Poacher</td>\n",
       "      <td>James Watson</td>\n",
       "      <td>25752</td>\n",
       "      <td>4</td>\n",
       "      <td>https://www.gutenberg.org/files/36970/36970-h/...</td>\n",
       "      <td>The only serious fights I ever had were when k...</td>\n",
       "      <td>[(The, DT), (only, RB), (serious, JJ), (fights...</td>\n",
       "      <td>DT RB JJ NNS PRP RB VBD VBD WRB NNS VBD TO VB ...</td>\n",
       "      <td>the only serious fights i ever had were when k...</td>\n",
       "      <td>[serious, fights, ever, keepers, threatened, s...</td>\n",
       "      <td>serious fights ever keepers threatened shoot d...</td>\n",
       "      <td>[seriou, fight, ever, keeper, threaten, shoot,...</td>\n",
       "      <td>seriou fight ever keeper threaten shoot dog se...</td>\n",
       "    </tr>\n",
       "  </tbody>\n",
       "</table>\n",
       "</div>"
      ],
      "text/plain": [
       "                           name        author  length  number  \\\n",
       "0  The Confessions of a Poacher  James Watson   25752       0   \n",
       "1  The Confessions of a Poacher  James Watson   25752       1   \n",
       "2  The Confessions of a Poacher  James Watson   25752       2   \n",
       "3  The Confessions of a Poacher  James Watson   25752       3   \n",
       "4  The Confessions of a Poacher  James Watson   25752       4   \n",
       "\n",
       "                                                 url  \\\n",
       "0  https://www.gutenberg.org/files/36970/36970-h/...   \n",
       "1  https://www.gutenberg.org/files/36970/36970-h/...   \n",
       "2  https://www.gutenberg.org/files/36970/36970-h/...   \n",
       "3  https://www.gutenberg.org/files/36970/36970-h/...   \n",
       "4  https://www.gutenberg.org/files/36970/36970-h/...   \n",
       "\n",
       "                                              sample  \\\n",
       "0  never done before. It was a bad case he said, ...   \n",
       "1  the greatest numbers. We took them alive in ne...   \n",
       "2  more rabbits than every other stroke of woodcr...   \n",
       "3  a remarkable addition to our fur and feather. ...   \n",
       "4  The only serious fights I ever had were when k...   \n",
       "\n",
       "                                       tagged_sample  \\\n",
       "0  [(never, RB), (done, VBN), (before, RB), (., ....   \n",
       "1  [(the, DT), (greatest, JJS), (numbers, NNS), (...   \n",
       "2  [(more, RBR), (rabbits, NNS), (than, IN), (eve...   \n",
       "3  [(a, DT), (remarkable, JJ), (addition, NN), (t...   \n",
       "4  [(The, DT), (only, RB), (serious, JJ), (fights...   \n",
       "\n",
       "                                                tags  \\\n",
       "0  RB VBN RB . PRP VBD DT JJ NN PRP VBD , CC VBD ...   \n",
       "1  DT JJS NNS . PRP VBD PRP JJ IN NNS , CC RB VBD...   \n",
       "2  RBR NNS IN DT JJ NN IN NN DT NN VBZ . NNS . PR...   \n",
       "3  DT JJ NN TO PRP$ NN CC NN . IN DT NN DT NN VBD...   \n",
       "4  DT RB JJ NNS PRP RB VBD VBD WRB NNS VBD TO VB ...   \n",
       "\n",
       "                                           clean_txt  \\\n",
       "0  never done before it was a bad case he said bu...   \n",
       "1  the greatest numbers we took them alive in net...   \n",
       "2  more rabbits than every other stroke of woodcr...   \n",
       "3  a remarkable addition to our fur and feather i...   \n",
       "4  the only serious fights i ever had were when k...   \n",
       "\n",
       "                                       tokenized_txt  \\\n",
       "0  [never, done, bad, case, said, added, never, c...   \n",
       "1  [greatest, numbers, took, alive, nets, fattene...   \n",
       "2  [rabbits, every, stroke, woodcraft, poacher, k...   \n",
       "3  [remarkable, addition, fur, feather, darkness,...   \n",
       "4  [serious, fights, ever, keepers, threatened, s...   \n",
       "\n",
       "                                    tokenized_string  \\\n",
       "0  never done bad case said added never charged n...   \n",
       "1  greatest numbers took alive nets fattened soak...   \n",
       "2  rabbits every stroke woodcraft poacher knows t...   \n",
       "3  remarkable addition fur feather darkness movem...   \n",
       "4  serious fights ever keepers threatened shoot d...   \n",
       "\n",
       "                                         stemmed_txt  \\\n",
       "0  [never, done, bad, case, said, ad, never, char...   \n",
       "1  [greatest, number, took, aliv, net, fatten, so...   \n",
       "2  [rabbit, everi, stroke, woodcraft, poacher, kn...   \n",
       "3  [remark, addit, fur, feather, dark, movement, ...   \n",
       "4  [seriou, fight, ever, keeper, threaten, shoot,...   \n",
       "\n",
       "                                      stemmed_string  \n",
       "0  never done bad case said ad never charg net cl...  \n",
       "1  greatest number took aliv net fatten soak whea...  \n",
       "2  rabbit everi stroke woodcraft poacher know tri...  \n",
       "3  remark addit fur feather dark movement heard a...  \n",
       "4  seriou fight ever keeper threaten shoot dog se...  "
      ]
     },
     "execution_count": 17,
     "metadata": {},
     "output_type": "execute_result"
    }
   ],
   "source": [
    "l.head()"
   ]
  },
  {
   "cell_type": "code",
   "execution_count": 18,
   "id": "587b0d84",
   "metadata": {},
   "outputs": [
    {
     "data": {
      "text/plain": [
       "name                0\n",
       "author              0\n",
       "length              0\n",
       "number              0\n",
       "url                 0\n",
       "sample              0\n",
       "tagged_sample       0\n",
       "tags                0\n",
       "clean_txt           0\n",
       "tokenized_txt       0\n",
       "tokenized_string    0\n",
       "stemmed_txt         0\n",
       "stemmed_string      0\n",
       "dtype: int64"
      ]
     },
     "execution_count": 18,
     "metadata": {},
     "output_type": "execute_result"
    }
   ],
   "source": [
    "l = l.dropna()\n",
    "l.isna().sum()"
   ]
  },
  {
   "cell_type": "code",
   "execution_count": 19,
   "id": "bfa5b079",
   "metadata": {},
   "outputs": [],
   "source": [
    "X = l['stemmed_string']\n",
    "y = l['name']\n",
    "X_train, X_val, y_train, y_val = train_test_split(X, y, test_size =0.3, random_state=11)"
   ]
  },
  {
   "cell_type": "code",
   "execution_count": 20,
   "id": "1d3f2f35",
   "metadata": {},
   "outputs": [
    {
     "data": {
      "text/plain": [
       "<AxesSubplot:>"
      ]
     },
     "execution_count": 20,
     "metadata": {},
     "output_type": "execute_result"
    },
    {
     "data": {
      "image/png": "[encoded data removed]",
      "text/plain": [
       "<Figure size 432x288 with 1 Axes>"
      ]
     },
     "metadata": {
      "needs_background": "light"
     },
     "output_type": "display_data"
    }
   ],
   "source": [
    "y_val.value_counts().hist(bins=30)"
   ]
  },
  {
   "cell_type": "code",
   "execution_count": 21,
   "id": "27185466",
   "metadata": {},
   "outputs": [
    {
     "data": {
      "text/plain": [
       "<AxesSubplot:>"
      ]
     },
     "execution_count": 21,
     "metadata": {},
     "output_type": "execute_result"
    },
    {
     "data": {
      "image/png": "[encoded data removed]",
      "text/plain": [
       "<Figure size 432x288 with 1 Axes>"
      ]
     },
     "metadata": {
      "needs_background": "light"
     },
     "output_type": "display_data"
    }
   ],
   "source": [
    "y_train.value_counts().hist(bins=30)"
   ]
  },
  {
   "cell_type": "code",
   "execution_count": 22,
   "id": "60c103ca",
   "metadata": {},
   "outputs": [],
   "source": [
    "N_FEATURES = 5000 # Set number of features\n",
    "N_CLASSES = len(l['name'].unique()) # Set number of classes\n",
    "\n",
    "def build_network():\n",
    "    # Compile a neural network\n",
    "    nn = Sequential()\n",
    "    nn.add(Dense(500, activation='relu', input_shape= (N_FEATURES,)))\n",
    "    nn.add(Dense(150, activation= 'relu'))\n",
    "    nn.add(Dense(N_CLASSES, activation= 'softmax'))\n",
    "    nn.compile(\n",
    "        loss= 'categorical_crossentropy',\n",
    "        optimizer='adam',\n",
    "        metrics=['accuracy']\n",
    "    )\n",
    "    return nn"
   ]
  },
  {
   "cell_type": "code",
   "execution_count": 23,
   "id": "24ac736b",
   "metadata": {},
   "outputs": [],
   "source": [
    "vectorizer = TfidfVectorizer( max_features= 5000) # Create vectorizer\n",
    "tfidf_train = vectorizer.fit_transform(X_train) # Return features and tfidf values for training set\n",
    "tfidf_train.sort_indices() # Sort by index (required by tensorflow)\n",
    "tfidf_val = vectorizer.transform(X_val)  # Return tfidf values for test set\n",
    "tfidf_val.sort_indices()"
   ]
  },
  {
   "cell_type": "code",
   "execution_count": 24,
   "id": "8fe5e413",
   "metadata": {},
   "outputs": [
    {
     "name": "stderr",
     "output_type": "stream",
     "text": [
      "C:\\Users\\aarme\\AppData\\Local\\Temp/ipykernel_27984/2714318305.py:4: DeprecationWarning: KerasClassifier is deprecated, use Sci-Keras (https://github.com/adriangb/scikeras) instead. See https://www.adriangb.com/scikeras/stable/migration.html for help migrating.\n",
      "  dnn =  KerasClassifier(build_fn= build_network,\n"
     ]
    },
    {
     "name": "stdout",
     "output_type": "stream",
     "text": [
      "Epoch 1/5\n"
     ]
    },
    {
     "name": "stderr",
     "output_type": "stream",
     "text": [
      "C:\\Users\\aarme\\anaconda3\\lib\\site-packages\\tensorflow\\python\\framework\\indexed_slices.py:444: UserWarning: Converting sparse IndexedSlices(IndexedSlices(indices=Tensor(\"gradient_tape/sequential/dense/embedding_lookup_sparse/Reshape_1:0\", shape=(None,), dtype=int32), values=Tensor(\"gradient_tape/sequential/dense/embedding_lookup_sparse/Reshape:0\", shape=(None, 500), dtype=float32), dense_shape=Tensor(\"gradient_tape/sequential/dense/embedding_lookup_sparse/Cast:0\", shape=(2,), dtype=int32))) to a dense Tensor of unknown shape. This may consume a large amount of memory.\n",
      "  warnings.warn(\n"
     ]
    },
    {
     "name": "stdout",
     "output_type": "stream",
     "text": [
      "Epoch 2/5\n",
      "Epoch 3/5\n",
      "Epoch 4/5\n",
      "Epoch 5/5\n"
     ]
    },
    {
     "name": "stderr",
     "output_type": "stream",
     "text": [
      "C:\\Users\\aarme\\AppData\\Local\\Temp/ipykernel_27984/2714318305.py:4: DeprecationWarning: KerasClassifier is deprecated, use Sci-Keras (https://github.com/adriangb/scikeras) instead. See https://www.adriangb.com/scikeras/stable/migration.html for help migrating.\n",
      "  dnn =  KerasClassifier(build_fn= build_network,\n"
     ]
    },
    {
     "name": "stdout",
     "output_type": "stream",
     "text": [
      "Epoch 1/10\n"
     ]
    },
    {
     "name": "stderr",
     "output_type": "stream",
     "text": [
      "C:\\Users\\aarme\\anaconda3\\lib\\site-packages\\tensorflow\\python\\framework\\indexed_slices.py:444: UserWarning: Converting sparse IndexedSlices(IndexedSlices(indices=Tensor(\"gradient_tape/sequential_1/dense_3/embedding_lookup_sparse/Reshape_1:0\", shape=(None,), dtype=int32), values=Tensor(\"gradient_tape/sequential_1/dense_3/embedding_lookup_sparse/Reshape:0\", shape=(None, 500), dtype=float32), dense_shape=Tensor(\"gradient_tape/sequential_1/dense_3/embedding_lookup_sparse/Cast:0\", shape=(2,), dtype=int32))) to a dense Tensor of unknown shape. This may consume a large amount of memory.\n",
      "  warnings.warn(\n"
     ]
    },
    {
     "name": "stdout",
     "output_type": "stream",
     "text": [
      "Epoch 2/10\n",
      "Epoch 3/10\n",
      "Epoch 4/10\n",
      "Epoch 5/10\n",
      "Epoch 6/10\n",
      "Epoch 7/10\n",
      "Epoch 8/10\n",
      "Epoch 9/10\n",
      "Epoch 10/10\n"
     ]
    },
    {
     "name": "stderr",
     "output_type": "stream",
     "text": [
      "C:\\Users\\aarme\\AppData\\Local\\Temp/ipykernel_27984/2714318305.py:4: DeprecationWarning: KerasClassifier is deprecated, use Sci-Keras (https://github.com/adriangb/scikeras) instead. See https://www.adriangb.com/scikeras/stable/migration.html for help migrating.\n",
      "  dnn =  KerasClassifier(build_fn= build_network,\n"
     ]
    },
    {
     "name": "stdout",
     "output_type": "stream",
     "text": [
      "Epoch 1/15\n"
     ]
    },
    {
     "name": "stderr",
     "output_type": "stream",
     "text": [
      "C:\\Users\\aarme\\anaconda3\\lib\\site-packages\\tensorflow\\python\\framework\\indexed_slices.py:444: UserWarning: Converting sparse IndexedSlices(IndexedSlices(indices=Tensor(\"gradient_tape/sequential_2/dense_6/embedding_lookup_sparse/Reshape_1:0\", shape=(None,), dtype=int32), values=Tensor(\"gradient_tape/sequential_2/dense_6/embedding_lookup_sparse/Reshape:0\", shape=(None, 500), dtype=float32), dense_shape=Tensor(\"gradient_tape/sequential_2/dense_6/embedding_lookup_sparse/Cast:0\", shape=(2,), dtype=int32))) to a dense Tensor of unknown shape. This may consume a large amount of memory.\n",
      "  warnings.warn(\n"
     ]
    },
    {
     "name": "stdout",
     "output_type": "stream",
     "text": [
      "Epoch 2/15\n",
      "Epoch 3/15\n",
      "Epoch 4/15\n",
      "Epoch 5/15\n",
      "Epoch 6/15\n",
      "Epoch 7/15\n",
      "Epoch 8/15\n",
      "Epoch 9/15\n",
      "Epoch 10/15\n",
      "Epoch 11/15\n",
      "Epoch 12/15\n",
      "Epoch 13/15\n",
      "Epoch 14/15\n",
      "Epoch 15/15\n"
     ]
    },
    {
     "name": "stderr",
     "output_type": "stream",
     "text": [
      "C:\\Users\\aarme\\AppData\\Local\\Temp/ipykernel_27984/2714318305.py:4: DeprecationWarning: KerasClassifier is deprecated, use Sci-Keras (https://github.com/adriangb/scikeras) instead. See https://www.adriangb.com/scikeras/stable/migration.html for help migrating.\n",
      "  dnn =  KerasClassifier(build_fn= build_network,\n"
     ]
    },
    {
     "name": "stdout",
     "output_type": "stream",
     "text": [
      "Epoch 1/20\n"
     ]
    },
    {
     "name": "stderr",
     "output_type": "stream",
     "text": [
      "C:\\Users\\aarme\\anaconda3\\lib\\site-packages\\tensorflow\\python\\framework\\indexed_slices.py:444: UserWarning: Converting sparse IndexedSlices(IndexedSlices(indices=Tensor(\"gradient_tape/sequential_3/dense_9/embedding_lookup_sparse/Reshape_1:0\", shape=(None,), dtype=int32), values=Tensor(\"gradient_tape/sequential_3/dense_9/embedding_lookup_sparse/Reshape:0\", shape=(None, 500), dtype=float32), dense_shape=Tensor(\"gradient_tape/sequential_3/dense_9/embedding_lookup_sparse/Cast:0\", shape=(2,), dtype=int32))) to a dense Tensor of unknown shape. This may consume a large amount of memory.\n",
      "  warnings.warn(\n"
     ]
    },
    {
     "name": "stdout",
     "output_type": "stream",
     "text": [
      "Epoch 2/20\n",
      "Epoch 3/20\n",
      "Epoch 4/20\n",
      "Epoch 5/20\n",
      "Epoch 6/20\n",
      "Epoch 7/20\n",
      "Epoch 8/20\n",
      "Epoch 9/20\n",
      "Epoch 10/20\n",
      "Epoch 11/20\n",
      "Epoch 12/20\n",
      "Epoch 13/20\n",
      "Epoch 14/20\n",
      "Epoch 15/20\n",
      "Epoch 16/20\n",
      "Epoch 17/20\n",
      "Epoch 18/20\n",
      "Epoch 19/20\n",
      "Epoch 20/20\n"
     ]
    },
    {
     "name": "stderr",
     "output_type": "stream",
     "text": [
      "C:\\Users\\aarme\\AppData\\Local\\Temp/ipykernel_27984/2714318305.py:4: DeprecationWarning: KerasClassifier is deprecated, use Sci-Keras (https://github.com/adriangb/scikeras) instead. See https://www.adriangb.com/scikeras/stable/migration.html for help migrating.\n",
      "  dnn =  KerasClassifier(build_fn= build_network,\n"
     ]
    },
    {
     "name": "stdout",
     "output_type": "stream",
     "text": [
      "Epoch 1/25\n"
     ]
    },
    {
     "name": "stderr",
     "output_type": "stream",
     "text": [
      "C:\\Users\\aarme\\anaconda3\\lib\\site-packages\\tensorflow\\python\\framework\\indexed_slices.py:444: UserWarning: Converting sparse IndexedSlices(IndexedSlices(indices=Tensor(\"gradient_tape/sequential_4/dense_12/embedding_lookup_sparse/Reshape_1:0\", shape=(None,), dtype=int32), values=Tensor(\"gradient_tape/sequential_4/dense_12/embedding_lookup_sparse/Reshape:0\", shape=(None, 500), dtype=float32), dense_shape=Tensor(\"gradient_tape/sequential_4/dense_12/embedding_lookup_sparse/Cast:0\", shape=(2,), dtype=int32))) to a dense Tensor of unknown shape. This may consume a large amount of memory.\n",
      "  warnings.warn(\n"
     ]
    },
    {
     "name": "stdout",
     "output_type": "stream",
     "text": [
      "Epoch 2/25\n",
      "Epoch 3/25\n",
      "Epoch 4/25\n",
      "Epoch 5/25\n",
      "Epoch 6/25\n",
      "Epoch 7/25\n",
      "Epoch 8/25\n",
      "Epoch 9/25\n",
      "Epoch 10/25\n",
      "Epoch 11/25\n",
      "Epoch 12/25\n",
      "Epoch 13/25\n",
      "Epoch 14/25\n",
      "Epoch 15/25\n",
      "Epoch 16/25\n",
      "Epoch 17/25\n",
      "Epoch 18/25\n",
      "Epoch 19/25\n",
      "Epoch 20/25\n",
      "Epoch 21/25\n",
      "Epoch 22/25\n",
      "Epoch 23/25\n",
      "Epoch 24/25\n",
      "Epoch 25/25\n"
     ]
    },
    {
     "name": "stderr",
     "output_type": "stream",
     "text": [
      "C:\\Users\\aarme\\AppData\\Local\\Temp/ipykernel_27984/2714318305.py:4: DeprecationWarning: KerasClassifier is deprecated, use Sci-Keras (https://github.com/adriangb/scikeras) instead. See https://www.adriangb.com/scikeras/stable/migration.html for help migrating.\n",
      "  dnn =  KerasClassifier(build_fn= build_network,\n"
     ]
    },
    {
     "name": "stdout",
     "output_type": "stream",
     "text": [
      "Epoch 1/30\n"
     ]
    },
    {
     "name": "stderr",
     "output_type": "stream",
     "text": [
      "C:\\Users\\aarme\\anaconda3\\lib\\site-packages\\tensorflow\\python\\framework\\indexed_slices.py:444: UserWarning: Converting sparse IndexedSlices(IndexedSlices(indices=Tensor(\"gradient_tape/sequential_5/dense_15/embedding_lookup_sparse/Reshape_1:0\", shape=(None,), dtype=int32), values=Tensor(\"gradient_tape/sequential_5/dense_15/embedding_lookup_sparse/Reshape:0\", shape=(None, 500), dtype=float32), dense_shape=Tensor(\"gradient_tape/sequential_5/dense_15/embedding_lookup_sparse/Cast:0\", shape=(2,), dtype=int32))) to a dense Tensor of unknown shape. This may consume a large amount of memory.\n",
      "  warnings.warn(\n"
     ]
    },
    {
     "name": "stdout",
     "output_type": "stream",
     "text": [
      "Epoch 2/30\n",
      "Epoch 3/30\n",
      "Epoch 4/30\n",
      "Epoch 5/30\n",
      "Epoch 6/30\n",
      "Epoch 7/30\n",
      "Epoch 8/30\n",
      "Epoch 9/30\n",
      "Epoch 10/30\n",
      "Epoch 11/30\n",
      "Epoch 12/30\n",
      "Epoch 13/30\n",
      "Epoch 14/30\n",
      "Epoch 15/30\n",
      "Epoch 16/30\n",
      "Epoch 17/30\n",
      "Epoch 18/30\n",
      "Epoch 19/30\n",
      "Epoch 20/30\n",
      "Epoch 21/30\n",
      "Epoch 22/30\n",
      "Epoch 23/30\n",
      "Epoch 24/30\n",
      "Epoch 25/30\n",
      "Epoch 26/30\n",
      "Epoch 27/30\n",
      "Epoch 28/30\n",
      "Epoch 29/30\n",
      "Epoch 30/30\n"
     ]
    },
    {
     "name": "stderr",
     "output_type": "stream",
     "text": [
      "C:\\Users\\aarme\\AppData\\Local\\Temp/ipykernel_27984/2714318305.py:4: DeprecationWarning: KerasClassifier is deprecated, use Sci-Keras (https://github.com/adriangb/scikeras) instead. See https://www.adriangb.com/scikeras/stable/migration.html for help migrating.\n",
      "  dnn =  KerasClassifier(build_fn= build_network,\n"
     ]
    },
    {
     "name": "stdout",
     "output_type": "stream",
     "text": [
      "Epoch 1/35\n"
     ]
    },
    {
     "name": "stderr",
     "output_type": "stream",
     "text": [
      "C:\\Users\\aarme\\anaconda3\\lib\\site-packages\\tensorflow\\python\\framework\\indexed_slices.py:444: UserWarning: Converting sparse IndexedSlices(IndexedSlices(indices=Tensor(\"gradient_tape/sequential_6/dense_18/embedding_lookup_sparse/Reshape_1:0\", shape=(None,), dtype=int32), values=Tensor(\"gradient_tape/sequential_6/dense_18/embedding_lookup_sparse/Reshape:0\", shape=(None, 500), dtype=float32), dense_shape=Tensor(\"gradient_tape/sequential_6/dense_18/embedding_lookup_sparse/Cast:0\", shape=(2,), dtype=int32))) to a dense Tensor of unknown shape. This may consume a large amount of memory.\n",
      "  warnings.warn(\n"
     ]
    },
    {
     "name": "stdout",
     "output_type": "stream",
     "text": [
      "Epoch 2/35\n",
      "Epoch 3/35\n",
      "Epoch 4/35\n",
      "Epoch 5/35\n",
      "Epoch 6/35\n",
      "Epoch 7/35\n",
      "Epoch 8/35\n",
      "Epoch 9/35\n",
      "Epoch 10/35\n",
      "Epoch 11/35\n",
      "Epoch 12/35\n",
      "Epoch 13/35\n",
      "Epoch 14/35\n",
      "Epoch 15/35\n",
      "Epoch 16/35\n",
      "Epoch 17/35\n",
      "Epoch 18/35\n",
      "Epoch 19/35\n",
      "Epoch 20/35\n",
      "Epoch 21/35\n",
      "Epoch 22/35\n",
      "Epoch 23/35\n",
      "Epoch 24/35\n",
      "Epoch 25/35\n",
      "Epoch 26/35\n",
      "Epoch 27/35\n",
      "Epoch 28/35\n",
      "Epoch 29/35\n",
      "Epoch 30/35\n",
      "Epoch 31/35\n",
      "Epoch 32/35\n",
      "Epoch 33/35\n",
      "Epoch 34/35\n",
      "Epoch 35/35\n"
     ]
    },
    {
     "name": "stderr",
     "output_type": "stream",
     "text": [
      "C:\\Users\\aarme\\AppData\\Local\\Temp/ipykernel_27984/2714318305.py:4: DeprecationWarning: KerasClassifier is deprecated, use Sci-Keras (https://github.com/adriangb/scikeras) instead. See https://www.adriangb.com/scikeras/stable/migration.html for help migrating.\n",
      "  dnn =  KerasClassifier(build_fn= build_network,\n"
     ]
    },
    {
     "name": "stdout",
     "output_type": "stream",
     "text": [
      "Epoch 1/40\n"
     ]
    },
    {
     "name": "stderr",
     "output_type": "stream",
     "text": [
      "C:\\Users\\aarme\\anaconda3\\lib\\site-packages\\tensorflow\\python\\framework\\indexed_slices.py:444: UserWarning: Converting sparse IndexedSlices(IndexedSlices(indices=Tensor(\"gradient_tape/sequential_7/dense_21/embedding_lookup_sparse/Reshape_1:0\", shape=(None,), dtype=int32), values=Tensor(\"gradient_tape/sequential_7/dense_21/embedding_lookup_sparse/Reshape:0\", shape=(None, 500), dtype=float32), dense_shape=Tensor(\"gradient_tape/sequential_7/dense_21/embedding_lookup_sparse/Cast:0\", shape=(2,), dtype=int32))) to a dense Tensor of unknown shape. This may consume a large amount of memory.\n",
      "  warnings.warn(\n"
     ]
    },
    {
     "name": "stdout",
     "output_type": "stream",
     "text": [
      "Epoch 2/40\n",
      "Epoch 3/40\n",
      "Epoch 4/40\n",
      "Epoch 5/40\n",
      "Epoch 6/40\n",
      "Epoch 7/40\n",
      "Epoch 8/40\n",
      "Epoch 9/40\n",
      "Epoch 10/40\n",
      "Epoch 11/40\n",
      "Epoch 12/40\n",
      "Epoch 13/40\n",
      "Epoch 14/40\n",
      "Epoch 15/40\n",
      "Epoch 16/40\n",
      "Epoch 17/40\n",
      "Epoch 18/40\n",
      "Epoch 19/40\n",
      "Epoch 20/40\n",
      "Epoch 21/40\n",
      "Epoch 22/40\n",
      "Epoch 23/40\n",
      "Epoch 24/40\n",
      "Epoch 25/40\n",
      "Epoch 26/40\n",
      "Epoch 27/40\n",
      "Epoch 28/40\n",
      "Epoch 29/40\n",
      "Epoch 30/40\n",
      "Epoch 31/40\n",
      "Epoch 32/40\n",
      "Epoch 33/40\n",
      "Epoch 34/40\n",
      "Epoch 35/40\n",
      "Epoch 36/40\n",
      "Epoch 37/40\n",
      "Epoch 38/40\n",
      "Epoch 39/40\n",
      "Epoch 40/40\n"
     ]
    },
    {
     "name": "stderr",
     "output_type": "stream",
     "text": [
      "C:\\Users\\aarme\\AppData\\Local\\Temp/ipykernel_27984/2714318305.py:4: DeprecationWarning: KerasClassifier is deprecated, use Sci-Keras (https://github.com/adriangb/scikeras) instead. See https://www.adriangb.com/scikeras/stable/migration.html for help migrating.\n",
      "  dnn =  KerasClassifier(build_fn= build_network,\n"
     ]
    },
    {
     "name": "stdout",
     "output_type": "stream",
     "text": [
      "Epoch 1/45\n"
     ]
    },
    {
     "name": "stderr",
     "output_type": "stream",
     "text": [
      "C:\\Users\\aarme\\anaconda3\\lib\\site-packages\\tensorflow\\python\\framework\\indexed_slices.py:444: UserWarning: Converting sparse IndexedSlices(IndexedSlices(indices=Tensor(\"gradient_tape/sequential_8/dense_24/embedding_lookup_sparse/Reshape_1:0\", shape=(None,), dtype=int32), values=Tensor(\"gradient_tape/sequential_8/dense_24/embedding_lookup_sparse/Reshape:0\", shape=(None, 500), dtype=float32), dense_shape=Tensor(\"gradient_tape/sequential_8/dense_24/embedding_lookup_sparse/Cast:0\", shape=(2,), dtype=int32))) to a dense Tensor of unknown shape. This may consume a large amount of memory.\n",
      "  warnings.warn(\n"
     ]
    },
    {
     "name": "stdout",
     "output_type": "stream",
     "text": [
      "Epoch 2/45\n",
      "Epoch 3/45\n",
      "Epoch 4/45\n",
      "Epoch 5/45\n",
      "Epoch 6/45\n",
      "Epoch 7/45\n",
      "Epoch 8/45\n",
      "Epoch 9/45\n",
      "Epoch 10/45\n",
      "Epoch 11/45\n",
      "Epoch 12/45\n",
      "Epoch 13/45\n",
      "Epoch 14/45\n",
      "Epoch 15/45\n",
      "Epoch 16/45\n",
      "Epoch 17/45\n",
      "Epoch 18/45\n",
      "Epoch 19/45\n",
      "Epoch 20/45\n",
      "Epoch 21/45\n",
      "Epoch 22/45\n",
      "Epoch 23/45\n",
      "Epoch 24/45\n",
      "Epoch 25/45\n",
      "Epoch 26/45\n",
      "Epoch 27/45\n",
      "Epoch 28/45\n",
      "Epoch 29/45\n",
      "Epoch 30/45\n",
      "Epoch 31/45\n",
      "Epoch 32/45\n",
      "Epoch 33/45\n",
      "Epoch 34/45\n",
      "Epoch 35/45\n",
      "Epoch 36/45\n",
      "Epoch 37/45\n",
      "Epoch 38/45\n",
      "Epoch 39/45\n",
      "Epoch 40/45\n",
      "Epoch 41/45\n",
      "Epoch 42/45\n",
      "Epoch 43/45\n",
      "Epoch 44/45\n",
      "Epoch 45/45\n",
      "Accuracy:  0.44416666666666665\n"
     ]
    }
   ],
   "source": [
    "train = {}\n",
    "test = {}\n",
    "for i in range(5, 50, 5):\n",
    "    dnn =  KerasClassifier(build_fn= build_network,\n",
    "                            epochs= i,\n",
    "                            batch_size=128,\n",
    "                          verbose=10)\n",
    "    train_k = dnn.fit(tfidf_train, y_train) # Train model\n",
    "    train[i] = train_k.history\n",
    "\n",
    "    preds = dnn.predict(tfidf_val)\n",
    "    accuracy = accuracy_score(y_val, preds) # Get accuracy of model\n",
    "    test[i] = accuracy\n",
    "# score_list = precision_recall_fscore_support(y_val, preds) # Get precision, recall, and f1 scores\n",
    "print('Accuracy: ',accuracy)\n",
    "# print('Precision:', score_list[0])\n",
    "# print('Recall:   ', score_list[1])\n",
    "# print('F1 score: ', score_list[2])\n",
    "# mat = ConfusionMatrixDisplay(confusion_matrix(y_val, preds))\n",
    "# mat.plot()"
   ]
  },
  {
   "cell_type": "code",
   "execution_count": 25,
   "id": "837c9a47",
   "metadata": {},
   "outputs": [
    {
     "data": {
      "text/plain": [
       "{5: 0.2996666666666667,\n",
       " 10: 0.41083333333333333,\n",
       " 15: 0.44666666666666666,\n",
       " 20: 0.4266666666666667,\n",
       " 25: 0.4425,\n",
       " 30: 0.43966666666666665,\n",
       " 35: 0.43766666666666665,\n",
       " 40: 0.44633333333333336,\n",
       " 45: 0.44416666666666665}"
      ]
     },
     "execution_count": 25,
     "metadata": {},
     "output_type": "execute_result"
    }
   ],
   "source": [
    "test"
   ]
  },
  {
   "cell_type": "code",
   "execution_count": 26,
   "id": "144a05c8",
   "metadata": {},
   "outputs": [
    {
     "data": {
      "text/plain": [
       "{5: {'loss': [7.460979461669922,\n",
       "   6.112588405609131,\n",
       "   4.260590553283691,\n",
       "   2.873389482498169,\n",
       "   1.9054025411605835],\n",
       "  'accuracy': [0.0057142856530845165,\n",
       "   0.03807142749428749,\n",
       "   0.19007143378257751,\n",
       "   0.40299999713897705,\n",
       "   0.588857114315033]},\n",
       " 10: {'loss': [7.462514400482178,\n",
       "   6.078910827636719,\n",
       "   4.27454137802124,\n",
       "   2.9257404804229736,\n",
       "   1.9638837575912476,\n",
       "   1.2776395082473755,\n",
       "   0.8051211833953857,\n",
       "   0.4925622344017029,\n",
       "   0.2935320734977722,\n",
       "   0.1772942692041397],\n",
       "  'accuracy': [0.005428571254014969,\n",
       "   0.0381428562104702,\n",
       "   0.18764285743236542,\n",
       "   0.39092856645584106,\n",
       "   0.5727857351303101,\n",
       "   0.7268571257591248,\n",
       "   0.8402143120765686,\n",
       "   0.9125714302062988,\n",
       "   0.9584285616874695,\n",
       "   0.9803571701049805]},\n",
       " 15: {'loss': [7.460655212402344,\n",
       "   6.106497287750244,\n",
       "   4.360367298126221,\n",
       "   2.9789135456085205,\n",
       "   1.9495573043823242,\n",
       "   1.2334281206130981,\n",
       "   0.7563280463218689,\n",
       "   0.4481680393218994,\n",
       "   0.2670781910419464,\n",
       "   0.15988005697727203,\n",
       "   0.10552191734313965,\n",
       "   0.06886623799800873,\n",
       "   0.04994037002325058,\n",
       "   0.03853527083992958,\n",
       "   0.028821978718042374],\n",
       "  'accuracy': [0.007571428548544645,\n",
       "   0.03707142919301987,\n",
       "   0.18064285814762115,\n",
       "   0.38035714626312256,\n",
       "   0.587071418762207,\n",
       "   0.7449285984039307,\n",
       "   0.8514999747276306,\n",
       "   0.9257143139839172,\n",
       "   0.9653571248054504,\n",
       "   0.9807142615318298,\n",
       "   0.9893571138381958,\n",
       "   0.994357168674469,\n",
       "   0.996071457862854,\n",
       "   0.9970714449882507,\n",
       "   0.9990714192390442]},\n",
       " 20: {'loss': [7.454622268676758,\n",
       "   6.22730016708374,\n",
       "   4.522830963134766,\n",
       "   3.103945255279541,\n",
       "   2.0581986904144287,\n",
       "   1.3305425643920898,\n",
       "   0.8488979935646057,\n",
       "   0.5243380069732666,\n",
       "   0.3217777609825134,\n",
       "   0.19565501809120178,\n",
       "   0.12480971962213516,\n",
       "   0.08523362874984741,\n",
       "   0.06071258708834648,\n",
       "   0.04568200558423996,\n",
       "   0.03498610109090805,\n",
       "   0.02715636044740677,\n",
       "   0.02227056957781315,\n",
       "   0.019179262220859528,\n",
       "   0.015053026378154755,\n",
       "   0.013050233945250511],\n",
       "  'accuracy': [0.0057142856530845165,\n",
       "   0.02914285659790039,\n",
       "   0.16850000619888306,\n",
       "   0.36399999260902405,\n",
       "   0.5627856850624084,\n",
       "   0.7148571610450745,\n",
       "   0.8285714387893677,\n",
       "   0.9062857031822205,\n",
       "   0.9509999752044678,\n",
       "   0.9769999980926514,\n",
       "   0.9869285821914673,\n",
       "   0.9922142624855042,\n",
       "   0.9942857027053833,\n",
       "   0.9962142705917358,\n",
       "   0.9977856874465942,\n",
       "   0.9984999895095825,\n",
       "   0.9989285469055176,\n",
       "   0.9989285469055176,\n",
       "   0.9993571639060974,\n",
       "   0.9992856979370117]},\n",
       " 25: {'loss': [7.459345817565918,\n",
       "   6.13639497756958,\n",
       "   4.310701847076416,\n",
       "   2.937229871749878,\n",
       "   1.9673845767974854,\n",
       "   1.2826837301254272,\n",
       "   0.8136101961135864,\n",
       "   0.507994532585144,\n",
       "   0.3121013939380646,\n",
       "   0.18897809088230133,\n",
       "   0.11970581859350204,\n",
       "   0.08096045255661011,\n",
       "   0.05828038603067398,\n",
       "   0.042846016585826874,\n",
       "   0.03309210389852524,\n",
       "   0.026185281574726105,\n",
       "   0.02125423401594162,\n",
       "   0.01862391270697117,\n",
       "   0.01477768737822771,\n",
       "   0.012570667080581188,\n",
       "   0.01090506836771965,\n",
       "   0.010250392369925976,\n",
       "   0.008230152539908886,\n",
       "   0.0073804594576358795,\n",
       "   0.00643215561285615],\n",
       "  'accuracy': [0.005285714287310839,\n",
       "   0.03557142987847328,\n",
       "   0.18642857670783997,\n",
       "   0.39242857694625854,\n",
       "   0.5769285559654236,\n",
       "   0.7273571491241455,\n",
       "   0.8373571634292603,\n",
       "   0.911214292049408,\n",
       "   0.9538571238517761,\n",
       "   0.9772142767906189,\n",
       "   0.9887142777442932,\n",
       "   0.993071436882019,\n",
       "   0.9950714111328125,\n",
       "   0.9969285726547241,\n",
       "   0.9979285597801208,\n",
       "   0.9984285831451416,\n",
       "   0.9991428852081299,\n",
       "   0.9985714554786682,\n",
       "   0.9994285702705383,\n",
       "   0.9994999766349792,\n",
       "   0.9996428489685059,\n",
       "   0.9994999766349792,\n",
       "   0.9998571276664734,\n",
       "   0.9997857213020325,\n",
       "   1.0]},\n",
       " 30: {'loss': [7.448200225830078,\n",
       "   6.1252007484436035,\n",
       "   4.340283393859863,\n",
       "   2.918635368347168,\n",
       "   1.929592251777649,\n",
       "   1.2359387874603271,\n",
       "   0.7737972736358643,\n",
       "   0.4658823609352112,\n",
       "   0.28186818957328796,\n",
       "   0.16972124576568604,\n",
       "   0.1063970997929573,\n",
       "   0.07383334636688232,\n",
       "   0.05344221368432045,\n",
       "   0.0385596789419651,\n",
       "   0.030795076861977577,\n",
       "   0.024211427196860313,\n",
       "   0.02040204033255577,\n",
       "   0.015731096267700195,\n",
       "   0.013849079608917236,\n",
       "   0.011884079314768314,\n",
       "   0.010451450012624264,\n",
       "   0.008656969293951988,\n",
       "   0.007775462698191404,\n",
       "   0.006589133758097887,\n",
       "   0.005868486128747463,\n",
       "   0.005248823668807745,\n",
       "   0.0047655790112912655,\n",
       "   0.004209019709378481,\n",
       "   0.004140043631196022,\n",
       "   0.005230866372585297],\n",
       "  'accuracy': [0.005857143085449934,\n",
       "   0.034857142716646194,\n",
       "   0.1835000067949295,\n",
       "   0.3930000066757202,\n",
       "   0.5855714082717896,\n",
       "   0.7391428351402283,\n",
       "   0.8458571434020996,\n",
       "   0.9202142953872681,\n",
       "   0.9591428637504578,\n",
       "   0.9812856912612915,\n",
       "   0.9898571372032166,\n",
       "   0.9941428303718567,\n",
       "   0.9959999918937683,\n",
       "   0.9979285597801208,\n",
       "   0.9985714554786682,\n",
       "   0.9987857341766357,\n",
       "   0.9990000128746033,\n",
       "   0.9994999766349792,\n",
       "   0.9994999766349792,\n",
       "   0.9996428489685059,\n",
       "   0.9995714426040649,\n",
       "   0.9997857213020325,\n",
       "   0.9999285936355591,\n",
       "   1.0,\n",
       "   0.9999285936355591,\n",
       "   0.9999285936355591,\n",
       "   1.0,\n",
       "   1.0,\n",
       "   0.9998571276664734,\n",
       "   0.9994999766349792]},\n",
       " 35: {'loss': [7.454937934875488,\n",
       "   6.126433372497559,\n",
       "   4.446554183959961,\n",
       "   3.094964027404785,\n",
       "   2.091850757598877,\n",
       "   1.3628323078155518,\n",
       "   0.8649020791053772,\n",
       "   0.5391143560409546,\n",
       "   0.3232479989528656,\n",
       "   0.1966886669397354,\n",
       "   0.12669247388839722,\n",
       "   0.08389285951852798,\n",
       "   0.05820963531732559,\n",
       "   0.04318844899535179,\n",
       "   0.033242516219615936,\n",
       "   0.02700687013566494,\n",
       "   0.02249959483742714,\n",
       "   0.018241504207253456,\n",
       "   0.014828373678028584,\n",
       "   0.01268916018307209,\n",
       "   0.011023026891052723,\n",
       "   0.009584859944880009,\n",
       "   0.008627056144177914,\n",
       "   0.007240803446620703,\n",
       "   0.006298848893493414,\n",
       "   0.005570007488131523,\n",
       "   0.004928847774863243,\n",
       "   0.004407000727951527,\n",
       "   0.004037274047732353,\n",
       "   0.0036674949806183577,\n",
       "   0.003288259729743004,\n",
       "   0.00299939070828259,\n",
       "   0.002736419439315796,\n",
       "   0.002521950751543045,\n",
       "   0.002277530962601304],\n",
       "  'accuracy': [0.005571428686380386,\n",
       "   0.034214284271001816,\n",
       "   0.1695714294910431,\n",
       "   0.36014285683631897,\n",
       "   0.5484285950660706,\n",
       "   0.7089285850524902,\n",
       "   0.826285719871521,\n",
       "   0.9047142863273621,\n",
       "   0.9513571262359619,\n",
       "   0.9774285554885864,\n",
       "   0.9857142567634583,\n",
       "   0.9924286007881165,\n",
       "   0.9951428771018982,\n",
       "   0.9967142939567566,\n",
       "   0.9978571534156799,\n",
       "   0.998285710811615,\n",
       "   0.9983571171760559,\n",
       "   0.9988571405410767,\n",
       "   0.9994285702705383,\n",
       "   0.9995714426040649,\n",
       "   0.9997857213020325,\n",
       "   0.9996428489685059,\n",
       "   0.9998571276664734,\n",
       "   0.9999285936355591,\n",
       "   1.0,\n",
       "   1.0,\n",
       "   1.0,\n",
       "   1.0,\n",
       "   1.0,\n",
       "   1.0,\n",
       "   1.0,\n",
       "   1.0,\n",
       "   1.0,\n",
       "   1.0,\n",
       "   1.0]},\n",
       " 40: {'loss': [7.455307483673096,\n",
       "   6.144712448120117,\n",
       "   4.423507213592529,\n",
       "   3.052234411239624,\n",
       "   2.0248045921325684,\n",
       "   1.30061936378479,\n",
       "   0.8142270445823669,\n",
       "   0.4927825331687927,\n",
       "   0.2892538607120514,\n",
       "   0.17677630484104156,\n",
       "   0.1099264845252037,\n",
       "   0.07529623806476593,\n",
       "   0.05307009816169739,\n",
       "   0.03949525207281113,\n",
       "   0.030365776270627975,\n",
       "   0.025023596361279488,\n",
       "   0.019557593390345573,\n",
       "   0.016938887536525726,\n",
       "   0.015115770511329174,\n",
       "   0.013069944456219673,\n",
       "   0.009865876287221909,\n",
       "   0.008541530929505825,\n",
       "   0.007497310638427734,\n",
       "   0.006766442209482193,\n",
       "   0.005870462860912085,\n",
       "   0.005206035450100899,\n",
       "   0.00467084813863039,\n",
       "   0.004254736006259918,\n",
       "   0.00379383796826005,\n",
       "   0.0034596186596900225,\n",
       "   0.003128594486042857,\n",
       "   0.0028557598125189543,\n",
       "   0.0025944870430976152,\n",
       "   0.0023941672407090664,\n",
       "   0.002182118594646454,\n",
       "   0.0020043635740876198,\n",
       "   0.0018519972218200564,\n",
       "   0.0016926676034927368,\n",
       "   0.0015665477840229869,\n",
       "   0.0014460438396781683],\n",
       "  'accuracy': [0.00492857163771987,\n",
       "   0.03507142886519432,\n",
       "   0.17392857372760773,\n",
       "   0.37314286828041077,\n",
       "   0.5627142786979675,\n",
       "   0.725428581237793,\n",
       "   0.8387143015861511,\n",
       "   0.9161428809165955,\n",
       "   0.9613571166992188,\n",
       "   0.9810000061988831,\n",
       "   0.9902142882347107,\n",
       "   0.9937857389450073,\n",
       "   0.9963571429252625,\n",
       "   0.9975000023841858,\n",
       "   0.9986428618431091,\n",
       "   0.9988571405410767,\n",
       "   0.9991428852081299,\n",
       "   0.9991428852081299,\n",
       "   0.9992142915725708,\n",
       "   0.9991428852081299,\n",
       "   0.9998571276664734,\n",
       "   1.0,\n",
       "   1.0,\n",
       "   1.0,\n",
       "   1.0,\n",
       "   1.0,\n",
       "   1.0,\n",
       "   1.0,\n",
       "   1.0,\n",
       "   1.0,\n",
       "   1.0,\n",
       "   1.0,\n",
       "   1.0,\n",
       "   1.0,\n",
       "   1.0,\n",
       "   1.0,\n",
       "   1.0,\n",
       "   1.0,\n",
       "   1.0,\n",
       "   1.0]},\n",
       " 45: {'loss': [7.463745594024658,\n",
       "   6.190286159515381,\n",
       "   4.4134321212768555,\n",
       "   3.0144238471984863,\n",
       "   1.991652488708496,\n",
       "   1.286913275718689,\n",
       "   0.8044779300689697,\n",
       "   0.48768356442451477,\n",
       "   0.29548949003219604,\n",
       "   0.17622901499271393,\n",
       "   0.1140073612332344,\n",
       "   0.0758441910147667,\n",
       "   0.05429886654019356,\n",
       "   0.04338325560092926,\n",
       "   0.03133402019739151,\n",
       "   0.02493114583194256,\n",
       "   0.020234595984220505,\n",
       "   0.017051517963409424,\n",
       "   0.014349604956805706,\n",
       "   0.011578752659261227,\n",
       "   0.010167490690946579,\n",
       "   0.008943452499806881,\n",
       "   0.0077651734463870525,\n",
       "   0.00690455362200737,\n",
       "   0.00591281708329916,\n",
       "   0.005469008348882198,\n",
       "   0.00527119729667902,\n",
       "   0.004283038899302483,\n",
       "   0.0038273027166724205,\n",
       "   0.003485319670289755,\n",
       "   0.00315137580037117,\n",
       "   0.0028686095029115677,\n",
       "   0.0026307825464755297,\n",
       "   0.0023902321700006723,\n",
       "   0.0021900308784097433,\n",
       "   0.002014684258028865,\n",
       "   0.001860985648818314,\n",
       "   0.0017143493751063943,\n",
       "   0.0015849861083552241,\n",
       "   0.0014601352158933878,\n",
       "   0.001349915866740048,\n",
       "   0.0012421808205544949,\n",
       "   0.0011489023454487324,\n",
       "   0.0010688998736441135,\n",
       "   0.000992087065242231],\n",
       "  'accuracy': [0.006500000134110451,\n",
       "   0.03400000184774399,\n",
       "   0.17592857778072357,\n",
       "   0.3848571479320526,\n",
       "   0.577571451663971,\n",
       "   0.7338571548461914,\n",
       "   0.8422142863273621,\n",
       "   0.9154999852180481,\n",
       "   0.9612857103347778,\n",
       "   0.9792143106460571,\n",
       "   0.9893571138381958,\n",
       "   0.9937142729759216,\n",
       "   0.9965000152587891,\n",
       "   0.996071457862854,\n",
       "   0.9980000257492065,\n",
       "   0.9984285831451416,\n",
       "   0.9990714192390442,\n",
       "   0.9994285702705383,\n",
       "   0.9993571639060974,\n",
       "   1.0,\n",
       "   0.9999285936355591,\n",
       "   0.9998571276664734,\n",
       "   1.0,\n",
       "   0.9999285936355591,\n",
       "   1.0,\n",
       "   0.9998571276664734,\n",
       "   0.9997143149375916,\n",
       "   1.0,\n",
       "   1.0,\n",
       "   1.0,\n",
       "   1.0,\n",
       "   1.0,\n",
       "   1.0,\n",
       "   1.0,\n",
       "   1.0,\n",
       "   1.0,\n",
       "   1.0,\n",
       "   1.0,\n",
       "   1.0,\n",
       "   1.0,\n",
       "   1.0,\n",
       "   1.0,\n",
       "   1.0,\n",
       "   1.0,\n",
       "   1.0]}}"
      ]
     },
     "execution_count": 26,
     "metadata": {},
     "output_type": "execute_result"
    }
   ],
   "source": [
    "train"
   ]
  },
  {
   "cell_type": "code",
   "execution_count": 27,
   "id": "e21d3da9",
   "metadata": {},
   "outputs": [
    {
     "data": {
      "text/plain": [
       "Text(0.5, 1.0, 'Name Accuracy')"
      ]
     },
     "execution_count": 27,
     "metadata": {},
     "output_type": "execute_result"
    },
    {
     "data": {
      "image/png": "[encoded data removed]",
      "text/plain": [
       "<Figure size 432x288 with 1 Axes>"
      ]
     },
     "metadata": {
      "needs_background": "light"
     },
     "output_type": "display_data"
    }
   ],
   "source": [
    "import matplotlib.pyplot as plt\n",
    "plt.plot(train[45]['accuracy'], label= 'train')\n",
    "plt.plot(test.keys(), test.values(), label= 'test')\n",
    "plt.legend()\n",
    "plt.title('Name Accuracy')\n"
   ]
  },
  {
   "cell_type": "code",
   "execution_count": 31,
   "id": "06ff8383",
   "metadata": {
    "scrolled": true
   },
   "outputs": [],
   "source": [
    "X = l['stemmed_string']\n",
    "y2 = l['author']\n",
    "X2_train, X2_val, y2_train, y2_val = train_test_split(X, y2, test_size =0.3, random_state=11)\n",
    "\n",
    "N_FEATURES = 15000 # Set number of features\n",
    "N_CLASSES = len(l['author'].unique()) # Set number of classes\n",
    "\n",
    "def build_network():\n",
    "    # Compile a neural network\n",
    "    nn = Sequential()\n",
    "    nn.add(Dense(500, activation='relu', input_shape= (N_FEATURES,)))\n",
    "    nn.add(Dense(150, activation= 'relu'))\n",
    "    nn.add(Dense(N_CLASSES, activation= 'softmax'))\n",
    "    nn.compile(\n",
    "        loss= 'categorical_crossentropy',\n",
    "        optimizer='adam',\n",
    "        metrics=['accuracy']\n",
    "    )\n",
    "    return nn\n",
    "\n",
    "vectorizer = TfidfVectorizer(ngram_range= (1,5), max_features= N_FEATURES) # Create vectorizer\n",
    "tfidf_train = vectorizer.fit_transform(X2_train) # Return features and tfidf values for training set\n",
    "tfidf_train.sort_indices() # Sort by index (required by tensorflow)\n",
    "tfidf_val = vectorizer.transform(X2_val)  # Return tfidf values for test set\n",
    "tfidf_val.sort_indices()"
   ]
  },
  {
   "cell_type": "code",
   "execution_count": 32,
   "id": "b81b32f3",
   "metadata": {},
   "outputs": [
    {
     "name": "stderr",
     "output_type": "stream",
     "text": [
      "C:\\Users\\aarme\\AppData\\Local\\Temp/ipykernel_27984/4203925436.py:4: DeprecationWarning: KerasClassifier is deprecated, use Sci-Keras (https://github.com/adriangb/scikeras) instead. See https://www.adriangb.com/scikeras/stable/migration.html for help migrating.\n",
      "  dnn =  KerasClassifier(build_fn= build_network,\n"
     ]
    },
    {
     "name": "stdout",
     "output_type": "stream",
     "text": [
      "Epoch 1/5\n"
     ]
    },
    {
     "name": "stderr",
     "output_type": "stream",
     "text": [
      "C:\\Users\\aarme\\anaconda3\\lib\\site-packages\\tensorflow\\python\\framework\\indexed_slices.py:444: UserWarning: Converting sparse IndexedSlices(IndexedSlices(indices=Tensor(\"gradient_tape/sequential_10/dense_30/embedding_lookup_sparse/Reshape_1:0\", shape=(None,), dtype=int32), values=Tensor(\"gradient_tape/sequential_10/dense_30/embedding_lookup_sparse/Reshape:0\", shape=(None, 500), dtype=float32), dense_shape=Tensor(\"gradient_tape/sequential_10/dense_30/embedding_lookup_sparse/Cast:0\", shape=(2,), dtype=int32))) to a dense Tensor of unknown shape. This may consume a large amount of memory.\n",
      "  warnings.warn(\n"
     ]
    },
    {
     "name": "stdout",
     "output_type": "stream",
     "text": [
      "Epoch 2/5\n",
      "Epoch 3/5\n",
      "Epoch 4/5\n",
      "Epoch 5/5\n"
     ]
    },
    {
     "name": "stderr",
     "output_type": "stream",
     "text": [
      "C:\\Users\\aarme\\AppData\\Local\\Temp/ipykernel_27984/4203925436.py:4: DeprecationWarning: KerasClassifier is deprecated, use Sci-Keras (https://github.com/adriangb/scikeras) instead. See https://www.adriangb.com/scikeras/stable/migration.html for help migrating.\n",
      "  dnn =  KerasClassifier(build_fn= build_network,\n"
     ]
    },
    {
     "name": "stdout",
     "output_type": "stream",
     "text": [
      "Epoch 1/10\n"
     ]
    },
    {
     "name": "stderr",
     "output_type": "stream",
     "text": [
      "C:\\Users\\aarme\\anaconda3\\lib\\site-packages\\tensorflow\\python\\framework\\indexed_slices.py:444: UserWarning: Converting sparse IndexedSlices(IndexedSlices(indices=Tensor(\"gradient_tape/sequential_11/dense_33/embedding_lookup_sparse/Reshape_1:0\", shape=(None,), dtype=int32), values=Tensor(\"gradient_tape/sequential_11/dense_33/embedding_lookup_sparse/Reshape:0\", shape=(None, 500), dtype=float32), dense_shape=Tensor(\"gradient_tape/sequential_11/dense_33/embedding_lookup_sparse/Cast:0\", shape=(2,), dtype=int32))) to a dense Tensor of unknown shape. This may consume a large amount of memory.\n",
      "  warnings.warn(\n"
     ]
    },
    {
     "name": "stdout",
     "output_type": "stream",
     "text": [
      "Epoch 2/10\n",
      "Epoch 3/10\n",
      "Epoch 4/10\n",
      "Epoch 5/10\n",
      "Epoch 6/10\n",
      "Epoch 7/10\n",
      "Epoch 8/10\n",
      "Epoch 9/10\n",
      "Epoch 10/10\n"
     ]
    },
    {
     "name": "stderr",
     "output_type": "stream",
     "text": [
      "C:\\Users\\aarme\\AppData\\Local\\Temp/ipykernel_27984/4203925436.py:4: DeprecationWarning: KerasClassifier is deprecated, use Sci-Keras (https://github.com/adriangb/scikeras) instead. See https://www.adriangb.com/scikeras/stable/migration.html for help migrating.\n",
      "  dnn =  KerasClassifier(build_fn= build_network,\n"
     ]
    },
    {
     "name": "stdout",
     "output_type": "stream",
     "text": [
      "Epoch 1/15\n"
     ]
    },
    {
     "name": "stderr",
     "output_type": "stream",
     "text": [
      "C:\\Users\\aarme\\anaconda3\\lib\\site-packages\\tensorflow\\python\\framework\\indexed_slices.py:444: UserWarning: Converting sparse IndexedSlices(IndexedSlices(indices=Tensor(\"gradient_tape/sequential_12/dense_36/embedding_lookup_sparse/Reshape_1:0\", shape=(None,), dtype=int32), values=Tensor(\"gradient_tape/sequential_12/dense_36/embedding_lookup_sparse/Reshape:0\", shape=(None, 500), dtype=float32), dense_shape=Tensor(\"gradient_tape/sequential_12/dense_36/embedding_lookup_sparse/Cast:0\", shape=(2,), dtype=int32))) to a dense Tensor of unknown shape. This may consume a large amount of memory.\n",
      "  warnings.warn(\n"
     ]
    },
    {
     "name": "stdout",
     "output_type": "stream",
     "text": [
      "Epoch 2/15\n",
      "Epoch 3/15\n",
      "Epoch 4/15\n",
      "Epoch 5/15\n",
      "Epoch 6/15\n",
      "Epoch 7/15\n",
      "Epoch 8/15\n",
      "Epoch 9/15\n",
      "Epoch 10/15\n",
      "Epoch 11/15\n",
      "Epoch 12/15\n",
      "Epoch 13/15\n",
      "Epoch 14/15\n",
      "Epoch 15/15\n"
     ]
    },
    {
     "name": "stderr",
     "output_type": "stream",
     "text": [
      "C:\\Users\\aarme\\AppData\\Local\\Temp/ipykernel_27984/4203925436.py:4: DeprecationWarning: KerasClassifier is deprecated, use Sci-Keras (https://github.com/adriangb/scikeras) instead. See https://www.adriangb.com/scikeras/stable/migration.html for help migrating.\n",
      "  dnn =  KerasClassifier(build_fn= build_network,\n"
     ]
    },
    {
     "name": "stdout",
     "output_type": "stream",
     "text": [
      "Epoch 1/20\n"
     ]
    },
    {
     "name": "stderr",
     "output_type": "stream",
     "text": [
      "C:\\Users\\aarme\\anaconda3\\lib\\site-packages\\tensorflow\\python\\framework\\indexed_slices.py:444: UserWarning: Converting sparse IndexedSlices(IndexedSlices(indices=Tensor(\"gradient_tape/sequential_13/dense_39/embedding_lookup_sparse/Reshape_1:0\", shape=(None,), dtype=int32), values=Tensor(\"gradient_tape/sequential_13/dense_39/embedding_lookup_sparse/Reshape:0\", shape=(None, 500), dtype=float32), dense_shape=Tensor(\"gradient_tape/sequential_13/dense_39/embedding_lookup_sparse/Cast:0\", shape=(2,), dtype=int32))) to a dense Tensor of unknown shape. This may consume a large amount of memory.\n",
      "  warnings.warn(\n"
     ]
    },
    {
     "name": "stdout",
     "output_type": "stream",
     "text": [
      "Epoch 2/20\n",
      "Epoch 3/20\n",
      "Epoch 4/20\n",
      "Epoch 5/20\n",
      "Epoch 6/20\n",
      "Epoch 7/20\n",
      "Epoch 8/20\n",
      "Epoch 9/20\n",
      "Epoch 10/20\n",
      "Epoch 11/20\n",
      "Epoch 12/20\n",
      "Epoch 13/20\n",
      "Epoch 14/20\n",
      "Epoch 15/20\n",
      "Epoch 16/20\n",
      "Epoch 17/20\n",
      "Epoch 18/20\n",
      "Epoch 19/20\n",
      "Epoch 20/20\n"
     ]
    },
    {
     "name": "stderr",
     "output_type": "stream",
     "text": [
      "C:\\Users\\aarme\\AppData\\Local\\Temp/ipykernel_27984/4203925436.py:4: DeprecationWarning: KerasClassifier is deprecated, use Sci-Keras (https://github.com/adriangb/scikeras) instead. See https://www.adriangb.com/scikeras/stable/migration.html for help migrating.\n",
      "  dnn =  KerasClassifier(build_fn= build_network,\n"
     ]
    },
    {
     "name": "stdout",
     "output_type": "stream",
     "text": [
      "Epoch 1/25\n"
     ]
    },
    {
     "name": "stderr",
     "output_type": "stream",
     "text": [
      "C:\\Users\\aarme\\anaconda3\\lib\\site-packages\\tensorflow\\python\\framework\\indexed_slices.py:444: UserWarning: Converting sparse IndexedSlices(IndexedSlices(indices=Tensor(\"gradient_tape/sequential_14/dense_42/embedding_lookup_sparse/Reshape_1:0\", shape=(None,), dtype=int32), values=Tensor(\"gradient_tape/sequential_14/dense_42/embedding_lookup_sparse/Reshape:0\", shape=(None, 500), dtype=float32), dense_shape=Tensor(\"gradient_tape/sequential_14/dense_42/embedding_lookup_sparse/Cast:0\", shape=(2,), dtype=int32))) to a dense Tensor of unknown shape. This may consume a large amount of memory.\n",
      "  warnings.warn(\n"
     ]
    },
    {
     "name": "stdout",
     "output_type": "stream",
     "text": [
      "Epoch 2/25\n",
      "Epoch 3/25\n",
      "Epoch 4/25\n",
      "Epoch 5/25\n",
      "Epoch 6/25\n",
      "Epoch 7/25\n",
      "Epoch 8/25\n",
      "Epoch 9/25\n",
      "Epoch 10/25\n",
      "Epoch 11/25\n",
      "Epoch 12/25\n",
      "Epoch 13/25\n",
      "Epoch 14/25\n",
      "Epoch 15/25\n",
      "Epoch 16/25\n",
      "Epoch 17/25\n",
      "Epoch 18/25\n",
      "Epoch 19/25\n",
      "Epoch 20/25\n",
      "Epoch 21/25\n",
      "Epoch 22/25\n",
      "Epoch 23/25\n",
      "Epoch 24/25\n",
      "Epoch 25/25\n"
     ]
    },
    {
     "name": "stderr",
     "output_type": "stream",
     "text": [
      "C:\\Users\\aarme\\AppData\\Local\\Temp/ipykernel_27984/4203925436.py:4: DeprecationWarning: KerasClassifier is deprecated, use Sci-Keras (https://github.com/adriangb/scikeras) instead. See https://www.adriangb.com/scikeras/stable/migration.html for help migrating.\n",
      "  dnn =  KerasClassifier(build_fn= build_network,\n"
     ]
    },
    {
     "name": "stdout",
     "output_type": "stream",
     "text": [
      "Epoch 1/30\n"
     ]
    },
    {
     "name": "stderr",
     "output_type": "stream",
     "text": [
      "C:\\Users\\aarme\\anaconda3\\lib\\site-packages\\tensorflow\\python\\framework\\indexed_slices.py:444: UserWarning: Converting sparse IndexedSlices(IndexedSlices(indices=Tensor(\"gradient_tape/sequential_15/dense_45/embedding_lookup_sparse/Reshape_1:0\", shape=(None,), dtype=int32), values=Tensor(\"gradient_tape/sequential_15/dense_45/embedding_lookup_sparse/Reshape:0\", shape=(None, 500), dtype=float32), dense_shape=Tensor(\"gradient_tape/sequential_15/dense_45/embedding_lookup_sparse/Cast:0\", shape=(2,), dtype=int32))) to a dense Tensor of unknown shape. This may consume a large amount of memory.\n",
      "  warnings.warn(\n"
     ]
    },
    {
     "name": "stdout",
     "output_type": "stream",
     "text": [
      "Epoch 2/30\n",
      "Epoch 3/30\n",
      "Epoch 4/30\n",
      "Epoch 5/30\n",
      "Epoch 6/30\n",
      "Epoch 7/30\n",
      "Epoch 8/30\n",
      "Epoch 9/30\n",
      "Epoch 10/30\n",
      "Epoch 11/30\n",
      "Epoch 12/30\n",
      "Epoch 13/30\n",
      "Epoch 14/30\n",
      "Epoch 15/30\n",
      "Epoch 16/30\n",
      "Epoch 17/30\n",
      "Epoch 18/30\n",
      "Epoch 19/30\n",
      "Epoch 20/30\n",
      "Epoch 21/30\n",
      "Epoch 22/30\n",
      "Epoch 23/30\n",
      "Epoch 24/30\n",
      "Epoch 25/30\n",
      "Epoch 26/30\n",
      "Epoch 27/30\n",
      "Epoch 28/30\n",
      "Epoch 29/30\n",
      "Epoch 30/30\n"
     ]
    },
    {
     "name": "stderr",
     "output_type": "stream",
     "text": [
      "C:\\Users\\aarme\\AppData\\Local\\Temp/ipykernel_27984/4203925436.py:4: DeprecationWarning: KerasClassifier is deprecated, use Sci-Keras (https://github.com/adriangb/scikeras) instead. See https://www.adriangb.com/scikeras/stable/migration.html for help migrating.\n",
      "  dnn =  KerasClassifier(build_fn= build_network,\n"
     ]
    },
    {
     "name": "stdout",
     "output_type": "stream",
     "text": [
      "Epoch 1/35\n"
     ]
    },
    {
     "name": "stderr",
     "output_type": "stream",
     "text": [
      "C:\\Users\\aarme\\anaconda3\\lib\\site-packages\\tensorflow\\python\\framework\\indexed_slices.py:444: UserWarning: Converting sparse IndexedSlices(IndexedSlices(indices=Tensor(\"gradient_tape/sequential_16/dense_48/embedding_lookup_sparse/Reshape_1:0\", shape=(None,), dtype=int32), values=Tensor(\"gradient_tape/sequential_16/dense_48/embedding_lookup_sparse/Reshape:0\", shape=(None, 500), dtype=float32), dense_shape=Tensor(\"gradient_tape/sequential_16/dense_48/embedding_lookup_sparse/Cast:0\", shape=(2,), dtype=int32))) to a dense Tensor of unknown shape. This may consume a large amount of memory.\n",
      "  warnings.warn(\n"
     ]
    },
    {
     "name": "stdout",
     "output_type": "stream",
     "text": [
      "Epoch 2/35\n",
      "Epoch 3/35\n",
      "Epoch 4/35\n",
      "Epoch 5/35\n",
      "Epoch 6/35\n",
      "Epoch 7/35\n",
      "Epoch 8/35\n",
      "Epoch 9/35\n",
      "Epoch 10/35\n",
      "Epoch 11/35\n",
      "Epoch 12/35\n",
      "Epoch 13/35\n",
      "Epoch 14/35\n",
      "Epoch 15/35\n",
      "Epoch 16/35\n",
      "Epoch 17/35\n",
      "Epoch 18/35\n",
      "Epoch 19/35\n",
      "Epoch 20/35\n",
      "Epoch 21/35\n",
      "Epoch 22/35\n",
      "Epoch 23/35\n",
      "Epoch 24/35\n",
      "Epoch 25/35\n",
      "Epoch 26/35\n",
      "Epoch 27/35\n",
      "Epoch 28/35\n",
      "Epoch 29/35\n",
      "Epoch 30/35\n",
      "Epoch 31/35\n",
      "Epoch 32/35\n",
      "Epoch 33/35\n",
      "Epoch 34/35\n",
      "Epoch 35/35\n"
     ]
    },
    {
     "name": "stderr",
     "output_type": "stream",
     "text": [
      "C:\\Users\\aarme\\AppData\\Local\\Temp/ipykernel_27984/4203925436.py:4: DeprecationWarning: KerasClassifier is deprecated, use Sci-Keras (https://github.com/adriangb/scikeras) instead. See https://www.adriangb.com/scikeras/stable/migration.html for help migrating.\n",
      "  dnn =  KerasClassifier(build_fn= build_network,\n"
     ]
    },
    {
     "name": "stdout",
     "output_type": "stream",
     "text": [
      "Epoch 1/40\n"
     ]
    },
    {
     "name": "stderr",
     "output_type": "stream",
     "text": [
      "C:\\Users\\aarme\\anaconda3\\lib\\site-packages\\tensorflow\\python\\framework\\indexed_slices.py:444: UserWarning: Converting sparse IndexedSlices(IndexedSlices(indices=Tensor(\"gradient_tape/sequential_17/dense_51/embedding_lookup_sparse/Reshape_1:0\", shape=(None,), dtype=int32), values=Tensor(\"gradient_tape/sequential_17/dense_51/embedding_lookup_sparse/Reshape:0\", shape=(None, 500), dtype=float32), dense_shape=Tensor(\"gradient_tape/sequential_17/dense_51/embedding_lookup_sparse/Cast:0\", shape=(2,), dtype=int32))) to a dense Tensor of unknown shape. This may consume a large amount of memory.\n",
      "  warnings.warn(\n"
     ]
    },
    {
     "name": "stdout",
     "output_type": "stream",
     "text": [
      "Epoch 2/40\n",
      "Epoch 3/40\n",
      "Epoch 4/40\n",
      "Epoch 5/40\n",
      "Epoch 6/40\n",
      "Epoch 7/40\n",
      "Epoch 8/40\n",
      "Epoch 9/40\n",
      "Epoch 10/40\n",
      "Epoch 11/40\n",
      "Epoch 12/40\n",
      "Epoch 13/40\n",
      "Epoch 14/40\n",
      "Epoch 15/40\n",
      "Epoch 16/40\n",
      "Epoch 17/40\n",
      "Epoch 18/40\n",
      "Epoch 19/40\n",
      "Epoch 20/40\n",
      "Epoch 21/40\n",
      "Epoch 22/40\n",
      "Epoch 23/40\n",
      "Epoch 24/40\n",
      "Epoch 25/40\n",
      "Epoch 26/40\n",
      "Epoch 27/40\n",
      "Epoch 28/40\n",
      "Epoch 29/40\n",
      "Epoch 30/40\n",
      "Epoch 31/40\n",
      "Epoch 32/40\n",
      "Epoch 33/40\n",
      "Epoch 34/40\n",
      "Epoch 35/40\n",
      "Epoch 36/40\n",
      "Epoch 37/40\n",
      "Epoch 38/40\n",
      "Epoch 39/40\n",
      "Epoch 40/40\n"
     ]
    },
    {
     "name": "stderr",
     "output_type": "stream",
     "text": [
      "C:\\Users\\aarme\\AppData\\Local\\Temp/ipykernel_27984/4203925436.py:4: DeprecationWarning: KerasClassifier is deprecated, use Sci-Keras (https://github.com/adriangb/scikeras) instead. See https://www.adriangb.com/scikeras/stable/migration.html for help migrating.\n",
      "  dnn =  KerasClassifier(build_fn= build_network,\n"
     ]
    },
    {
     "name": "stdout",
     "output_type": "stream",
     "text": [
      "Epoch 1/45\n"
     ]
    },
    {
     "name": "stderr",
     "output_type": "stream",
     "text": [
      "C:\\Users\\aarme\\anaconda3\\lib\\site-packages\\tensorflow\\python\\framework\\indexed_slices.py:444: UserWarning: Converting sparse IndexedSlices(IndexedSlices(indices=Tensor(\"gradient_tape/sequential_18/dense_54/embedding_lookup_sparse/Reshape_1:0\", shape=(None,), dtype=int32), values=Tensor(\"gradient_tape/sequential_18/dense_54/embedding_lookup_sparse/Reshape:0\", shape=(None, 500), dtype=float32), dense_shape=Tensor(\"gradient_tape/sequential_18/dense_54/embedding_lookup_sparse/Cast:0\", shape=(2,), dtype=int32))) to a dense Tensor of unknown shape. This may consume a large amount of memory.\n",
      "  warnings.warn(\n"
     ]
    },
    {
     "name": "stdout",
     "output_type": "stream",
     "text": [
      "Epoch 2/45\n",
      "Epoch 3/45\n",
      "Epoch 4/45\n",
      "Epoch 5/45\n",
      "Epoch 6/45\n",
      "Epoch 7/45\n",
      "Epoch 8/45\n",
      "Epoch 9/45\n",
      "Epoch 10/45\n",
      "Epoch 11/45\n",
      "Epoch 12/45\n",
      "Epoch 13/45\n",
      "Epoch 14/45\n",
      "Epoch 15/45\n",
      "Epoch 16/45\n",
      "Epoch 17/45\n",
      "Epoch 18/45\n",
      "Epoch 19/45\n",
      "Epoch 20/45\n",
      "Epoch 21/45\n",
      "Epoch 22/45\n",
      "Epoch 23/45\n",
      "Epoch 24/45\n",
      "Epoch 25/45\n",
      "Epoch 26/45\n",
      "Epoch 27/45\n",
      "Epoch 28/45\n",
      "Epoch 29/45\n",
      "Epoch 30/45\n",
      "Epoch 31/45\n",
      "Epoch 32/45\n",
      "Epoch 33/45\n",
      "Epoch 34/45\n",
      "Epoch 35/45\n",
      "Epoch 36/45\n",
      "Epoch 37/45\n",
      "Epoch 38/45\n",
      "Epoch 39/45\n",
      "Epoch 40/45\n",
      "Epoch 41/45\n",
      "Epoch 42/45\n",
      "Epoch 43/45\n",
      "Epoch 44/45\n",
      "Epoch 45/45\n"
     ]
    }
   ],
   "source": [
    "aut_train = {}\n",
    "aut_test = {}\n",
    "for i in range(5, 50, 5):\n",
    "    dnn =  KerasClassifier(build_fn= build_network,\n",
    "                            epochs= i,\n",
    "                            batch_size=128,\n",
    "                          verbose=10)\n",
    "    train_k = dnn.fit(tfidf_train, y2_train) # Train model\n",
    "    aut_train[i] = train_k.history\n",
    "    preds = dnn.predict(tfidf_val)\n",
    "    accuracy = accuracy_score(y2_val, preds) # Get accuracy of model\n",
    "    aut_test[i] = accuracy\n",
    "# score_list = precision_recall_fscore_support(y2_val, preds) # Get precision, recall, and f1 scores\n",
    "# print('Accuracy: ',accuracy)\n",
    "# print('Precision:', score_list[0])\n",
    "# print('Recall:   ', score_list[1])\n",
    "# print('F1 score: ', score_list[2])\n",
    "# mat = ConfusionMatrixDisplay(confusion_matrix(y2_val, preds))\n",
    "# mat.plot()"
   ]
  },
  {
   "cell_type": "code",
   "execution_count": 33,
   "id": "d1f079a4",
   "metadata": {},
   "outputs": [
    {
     "data": {
      "text/plain": [
       "{5: 0.4031666666666667,\n",
       " 10: 0.49033333333333334,\n",
       " 15: 0.5058333333333334,\n",
       " 20: 0.5108333333333334,\n",
       " 25: 0.5081666666666667,\n",
       " 30: 0.5065,\n",
       " 35: 0.5013333333333333,\n",
       " 40: 0.507,\n",
       " 45: 0.49783333333333335}"
      ]
     },
     "execution_count": 33,
     "metadata": {},
     "output_type": "execute_result"
    }
   ],
   "source": [
    "aut_test"
   ]
  },
  {
   "cell_type": "code",
   "execution_count": 34,
   "id": "c89431ca",
   "metadata": {},
   "outputs": [
    {
     "data": {
      "text/plain": [
       "{5: {'loss': [7.334273815155029,\n",
       "   5.954290390014648,\n",
       "   3.8508167266845703,\n",
       "   2.0444116592407227,\n",
       "   0.9427419900894165],\n",
       "  'accuracy': [0.007000000216066837,\n",
       "   0.047357141971588135,\n",
       "   0.2858571410179138,\n",
       "   0.6090714335441589,\n",
       "   0.8404285907745361]},\n",
       " 10: {'loss': [7.343997955322266,\n",
       "   5.976205825805664,\n",
       "   3.881769895553589,\n",
       "   2.0367040634155273,\n",
       "   0.8956795930862427,\n",
       "   0.35236862301826477,\n",
       "   0.13968685269355774,\n",
       "   0.0657181665301323,\n",
       "   0.03695978596806526,\n",
       "   0.024617107585072517],\n",
       "  'accuracy': [0.007785714231431484,\n",
       "   0.050857141613960266,\n",
       "   0.2847857177257538,\n",
       "   0.6191428303718567,\n",
       "   0.8546428680419922,\n",
       "   0.9641428589820862,\n",
       "   0.9918571710586548,\n",
       "   0.9975714087486267,\n",
       "   0.9989285469055176,\n",
       "   0.9994285702705383]},\n",
       " 15: {'loss': [7.362864017486572,\n",
       "   6.0873847007751465,\n",
       "   3.937180280685425,\n",
       "   2.068068027496338,\n",
       "   0.9303853511810303,\n",
       "   0.3699606955051422,\n",
       "   0.14607511460781097,\n",
       "   0.06685329973697662,\n",
       "   0.0395599901676178,\n",
       "   0.025024179369211197,\n",
       "   0.018662961199879646,\n",
       "   0.014075064100325108,\n",
       "   0.011335393413901329,\n",
       "   0.009344324469566345,\n",
       "   0.007815176621079445],\n",
       "  'accuracy': [0.005785714369267225,\n",
       "   0.04457142949104309,\n",
       "   0.28278571367263794,\n",
       "   0.6037142872810364,\n",
       "   0.8468571305274963,\n",
       "   0.9590714573860168,\n",
       "   0.9932857155799866,\n",
       "   0.9983571171760559,\n",
       "   0.9989285469055176,\n",
       "   0.9997857213020325,\n",
       "   0.9997143149375916,\n",
       "   1.0,\n",
       "   1.0,\n",
       "   1.0,\n",
       "   1.0]},\n",
       " 20: {'loss': [7.344816207885742,\n",
       "   5.984961986541748,\n",
       "   3.812199592590332,\n",
       "   1.9590179920196533,\n",
       "   0.8758061528205872,\n",
       "   0.35073864459991455,\n",
       "   0.14148592948913574,\n",
       "   0.06919164955615997,\n",
       "   0.037328481674194336,\n",
       "   0.025323735550045967,\n",
       "   0.01857607811689377,\n",
       "   0.014073310419917107,\n",
       "   0.011407334357500076,\n",
       "   0.009333841502666473,\n",
       "   0.007824732922017574,\n",
       "   0.00665058521553874,\n",
       "   0.005674088839441538,\n",
       "   0.0049427407793700695,\n",
       "   0.004318239167332649,\n",
       "   0.003814280964434147],\n",
       "  'accuracy': [0.0071428571827709675,\n",
       "   0.04800000041723251,\n",
       "   0.2954285740852356,\n",
       "   0.6279285550117493,\n",
       "   0.8548571467399597,\n",
       "   0.9606428742408752,\n",
       "   0.9927856922149658,\n",
       "   0.9968571662902832,\n",
       "   0.9992856979370117,\n",
       "   0.9994999766349792,\n",
       "   0.9997143149375916,\n",
       "   0.9999285936355591,\n",
       "   0.9999285936355591,\n",
       "   1.0,\n",
       "   1.0,\n",
       "   1.0,\n",
       "   1.0,\n",
       "   1.0,\n",
       "   1.0,\n",
       "   1.0]},\n",
       " 25: {'loss': [7.3589653968811035,\n",
       "   5.978456020355225,\n",
       "   3.7713258266448975,\n",
       "   1.9392704963684082,\n",
       "   0.8612377047538757,\n",
       "   0.3448416590690613,\n",
       "   0.14161071181297302,\n",
       "   0.0659809410572052,\n",
       "   0.03761668503284454,\n",
       "   0.025063304230570793,\n",
       "   0.017737748101353645,\n",
       "   0.013787737116217613,\n",
       "   0.011112973093986511,\n",
       "   0.009144356474280357,\n",
       "   0.007693022023886442,\n",
       "   0.006545905023813248,\n",
       "   0.005637620110064745,\n",
       "   0.004886183422058821,\n",
       "   0.0042808884754776955,\n",
       "   0.003781947074458003,\n",
       "   0.0033561859745532274,\n",
       "   0.002994718262925744,\n",
       "   0.002685527317225933,\n",
       "   0.0024108602665364742,\n",
       "   0.0021784298587590456],\n",
       "  'accuracy': [0.009214285761117935,\n",
       "   0.050214286893606186,\n",
       "   0.30557143688201904,\n",
       "   0.6327142715454102,\n",
       "   0.8618571162223816,\n",
       "   0.9629285931587219,\n",
       "   0.9923571348190308,\n",
       "   0.9985714554786682,\n",
       "   0.9991428852081299,\n",
       "   0.9994285702705383,\n",
       "   0.9999285936355591,\n",
       "   1.0,\n",
       "   1.0,\n",
       "   1.0,\n",
       "   1.0,\n",
       "   1.0,\n",
       "   1.0,\n",
       "   1.0,\n",
       "   1.0,\n",
       "   1.0,\n",
       "   1.0,\n",
       "   1.0,\n",
       "   1.0,\n",
       "   1.0,\n",
       "   1.0]},\n",
       " 30: {'loss': [7.349340915679932,\n",
       "   5.989229202270508,\n",
       "   3.8836188316345215,\n",
       "   2.0675456523895264,\n",
       "   0.9475581645965576,\n",
       "   0.382624089717865,\n",
       "   0.15452636778354645,\n",
       "   0.0697735846042633,\n",
       "   0.04065314680337906,\n",
       "   0.025904029607772827,\n",
       "   0.018934030085802078,\n",
       "   0.01433348748832941,\n",
       "   0.011625392362475395,\n",
       "   0.009460768662393093,\n",
       "   0.007944668643176556,\n",
       "   0.006768584251403809,\n",
       "   0.005876618903130293,\n",
       "   0.005044623278081417,\n",
       "   0.004427993670105934,\n",
       "   0.003904058365151286,\n",
       "   0.003455868922173977,\n",
       "   0.0030822118278592825,\n",
       "   0.0027551830280572176,\n",
       "   0.0024808214511722326,\n",
       "   0.0022412638645619154,\n",
       "   0.002025566529482603,\n",
       "   0.0018411165801808238,\n",
       "   0.0016727816546335816,\n",
       "   0.0015248989220708609,\n",
       "   0.0013959348434582353],\n",
       "  'accuracy': [0.008214285597205162,\n",
       "   0.048500001430511475,\n",
       "   0.27950000762939453,\n",
       "   0.6048571467399597,\n",
       "   0.838357150554657,\n",
       "   0.9580000042915344,\n",
       "   0.9909999966621399,\n",
       "   0.9980714321136475,\n",
       "   0.9988571405410767,\n",
       "   0.9997857213020325,\n",
       "   0.9997143149375916,\n",
       "   1.0,\n",
       "   1.0,\n",
       "   1.0,\n",
       "   1.0,\n",
       "   1.0,\n",
       "   1.0,\n",
       "   1.0,\n",
       "   1.0,\n",
       "   1.0,\n",
       "   1.0,\n",
       "   1.0,\n",
       "   1.0,\n",
       "   1.0,\n",
       "   1.0,\n",
       "   1.0,\n",
       "   1.0,\n",
       "   1.0,\n",
       "   1.0,\n",
       "   1.0]},\n",
       " 35: {'loss': [7.352732181549072,\n",
       "   6.051388263702393,\n",
       "   3.864030361175537,\n",
       "   1.9832624197006226,\n",
       "   0.8884826898574829,\n",
       "   0.3614479899406433,\n",
       "   0.14580689370632172,\n",
       "   0.06741921603679657,\n",
       "   0.03858935460448265,\n",
       "   0.025446798652410507,\n",
       "   0.0188885610550642,\n",
       "   0.014473824761807919,\n",
       "   0.011440052650868893,\n",
       "   0.009752722457051277,\n",
       "   0.007920310832560062,\n",
       "   0.00669479463249445,\n",
       "   0.005777169018983841,\n",
       "   0.005022996570914984,\n",
       "   0.004391658119857311,\n",
       "   0.0038759098388254642,\n",
       "   0.003439976368099451,\n",
       "   0.0030670175328850746,\n",
       "   0.0027485352475196123,\n",
       "   0.0024716665502637625,\n",
       "   0.0022297839168459177,\n",
       "   0.0020159094128757715,\n",
       "   0.0018293635221198201,\n",
       "   0.0016658970853313804,\n",
       "   0.001517772558145225,\n",
       "   0.0013892472488805652,\n",
       "   0.0012708879075944424,\n",
       "   0.0011675208806991577,\n",
       "   0.0010720685822889209,\n",
       "   0.0009878554847091436,\n",
       "   0.0009098933078348637],\n",
       "  'accuracy': [0.009214285761117935,\n",
       "   0.04692856967449188,\n",
       "   0.29035714268684387,\n",
       "   0.6216428279876709,\n",
       "   0.8525000214576721,\n",
       "   0.9612143039703369,\n",
       "   0.9917857050895691,\n",
       "   0.9978571534156799,\n",
       "   0.9992142915725708,\n",
       "   0.9997143149375916,\n",
       "   0.9995714426040649,\n",
       "   0.9998571276664734,\n",
       "   0.9999285936355591,\n",
       "   0.9997143149375916,\n",
       "   1.0,\n",
       "   1.0,\n",
       "   1.0,\n",
       "   1.0,\n",
       "   1.0,\n",
       "   1.0,\n",
       "   1.0,\n",
       "   1.0,\n",
       "   1.0,\n",
       "   1.0,\n",
       "   1.0,\n",
       "   1.0,\n",
       "   1.0,\n",
       "   1.0,\n",
       "   1.0,\n",
       "   1.0,\n",
       "   1.0,\n",
       "   1.0,\n",
       "   1.0,\n",
       "   1.0,\n",
       "   1.0]},\n",
       " 40: {'loss': [7.3512282371521,\n",
       "   6.022632598876953,\n",
       "   3.9845802783966064,\n",
       "   2.1396853923797607,\n",
       "   0.9716498255729675,\n",
       "   0.3853219747543335,\n",
       "   0.15721005201339722,\n",
       "   0.07088589668273926,\n",
       "   0.03922978416085243,\n",
       "   0.02605353854596615,\n",
       "   0.01861853152513504,\n",
       "   0.014907784759998322,\n",
       "   0.01131609920412302,\n",
       "   0.00933890976011753,\n",
       "   0.007833306677639484,\n",
       "   0.0066635203547775745,\n",
       "   0.005753049626946449,\n",
       "   0.004989515990018845,\n",
       "   0.004380770958960056,\n",
       "   0.003853015834465623,\n",
       "   0.003414691658690572,\n",
       "   0.0030443044379353523,\n",
       "   0.0027233404107391834,\n",
       "   0.0024517092388123274,\n",
       "   0.0022094559390097857,\n",
       "   0.0020000645890831947,\n",
       "   0.0018210209673270583,\n",
       "   0.0016540553187951446,\n",
       "   0.0015058174030855298,\n",
       "   0.0013770924415439367,\n",
       "   0.0012623750371858478,\n",
       "   0.0011562444269657135,\n",
       "   0.0010633098427206278,\n",
       "   0.0009784031426534057,\n",
       "   0.0009022267768159509,\n",
       "   0.0008316015591844916,\n",
       "   0.0007685862365178764,\n",
       "   0.0007113523315638304,\n",
       "   0.0006574099534191191,\n",
       "   0.0006098491721786559],\n",
       "  'accuracy': [0.008857143111526966,\n",
       "   0.04657142981886864,\n",
       "   0.26892855763435364,\n",
       "   0.5964999794960022,\n",
       "   0.8424999713897705,\n",
       "   0.9542142748832703,\n",
       "   0.9893571138381958,\n",
       "   0.9978571534156799,\n",
       "   0.9992142915725708,\n",
       "   0.9996428489685059,\n",
       "   0.9998571276664734,\n",
       "   0.9996428489685059,\n",
       "   1.0,\n",
       "   1.0,\n",
       "   1.0,\n",
       "   1.0,\n",
       "   1.0,\n",
       "   1.0,\n",
       "   1.0,\n",
       "   1.0,\n",
       "   1.0,\n",
       "   1.0,\n",
       "   1.0,\n",
       "   1.0,\n",
       "   1.0,\n",
       "   1.0,\n",
       "   1.0,\n",
       "   1.0,\n",
       "   1.0,\n",
       "   1.0,\n",
       "   1.0,\n",
       "   1.0,\n",
       "   1.0,\n",
       "   1.0,\n",
       "   1.0,\n",
       "   1.0,\n",
       "   1.0,\n",
       "   1.0,\n",
       "   1.0,\n",
       "   1.0]},\n",
       " 45: {'loss': [7.347702980041504,\n",
       "   5.972711563110352,\n",
       "   3.8229329586029053,\n",
       "   2.0153164863586426,\n",
       "   0.9015046954154968,\n",
       "   0.36010125279426575,\n",
       "   0.14553292095661163,\n",
       "   0.06773397326469421,\n",
       "   0.038055289536714554,\n",
       "   0.02470235526561737,\n",
       "   0.01797376573085785,\n",
       "   0.014514464884996414,\n",
       "   0.011219006963074207,\n",
       "   0.009121916256844997,\n",
       "   0.007687946781516075,\n",
       "   0.006523449905216694,\n",
       "   0.005652288906276226,\n",
       "   0.004884226247668266,\n",
       "   0.004287147894501686,\n",
       "   0.003782070940360427,\n",
       "   0.0033615119755268097,\n",
       "   0.002997000003233552,\n",
       "   0.002686433494091034,\n",
       "   0.0024145066272467375,\n",
       "   0.0021766447462141514,\n",
       "   0.001973285572603345,\n",
       "   0.0017888968577608466,\n",
       "   0.0016292004147544503,\n",
       "   0.001483248546719551,\n",
       "   0.0013567002024501562,\n",
       "   0.0012422606814652681,\n",
       "   0.0011391693260520697,\n",
       "   0.0010484446538612247,\n",
       "   0.0009637761977501214,\n",
       "   0.0008882054826244712,\n",
       "   0.0008191025699488819,\n",
       "   0.0007564217085018754,\n",
       "   0.0006998066673986614,\n",
       "   0.0006483834004029632,\n",
       "   0.0006011739606037736,\n",
       "   0.000556801853235811,\n",
       "   0.0005173702957108617,\n",
       "   0.00048078849795274436,\n",
       "   0.0004461747594177723,\n",
       "   0.00041541364043951035],\n",
       "  'accuracy': [0.008999999612569809,\n",
       "   0.05242856964468956,\n",
       "   0.2882142961025238,\n",
       "   0.6165714263916016,\n",
       "   0.8522142767906189,\n",
       "   0.9599999785423279,\n",
       "   0.9911428689956665,\n",
       "   0.9975000023841858,\n",
       "   0.9991428852081299,\n",
       "   0.9997143149375916,\n",
       "   0.9999285936355591,\n",
       "   0.9994999766349792,\n",
       "   0.9999285936355591,\n",
       "   1.0,\n",
       "   1.0,\n",
       "   1.0,\n",
       "   1.0,\n",
       "   1.0,\n",
       "   1.0,\n",
       "   1.0,\n",
       "   1.0,\n",
       "   1.0,\n",
       "   1.0,\n",
       "   1.0,\n",
       "   1.0,\n",
       "   1.0,\n",
       "   1.0,\n",
       "   1.0,\n",
       "   1.0,\n",
       "   1.0,\n",
       "   1.0,\n",
       "   1.0,\n",
       "   1.0,\n",
       "   1.0,\n",
       "   1.0,\n",
       "   1.0,\n",
       "   1.0,\n",
       "   1.0,\n",
       "   1.0,\n",
       "   1.0,\n",
       "   1.0,\n",
       "   1.0,\n",
       "   1.0,\n",
       "   1.0,\n",
       "   1.0]}}"
      ]
     },
     "execution_count": 34,
     "metadata": {},
     "output_type": "execute_result"
    }
   ],
   "source": [
    "aut_train"
   ]
  },
  {
   "cell_type": "code",
   "execution_count": 35,
   "id": "a35f253e",
   "metadata": {},
   "outputs": [
    {
     "data": {
      "text/plain": [
       "Text(0.5, 1.0, 'Author Accuracy w/ N-grams')"
      ]
     },
     "execution_count": 35,
     "metadata": {},
     "output_type": "execute_result"
    },
    {
     "data": {
      "image/png": "[encoded data removed]",
      "text/plain": [
       "<Figure size 432x288 with 1 Axes>"
      ]
     },
     "metadata": {
      "needs_background": "light"
     },
     "output_type": "display_data"
    }
   ],
   "source": [
    "import matplotlib.pyplot as plt\n",
    "plt.plot(aut_train[45]['accuracy'], label= 'train')\n",
    "plt.plot(aut_test.keys(), aut_test.values(), label= 'test')\n",
    "plt.legend()\n",
    "plt.title('Author Accuracy w/ N-grams')\n"
   ]
  },
  {
   "cell_type": "code",
   "execution_count": 36,
   "id": "3daf9c02",
   "metadata": {},
   "outputs": [],
   "source": [
    "X = l['stemmed_string']\n",
    "y = l['name']\n",
    "X_train, X_val, y_train, y_val = train_test_split(X, y, test_size =0.3, random_state=11)\n",
    "\n",
    "N_FEATURES = 10000 # Set number of features\n",
    "N_CLASSES = len(l['name'].unique()) # Set number of classes\n",
    "\n",
    "def build_network():\n",
    "    # Compile a neural network\n",
    "    nn = Sequential()\n",
    "    nn.add(Dense(500, activation='relu', input_shape= (N_FEATURES,)))\n",
    "    nn.add(Dense(150, activation= 'relu'))\n",
    "    nn.add(Dense(N_CLASSES, activation= 'softmax'))\n",
    "    nn.compile(\n",
    "        loss= 'categorical_crossentropy',\n",
    "        optimizer='adam',\n",
    "        metrics=['accuracy']\n",
    "    )\n",
    "    return nn\n",
    "\n",
    "vectorizer = TfidfVectorizer(ngram_range= (1,5), max_features= N_FEATURES) # Create vectorizer\n",
    "tfidf_train = vectorizer.fit_transform(X_train) # Return features and tfidf values for training set\n",
    "tfidf_train.sort_indices() # Sort by index (required by tensorflow)\n",
    "tfidf_val = vectorizer.transform(X_val)  # Return tfidf values for test set\n",
    "tfidf_val.sort_indices()"
   ]
  },
  {
   "cell_type": "code",
   "execution_count": 37,
   "id": "4b6beef6",
   "metadata": {},
   "outputs": [
    {
     "name": "stderr",
     "output_type": "stream",
     "text": [
      "C:\\Users\\aarme\\AppData\\Local\\Temp/ipykernel_27984/3793485457.py:4: DeprecationWarning: KerasClassifier is deprecated, use Sci-Keras (https://github.com/adriangb/scikeras) instead. See https://www.adriangb.com/scikeras/stable/migration.html for help migrating.\n",
      "  dnn =  KerasClassifier(build_fn= build_network,\n"
     ]
    },
    {
     "name": "stdout",
     "output_type": "stream",
     "text": [
      "Epoch 1/5\n"
     ]
    },
    {
     "name": "stderr",
     "output_type": "stream",
     "text": [
      "C:\\Users\\aarme\\anaconda3\\lib\\site-packages\\tensorflow\\python\\framework\\indexed_slices.py:444: UserWarning: Converting sparse IndexedSlices(IndexedSlices(indices=Tensor(\"gradient_tape/sequential_19/dense_57/embedding_lookup_sparse/Reshape_1:0\", shape=(None,), dtype=int32), values=Tensor(\"gradient_tape/sequential_19/dense_57/embedding_lookup_sparse/Reshape:0\", shape=(None, 500), dtype=float32), dense_shape=Tensor(\"gradient_tape/sequential_19/dense_57/embedding_lookup_sparse/Cast:0\", shape=(2,), dtype=int32))) to a dense Tensor of unknown shape. This may consume a large amount of memory.\n",
      "  warnings.warn(\n"
     ]
    },
    {
     "name": "stdout",
     "output_type": "stream",
     "text": [
      "Epoch 2/5\n",
      "Epoch 3/5\n",
      "Epoch 4/5\n",
      "Epoch 5/5\n"
     ]
    },
    {
     "name": "stderr",
     "output_type": "stream",
     "text": [
      "C:\\Users\\aarme\\AppData\\Local\\Temp/ipykernel_27984/3793485457.py:4: DeprecationWarning: KerasClassifier is deprecated, use Sci-Keras (https://github.com/adriangb/scikeras) instead. See https://www.adriangb.com/scikeras/stable/migration.html for help migrating.\n",
      "  dnn =  KerasClassifier(build_fn= build_network,\n"
     ]
    },
    {
     "name": "stdout",
     "output_type": "stream",
     "text": [
      "Epoch 1/10\n"
     ]
    },
    {
     "name": "stderr",
     "output_type": "stream",
     "text": [
      "C:\\Users\\aarme\\anaconda3\\lib\\site-packages\\tensorflow\\python\\framework\\indexed_slices.py:444: UserWarning: Converting sparse IndexedSlices(IndexedSlices(indices=Tensor(\"gradient_tape/sequential_20/dense_60/embedding_lookup_sparse/Reshape_1:0\", shape=(None,), dtype=int32), values=Tensor(\"gradient_tape/sequential_20/dense_60/embedding_lookup_sparse/Reshape:0\", shape=(None, 500), dtype=float32), dense_shape=Tensor(\"gradient_tape/sequential_20/dense_60/embedding_lookup_sparse/Cast:0\", shape=(2,), dtype=int32))) to a dense Tensor of unknown shape. This may consume a large amount of memory.\n",
      "  warnings.warn(\n"
     ]
    },
    {
     "name": "stdout",
     "output_type": "stream",
     "text": [
      "Epoch 2/10\n",
      "Epoch 3/10\n",
      "Epoch 4/10\n",
      "Epoch 5/10\n",
      "Epoch 6/10\n",
      "Epoch 7/10\n",
      "Epoch 8/10\n",
      "Epoch 9/10\n",
      "Epoch 10/10\n"
     ]
    },
    {
     "name": "stderr",
     "output_type": "stream",
     "text": [
      "C:\\Users\\aarme\\AppData\\Local\\Temp/ipykernel_27984/3793485457.py:4: DeprecationWarning: KerasClassifier is deprecated, use Sci-Keras (https://github.com/adriangb/scikeras) instead. See https://www.adriangb.com/scikeras/stable/migration.html for help migrating.\n",
      "  dnn =  KerasClassifier(build_fn= build_network,\n"
     ]
    },
    {
     "name": "stdout",
     "output_type": "stream",
     "text": [
      "Epoch 1/15\n"
     ]
    },
    {
     "name": "stderr",
     "output_type": "stream",
     "text": [
      "C:\\Users\\aarme\\anaconda3\\lib\\site-packages\\tensorflow\\python\\framework\\indexed_slices.py:444: UserWarning: Converting sparse IndexedSlices(IndexedSlices(indices=Tensor(\"gradient_tape/sequential_21/dense_63/embedding_lookup_sparse/Reshape_1:0\", shape=(None,), dtype=int32), values=Tensor(\"gradient_tape/sequential_21/dense_63/embedding_lookup_sparse/Reshape:0\", shape=(None, 500), dtype=float32), dense_shape=Tensor(\"gradient_tape/sequential_21/dense_63/embedding_lookup_sparse/Cast:0\", shape=(2,), dtype=int32))) to a dense Tensor of unknown shape. This may consume a large amount of memory.\n",
      "  warnings.warn(\n"
     ]
    },
    {
     "name": "stdout",
     "output_type": "stream",
     "text": [
      "Epoch 2/15\n",
      "Epoch 3/15\n",
      "Epoch 4/15\n",
      "Epoch 5/15\n",
      "Epoch 6/15\n",
      "Epoch 7/15\n",
      "Epoch 8/15\n",
      "Epoch 9/15\n",
      "Epoch 10/15\n",
      "Epoch 11/15\n",
      "Epoch 12/15\n",
      "Epoch 13/15\n",
      "Epoch 14/15\n",
      "Epoch 15/15\n"
     ]
    },
    {
     "name": "stderr",
     "output_type": "stream",
     "text": [
      "C:\\Users\\aarme\\AppData\\Local\\Temp/ipykernel_27984/3793485457.py:4: DeprecationWarning: KerasClassifier is deprecated, use Sci-Keras (https://github.com/adriangb/scikeras) instead. See https://www.adriangb.com/scikeras/stable/migration.html for help migrating.\n",
      "  dnn =  KerasClassifier(build_fn= build_network,\n"
     ]
    },
    {
     "name": "stdout",
     "output_type": "stream",
     "text": [
      "Epoch 1/20\n"
     ]
    },
    {
     "name": "stderr",
     "output_type": "stream",
     "text": [
      "C:\\Users\\aarme\\anaconda3\\lib\\site-packages\\tensorflow\\python\\framework\\indexed_slices.py:444: UserWarning: Converting sparse IndexedSlices(IndexedSlices(indices=Tensor(\"gradient_tape/sequential_22/dense_66/embedding_lookup_sparse/Reshape_1:0\", shape=(None,), dtype=int32), values=Tensor(\"gradient_tape/sequential_22/dense_66/embedding_lookup_sparse/Reshape:0\", shape=(None, 500), dtype=float32), dense_shape=Tensor(\"gradient_tape/sequential_22/dense_66/embedding_lookup_sparse/Cast:0\", shape=(2,), dtype=int32))) to a dense Tensor of unknown shape. This may consume a large amount of memory.\n",
      "  warnings.warn(\n"
     ]
    },
    {
     "name": "stdout",
     "output_type": "stream",
     "text": [
      "Epoch 2/20\n",
      "Epoch 3/20\n",
      "Epoch 4/20\n",
      "Epoch 5/20\n",
      "Epoch 6/20\n",
      "Epoch 7/20\n",
      "Epoch 8/20\n",
      "Epoch 9/20\n",
      "Epoch 10/20\n",
      "Epoch 11/20\n",
      "Epoch 12/20\n",
      "Epoch 13/20\n",
      "Epoch 14/20\n",
      "Epoch 15/20\n",
      "Epoch 16/20\n",
      "Epoch 17/20\n",
      "Epoch 18/20\n",
      "Epoch 19/20\n",
      "Epoch 20/20\n"
     ]
    },
    {
     "name": "stderr",
     "output_type": "stream",
     "text": [
      "C:\\Users\\aarme\\AppData\\Local\\Temp/ipykernel_27984/3793485457.py:4: DeprecationWarning: KerasClassifier is deprecated, use Sci-Keras (https://github.com/adriangb/scikeras) instead. See https://www.adriangb.com/scikeras/stable/migration.html for help migrating.\n",
      "  dnn =  KerasClassifier(build_fn= build_network,\n"
     ]
    },
    {
     "name": "stdout",
     "output_type": "stream",
     "text": [
      "Epoch 1/25\n"
     ]
    },
    {
     "name": "stderr",
     "output_type": "stream",
     "text": [
      "C:\\Users\\aarme\\anaconda3\\lib\\site-packages\\tensorflow\\python\\framework\\indexed_slices.py:444: UserWarning: Converting sparse IndexedSlices(IndexedSlices(indices=Tensor(\"gradient_tape/sequential_23/dense_69/embedding_lookup_sparse/Reshape_1:0\", shape=(None,), dtype=int32), values=Tensor(\"gradient_tape/sequential_23/dense_69/embedding_lookup_sparse/Reshape:0\", shape=(None, 500), dtype=float32), dense_shape=Tensor(\"gradient_tape/sequential_23/dense_69/embedding_lookup_sparse/Cast:0\", shape=(2,), dtype=int32))) to a dense Tensor of unknown shape. This may consume a large amount of memory.\n",
      "  warnings.warn(\n"
     ]
    },
    {
     "name": "stdout",
     "output_type": "stream",
     "text": [
      "Epoch 2/25\n",
      "Epoch 3/25\n",
      "Epoch 4/25\n",
      "Epoch 5/25\n",
      "Epoch 6/25\n",
      "Epoch 7/25\n",
      "Epoch 8/25\n",
      "Epoch 9/25\n",
      "Epoch 10/25\n",
      "Epoch 11/25\n",
      "Epoch 12/25\n",
      "Epoch 13/25\n",
      "Epoch 14/25\n",
      "Epoch 15/25\n",
      "Epoch 16/25\n",
      "Epoch 17/25\n",
      "Epoch 18/25\n",
      "Epoch 19/25\n",
      "Epoch 20/25\n",
      "Epoch 21/25\n",
      "Epoch 22/25\n",
      "Epoch 23/25\n",
      "Epoch 24/25\n",
      "Epoch 25/25\n"
     ]
    },
    {
     "name": "stderr",
     "output_type": "stream",
     "text": [
      "C:\\Users\\aarme\\AppData\\Local\\Temp/ipykernel_27984/3793485457.py:4: DeprecationWarning: KerasClassifier is deprecated, use Sci-Keras (https://github.com/adriangb/scikeras) instead. See https://www.adriangb.com/scikeras/stable/migration.html for help migrating.\n",
      "  dnn =  KerasClassifier(build_fn= build_network,\n"
     ]
    },
    {
     "name": "stdout",
     "output_type": "stream",
     "text": [
      "Epoch 1/30\n"
     ]
    },
    {
     "name": "stderr",
     "output_type": "stream",
     "text": [
      "C:\\Users\\aarme\\anaconda3\\lib\\site-packages\\tensorflow\\python\\framework\\indexed_slices.py:444: UserWarning: Converting sparse IndexedSlices(IndexedSlices(indices=Tensor(\"gradient_tape/sequential_24/dense_72/embedding_lookup_sparse/Reshape_1:0\", shape=(None,), dtype=int32), values=Tensor(\"gradient_tape/sequential_24/dense_72/embedding_lookup_sparse/Reshape:0\", shape=(None, 500), dtype=float32), dense_shape=Tensor(\"gradient_tape/sequential_24/dense_72/embedding_lookup_sparse/Cast:0\", shape=(2,), dtype=int32))) to a dense Tensor of unknown shape. This may consume a large amount of memory.\n",
      "  warnings.warn(\n"
     ]
    },
    {
     "name": "stdout",
     "output_type": "stream",
     "text": [
      "Epoch 2/30\n",
      "Epoch 3/30\n",
      "Epoch 4/30\n",
      "Epoch 5/30\n",
      "Epoch 6/30\n",
      "Epoch 7/30\n",
      "Epoch 8/30\n",
      "Epoch 9/30\n",
      "Epoch 10/30\n",
      "Epoch 11/30\n",
      "Epoch 12/30\n",
      "Epoch 13/30\n",
      "Epoch 14/30\n",
      "Epoch 15/30\n",
      "Epoch 16/30\n",
      "Epoch 17/30\n",
      "Epoch 18/30\n",
      "Epoch 19/30\n",
      "Epoch 20/30\n",
      "Epoch 21/30\n",
      "Epoch 22/30\n",
      "Epoch 23/30\n",
      "Epoch 24/30\n",
      "Epoch 25/30\n",
      "Epoch 26/30\n",
      "Epoch 27/30\n",
      "Epoch 28/30\n",
      "Epoch 29/30\n",
      "Epoch 30/30\n"
     ]
    },
    {
     "name": "stderr",
     "output_type": "stream",
     "text": [
      "C:\\Users\\aarme\\AppData\\Local\\Temp/ipykernel_27984/3793485457.py:4: DeprecationWarning: KerasClassifier is deprecated, use Sci-Keras (https://github.com/adriangb/scikeras) instead. See https://www.adriangb.com/scikeras/stable/migration.html for help migrating.\n",
      "  dnn =  KerasClassifier(build_fn= build_network,\n"
     ]
    },
    {
     "name": "stdout",
     "output_type": "stream",
     "text": [
      "Epoch 1/35\n"
     ]
    },
    {
     "name": "stderr",
     "output_type": "stream",
     "text": [
      "C:\\Users\\aarme\\anaconda3\\lib\\site-packages\\tensorflow\\python\\framework\\indexed_slices.py:444: UserWarning: Converting sparse IndexedSlices(IndexedSlices(indices=Tensor(\"gradient_tape/sequential_25/dense_75/embedding_lookup_sparse/Reshape_1:0\", shape=(None,), dtype=int32), values=Tensor(\"gradient_tape/sequential_25/dense_75/embedding_lookup_sparse/Reshape:0\", shape=(None, 500), dtype=float32), dense_shape=Tensor(\"gradient_tape/sequential_25/dense_75/embedding_lookup_sparse/Cast:0\", shape=(2,), dtype=int32))) to a dense Tensor of unknown shape. This may consume a large amount of memory.\n",
      "  warnings.warn(\n"
     ]
    },
    {
     "name": "stdout",
     "output_type": "stream",
     "text": [
      "Epoch 2/35\n",
      "Epoch 3/35\n",
      "Epoch 4/35\n",
      "Epoch 5/35\n",
      "Epoch 6/35\n",
      "Epoch 7/35\n",
      "Epoch 8/35\n",
      "Epoch 9/35\n",
      "Epoch 10/35\n",
      "Epoch 11/35\n",
      "Epoch 12/35\n",
      "Epoch 13/35\n",
      "Epoch 14/35\n",
      "Epoch 15/35\n",
      "Epoch 16/35\n",
      "Epoch 17/35\n",
      "Epoch 18/35\n",
      "Epoch 19/35\n",
      "Epoch 20/35\n",
      "Epoch 21/35\n",
      "Epoch 22/35\n",
      "Epoch 23/35\n",
      "Epoch 24/35\n",
      "Epoch 25/35\n",
      "Epoch 26/35\n",
      "Epoch 27/35\n",
      "Epoch 28/35\n",
      "Epoch 29/35\n",
      "Epoch 30/35\n",
      "Epoch 31/35\n",
      "Epoch 32/35\n",
      "Epoch 33/35\n",
      "Epoch 34/35\n",
      "Epoch 35/35\n"
     ]
    },
    {
     "name": "stderr",
     "output_type": "stream",
     "text": [
      "C:\\Users\\aarme\\AppData\\Local\\Temp/ipykernel_27984/3793485457.py:4: DeprecationWarning: KerasClassifier is deprecated, use Sci-Keras (https://github.com/adriangb/scikeras) instead. See https://www.adriangb.com/scikeras/stable/migration.html for help migrating.\n",
      "  dnn =  KerasClassifier(build_fn= build_network,\n"
     ]
    },
    {
     "name": "stdout",
     "output_type": "stream",
     "text": [
      "Epoch 1/40\n"
     ]
    },
    {
     "name": "stderr",
     "output_type": "stream",
     "text": [
      "C:\\Users\\aarme\\anaconda3\\lib\\site-packages\\tensorflow\\python\\framework\\indexed_slices.py:444: UserWarning: Converting sparse IndexedSlices(IndexedSlices(indices=Tensor(\"gradient_tape/sequential_26/dense_78/embedding_lookup_sparse/Reshape_1:0\", shape=(None,), dtype=int32), values=Tensor(\"gradient_tape/sequential_26/dense_78/embedding_lookup_sparse/Reshape:0\", shape=(None, 500), dtype=float32), dense_shape=Tensor(\"gradient_tape/sequential_26/dense_78/embedding_lookup_sparse/Cast:0\", shape=(2,), dtype=int32))) to a dense Tensor of unknown shape. This may consume a large amount of memory.\n",
      "  warnings.warn(\n"
     ]
    },
    {
     "name": "stdout",
     "output_type": "stream",
     "text": [
      "Epoch 2/40\n",
      "Epoch 3/40\n",
      "Epoch 4/40\n",
      "Epoch 5/40\n",
      "Epoch 6/40\n",
      "Epoch 7/40\n",
      "Epoch 8/40\n",
      "Epoch 9/40\n",
      "Epoch 10/40\n",
      "Epoch 11/40\n",
      "Epoch 12/40\n",
      "Epoch 13/40\n",
      "Epoch 14/40\n",
      "Epoch 15/40\n",
      "Epoch 16/40\n",
      "Epoch 17/40\n",
      "Epoch 18/40\n",
      "Epoch 19/40\n",
      "Epoch 20/40\n",
      "Epoch 21/40\n",
      "Epoch 22/40\n",
      "Epoch 23/40\n",
      "Epoch 24/40\n",
      "Epoch 25/40\n",
      "Epoch 26/40\n",
      "Epoch 27/40\n",
      "Epoch 28/40\n",
      "Epoch 29/40\n",
      "Epoch 30/40\n",
      "Epoch 31/40\n",
      "Epoch 32/40\n",
      "Epoch 33/40\n",
      "Epoch 34/40\n",
      "Epoch 35/40\n",
      "Epoch 36/40\n",
      "Epoch 37/40\n",
      "Epoch 38/40\n",
      "Epoch 39/40\n",
      "Epoch 40/40\n"
     ]
    },
    {
     "name": "stderr",
     "output_type": "stream",
     "text": [
      "C:\\Users\\aarme\\AppData\\Local\\Temp/ipykernel_27984/3793485457.py:4: DeprecationWarning: KerasClassifier is deprecated, use Sci-Keras (https://github.com/adriangb/scikeras) instead. See https://www.adriangb.com/scikeras/stable/migration.html for help migrating.\n",
      "  dnn =  KerasClassifier(build_fn= build_network,\n"
     ]
    },
    {
     "name": "stdout",
     "output_type": "stream",
     "text": [
      "Epoch 1/45\n"
     ]
    },
    {
     "name": "stderr",
     "output_type": "stream",
     "text": [
      "C:\\Users\\aarme\\anaconda3\\lib\\site-packages\\tensorflow\\python\\framework\\indexed_slices.py:444: UserWarning: Converting sparse IndexedSlices(IndexedSlices(indices=Tensor(\"gradient_tape/sequential_27/dense_81/embedding_lookup_sparse/Reshape_1:0\", shape=(None,), dtype=int32), values=Tensor(\"gradient_tape/sequential_27/dense_81/embedding_lookup_sparse/Reshape:0\", shape=(None, 500), dtype=float32), dense_shape=Tensor(\"gradient_tape/sequential_27/dense_81/embedding_lookup_sparse/Cast:0\", shape=(2,), dtype=int32))) to a dense Tensor of unknown shape. This may consume a large amount of memory.\n",
      "  warnings.warn(\n"
     ]
    },
    {
     "name": "stdout",
     "output_type": "stream",
     "text": [
      "Epoch 2/45\n",
      "Epoch 3/45\n",
      "Epoch 4/45\n",
      "Epoch 5/45\n",
      "Epoch 6/45\n",
      "Epoch 7/45\n",
      "Epoch 8/45\n",
      "Epoch 9/45\n",
      "Epoch 10/45\n",
      "Epoch 11/45\n",
      "Epoch 12/45\n",
      "Epoch 13/45\n",
      "Epoch 14/45\n",
      "Epoch 15/45\n",
      "Epoch 16/45\n",
      "Epoch 17/45\n",
      "Epoch 18/45\n",
      "Epoch 19/45\n",
      "Epoch 20/45\n",
      "Epoch 21/45\n",
      "Epoch 22/45\n",
      "Epoch 23/45\n",
      "Epoch 24/45\n",
      "Epoch 25/45\n",
      "Epoch 26/45\n",
      "Epoch 27/45\n",
      "Epoch 28/45\n",
      "Epoch 29/45\n",
      "Epoch 30/45\n",
      "Epoch 31/45\n",
      "Epoch 32/45\n",
      "Epoch 33/45\n",
      "Epoch 34/45\n",
      "Epoch 35/45\n",
      "Epoch 36/45\n",
      "Epoch 37/45\n",
      "Epoch 38/45\n",
      "Epoch 39/45\n",
      "Epoch 40/45\n",
      "Epoch 41/45\n",
      "Epoch 42/45\n",
      "Epoch 43/45\n",
      "Epoch 44/45\n",
      "Epoch 45/45\n"
     ]
    }
   ],
   "source": [
    "n_train = {}\n",
    "n_test = {}\n",
    "for i in range(5, 50, 5):\n",
    "    dnn =  KerasClassifier(build_fn= build_network,\n",
    "                            epochs= i,\n",
    "                            batch_size=128,\n",
    "                          verbose=10)\n",
    "    train_k = dnn.fit(tfidf_train, y_train) # Train model\n",
    "    n_train[i] = train_k.history\n",
    "    preds = dnn.predict(tfidf_val)\n",
    "    accuracy = accuracy_score(y_val, preds) # Get accuracy of model\n",
    "    n_test[i] = accuracy"
   ]
  },
  {
   "cell_type": "code",
   "execution_count": 38,
   "id": "7ade78de",
   "metadata": {},
   "outputs": [
    {
     "data": {
      "text/plain": [
       "{5: 0.35783333333333334,\n",
       " 10: 0.461,\n",
       " 15: 0.47683333333333333,\n",
       " 20: 0.4706666666666667,\n",
       " 25: 0.4845,\n",
       " 30: 0.468,\n",
       " 35: 0.4805,\n",
       " 40: 0.4761666666666667,\n",
       " 45: 0.4806666666666667}"
      ]
     },
     "execution_count": 38,
     "metadata": {},
     "output_type": "execute_result"
    }
   ],
   "source": [
    "n_test"
   ]
  },
  {
   "cell_type": "code",
   "execution_count": 39,
   "id": "459b7bf4",
   "metadata": {},
   "outputs": [
    {
     "data": {
      "text/plain": [
       "{5: {'loss': [7.429455757141113,\n",
       "   5.981204032897949,\n",
       "   4.0347900390625,\n",
       "   2.4425888061523438,\n",
       "   1.356088638305664],\n",
       "  'accuracy': [0.00835714302957058,\n",
       "   0.047428570687770844,\n",
       "   0.24199999868869781,\n",
       "   0.5041428804397583,\n",
       "   0.7298571467399597]},\n",
       " 10: {'loss': [7.449021816253662,\n",
       "   5.9919939041137695,\n",
       "   4.010741233825684,\n",
       "   2.4536752700805664,\n",
       "   1.385789394378662,\n",
       "   0.7245228886604309,\n",
       "   0.35190919041633606,\n",
       "   0.16591711342334747,\n",
       "   0.08606612682342529,\n",
       "   0.05245726555585861],\n",
       "  'accuracy': [0.006357142701745033,\n",
       "   0.047928571701049805,\n",
       "   0.23821428418159485,\n",
       "   0.505142867565155,\n",
       "   0.7265714406967163,\n",
       "   0.8747143149375916,\n",
       "   0.9567142724990845,\n",
       "   0.9871428608894348,\n",
       "   0.9967142939567566,\n",
       "   0.9981428384780884]},\n",
       " 15: {'loss': [7.456949710845947,\n",
       "   6.039592266082764,\n",
       "   3.988225221633911,\n",
       "   2.3643336296081543,\n",
       "   1.2669363021850586,\n",
       "   0.6406831741333008,\n",
       "   0.29832032322883606,\n",
       "   0.1454610824584961,\n",
       "   0.07622411847114563,\n",
       "   0.04573456943035126,\n",
       "   0.030869465321302414,\n",
       "   0.0228122528642416,\n",
       "   0.01880655810236931,\n",
       "   0.014026090502738953,\n",
       "   0.011542394757270813],\n",
       "  'accuracy': [0.005499999970197678,\n",
       "   0.0470714271068573,\n",
       "   0.25528571009635925,\n",
       "   0.5226428508758545,\n",
       "   0.7546428442001343,\n",
       "   0.8938571214675903,\n",
       "   0.9659285545349121,\n",
       "   0.9892857074737549,\n",
       "   0.9961428642272949,\n",
       "   0.9985714554786682,\n",
       "   0.9993571639060974,\n",
       "   0.9996428489685059,\n",
       "   0.9994285702705383,\n",
       "   1.0,\n",
       "   0.9999285936355591]},\n",
       " 20: {'loss': [7.455955982208252,\n",
       "   6.029793739318848,\n",
       "   3.942577838897705,\n",
       "   2.346360445022583,\n",
       "   1.2817084789276123,\n",
       "   0.642002284526825,\n",
       "   0.30417948961257935,\n",
       "   0.14749184250831604,\n",
       "   0.07785909622907639,\n",
       "   0.04531799629330635,\n",
       "   0.03028932400047779,\n",
       "   0.023004164919257164,\n",
       "   0.017957216128706932,\n",
       "   0.014390981756150723,\n",
       "   0.011531471274793148,\n",
       "   0.009593143127858639,\n",
       "   0.00823268759995699,\n",
       "   0.007126790937036276,\n",
       "   0.006170834880322218,\n",
       "   0.005404438357800245],\n",
       "  'accuracy': [0.006142857018858194,\n",
       "   0.05121428519487381,\n",
       "   0.2542857229709625,\n",
       "   0.5249285697937012,\n",
       "   0.7497143149375916,\n",
       "   0.8920714259147644,\n",
       "   0.9651428461074829,\n",
       "   0.9891428351402283,\n",
       "   0.9962142705917358,\n",
       "   0.9986428618431091,\n",
       "   0.9995714426040649,\n",
       "   0.9996428489685059,\n",
       "   0.9995714426040649,\n",
       "   0.9996428489685059,\n",
       "   0.9999285936355591,\n",
       "   1.0,\n",
       "   1.0,\n",
       "   1.0,\n",
       "   1.0,\n",
       "   1.0]},\n",
       " 25: {'loss': [7.453261375427246,\n",
       "   6.039128303527832,\n",
       "   4.012454986572266,\n",
       "   2.38795804977417,\n",
       "   1.29745614528656,\n",
       "   0.6590811014175415,\n",
       "   0.31361132860183716,\n",
       "   0.15228496491909027,\n",
       "   0.07940545678138733,\n",
       "   0.046435050666332245,\n",
       "   0.031105507165193558,\n",
       "   0.023949086666107178,\n",
       "   0.017698468640446663,\n",
       "   0.01421479880809784,\n",
       "   0.0117392772808671,\n",
       "   0.009872443974018097,\n",
       "   0.008215824142098427,\n",
       "   0.007172688841819763,\n",
       "   0.006233596708625555,\n",
       "   0.0054383659735322,\n",
       "   0.004803522489964962,\n",
       "   0.004271050449460745,\n",
       "   0.003802055260166526,\n",
       "   0.0034192444290965796,\n",
       "   0.003074150998145342],\n",
       "  'accuracy': [0.005499999970197678,\n",
       "   0.04457142949104309,\n",
       "   0.25021427869796753,\n",
       "   0.5184999704360962,\n",
       "   0.743571400642395,\n",
       "   0.8838571310043335,\n",
       "   0.9648571610450745,\n",
       "   0.9891428351402283,\n",
       "   0.9969285726547241,\n",
       "   0.998285710811615,\n",
       "   0.9994285702705383,\n",
       "   0.9993571639060974,\n",
       "   0.9998571276664734,\n",
       "   0.9998571276664734,\n",
       "   0.9999285936355591,\n",
       "   0.9999285936355591,\n",
       "   1.0,\n",
       "   1.0,\n",
       "   1.0,\n",
       "   1.0,\n",
       "   1.0,\n",
       "   1.0,\n",
       "   1.0,\n",
       "   1.0,\n",
       "   1.0]},\n",
       " 30: {'loss': [7.458079814910889,\n",
       "   6.051611423492432,\n",
       "   4.033426761627197,\n",
       "   2.4400720596313477,\n",
       "   1.374678611755371,\n",
       "   0.7314509153366089,\n",
       "   0.3568083643913269,\n",
       "   0.17452822625637054,\n",
       "   0.09194458276033401,\n",
       "   0.053379449993371964,\n",
       "   0.0361085869371891,\n",
       "   0.0259991604834795,\n",
       "   0.019984105601906776,\n",
       "   0.015260323882102966,\n",
       "   0.012430194765329361,\n",
       "   0.010378563776612282,\n",
       "   0.008795412257313728,\n",
       "   0.0076085664331912994,\n",
       "   0.006608146242797375,\n",
       "   0.00578484358265996,\n",
       "   0.005086357239633799,\n",
       "   0.004529722034931183,\n",
       "   0.004036766476929188,\n",
       "   0.003622744232416153,\n",
       "   0.003254830604419112,\n",
       "   0.002939017256721854,\n",
       "   0.0026538807433098555,\n",
       "   0.0024181341286748648,\n",
       "   0.002197879133746028,\n",
       "   0.0020031549502164125],\n",
       "  'accuracy': [0.005785714369267225,\n",
       "   0.04621428623795509,\n",
       "   0.24471428990364075,\n",
       "   0.5030714273452759,\n",
       "   0.7312856912612915,\n",
       "   0.87371426820755,\n",
       "   0.9568571448326111,\n",
       "   0.9845714569091797,\n",
       "   0.9945714473724365,\n",
       "   0.9984999895095825,\n",
       "   0.9985714554786682,\n",
       "   0.9994285702705383,\n",
       "   0.9994999766349792,\n",
       "   1.0,\n",
       "   1.0,\n",
       "   1.0,\n",
       "   1.0,\n",
       "   1.0,\n",
       "   1.0,\n",
       "   1.0,\n",
       "   1.0,\n",
       "   1.0,\n",
       "   1.0,\n",
       "   1.0,\n",
       "   1.0,\n",
       "   1.0,\n",
       "   1.0,\n",
       "   1.0,\n",
       "   1.0,\n",
       "   1.0]},\n",
       " 35: {'loss': [7.450117111206055,\n",
       "   6.081658363342285,\n",
       "   4.020352840423584,\n",
       "   2.388251304626465,\n",
       "   1.311843991279602,\n",
       "   0.6573117971420288,\n",
       "   0.3174563944339752,\n",
       "   0.1546047329902649,\n",
       "   0.0792962834239006,\n",
       "   0.04851989820599556,\n",
       "   0.033523134887218475,\n",
       "   0.024813789874315262,\n",
       "   0.018559278920292854,\n",
       "   0.016875656321644783,\n",
       "   0.011810124851763248,\n",
       "   0.009929497726261616,\n",
       "   0.008438765071332455,\n",
       "   0.007230195216834545,\n",
       "   0.006267966702580452,\n",
       "   0.005497784353792667,\n",
       "   0.0048536392860114574,\n",
       "   0.004307230468839407,\n",
       "   0.0038466481491923332,\n",
       "   0.003446359885856509,\n",
       "   0.003099402179941535,\n",
       "   0.002795263659209013,\n",
       "   0.0025333971716463566,\n",
       "   0.0023056534118950367,\n",
       "   0.002101715188473463,\n",
       "   0.0019127739360556006,\n",
       "   0.001747412490658462,\n",
       "   0.0016015153378248215,\n",
       "   0.001470837276428938,\n",
       "   0.0013516610488295555,\n",
       "   0.0012439945712685585],\n",
       "  'accuracy': [0.005642856936901808,\n",
       "   0.04478571563959122,\n",
       "   0.24950000643730164,\n",
       "   0.5233571529388428,\n",
       "   0.7433571219444275,\n",
       "   0.8936428427696228,\n",
       "   0.9639285802841187,\n",
       "   0.9878571629524231,\n",
       "   0.9962142705917358,\n",
       "   0.9984285831451416,\n",
       "   0.9985714554786682,\n",
       "   0.9990000128746033,\n",
       "   0.9993571639060974,\n",
       "   0.9990000128746033,\n",
       "   1.0,\n",
       "   1.0,\n",
       "   1.0,\n",
       "   1.0,\n",
       "   1.0,\n",
       "   1.0,\n",
       "   1.0,\n",
       "   1.0,\n",
       "   1.0,\n",
       "   1.0,\n",
       "   1.0,\n",
       "   1.0,\n",
       "   1.0,\n",
       "   1.0,\n",
       "   1.0,\n",
       "   1.0,\n",
       "   1.0,\n",
       "   1.0,\n",
       "   1.0,\n",
       "   1.0,\n",
       "   1.0]},\n",
       " 40: {'loss': [7.441182613372803,\n",
       "   5.999101638793945,\n",
       "   3.9403183460235596,\n",
       "   2.334906578063965,\n",
       "   1.2772926092147827,\n",
       "   0.6446991562843323,\n",
       "   0.30599647760391235,\n",
       "   0.14931343495845795,\n",
       "   0.07747013121843338,\n",
       "   0.04553196206688881,\n",
       "   0.030896253883838654,\n",
       "   0.022738249972462654,\n",
       "   0.01727369613945484,\n",
       "   0.01425485871732235,\n",
       "   0.011411304585635662,\n",
       "   0.009455546736717224,\n",
       "   0.008089565671980381,\n",
       "   0.006977518554776907,\n",
       "   0.00608611898496747,\n",
       "   0.005716457962989807,\n",
       "   0.00517403706908226,\n",
       "   0.004366331733763218,\n",
       "   0.0037438785657286644,\n",
       "   0.003349395003169775,\n",
       "   0.0030146287754178047,\n",
       "   0.0027166232466697693,\n",
       "   0.0024625842925161123,\n",
       "   0.002235051477327943,\n",
       "   0.00203910400159657,\n",
       "   0.0018590327817946672,\n",
       "   0.0017003542743623257,\n",
       "   0.001559293013997376,\n",
       "   0.0014297532616183162,\n",
       "   0.0013146867277100682,\n",
       "   0.0012091274838894606,\n",
       "   0.001116960309445858,\n",
       "   0.0010301672155037522,\n",
       "   0.0009508820367045701,\n",
       "   0.0008808437269181013,\n",
       "   0.0008132222574204206],\n",
       "  'accuracy': [0.006214285735040903,\n",
       "   0.050857141613960266,\n",
       "   0.25450000166893005,\n",
       "   0.5217857360839844,\n",
       "   0.75,\n",
       "   0.8919285535812378,\n",
       "   0.9648571610450745,\n",
       "   0.9885714054107666,\n",
       "   0.99657142162323,\n",
       "   0.9987857341766357,\n",
       "   0.9992142915725708,\n",
       "   0.9995714426040649,\n",
       "   0.9999285936355591,\n",
       "   0.9997143149375916,\n",
       "   0.9999285936355591,\n",
       "   1.0,\n",
       "   1.0,\n",
       "   1.0,\n",
       "   1.0,\n",
       "   0.9998571276664734,\n",
       "   0.9999285936355591,\n",
       "   1.0,\n",
       "   1.0,\n",
       "   1.0,\n",
       "   1.0,\n",
       "   1.0,\n",
       "   1.0,\n",
       "   1.0,\n",
       "   1.0,\n",
       "   1.0,\n",
       "   1.0,\n",
       "   1.0,\n",
       "   1.0,\n",
       "   1.0,\n",
       "   1.0,\n",
       "   1.0,\n",
       "   1.0,\n",
       "   1.0,\n",
       "   1.0,\n",
       "   1.0]},\n",
       " 45: {'loss': [7.449217796325684,\n",
       "   6.0637526512146,\n",
       "   4.056105613708496,\n",
       "   2.383272886276245,\n",
       "   1.2767398357391357,\n",
       "   0.642280638217926,\n",
       "   0.3042774796485901,\n",
       "   0.1445423662662506,\n",
       "   0.07438197731971741,\n",
       "   0.04532099515199661,\n",
       "   0.030761590227484703,\n",
       "   0.022772837430238724,\n",
       "   0.01703532785177231,\n",
       "   0.013729280792176723,\n",
       "   0.011250199750065804,\n",
       "   0.009395568631589413,\n",
       "   0.007994916290044785,\n",
       "   0.006985687185078859,\n",
       "   0.006044892594218254,\n",
       "   0.005405491217970848,\n",
       "   0.0047629475593566895,\n",
       "   0.004187316633760929,\n",
       "   0.003676846157759428,\n",
       "   0.003293886547908187,\n",
       "   0.0029675476253032684,\n",
       "   0.0026809542905539274,\n",
       "   0.0024307852145284414,\n",
       "   0.002212229184806347,\n",
       "   0.0020133061334490776,\n",
       "   0.001835511182434857,\n",
       "   0.0016807351494207978,\n",
       "   0.0015409371117129922,\n",
       "   0.001411251723766327,\n",
       "   0.001298520597629249,\n",
       "   0.0011945039732381701,\n",
       "   0.0011018958175554872,\n",
       "   0.0010180409299209714,\n",
       "   0.0009418861009180546,\n",
       "   0.0008694986463524401,\n",
       "   0.0008064042776823044,\n",
       "   0.0007468144758604467,\n",
       "   0.0006927383947186172,\n",
       "   0.0006435415125451982,\n",
       "   0.0005968274199403822,\n",
       "   0.0005555961397476494],\n",
       "  'accuracy': [0.006214285735040903,\n",
       "   0.04564285650849342,\n",
       "   0.24685713648796082,\n",
       "   0.5192142724990845,\n",
       "   0.7512142658233643,\n",
       "   0.890071451663971,\n",
       "   0.9637143015861511,\n",
       "   0.9897857308387756,\n",
       "   0.996999979019165,\n",
       "   0.9985714554786682,\n",
       "   0.9990714192390442,\n",
       "   0.9994999766349792,\n",
       "   0.9999285936355591,\n",
       "   0.9998571276664734,\n",
       "   1.0,\n",
       "   1.0,\n",
       "   1.0,\n",
       "   1.0,\n",
       "   1.0,\n",
       "   0.9999285936355591,\n",
       "   0.9999285936355591,\n",
       "   1.0,\n",
       "   1.0,\n",
       "   1.0,\n",
       "   1.0,\n",
       "   1.0,\n",
       "   1.0,\n",
       "   1.0,\n",
       "   1.0,\n",
       "   1.0,\n",
       "   1.0,\n",
       "   1.0,\n",
       "   1.0,\n",
       "   1.0,\n",
       "   1.0,\n",
       "   1.0,\n",
       "   1.0,\n",
       "   1.0,\n",
       "   1.0,\n",
       "   1.0,\n",
       "   1.0,\n",
       "   1.0,\n",
       "   1.0,\n",
       "   1.0,\n",
       "   1.0]}}"
      ]
     },
     "execution_count": 39,
     "metadata": {},
     "output_type": "execute_result"
    }
   ],
   "source": [
    "n_train"
   ]
  },
  {
   "cell_type": "code",
   "execution_count": 40,
   "id": "78288000",
   "metadata": {},
   "outputs": [
    {
     "data": {
      "text/plain": [
       "Text(0.5, 1.0, 'Name Accuracy w/ N-grams')"
      ]
     },
     "execution_count": 40,
     "metadata": {},
     "output_type": "execute_result"
    },
    {
     "data": {
      "image/png": "[encoded data removed]",
      "text/plain": [
       "<Figure size 432x288 with 1 Axes>"
      ]
     },
     "metadata": {
      "needs_background": "light"
     },
     "output_type": "display_data"
    }
   ],
   "source": [
    "import matplotlib.pyplot as plt\n",
    "plt.plot(n_train[45]['accuracy'], label= 'train')\n",
    "plt.plot(n_test.keys(), n_test.values(), label= 'test')\n",
    "plt.legend()\n",
    "plt.title('Name Accuracy w/ N-grams')\n"
   ]
  },
  {
   "cell_type": "code",
   "execution_count": 41,
   "id": "b9b4b3da",
   "metadata": {},
   "outputs": [
    {
     "data": {
      "text/plain": [
       "Text(0, 0.5, 'accuracy')"
      ]
     },
     "execution_count": 41,
     "metadata": {},
     "output_type": "execute_result"
    },
    {
     "data": {
      "image/png": "[encoded data removed]",
      "text/plain": [
       "<Figure size 432x288 with 1 Axes>"
      ]
     },
     "metadata": {
      "needs_background": "light"
     },
     "output_type": "display_data"
    }
   ],
   "source": [
    "plt.plot(aut_test.keys(), aut_test.values(), label= 'n-gram author')\n",
    "plt.plot(n_test.keys(), n_test.values(), label= 'n-gram name')\n",
    "plt.plot(test.keys(), test.values(), label= 'uni-gram name')\n",
    "plt.legend()\n",
    "plt.title('Model Test Accuracy Comparison')\n",
    "plt.xlabel('epochs')\n",
    "plt.ylabel('accuracy')"
   ]
  },
  {
   "cell_type": "code",
   "execution_count": 324,
   "id": "0763adcb",
   "metadata": {},
   "outputs": [
    {
     "data": {
      "text/plain": [
       "{'loss': [7.465326309204102,\n",
       "  6.246710300445557,\n",
       "  4.451611042022705,\n",
       "  2.8166344165802,\n",
       "  1.6185868978500366,\n",
       "  0.8570680022239685,\n",
       "  0.4102685749530792,\n",
       "  0.18991023302078247,\n",
       "  0.09687037765979767,\n",
       "  0.055359262973070145,\n",
       "  0.03569895774126053,\n",
       "  0.025656376034021378,\n",
       "  0.019921932369470596,\n",
       "  0.015862487256526947,\n",
       "  0.01319036539644003,\n",
       "  0.011135082691907883,\n",
       "  0.009347931481897831,\n",
       "  0.007939213886857033,\n",
       "  0.006848274730145931,\n",
       "  0.006017619278281927,\n",
       "  0.00529462331905961,\n",
       "  0.0046983687207102776,\n",
       "  0.004194526467472315,\n",
       "  0.003755350597202778,\n",
       "  0.0033831337932497263,\n",
       "  0.0030505897011607885,\n",
       "  0.0027619802858680487,\n",
       "  0.0025114775635302067,\n",
       "  0.0022859610617160797,\n",
       "  0.002085975371301174,\n",
       "  0.0019075084710493684,\n",
       "  0.0017456253990530968,\n",
       "  0.0016043796204030514,\n",
       "  0.0014729863032698631,\n",
       "  0.0013561424566432834,\n",
       "  0.0012498341966420412,\n",
       "  0.001152223558165133,\n",
       "  0.0010663947323337197,\n",
       "  0.0009861630387604237,\n",
       "  0.0009132646955549717,\n",
       "  0.000844857597257942,\n",
       "  0.0007845959044061601,\n",
       "  0.000728802231606096,\n",
       "  0.0006759120733477175,\n",
       "  0.0006286019342951477],\n",
       " 'accuracy': [0.00357321510091424,\n",
       "  0.03351675719022751,\n",
       "  0.1919531226158142,\n",
       "  0.4418637752532959,\n",
       "  0.6824126243591309,\n",
       "  0.8557135462760925,\n",
       "  0.9509040117263794,\n",
       "  0.9883513450622559,\n",
       "  0.995712161064148,\n",
       "  0.9986422061920166,\n",
       "  0.9994282722473145,\n",
       "  0.9997856020927429,\n",
       "  0.9997856020927429,\n",
       "  0.9997856020927429,\n",
       "  0.9998570680618286,\n",
       "  0.9997856020927429,\n",
       "  0.9999285340309143,\n",
       "  1.0,\n",
       "  1.0,\n",
       "  1.0,\n",
       "  1.0,\n",
       "  1.0,\n",
       "  1.0,\n",
       "  1.0,\n",
       "  1.0,\n",
       "  1.0,\n",
       "  1.0,\n",
       "  1.0,\n",
       "  1.0,\n",
       "  1.0,\n",
       "  1.0,\n",
       "  1.0,\n",
       "  1.0,\n",
       "  1.0,\n",
       "  1.0,\n",
       "  1.0,\n",
       "  1.0,\n",
       "  1.0,\n",
       "  1.0,\n",
       "  1.0,\n",
       "  1.0,\n",
       "  1.0,\n",
       "  1.0,\n",
       "  1.0,\n",
       "  1.0]}"
      ]
     },
     "execution_count": 324,
     "metadata": {},
     "output_type": "execute_result"
    }
   ],
   "source": [
    "train_k.history"
   ]
  },
  {
   "cell_type": "code",
   "execution_count": 325,
   "id": "e3bbf175",
   "metadata": {},
   "outputs": [],
   "source": [
    "x_val =tfidf_val.toarray()"
   ]
  },
  {
   "cell_type": "code",
   "execution_count": 326,
   "id": "5f745bc3",
   "metadata": {},
   "outputs": [],
   "source": [
    "X = l['stemmed_string']\n",
    "y = l['author']\n",
    "X_train, X_val, y_train, y_val = train_test_split(X, y, test_size =0.3, random_state=11)"
   ]
  },
  {
   "cell_type": "code",
   "execution_count": 327,
   "id": "9cef5a2a",
   "metadata": {},
   "outputs": [],
   "source": [
    "N_FEATURES = 15000 # Set number of features\n",
    "N_CLASSES = len(l['author'].unique()) # Set number of classes\n",
    "\n",
    "def build_network():\n",
    "    # Compile a neural network\n",
    "    nn = Sequential()\n",
    "    nn.add(Dense(500, activation='relu', input_shape= (N_FEATURES,)))\n",
    "    nn.add(Dense(150, activation= 'relu'))\n",
    "    nn.add(Dense(N_CLASSES, activation= 'softmax'))\n",
    "    nn.compile(\n",
    "        loss= 'categorical_crossentropy',\n",
    "        optimizer='adam',\n",
    "        metrics=['accuracy']\n",
    "    )\n",
    "    return nn"
   ]
  },
  {
   "cell_type": "code",
   "execution_count": 328,
   "id": "144cab34",
   "metadata": {},
   "outputs": [],
   "source": [
    "vectorizer = TfidfVectorizer(ngram_range= (1,5), max_features= 15000) # Create vectorizer\n",
    "tfidf_train = vectorizer.fit_transform(X_train) # Return features and tfidf values for training set\n",
    "tfidf_train.sort_indices() # Sort by index (required by tensorflow)\n",
    "tfidf_val = vectorizer.transform(X_val)  # Return tfidf values for test set\n",
    "tfidf_val.sort_indices()"
   ]
  },
  {
   "cell_type": "code",
   "execution_count": 329,
   "id": "30211a18",
   "metadata": {},
   "outputs": [
    {
     "name": "stderr",
     "output_type": "stream",
     "text": [
      "C:\\Users\\aarme\\AppData\\Local\\Temp/ipykernel_2108/1357904680.py:1: DeprecationWarning: KerasClassifier is deprecated, use Sci-Keras (https://github.com/adriangb/scikeras) instead. See https://www.adriangb.com/scikeras/stable/migration.html for help migrating.\n",
      "  dnn =  KerasClassifier(build_fn= build_network,\n"
     ]
    },
    {
     "name": "stdout",
     "output_type": "stream",
     "text": [
      "Epoch 1/100\n"
     ]
    },
    {
     "name": "stderr",
     "output_type": "stream",
     "text": [
      "C:\\Users\\aarme\\anaconda3\\lib\\site-packages\\tensorflow\\python\\framework\\indexed_slices.py:444: UserWarning: Converting sparse IndexedSlices(IndexedSlices(indices=Tensor(\"gradient_tape/sequential_122/dense_349/embedding_lookup_sparse/Reshape_1:0\", shape=(None,), dtype=int32), values=Tensor(\"gradient_tape/sequential_122/dense_349/embedding_lookup_sparse/Reshape:0\", shape=(None, 500), dtype=float32), dense_shape=Tensor(\"gradient_tape/sequential_122/dense_349/embedding_lookup_sparse/Cast:0\", shape=(2,), dtype=int32))) to a dense Tensor of unknown shape. This may consume a large amount of memory.\n",
      "  warnings.warn(\n"
     ]
    },
    {
     "name": "stdout",
     "output_type": "stream",
     "text": [
      "Epoch 2/100\n",
      "Epoch 3/100\n",
      "Epoch 4/100\n",
      "Epoch 5/100\n",
      "Epoch 6/100\n",
      "Epoch 7/100\n",
      "Epoch 8/100\n",
      "Epoch 9/100\n",
      "Epoch 10/100\n",
      "Epoch 11/100\n",
      "Epoch 12/100\n",
      "Epoch 13/100\n",
      "Epoch 14/100\n",
      "Epoch 15/100\n",
      "Epoch 16/100\n",
      "Epoch 17/100\n",
      "Epoch 18/100\n",
      "Epoch 19/100\n",
      "Epoch 20/100\n",
      "Epoch 21/100\n",
      "Epoch 22/100\n",
      "Epoch 23/100\n",
      "Epoch 24/100\n",
      "Epoch 25/100\n",
      "Epoch 26/100\n",
      "Epoch 27/100\n",
      "Epoch 28/100\n",
      "Epoch 29/100\n",
      "Epoch 30/100\n",
      "Epoch 31/100\n",
      "Epoch 32/100\n",
      "Epoch 33/100\n",
      "Epoch 34/100\n",
      "Epoch 35/100\n",
      "Epoch 36/100\n",
      "Epoch 37/100\n",
      "Epoch 38/100\n",
      "Epoch 39/100\n",
      "Epoch 40/100\n",
      "Epoch 41/100\n",
      "Epoch 42/100\n",
      "Epoch 43/100\n",
      "Epoch 44/100\n",
      "Epoch 45/100\n",
      "Epoch 46/100\n",
      "Epoch 47/100\n",
      "Epoch 48/100\n",
      "Epoch 49/100\n",
      "Epoch 50/100\n",
      "Epoch 51/100\n",
      "Epoch 52/100\n",
      "Epoch 53/100\n",
      "Epoch 54/100\n",
      "Epoch 55/100\n",
      "Epoch 56/100\n",
      "Epoch 57/100\n",
      "Epoch 58/100\n",
      "Epoch 59/100\n",
      "Epoch 60/100\n",
      "Epoch 61/100\n",
      "Epoch 62/100\n",
      "Epoch 63/100\n",
      "Epoch 64/100\n",
      "Epoch 65/100\n",
      "Epoch 66/100\n",
      "Epoch 67/100\n",
      "Epoch 68/100\n",
      "Epoch 69/100\n",
      "Epoch 70/100\n",
      "Epoch 71/100\n",
      "Epoch 72/100\n",
      "Epoch 73/100\n",
      "Epoch 74/100\n",
      "Epoch 75/100\n",
      "Epoch 76/100\n",
      "Epoch 77/100\n",
      "Epoch 78/100\n",
      "Epoch 79/100\n",
      "Epoch 80/100\n",
      "Epoch 81/100\n",
      "Epoch 82/100\n",
      "Epoch 83/100\n",
      "Epoch 84/100\n",
      "Epoch 85/100\n",
      "Epoch 86/100\n",
      "Epoch 87/100\n",
      "Epoch 88/100\n",
      "Epoch 89/100\n",
      "Epoch 90/100\n",
      "Epoch 91/100\n",
      "Epoch 92/100\n",
      "Epoch 93/100\n",
      "Epoch 94/100\n",
      "Epoch 95/100\n",
      "Epoch 96/100\n",
      "Epoch 97/100\n",
      "Epoch 98/100\n",
      "Epoch 99/100\n",
      "Epoch 100/100\n",
      "Accuracy:  0.4483908620977155\n",
      "Precision: [0.33333333 0.         1.         ... 0.66666667 0.75       0.5       ]\n",
      "Recall:    [0.33333333 0.         1.         ... 1.         1.         0.4       ]\n",
      "F1 score:  [0.33333333 0.         1.         ... 0.8        0.85714286 0.44444444]\n"
     ]
    },
    {
     "name": "stderr",
     "output_type": "stream",
     "text": [
      "C:\\Users\\aarme\\anaconda3\\lib\\site-packages\\sklearn\\metrics\\_classification.py:1248: UndefinedMetricWarning: Precision and F-score are ill-defined and being set to 0.0 in labels with no predicted samples. Use `zero_division` parameter to control this behavior.\n",
      "  >>> from sklearn.metrics import fbeta_score\n",
      "C:\\Users\\aarme\\anaconda3\\lib\\site-packages\\sklearn\\metrics\\_classification.py:1248: UndefinedMetricWarning: Recall and F-score are ill-defined and being set to 0.0 in labels with no true samples. Use `zero_division` parameter to control this behavior.\n",
      "  >>> from sklearn.metrics import fbeta_score\n"
     ]
    }
   ],
   "source": [
    "dnn =  KerasClassifier(build_fn= build_network,\n",
    "                        epochs= 100,\n",
    "                        batch_size=128,\n",
    "                      verbose=10)\n",
    "train_k = dnn.fit(tfidf_train, y_train) # Train model\n",
    "\n",
    "preds = dnn.predict(tfidf_val)\n",
    "accuracy = accuracy_score(y_val, preds) # Get accuracy of model\n",
    "score_list = precision_recall_fscore_support(y_val, preds) # Get precision, recall, and f1 scores\n",
    "print('Accuracy: ',accuracy)\n",
    "print('Precision:', score_list[0])\n",
    "print('Recall:   ', score_list[1])\n",
    "print('F1 score: ', score_list[2])"
   ]
  },
  {
   "cell_type": "code",
   "execution_count": 330,
   "id": "6400a2c2",
   "metadata": {},
   "outputs": [
    {
     "name": "stderr",
     "output_type": "stream",
     "text": [
      "C:\\Users\\aarme\\AppData\\Local\\Temp/ipykernel_2108/3994896152.py:28: DeprecationWarning: KerasClassifier is deprecated, use Sci-Keras (https://github.com/adriangb/scikeras) instead. See https://www.adriangb.com/scikeras/stable/migration.html for help migrating.\n",
      "  dnn =  KerasClassifier(build_fn= build_network,\n"
     ]
    },
    {
     "name": "stdout",
     "output_type": "stream",
     "text": [
      "Epoch 1/100\n"
     ]
    },
    {
     "name": "stderr",
     "output_type": "stream",
     "text": [
      "C:\\Users\\aarme\\anaconda3\\lib\\site-packages\\tensorflow\\python\\framework\\indexed_slices.py:444: UserWarning: Converting sparse IndexedSlices(IndexedSlices(indices=Tensor(\"gradient_tape/sequential_123/dense_352/embedding_lookup_sparse/Reshape_1:0\", shape=(None,), dtype=int32), values=Tensor(\"gradient_tape/sequential_123/dense_352/embedding_lookup_sparse/Reshape:0\", shape=(None, 500), dtype=float32), dense_shape=Tensor(\"gradient_tape/sequential_123/dense_352/embedding_lookup_sparse/Cast:0\", shape=(2,), dtype=int32))) to a dense Tensor of unknown shape. This may consume a large amount of memory.\n",
      "  warnings.warn(\n"
     ]
    },
    {
     "name": "stdout",
     "output_type": "stream",
     "text": [
      "Epoch 2/100\n",
      "Epoch 3/100\n",
      "Epoch 4/100\n",
      "Epoch 5/100\n",
      "Epoch 6/100\n",
      "Epoch 7/100\n",
      "Epoch 8/100\n",
      "Epoch 9/100\n",
      "Epoch 10/100\n",
      "Epoch 11/100\n",
      "Epoch 12/100\n",
      "Epoch 13/100\n",
      "Epoch 14/100\n",
      "Epoch 15/100\n",
      "Epoch 16/100\n",
      "Epoch 17/100\n",
      "Epoch 18/100\n",
      "Epoch 19/100\n",
      "Epoch 20/100\n",
      "Epoch 21/100\n",
      "Epoch 22/100\n",
      "Epoch 23/100\n",
      "Epoch 24/100\n",
      "Epoch 25/100\n",
      "Epoch 26/100\n",
      "Epoch 27/100\n",
      "Epoch 28/100\n",
      "Epoch 29/100\n",
      "Epoch 30/100\n",
      "Epoch 31/100\n",
      "Epoch 32/100\n",
      "Epoch 33/100\n",
      "Epoch 34/100\n",
      "Epoch 35/100\n",
      "Epoch 36/100\n",
      "Epoch 37/100\n",
      "Epoch 38/100\n",
      "Epoch 39/100\n",
      "Epoch 40/100\n",
      "Epoch 41/100\n",
      "Epoch 42/100\n",
      "Epoch 43/100\n",
      "Epoch 44/100\n",
      "Epoch 45/100\n",
      "Epoch 46/100\n",
      "Epoch 47/100\n",
      "Epoch 48/100\n",
      "Epoch 49/100\n",
      "Epoch 50/100\n",
      "Epoch 51/100\n",
      "Epoch 52/100\n",
      "Epoch 53/100\n",
      "Epoch 54/100\n",
      "Epoch 55/100\n",
      "Epoch 56/100\n",
      "Epoch 57/100\n",
      "Epoch 58/100\n",
      "Epoch 59/100\n",
      "Epoch 60/100\n",
      "Epoch 61/100\n",
      "Epoch 62/100\n",
      "Epoch 63/100\n",
      "Epoch 64/100\n",
      "Epoch 65/100\n",
      "Epoch 66/100\n",
      "Epoch 67/100\n",
      "Epoch 68/100\n",
      "Epoch 69/100\n",
      "Epoch 70/100\n",
      "Epoch 71/100\n",
      "Epoch 72/100\n",
      "Epoch 73/100\n",
      "Epoch 74/100\n",
      "Epoch 75/100\n",
      "Epoch 76/100\n",
      "Epoch 77/100\n",
      "Epoch 78/100\n",
      "Epoch 79/100\n",
      "Epoch 80/100\n",
      "Epoch 81/100\n",
      "Epoch 82/100\n",
      "Epoch 83/100\n",
      "Epoch 84/100\n",
      "Epoch 85/100\n",
      "Epoch 86/100\n",
      "Epoch 87/100\n",
      "Epoch 88/100\n",
      "Epoch 89/100\n",
      "Epoch 90/100\n",
      "Epoch 91/100\n",
      "Epoch 92/100\n",
      "Epoch 93/100\n",
      "Epoch 94/100\n",
      "Epoch 95/100\n",
      "Epoch 96/100\n",
      "Epoch 97/100\n",
      "Epoch 98/100\n",
      "Epoch 99/100\n",
      "Epoch 100/100\n",
      "Accuracy:  0.3284975821243955\n",
      "Precision: [1.         0.5        1.         ... 0.85714286 0.33333333 1.        ]\n",
      "Recall:    [0.5        0.125      1.         ... 1.         0.33333333 0.5       ]\n",
      "F1 score:  [0.66666667 0.2        1.         ... 0.92307692 0.33333333 0.66666667]\n"
     ]
    },
    {
     "name": "stderr",
     "output_type": "stream",
     "text": [
      "C:\\Users\\aarme\\anaconda3\\lib\\site-packages\\sklearn\\metrics\\_classification.py:1248: UndefinedMetricWarning: Precision and F-score are ill-defined and being set to 0.0 in labels with no predicted samples. Use `zero_division` parameter to control this behavior.\n",
      "  >>> from sklearn.metrics import fbeta_score\n",
      "C:\\Users\\aarme\\anaconda3\\lib\\site-packages\\sklearn\\metrics\\_classification.py:1248: UndefinedMetricWarning: Recall and F-score are ill-defined and being set to 0.0 in labels with no true samples. Use `zero_division` parameter to control this behavior.\n",
      "  >>> from sklearn.metrics import fbeta_score\n"
     ]
    }
   ],
   "source": [
    "X = l['stemmed_string']\n",
    "y = l['name']\n",
    "X_train, X_val, y_train, y_val = train_test_split(X, y, test_size =0.3, random_state=11)\n",
    "\n",
    "N_FEATURES = 20000 # Set number of features\n",
    "N_CLASSES = len(l['name'].unique()) # Set number of classes\n",
    "\n",
    "def build_network():\n",
    "    # Compile a neural network\n",
    "    nn = Sequential()\n",
    "    nn.add(Dense(500, activation='relu', input_shape= (N_FEATURES,)))\n",
    "    nn.add(Dense(250, activation='relu'))\n",
    "    nn.add(Dense(150, activation= 'relu'))\n",
    "    nn.add(Dense(N_CLASSES, activation= 'softmax'))\n",
    "    nn.compile(\n",
    "        loss= 'categorical_crossentropy',\n",
    "        optimizer='adam',\n",
    "        metrics=['accuracy']\n",
    "    )\n",
    "    return nn\n",
    "\n",
    "vectorizer = TfidfVectorizer(ngram_range= (1,5), max_features= 20000) # Create vectorizer\n",
    "tfidf_train = vectorizer.fit_transform(X_train) # Return features and tfidf values for training set\n",
    "tfidf_train.sort_indices() # Sort by index (required by tensorflow)\n",
    "tfidf_val = vectorizer.transform(X_val)  # Return tfidf values for test set\n",
    "tfidf_val.sort_indices()\n",
    "\n",
    "dnn =  KerasClassifier(build_fn= build_network,\n",
    "                        epochs= 100,\n",
    "                        batch_size=128,\n",
    "                      verbose=10)\n",
    "train_k = dnn.fit(tfidf_train, y_train) # Train model\n",
    "\n",
    "preds = dnn.predict(tfidf_val)\n",
    "accuracy = accuracy_score(y_val, preds) # Get accuracy of model\n",
    "score_list = precision_recall_fscore_support(y_val, preds) # Get precision, recall, and f1 scores\n",
    "print('Accuracy: ',accuracy)\n",
    "print('Precision:', score_list[0])\n",
    "print('Recall:   ', score_list[1])\n",
    "print('F1 score: ', score_list[2])"
   ]
  },
  {
   "cell_type": "code",
   "execution_count": 331,
   "id": "f6a666d6",
   "metadata": {},
   "outputs": [],
   "source": [
    "X = l['tags']\n",
    "y = l['name']\n",
    "X_train, X_val, y_train, y_val = train_test_split(X, y, test_size =0.3, random_state=11)\n",
    "\n",
    "N_FEATURES = 15000 # Set number of features\n",
    "N_CLASSES = len(l['name'].unique()) # Set number of classes\n",
    "\n",
    "def build_network():\n",
    "    # Compile a neural network\n",
    "    nn = Sequential()\n",
    "    nn.add(Dense(500, activation='relu', input_shape= (N_FEATURES,)))\n",
    "    nn.add(Dense(150, activation= 'relu'))\n",
    "    nn.add(Dense(N_CLASSES, activation= 'softmax'))\n",
    "    nn.compile(\n",
    "        loss= 'categorical_crossentropy',\n",
    "        optimizer='adam',\n",
    "        metrics=['accuracy']\n",
    "    )\n",
    "    return nn\n",
    "\n",
    "vectorizer = TfidfVectorizer(ngram_range= (3,8), max_features= N_FEATURES) # Create vectorizer\n",
    "tfidf_train = vectorizer.fit_transform(X_train) # Return features and tfidf values for training set\n",
    "tfidf_train.sort_indices() # Sort by index (required by tensorflow)\n",
    "\n",
    "tfidf_val = vectorizer.transform(X_val)  # Return tfidf values for test set\n",
    "tfidf_val.sort_indices()\n"
   ]
  },
  {
   "cell_type": "code",
   "execution_count": 332,
   "id": "3d855013",
   "metadata": {},
   "outputs": [
    {
     "name": "stderr",
     "output_type": "stream",
     "text": [
      "C:\\Users\\aarme\\AppData\\Local\\Temp/ipykernel_2108/1481549808.py:1: DeprecationWarning: KerasClassifier is deprecated, use Sci-Keras (https://github.com/adriangb/scikeras) instead. See https://www.adriangb.com/scikeras/stable/migration.html for help migrating.\n",
      "  dnn =  KerasClassifier(build_fn= build_network,\n"
     ]
    },
    {
     "name": "stdout",
     "output_type": "stream",
     "text": [
      "Epoch 1/50\n"
     ]
    },
    {
     "name": "stderr",
     "output_type": "stream",
     "text": [
      "C:\\Users\\aarme\\anaconda3\\lib\\site-packages\\tensorflow\\python\\framework\\indexed_slices.py:444: UserWarning: Converting sparse IndexedSlices(IndexedSlices(indices=Tensor(\"gradient_tape/sequential_124/dense_356/embedding_lookup_sparse/Reshape_1:0\", shape=(None,), dtype=int32), values=Tensor(\"gradient_tape/sequential_124/dense_356/embedding_lookup_sparse/Reshape:0\", shape=(None, 500), dtype=float32), dense_shape=Tensor(\"gradient_tape/sequential_124/dense_356/embedding_lookup_sparse/Cast:0\", shape=(2,), dtype=int32))) to a dense Tensor of unknown shape. This may consume a large amount of memory.\n",
      "  warnings.warn(\n"
     ]
    },
    {
     "name": "stdout",
     "output_type": "stream",
     "text": [
      "Epoch 2/50\n",
      "Epoch 3/50\n",
      "Epoch 4/50\n",
      "Epoch 5/50\n",
      "Epoch 6/50\n",
      "Epoch 7/50\n",
      "Epoch 8/50\n",
      "Epoch 9/50\n",
      "Epoch 10/50\n",
      "Epoch 11/50\n",
      "Epoch 12/50\n",
      "Epoch 13/50\n",
      "Epoch 14/50\n",
      "Epoch 15/50\n",
      "Epoch 16/50\n",
      "Epoch 17/50\n",
      "Epoch 18/50\n",
      "Epoch 19/50\n",
      "Epoch 20/50\n",
      "Epoch 21/50\n",
      "Epoch 22/50\n",
      "Epoch 23/50\n",
      "Epoch 24/50\n",
      "Epoch 25/50\n",
      "Epoch 26/50\n",
      "Epoch 27/50\n",
      "Epoch 28/50\n",
      "Epoch 29/50\n",
      "Epoch 30/50\n",
      "Epoch 31/50\n",
      "Epoch 32/50\n",
      "Epoch 33/50\n",
      "Epoch 34/50\n",
      "Epoch 35/50\n",
      "Epoch 36/50\n",
      "Epoch 37/50\n",
      "Epoch 38/50\n",
      "Epoch 39/50\n",
      "Epoch 40/50\n",
      "Epoch 41/50\n",
      "Epoch 42/50\n",
      "Epoch 43/50\n",
      "Epoch 44/50\n",
      "Epoch 45/50\n",
      "Epoch 46/50\n",
      "Epoch 47/50\n",
      "Epoch 48/50\n",
      "Epoch 49/50\n",
      "Epoch 50/50\n",
      "Accuracy:  0.15574453893613474\n"
     ]
    },
    {
     "name": "stderr",
     "output_type": "stream",
     "text": [
      "C:\\Users\\aarme\\anaconda3\\lib\\site-packages\\sklearn\\metrics\\_classification.py:1248: UndefinedMetricWarning: Precision and F-score are ill-defined and being set to 0.0 in labels with no predicted samples. Use `zero_division` parameter to control this behavior.\n",
      "  >>> from sklearn.metrics import fbeta_score\n",
      "C:\\Users\\aarme\\anaconda3\\lib\\site-packages\\sklearn\\metrics\\_classification.py:1248: UndefinedMetricWarning: Recall and F-score are ill-defined and being set to 0.0 in labels with no true samples. Use `zero_division` parameter to control this behavior.\n",
      "  >>> from sklearn.metrics import fbeta_score\n"
     ]
    }
   ],
   "source": [
    "dnn =  KerasClassifier(build_fn= build_network,\n",
    "                        epochs= 50,\n",
    "                        batch_size=128,\n",
    "                      verbose=10)\n",
    "train_k = dnn.fit(tfidf_train, y_train) # Train model\n",
    "\n",
    "preds = dnn.predict(tfidf_val)\n",
    "accuracy = accuracy_score(y_val, preds) # Get accuracy of model\n",
    "score_list = precision_recall_fscore_support(y_val, preds) # Get precision, recall, and f1 scores\n",
    "print('Accuracy: ',accuracy)\n",
    "# print('Precision:', score_list[0])\n",
    "# print('Recall:   ', score_list[1])\n",
    "# print('F1 score: ', score_list[2])"
   ]
  },
  {
   "cell_type": "code",
   "execution_count": 333,
   "id": "1bfd016a",
   "metadata": {},
   "outputs": [],
   "source": [
    "from nltk import ngrams"
   ]
  },
  {
   "cell_type": "code",
   "execution_count": null,
   "id": "a97368cf",
   "metadata": {},
   "outputs": [],
   "source": [
    "x = l['stemmed_string'].apply(lambda x : ngrams(x, 3))"
   ]
  },
  {
   "cell_type": "code",
   "execution_count": 101,
   "id": "5e152c1b",
   "metadata": {},
   "outputs": [
    {
     "name": "stdout",
     "output_type": "stream",
     "text": [
      "Model: \"sequential_21\"\n",
      "_________________________________________________________________\n",
      " Layer (type)                Output Shape              Param #   \n",
      "=================================================================\n",
      " dense_53 (Dense)            (None, 500)               5000500   \n",
      "                                                                 \n",
      " dense_54 (Dense)            (None, 150)               75150     \n",
      "                                                                 \n",
      "=================================================================\n",
      "Total params: 5,075,650\n",
      "Trainable params: 5,075,650\n",
      "Non-trainable params: 0\n",
      "_________________________________________________________________\n"
     ]
    }
   ],
   "source": [
    "from keras import models, layers\n",
    "model = models.Sequential()\n",
    "# model.add(layers.Conv1D(32, (3), activation= 'relu', input_shape=(N_FEATURES,)))\n",
    "# model.add(layers.MaxPooling2D((2,2)))\n",
    "# model.add(layers.Conv2D(64, (3,3),activation= 'relu'))\n",
    "# model.add(layers.MaxPooling2D((2,2)))\n",
    "# model.add(layers.Conv2D(64, (3,3), activation= 'relu'))\n",
    "\n",
    "# model.add(layers.Flatten())\n",
    "model.add(layers.Input(shape= (N_FEATURES,)))\n",
    "model.add(layers.Dense(500, activation= 'relu'))\n",
    "model.add(layers.Dense(150, activation= 'softmax'))\n",
    "\n",
    "model.summary()"
   ]
  },
  {
   "cell_type": "code",
   "execution_count": 107,
   "id": "e225f185",
   "metadata": {},
   "outputs": [
    {
     "name": "stdout",
     "output_type": "stream",
     "text": [
      "WARNING:tensorflow:Keras is training/fitting/evaluating on array-like data. Keras may not be optimized for this format, so if your input data format is supported by TensorFlow I/O (https://github.com/tensorflow/io) we recommend using that to load a Dataset instead.\n",
      "Epoch 1/20\n"
     ]
    },
    {
     "ename": "ValueError",
     "evalue": "in user code:\n\n    File \"C:\\Users\\aarme\\anaconda3\\lib\\site-packages\\keras\\engine\\training.py\", line 1021, in train_function  *\n        return step_function(self, iterator)\n    File \"C:\\Users\\aarme\\anaconda3\\lib\\site-packages\\keras\\engine\\training.py\", line 1010, in step_function  **\n        outputs = model.distribute_strategy.run(run_step, args=(data,))\n    File \"C:\\Users\\aarme\\anaconda3\\lib\\site-packages\\keras\\engine\\training.py\", line 1000, in run_step  **\n        outputs = model.train_step(data)\n    File \"C:\\Users\\aarme\\anaconda3\\lib\\site-packages\\keras\\engine\\training.py\", line 860, in train_step\n        loss = self.compute_loss(x, y, y_pred, sample_weight)\n    File \"C:\\Users\\aarme\\anaconda3\\lib\\site-packages\\keras\\engine\\training.py\", line 918, in compute_loss\n        return self.compiled_loss(\n    File \"C:\\Users\\aarme\\anaconda3\\lib\\site-packages\\keras\\engine\\compile_utils.py\", line 201, in __call__\n        loss_value = loss_obj(y_t, y_p, sample_weight=sw)\n    File \"C:\\Users\\aarme\\anaconda3\\lib\\site-packages\\keras\\losses.py\", line 141, in __call__\n        losses = call_fn(y_true, y_pred)\n    File \"C:\\Users\\aarme\\anaconda3\\lib\\site-packages\\keras\\losses.py\", line 245, in call  **\n        return ag_fn(y_true, y_pred, **self._fn_kwargs)\n    File \"C:\\Users\\aarme\\anaconda3\\lib\\site-packages\\keras\\losses.py\", line 1789, in categorical_crossentropy\n        return backend.categorical_crossentropy(\n    File \"C:\\Users\\aarme\\anaconda3\\lib\\site-packages\\keras\\backend.py\", line 5083, in categorical_crossentropy\n        target.shape.assert_is_compatible_with(output.shape)\n\n    ValueError: Shapes (None, 1) and (None, 150) are incompatible\n",
     "output_type": "error",
     "traceback": [
      "\u001b[1;31m---------------------------------------------------------------------------\u001b[0m",
      "\u001b[1;31mValueError\u001b[0m                                Traceback (most recent call last)",
      "\u001b[1;32m~\\AppData\\Local\\Temp/ipykernel_2108/1762806209.py\u001b[0m in \u001b[0;36m<module>\u001b[1;34m\u001b[0m\n\u001b[0;32m      2\u001b[0m              \u001b[0mloss\u001b[0m\u001b[1;33m=\u001b[0m \u001b[1;34m'categorical_crossentropy'\u001b[0m\u001b[1;33m,\u001b[0m\u001b[1;33m\u001b[0m\u001b[1;33m\u001b[0m\u001b[0m\n\u001b[0;32m      3\u001b[0m              metrics= ['accuracy'])\n\u001b[1;32m----> 4\u001b[1;33m \u001b[0mhistory\u001b[0m \u001b[1;33m=\u001b[0m \u001b[0mmodel\u001b[0m\u001b[1;33m.\u001b[0m\u001b[0mfit\u001b[0m\u001b[1;33m(\u001b[0m\u001b[0mtfidf_train\u001b[0m\u001b[1;33m,\u001b[0m \u001b[0my_train\u001b[0m\u001b[1;33m,\u001b[0m \u001b[0mepochs\u001b[0m\u001b[1;33m=\u001b[0m \u001b[1;36m20\u001b[0m\u001b[1;33m,\u001b[0m \u001b[0mbatch_size\u001b[0m\u001b[1;33m=\u001b[0m \u001b[1;36m128\u001b[0m\u001b[1;33m)\u001b[0m\u001b[1;33m\u001b[0m\u001b[1;33m\u001b[0m\u001b[0m\n\u001b[0m",
      "\u001b[1;32m~\\anaconda3\\lib\\site-packages\\keras\\utils\\traceback_utils.py\u001b[0m in \u001b[0;36merror_handler\u001b[1;34m(*args, **kwargs)\u001b[0m\n\u001b[0;32m     65\u001b[0m     \u001b[1;32mexcept\u001b[0m \u001b[0mException\u001b[0m \u001b[1;32mas\u001b[0m \u001b[0me\u001b[0m\u001b[1;33m:\u001b[0m  \u001b[1;31m# pylint: disable=broad-except\u001b[0m\u001b[1;33m\u001b[0m\u001b[1;33m\u001b[0m\u001b[0m\n\u001b[0;32m     66\u001b[0m       \u001b[0mfiltered_tb\u001b[0m \u001b[1;33m=\u001b[0m \u001b[0m_process_traceback_frames\u001b[0m\u001b[1;33m(\u001b[0m\u001b[0me\u001b[0m\u001b[1;33m.\u001b[0m\u001b[0m__traceback__\u001b[0m\u001b[1;33m)\u001b[0m\u001b[1;33m\u001b[0m\u001b[1;33m\u001b[0m\u001b[0m\n\u001b[1;32m---> 67\u001b[1;33m       \u001b[1;32mraise\u001b[0m \u001b[0me\u001b[0m\u001b[1;33m.\u001b[0m\u001b[0mwith_traceback\u001b[0m\u001b[1;33m(\u001b[0m\u001b[0mfiltered_tb\u001b[0m\u001b[1;33m)\u001b[0m \u001b[1;32mfrom\u001b[0m \u001b[1;32mNone\u001b[0m\u001b[1;33m\u001b[0m\u001b[1;33m\u001b[0m\u001b[0m\n\u001b[0m\u001b[0;32m     68\u001b[0m     \u001b[1;32mfinally\u001b[0m\u001b[1;33m:\u001b[0m\u001b[1;33m\u001b[0m\u001b[1;33m\u001b[0m\u001b[0m\n\u001b[0;32m     69\u001b[0m       \u001b[1;32mdel\u001b[0m \u001b[0mfiltered_tb\u001b[0m\u001b[1;33m\u001b[0m\u001b[1;33m\u001b[0m\u001b[0m\n",
      "\u001b[1;32m~\\anaconda3\\lib\\site-packages\\tensorflow\\python\\framework\\func_graph.py\u001b[0m in \u001b[0;36mautograph_handler\u001b[1;34m(*args, **kwargs)\u001b[0m\n\u001b[0;32m   1145\u001b[0m           \u001b[1;32mexcept\u001b[0m \u001b[0mException\u001b[0m \u001b[1;32mas\u001b[0m \u001b[0me\u001b[0m\u001b[1;33m:\u001b[0m  \u001b[1;31m# pylint:disable=broad-except\u001b[0m\u001b[1;33m\u001b[0m\u001b[1;33m\u001b[0m\u001b[0m\n\u001b[0;32m   1146\u001b[0m             \u001b[1;32mif\u001b[0m \u001b[0mhasattr\u001b[0m\u001b[1;33m(\u001b[0m\u001b[0me\u001b[0m\u001b[1;33m,\u001b[0m \u001b[1;34m\"ag_error_metadata\"\u001b[0m\u001b[1;33m)\u001b[0m\u001b[1;33m:\u001b[0m\u001b[1;33m\u001b[0m\u001b[1;33m\u001b[0m\u001b[0m\n\u001b[1;32m-> 1147\u001b[1;33m               \u001b[1;32mraise\u001b[0m \u001b[0me\u001b[0m\u001b[1;33m.\u001b[0m\u001b[0mag_error_metadata\u001b[0m\u001b[1;33m.\u001b[0m\u001b[0mto_exception\u001b[0m\u001b[1;33m(\u001b[0m\u001b[0me\u001b[0m\u001b[1;33m)\u001b[0m\u001b[1;33m\u001b[0m\u001b[1;33m\u001b[0m\u001b[0m\n\u001b[0m\u001b[0;32m   1148\u001b[0m             \u001b[1;32melse\u001b[0m\u001b[1;33m:\u001b[0m\u001b[1;33m\u001b[0m\u001b[1;33m\u001b[0m\u001b[0m\n\u001b[0;32m   1149\u001b[0m               \u001b[1;32mraise\u001b[0m\u001b[1;33m\u001b[0m\u001b[1;33m\u001b[0m\u001b[0m\n",
      "\u001b[1;31mValueError\u001b[0m: in user code:\n\n    File \"C:\\Users\\aarme\\anaconda3\\lib\\site-packages\\keras\\engine\\training.py\", line 1021, in train_function  *\n        return step_function(self, iterator)\n    File \"C:\\Users\\aarme\\anaconda3\\lib\\site-packages\\keras\\engine\\training.py\", line 1010, in step_function  **\n        outputs = model.distribute_strategy.run(run_step, args=(data,))\n    File \"C:\\Users\\aarme\\anaconda3\\lib\\site-packages\\keras\\engine\\training.py\", line 1000, in run_step  **\n        outputs = model.train_step(data)\n    File \"C:\\Users\\aarme\\anaconda3\\lib\\site-packages\\keras\\engine\\training.py\", line 860, in train_step\n        loss = self.compute_loss(x, y, y_pred, sample_weight)\n    File \"C:\\Users\\aarme\\anaconda3\\lib\\site-packages\\keras\\engine\\training.py\", line 918, in compute_loss\n        return self.compiled_loss(\n    File \"C:\\Users\\aarme\\anaconda3\\lib\\site-packages\\keras\\engine\\compile_utils.py\", line 201, in __call__\n        loss_value = loss_obj(y_t, y_p, sample_weight=sw)\n    File \"C:\\Users\\aarme\\anaconda3\\lib\\site-packages\\keras\\losses.py\", line 141, in __call__\n        losses = call_fn(y_true, y_pred)\n    File \"C:\\Users\\aarme\\anaconda3\\lib\\site-packages\\keras\\losses.py\", line 245, in call  **\n        return ag_fn(y_true, y_pred, **self._fn_kwargs)\n    File \"C:\\Users\\aarme\\anaconda3\\lib\\site-packages\\keras\\losses.py\", line 1789, in categorical_crossentropy\n        return backend.categorical_crossentropy(\n    File \"C:\\Users\\aarme\\anaconda3\\lib\\site-packages\\keras\\backend.py\", line 5083, in categorical_crossentropy\n        target.shape.assert_is_compatible_with(output.shape)\n\n    ValueError: Shapes (None, 1) and (None, 150) are incompatible\n"
     ]
    }
   ],
   "source": [
    "model.compile(optimizer= 'rmsprop',\n",
    "             loss= 'categorical_crossentropy',\n",
    "             metrics= ['accuracy'])\n",
    "history = model.fit(tfidf_train, y_train, epochs= 20, batch_size= 128)"
   ]
  },
  {
   "cell_type": "code",
   "execution_count": 118,
   "id": "cc331c1f",
   "metadata": {},
   "outputs": [
    {
     "name": "stderr",
     "output_type": "stream",
     "text": [
      "C:\\Users\\aarme\\anaconda3\\lib\\site-packages\\sklearn\\neural_network\\_multilayer_perceptron.py:619: UserWarning: Training interrupted by user.\n",
      "  if self.shuffle:\n"
     ]
    }
   ],
   "source": [
    "clf = MLPClassifier(random_state=1, max_iter=3).fit(tfidf_train, y_train)"
   ]
  },
  {
   "cell_type": "code",
   "execution_count": 120,
   "id": "435828a4",
   "metadata": {},
   "outputs": [
    {
     "data": {
      "text/plain": [
       "array(<13998x10000 sparse matrix of type '<class 'numpy.float64'>'\n",
       "\twith 2288215 stored elements in Compressed Sparse Row format>,\n",
       "      dtype=object)"
      ]
     },
     "execution_count": 120,
     "metadata": {},
     "output_type": "execute_result"
    }
   ],
   "source": [
    "import numpy as np\n",
    "np.array(tfidf_train)"
   ]
  },
  {
   "cell_type": "code",
   "execution_count": 121,
   "id": "607bc5cb",
   "metadata": {},
   "outputs": [
    {
     "data": {
      "text/plain": [
       "array(<6000x10000 sparse matrix of type '<class 'numpy.float64'>'\n",
       "\twith 974387 stored elements in Compressed Sparse Row format>,\n",
       "      dtype=object)"
      ]
     },
     "execution_count": 121,
     "metadata": {},
     "output_type": "execute_result"
    }
   ],
   "source": [
    "np.array(tfidf_val)"
   ]
  },
  {
   "cell_type": "code",
   "execution_count": 125,
   "id": "db56cdce",
   "metadata": {},
   "outputs": [],
   "source": [
    "idx, idy, val = sparse.find(tfidf_val)"
   ]
  },
  {
   "cell_type": "code",
   "execution_count": 127,
   "id": "92e624a1",
   "metadata": {},
   "outputs": [],
   "source": [
    "from scipy import sparse\n",
    "import tensorflow as tf"
   ]
  },
  {
   "cell_type": "code",
   "execution_count": 128,
   "id": "9519d4d0",
   "metadata": {},
   "outputs": [],
   "source": [
    "full_indices = tf.stack([idx, idy], axis=1)"
   ]
  },
  {
   "cell_type": "code",
   "execution_count": 129,
   "id": "d1f0d3c5",
   "metadata": {},
   "outputs": [
    {
     "data": {
      "text/plain": [
       "(6000, 10000)"
      ]
     },
     "execution_count": 129,
     "metadata": {},
     "output_type": "execute_result"
    }
   ],
   "source": [
    "tfidf_val.shape"
   ]
  },
  {
   "cell_type": "code",
   "execution_count": 140,
   "id": "8f398bd4",
   "metadata": {},
   "outputs": [],
   "source": [
    "sp_input = tf.SparseTensor(\n",
    "  dense_shape=[6000, 10000],\n",
    "  values=val,\n",
    "  indices =tf.cast(full_indices, tf.int64))"
   ]
  },
  {
   "cell_type": "code",
   "execution_count": 147,
   "id": "66ed4bd9",
   "metadata": {},
   "outputs": [
    {
     "data": {
      "text/plain": [
       "<tf.Tensor: shape=(6000, 10000), dtype=float64, numpy=\n",
       "array([[0., 0., 0., ..., 0., 0., 0.],\n",
       "       [0., 0., 0., ..., 0., 0., 0.],\n",
       "       [0., 0., 0., ..., 0., 0., 0.],\n",
       "       ...,\n",
       "       [0., 0., 0., ..., 0., 0., 0.],\n",
       "       [0., 0., 0., ..., 0., 0., 0.],\n",
       "       [0., 0., 0., ..., 0., 0., 0.]])>"
      ]
     },
     "execution_count": 147,
     "metadata": {},
     "output_type": "execute_result"
    }
   ],
   "source": [
    "tf.sparse.to_dense(tf.sparse.reorder(sp_input))\n"
   ]
  },
  {
   "cell_type": "code",
   "execution_count": 144,
   "id": "1220f7f4",
   "metadata": {},
   "outputs": [
    {
     "data": {
      "text/plain": [
       "array([[0., 0., 0., ..., 0., 0., 0.],\n",
       "       [0., 0., 0., ..., 0., 0., 0.],\n",
       "       [0., 0., 0., ..., 0., 0., 0.],\n",
       "       ...,\n",
       "       [0., 0., 0., ..., 0., 0., 0.],\n",
       "       [0., 0., 0., ..., 0., 0., 0.],\n",
       "       [0., 0., 0., ..., 0., 0., 0.]])"
      ]
     },
     "execution_count": 144,
     "metadata": {},
     "output_type": "execute_result"
    }
   ],
   "source": [
    "tfidf_val.toarray()"
   ]
  },
  {
   "cell_type": "code",
   "execution_count": 146,
   "id": "d86c567c",
   "metadata": {},
   "outputs": [
    {
     "data": {
      "text/plain": [
       "True"
      ]
     },
     "execution_count": 146,
     "metadata": {},
     "output_type": "execute_result"
    }
   ],
   "source": [
    "np.array_equiv(tf.sparse.to_dense(tf.sparse.reorder(sp_input)).numpy(), tfidf_val.toarray())\n",
    "   "
   ]
  },
  {
   "cell_type": "code",
   "execution_count": null,
   "id": "58566eb8",
   "metadata": {},
   "outputs": [],
   "source": [
    "N_FEATURES = 5000 # Set number of features\n",
    "N_CLASSES = len(l['name'].unique()) # Set number of classes\n",
    "\n",
    "def build_network():\n",
    "    # Compile a neural network\n",
    "    nn = Sequential()\n",
    "    nn.add(Dense(500, activation='relu', input_shape= (N_FEATURES,)))\n",
    "    nn.add(Dense(150, activation= 'relu'))\n",
    "    nn.add(Dense(N_CLASSES, activation= 'softmax'))\n",
    "    nn.compile(\n",
    "        loss= 'categorical_crossentropy',\n",
    "        optimizer='adam',\n",
    "        metrics=['accuracy']\n",
    "    )\n",
    "    return nn\n",
    "\n",
    "vectorizer = TfidfVectorizer( max_features= N_FEATURES) # Create vectorizer\n",
    "tfidf_train = vectorizer.fit_transform(X_train) # Return features and tfidf values for training set\n",
    "tfidf_train.sort_indices() # Sort by index (required by tensorflow)\n",
    "tfidf_val = vectorizer.transform(X_val)  # Return tfidf values for test set\n",
    "tfidf_val.sort_indices()"
   ]
  },
  {
   "cell_type": "code",
   "execution_count": 198,
   "id": "d549a297",
   "metadata": {},
   "outputs": [],
   "source": []
  },
  {
   "cell_type": "code",
   "execution_count": 230,
   "id": "94ddc205",
   "metadata": {},
   "outputs": [
    {
     "name": "stderr",
     "output_type": "stream",
     "text": [
      "C:\\Users\\aarme\\AppData\\Local\\Temp/ipykernel_2108/1582084651.py:23: DeprecationWarning: KerasClassifier is deprecated, use Sci-Keras (https://github.com/adriangb/scikeras) instead. See https://www.adriangb.com/scikeras/stable/migration.html for help migrating.\n",
      "  dnn =  KerasClassifier(build_fn= build_network,\n"
     ]
    },
    {
     "ename": "ValueError",
     "evalue": "warm_start_from is not a legal parameter",
     "output_type": "error",
     "traceback": [
      "\u001b[1;31m---------------------------------------------------------------------------\u001b[0m",
      "\u001b[1;31mValueError\u001b[0m                                Traceback (most recent call last)",
      "\u001b[1;32m~\\AppData\\Local\\Temp/ipykernel_2108/1582084651.py\u001b[0m in \u001b[0;36m<module>\u001b[1;34m\u001b[0m\n\u001b[0;32m     21\u001b[0m \u001b[0mtfidf_val\u001b[0m\u001b[1;33m.\u001b[0m\u001b[0msort_indices\u001b[0m\u001b[1;33m(\u001b[0m\u001b[1;33m)\u001b[0m\u001b[1;33m\u001b[0m\u001b[1;33m\u001b[0m\u001b[0m\n\u001b[0;32m     22\u001b[0m \u001b[1;33m\u001b[0m\u001b[0m\n\u001b[1;32m---> 23\u001b[1;33m dnn =  KerasClassifier(build_fn= build_network,\n\u001b[0m\u001b[0;32m     24\u001b[0m                         \u001b[0mepochs\u001b[0m\u001b[1;33m=\u001b[0m \u001b[1;36m5\u001b[0m\u001b[1;33m,\u001b[0m\u001b[1;33m\u001b[0m\u001b[1;33m\u001b[0m\u001b[0m\n\u001b[0;32m     25\u001b[0m                         \u001b[0mbatch_size\u001b[0m\u001b[1;33m=\u001b[0m\u001b[1;36m128\u001b[0m\u001b[1;33m,\u001b[0m\u001b[1;33m\u001b[0m\u001b[1;33m\u001b[0m\u001b[0m\n",
      "\u001b[1;32m~\\anaconda3\\lib\\site-packages\\keras\\wrappers\\scikit_learn.py\u001b[0m in \u001b[0;36m__init__\u001b[1;34m(self, build_fn, **sk_params)\u001b[0m\n\u001b[0;32m    204\u001b[0m         \u001b[0mDeprecationWarning\u001b[0m\u001b[1;33m,\u001b[0m\u001b[1;33m\u001b[0m\u001b[1;33m\u001b[0m\u001b[0m\n\u001b[0;32m    205\u001b[0m         stacklevel=2)\n\u001b[1;32m--> 206\u001b[1;33m     \u001b[0msuper\u001b[0m\u001b[1;33m(\u001b[0m\u001b[1;33m)\u001b[0m\u001b[1;33m.\u001b[0m\u001b[0m__init__\u001b[0m\u001b[1;33m(\u001b[0m\u001b[0mbuild_fn\u001b[0m\u001b[1;33m,\u001b[0m \u001b[1;33m**\u001b[0m\u001b[0msk_params\u001b[0m\u001b[1;33m)\u001b[0m\u001b[1;33m\u001b[0m\u001b[1;33m\u001b[0m\u001b[0m\n\u001b[0m\u001b[0;32m    207\u001b[0m \u001b[1;33m\u001b[0m\u001b[0m\n\u001b[0;32m    208\u001b[0m   \u001b[1;32mdef\u001b[0m \u001b[0mfit\u001b[0m\u001b[1;33m(\u001b[0m\u001b[0mself\u001b[0m\u001b[1;33m,\u001b[0m \u001b[0mx\u001b[0m\u001b[1;33m,\u001b[0m \u001b[0my\u001b[0m\u001b[1;33m,\u001b[0m \u001b[1;33m**\u001b[0m\u001b[0mkwargs\u001b[0m\u001b[1;33m)\u001b[0m\u001b[1;33m:\u001b[0m\u001b[1;33m\u001b[0m\u001b[1;33m\u001b[0m\u001b[0m\n",
      "\u001b[1;32m~\\anaconda3\\lib\\site-packages\\keras\\wrappers\\scikit_learn.py\u001b[0m in \u001b[0;36m__init__\u001b[1;34m(self, build_fn, **sk_params)\u001b[0m\n\u001b[0;32m     74\u001b[0m     \u001b[0mself\u001b[0m\u001b[1;33m.\u001b[0m\u001b[0mbuild_fn\u001b[0m \u001b[1;33m=\u001b[0m \u001b[0mbuild_fn\u001b[0m\u001b[1;33m\u001b[0m\u001b[1;33m\u001b[0m\u001b[0m\n\u001b[0;32m     75\u001b[0m     \u001b[0mself\u001b[0m\u001b[1;33m.\u001b[0m\u001b[0msk_params\u001b[0m \u001b[1;33m=\u001b[0m \u001b[0msk_params\u001b[0m\u001b[1;33m\u001b[0m\u001b[1;33m\u001b[0m\u001b[0m\n\u001b[1;32m---> 76\u001b[1;33m     \u001b[0mself\u001b[0m\u001b[1;33m.\u001b[0m\u001b[0mcheck_params\u001b[0m\u001b[1;33m(\u001b[0m\u001b[0msk_params\u001b[0m\u001b[1;33m)\u001b[0m\u001b[1;33m\u001b[0m\u001b[1;33m\u001b[0m\u001b[0m\n\u001b[0m\u001b[0;32m     77\u001b[0m \u001b[1;33m\u001b[0m\u001b[0m\n\u001b[0;32m     78\u001b[0m   \u001b[1;32mdef\u001b[0m \u001b[0mcheck_params\u001b[0m\u001b[1;33m(\u001b[0m\u001b[0mself\u001b[0m\u001b[1;33m,\u001b[0m \u001b[0mparams\u001b[0m\u001b[1;33m)\u001b[0m\u001b[1;33m:\u001b[0m\u001b[1;33m\u001b[0m\u001b[1;33m\u001b[0m\u001b[0m\n",
      "\u001b[1;32m~\\anaconda3\\lib\\site-packages\\keras\\wrappers\\scikit_learn.py\u001b[0m in \u001b[0;36mcheck_params\u001b[1;34m(self, params)\u001b[0m\n\u001b[0;32m    102\u001b[0m       \u001b[1;32melse\u001b[0m\u001b[1;33m:\u001b[0m\u001b[1;33m\u001b[0m\u001b[1;33m\u001b[0m\u001b[0m\n\u001b[0;32m    103\u001b[0m         \u001b[1;32mif\u001b[0m \u001b[0mparams_name\u001b[0m \u001b[1;33m!=\u001b[0m \u001b[1;34m'nb_epoch'\u001b[0m\u001b[1;33m:\u001b[0m\u001b[1;33m\u001b[0m\u001b[1;33m\u001b[0m\u001b[0m\n\u001b[1;32m--> 104\u001b[1;33m           \u001b[1;32mraise\u001b[0m \u001b[0mValueError\u001b[0m\u001b[1;33m(\u001b[0m\u001b[1;34m'{} is not a legal parameter'\u001b[0m\u001b[1;33m.\u001b[0m\u001b[0mformat\u001b[0m\u001b[1;33m(\u001b[0m\u001b[0mparams_name\u001b[0m\u001b[1;33m)\u001b[0m\u001b[1;33m)\u001b[0m\u001b[1;33m\u001b[0m\u001b[1;33m\u001b[0m\u001b[0m\n\u001b[0m\u001b[0;32m    105\u001b[0m \u001b[1;33m\u001b[0m\u001b[0m\n\u001b[0;32m    106\u001b[0m   \u001b[1;32mdef\u001b[0m \u001b[0mget_params\u001b[0m\u001b[1;33m(\u001b[0m\u001b[0mself\u001b[0m\u001b[1;33m,\u001b[0m \u001b[1;33m**\u001b[0m\u001b[0mparams\u001b[0m\u001b[1;33m)\u001b[0m\u001b[1;33m:\u001b[0m  \u001b[1;31m# pylint: disable=unused-argument\u001b[0m\u001b[1;33m\u001b[0m\u001b[1;33m\u001b[0m\u001b[0m\n",
      "\u001b[1;31mValueError\u001b[0m: warm_start_from is not a legal parameter"
     ]
    }
   ],
   "source": [
    "N_FEATURES = 5000 # Set number of features\n",
    "N_CLASSES = len(l['name'].unique()) # Set number of classes\n",
    "\n",
    "def build_network():\n",
    "    # Compile a neural network\n",
    "    nn = Sequential()\n",
    "    nn.add(Dense(500, activation='relu', input_shape= (N_FEATURES,)))\n",
    "    nn.add(Dense(150, activation= 'relu'))\n",
    "    nn.add(Dense(N_CLASSES, activation= 'softmax'))\n",
    "    nn.compile(\n",
    "        loss= 'categorical_crossentropy',\n",
    "        optimizer='adam',\n",
    "        metrics=['accuracy']\n",
    "    )\n",
    "    return nn\n",
    "\n",
    "vectorizer = TfidfVectorizer( max_features= N_FEATURES) # Create vectorizer\n",
    "tfidf_train = vectorizer.fit_transform(X_train) # Return features and tfidf values for training set\n",
    "tfidf_train.sort_indices() # Sort by index (required by tensorflow)\n",
    "tfidf_val = vectorizer.transform(X_val)  # Return tfidf values for test set\n",
    "tfidf_val.sort_indices()\n",
    "\n",
    "dnn =  KerasClassifier(build_fn= build_network,\n",
    "                        epochs= 5,\n",
    "                        batch_size=128,\n",
    "                      verbose=10)\n"
   ]
  },
  {
   "cell_type": "code",
   "execution_count": null,
   "id": "59cda95e",
   "metadata": {},
   "outputs": [],
   "source": [
    "train_k = dnn.fit(tfidf_train, y_train) # Train model\n",
    "\n",
    "# preds = dnn.predict(tfidf_val)\n",
    "# accuracy = accuracy_score(y_val, preds)"
   ]
  },
  {
   "cell_type": "code",
   "execution_count": 221,
   "id": "582ae7be",
   "metadata": {},
   "outputs": [
    {
     "data": {
      "text/plain": [
       "{'loss': [7.483886241912842,\n",
       "  6.147985935211182,\n",
       "  4.288735389709473,\n",
       "  2.8758764266967773,\n",
       "  1.8949254751205444],\n",
       " 'accuracy': [0.005357908084988594,\n",
       "  0.04000571370124817,\n",
       "  0.1994570642709732,\n",
       "  0.41170167922973633,\n",
       "  0.597942590713501]}"
      ]
     },
     "execution_count": 221,
     "metadata": {},
     "output_type": "execute_result"
    }
   ],
   "source": [
    "train_k.history"
   ]
  },
  {
   "cell_type": "code",
   "execution_count": 223,
   "id": "0a77ee56",
   "metadata": {},
   "outputs": [
    {
     "data": {
      "text/plain": [
       "{'loss': [7.480738162994385,\n",
       "  6.15192985534668,\n",
       "  4.322259426116943,\n",
       "  2.9353580474853516,\n",
       "  1.954768419265747],\n",
       " 'accuracy': [0.004929275717586279,\n",
       "  0.03679097071290016,\n",
       "  0.19688527286052704,\n",
       "  0.4015573561191559,\n",
       "  0.5866552591323853]}"
      ]
     },
     "execution_count": 223,
     "metadata": {},
     "output_type": "execute_result"
    }
   ],
   "source": [
    "train_k.history"
   ]
  },
  {
   "cell_type": "code",
   "execution_count": 233,
   "id": "2276f3f7",
   "metadata": {},
   "outputs": [
    {
     "name": "stdout",
     "output_type": "stream",
     "text": [
      "5\n",
      "10\n",
      "15\n",
      "20\n",
      "25\n",
      "30\n",
      "35\n",
      "40\n",
      "45\n",
      "50\n",
      "55\n",
      "60\n",
      "65\n",
      "70\n",
      "75\n",
      "80\n",
      "85\n",
      "90\n",
      "95\n"
     ]
    }
   ],
   "source": [
    "for i in range(5, 100, 5):\n",
    "    "
   ]
  },
  {
   "cell_type": "code",
   "execution_count": 266,
   "id": "138d1a40",
   "metadata": {},
   "outputs": [
    {
     "data": {
      "text/plain": [
       "1836"
      ]
     },
     "execution_count": 266,
     "metadata": {},
     "output_type": "execute_result"
    }
   ],
   "source": [
    "len(l['author'].unique())"
   ]
  },
  {
   "cell_type": "code",
   "execution_count": 267,
   "id": "0a26a88e",
   "metadata": {},
   "outputs": [
    {
     "data": {
      "text/plain": [
       "1985"
      ]
     },
     "execution_count": 267,
     "metadata": {},
     "output_type": "execute_result"
    }
   ],
   "source": [
    "len(l['name'].unique())"
   ]
  },
  {
   "cell_type": "code",
   "execution_count": null,
   "id": "49e7dac4",
   "metadata": {},
   "outputs": [],
   "source": []
  },
  {
   "cell_type": "code",
   "execution_count": null,
   "id": "d52b5b66",
   "metadata": {},
   "outputs": [],
   "source": []
  }
 ],
 "metadata": {
  "kernelspec": {
   "display_name": "Python 3 (ipykernel)",
   "language": "python",
   "name": "python3"
  },
  "language_info": {
   "codemirror_mode": {
    "name": "ipython",
    "version": 3
   },
   "file_extension": ".py",
   "mimetype": "text/x-python",
   "name": "python",
   "nbconvert_exporter": "python",
   "pygments_lexer": "ipython3",
   "version": "3.9.7"
  }
 },
 "nbformat": 4,
 "nbformat_minor": 5
}
