{
 "cells": [
  {
   "cell_type": "code",
   "execution_count": 1,
   "id": "5552d6e7",
   "metadata": {},
   "outputs": [],
   "source": [
    "import pandas as pd\n",
    "from nltk.tokenize import word_tokenize, sent_tokenize\n",
    "from nltk.corpus import stopwords\n",
    "from nltk import ngrams\n",
    "import nltk\n",
    "from nltk import pos_tag\n",
    "import string\n",
    "import re"
   ]
  },
  {
   "cell_type": "code",
   "execution_count": 2,
   "id": "06d49e67",
   "metadata": {},
   "outputs": [],
   "source": [
    "from sklearn.feature_extraction.text import TfidfVectorizer\n",
    "from sklearn.pipeline import Pipeline\n",
    "from sklearn.neural_network import MLPRegressor, MLPClassifier\n",
    "from sklearn.model_selection import cross_val_score\n",
    "from sklearn.metrics import precision_recall_fscore_support\n",
    "from sklearn.metrics import accuracy_score\n",
    "# from nltk.sentiment import SentimentIntensityAnalyzer\n",
    "from sklearn.metrics import confusion_matrix\n",
    "from keras.layers import Dense\n",
    "from keras.models import Sequential\n",
    "from keras.wrappers.scikit_learn import KerasClassifier\n",
    "import scipy\n",
    "from sklearn.model_selection import train_test_split"
   ]
  },
  {
   "cell_type": "code",
   "execution_count": 3,
   "id": "25b37a69",
   "metadata": {},
   "outputs": [
    {
     "data": {
      "text/html": [
       "<div>\n",
       "<style scoped>\n",
       "    .dataframe tbody tr th:only-of-type {\n",
       "        vertical-align: middle;\n",
       "    }\n",
       "\n",
       "    .dataframe tbody tr th {\n",
       "        vertical-align: top;\n",
       "    }\n",
       "\n",
       "    .dataframe thead th {\n",
       "        text-align: right;\n",
       "    }\n",
       "</style>\n",
       "<table border=\"1\" class=\"dataframe\">\n",
       "  <thead>\n",
       "    <tr style=\"text-align: right;\">\n",
       "      <th></th>\n",
       "      <th>name</th>\n",
       "      <th>author</th>\n",
       "      <th>url</th>\n",
       "      <th>length</th>\n",
       "      <th>sample0</th>\n",
       "      <th>sample1</th>\n",
       "      <th>sample2</th>\n",
       "      <th>sample3</th>\n",
       "      <th>sample4</th>\n",
       "      <th>sample5</th>\n",
       "      <th>sample6</th>\n",
       "      <th>sample7</th>\n",
       "      <th>sample8</th>\n",
       "      <th>sample9</th>\n",
       "    </tr>\n",
       "  </thead>\n",
       "  <tbody>\n",
       "    <tr>\n",
       "      <th>0</th>\n",
       "      <td>The Confessions of a Poacher</td>\n",
       "      <td>James Watson</td>\n",
       "      <td>https://www.gutenberg.org/files/36970/36970-h/...</td>\n",
       "      <td>25752</td>\n",
       "      <td>never done before. It was a bad case he said, ...</td>\n",
       "      <td>the greatest numbers. We took them alive in ne...</td>\n",
       "      <td>more rabbits than every other stroke of woodcr...</td>\n",
       "      <td>a remarkable addition to our fur and feather. ...</td>\n",
       "      <td>The only serious fights I ever had were when k...</td>\n",
       "      <td>he captures with his hands. Examine his aquari...</td>\n",
       "      <td>the marsh and shore birds he knew by heart, an...</td>\n",
       "      <td>and \"springes,\" and one morning on going to ex...</td>\n",
       "      <td>to feed immediately. This was the critical mom...</td>\n",
       "      <td>Kittiwake had worked a decoy, as had his fathe...</td>\n",
       "    </tr>\n",
       "    <tr>\n",
       "      <th>1</th>\n",
       "      <td>The Valkyries</td>\n",
       "      <td>E. F. Benson.</td>\n",
       "      <td>https://www.gutenberg.org/files/46119/46119-h/...</td>\n",
       "      <td>31804</td>\n",
       "      <td>and was now angry for the first time, and with...</td>\n",
       "      <td>and look well at it to see if indeed it merits...</td>\n",
       "      <td>entrance had turned himself, and risen from hi...</td>\n",
       "      <td>the heavens were clear, and the benediction of...</td>\n",
       "      <td>cannot do the deed that was laid on me. She sh...</td>\n",
       "      <td>remembered he that Sieglinde's last look had d...</td>\n",
       "      <td>to me, piercing my soul to its uttermost. And ...</td>\n",
       "      <td>but which was still among the unfound things o...</td>\n",
       "      <td>Hunding hated the sword-hilt, for he had not b...</td>\n",
       "      <td>bear that the woman should be blamed for what ...</td>\n",
       "    </tr>\n",
       "    <tr>\n",
       "      <th>2</th>\n",
       "      <td>Time and Tide</td>\n",
       "      <td>Robert S. (Robert Stawell) Ball</td>\n",
       "      <td>https://www.gutenberg.org/files/24236/24236-h/...</td>\n",
       "      <td>37483</td>\n",
       "      <td>then if a wall were thrown across the mouth so...</td>\n",
       "      <td>profound law of nature, which tells us that ac...</td>\n",
       "      <td>century in the earth's internal heat is absolu...</td>\n",
       "      <td>are at present doing work, and have been doing...</td>\n",
       "      <td>not the sole agent engaged in producing this[1...</td>\n",
       "      <td>attracting bodies of our system are separated ...</td>\n",
       "      <td>period which depends on the size of the vessel...</td>\n",
       "      <td>that the laws of motion, as we understand them...</td>\n",
       "      <td>correct the establishment by -60m., and find t...</td>\n",
       "      <td>the solar system could be tampered with is by ...</td>\n",
       "    </tr>\n",
       "    <tr>\n",
       "      <th>3</th>\n",
       "      <td>The Great Events by Famous Historians, Volume 9</td>\n",
       "      <td>Famous Historians, Volume 9, by Various</td>\n",
       "      <td>https://www.gutenberg.org/files/26337/26337-h/...</td>\n",
       "      <td>157207</td>\n",
       "      <td>order, who, when they came, were found to be l...</td>\n",
       "      <td>blew a horn from the tower of the cathedral on...</td>\n",
       "      <td>against Algiers. Hungary overrun by the Turks,...</td>\n",
       "      <td>to procure his master an opportunity of escapi...</td>\n",
       "      <td>his generals, Kondera and Konishi Setsu-no-Kam...</td>\n",
       "      <td>with a deadly hatred. His French alliances, hi...</td>\n",
       "      <td>Judge. This was what the Pope and his theologi...</td>\n",
       "      <td>Luther as his advocate the lawyer Jerome Schur...</td>\n",
       "      <td>and then, a white staff having been placed in ...</td>\n",
       "      <td>on a level with the great nobles of the counci...</td>\n",
       "    </tr>\n",
       "    <tr>\n",
       "      <th>4</th>\n",
       "      <td>Honey-Sweet</td>\n",
       "      <td>Edna Turpin</td>\n",
       "      <td>https://www.gutenberg.org/files/17892/17892-h/...</td>\n",
       "      <td>49797</td>\n",
       "      <td>rough-and-tumble gang.\" Mr. Patterson summoned...</td>\n",
       "      <td>you Anne! You wouldn't be selfish, would you?\"...</td>\n",
       "      <td>ain't got no sewin' money,\" said Mrs. Callahan...</td>\n",
       "      <td>niece, Anne Lewis. The cook had never seen nor...</td>\n",
       "      <td>I can't see Lois.\" It was a raw December day a...</td>\n",
       "      <td>our dresses in the sun before we go home. Oh, ...</td>\n",
       "      <td>sure she might answer this. \"And then seeing D...</td>\n",
       "      <td>Rev. Newell Dwight Hillis. \"Its whole tone and...</td>\n",
       "      <td>ma'am. Peggy, give the little lady some roses,...</td>\n",
       "      <td>CHAPTER XIV One Saturday afternoon in July, wh...</td>\n",
       "    </tr>\n",
       "  </tbody>\n",
       "</table>\n",
       "</div>"
      ],
      "text/plain": [
       "                                              name  \\\n",
       "0                     The Confessions of a Poacher   \n",
       "1                                    The Valkyries   \n",
       "2                                    Time and Tide   \n",
       "3  The Great Events by Famous Historians, Volume 9   \n",
       "4                                      Honey-Sweet   \n",
       "\n",
       "                                    author  \\\n",
       "0                             James Watson   \n",
       "1                            E. F. Benson.   \n",
       "2          Robert S. (Robert Stawell) Ball   \n",
       "3  Famous Historians, Volume 9, by Various   \n",
       "4                              Edna Turpin   \n",
       "\n",
       "                                                 url  length  \\\n",
       "0  https://www.gutenberg.org/files/36970/36970-h/...   25752   \n",
       "1  https://www.gutenberg.org/files/46119/46119-h/...   31804   \n",
       "2  https://www.gutenberg.org/files/24236/24236-h/...   37483   \n",
       "3  https://www.gutenberg.org/files/26337/26337-h/...  157207   \n",
       "4  https://www.gutenberg.org/files/17892/17892-h/...   49797   \n",
       "\n",
       "                                             sample0  \\\n",
       "0  never done before. It was a bad case he said, ...   \n",
       "1  and was now angry for the first time, and with...   \n",
       "2  then if a wall were thrown across the mouth so...   \n",
       "3  order, who, when they came, were found to be l...   \n",
       "4  rough-and-tumble gang.\" Mr. Patterson summoned...   \n",
       "\n",
       "                                             sample1  \\\n",
       "0  the greatest numbers. We took them alive in ne...   \n",
       "1  and look well at it to see if indeed it merits...   \n",
       "2  profound law of nature, which tells us that ac...   \n",
       "3  blew a horn from the tower of the cathedral on...   \n",
       "4  you Anne! You wouldn't be selfish, would you?\"...   \n",
       "\n",
       "                                             sample2  \\\n",
       "0  more rabbits than every other stroke of woodcr...   \n",
       "1  entrance had turned himself, and risen from hi...   \n",
       "2  century in the earth's internal heat is absolu...   \n",
       "3  against Algiers. Hungary overrun by the Turks,...   \n",
       "4  ain't got no sewin' money,\" said Mrs. Callahan...   \n",
       "\n",
       "                                             sample3  \\\n",
       "0  a remarkable addition to our fur and feather. ...   \n",
       "1  the heavens were clear, and the benediction of...   \n",
       "2  are at present doing work, and have been doing...   \n",
       "3  to procure his master an opportunity of escapi...   \n",
       "4  niece, Anne Lewis. The cook had never seen nor...   \n",
       "\n",
       "                                             sample4  \\\n",
       "0  The only serious fights I ever had were when k...   \n",
       "1  cannot do the deed that was laid on me. She sh...   \n",
       "2  not the sole agent engaged in producing this[1...   \n",
       "3  his generals, Kondera and Konishi Setsu-no-Kam...   \n",
       "4  I can't see Lois.\" It was a raw December day a...   \n",
       "\n",
       "                                             sample5  \\\n",
       "0  he captures with his hands. Examine his aquari...   \n",
       "1  remembered he that Sieglinde's last look had d...   \n",
       "2  attracting bodies of our system are separated ...   \n",
       "3  with a deadly hatred. His French alliances, hi...   \n",
       "4  our dresses in the sun before we go home. Oh, ...   \n",
       "\n",
       "                                             sample6  \\\n",
       "0  the marsh and shore birds he knew by heart, an...   \n",
       "1  to me, piercing my soul to its uttermost. And ...   \n",
       "2  period which depends on the size of the vessel...   \n",
       "3  Judge. This was what the Pope and his theologi...   \n",
       "4  sure she might answer this. \"And then seeing D...   \n",
       "\n",
       "                                             sample7  \\\n",
       "0  and \"springes,\" and one morning on going to ex...   \n",
       "1  but which was still among the unfound things o...   \n",
       "2  that the laws of motion, as we understand them...   \n",
       "3  Luther as his advocate the lawyer Jerome Schur...   \n",
       "4  Rev. Newell Dwight Hillis. \"Its whole tone and...   \n",
       "\n",
       "                                             sample8  \\\n",
       "0  to feed immediately. This was the critical mom...   \n",
       "1  Hunding hated the sword-hilt, for he had not b...   \n",
       "2  correct the establishment by -60m., and find t...   \n",
       "3  and then, a white staff having been placed in ...   \n",
       "4  ma'am. Peggy, give the little lady some roses,...   \n",
       "\n",
       "                                             sample9  \n",
       "0  Kittiwake had worked a decoy, as had his fathe...  \n",
       "1  bear that the woman should be blamed for what ...  \n",
       "2  the solar system could be tampered with is by ...  \n",
       "3  on a level with the great nobles of the counci...  \n",
       "4  CHAPTER XIV One Saturday afternoon in July, wh...  "
      ]
     },
     "execution_count": 3,
     "metadata": {},
     "output_type": "execute_result"
    }
   ],
   "source": [
    "books_df = pd.read_csv('book_df2.csv', index_col= 0)\n",
    "books_df.head()"
   ]
  },
  {
   "cell_type": "code",
   "execution_count": 4,
   "id": "5d3e98d4",
   "metadata": {},
   "outputs": [],
   "source": [
    "l = pd.wide_to_long(books_df, stubnames='sample',i = ['name', 'author', 'length'], j= 'number')\n",
    "l.reset_index(inplace= True)"
   ]
  },
  {
   "cell_type": "code",
   "execution_count": 5,
   "id": "6e2ec02d",
   "metadata": {},
   "outputs": [
    {
     "data": {
      "text/plain": [
       "20000"
      ]
     },
     "execution_count": 5,
     "metadata": {},
     "output_type": "execute_result"
    }
   ],
   "source": [
    "len(l)"
   ]
  },
  {
   "cell_type": "code",
   "execution_count": 6,
   "id": "347d6458",
   "metadata": {},
   "outputs": [
    {
     "data": {
      "text/plain": [
       "<AxesSubplot:>"
      ]
     },
     "execution_count": 6,
     "metadata": {},
     "output_type": "execute_result"
    },
    {
     "data": {
      "image/png": "[encoded data removed]",
      "text/plain": [
       "<Figure size 432x288 with 1 Axes>"
      ]
     },
     "metadata": {
      "needs_background": "light"
     },
     "output_type": "display_data"
    }
   ],
   "source": [
    "books_df['author'].value_counts().hist()"
   ]
  },
  {
   "cell_type": "code",
   "execution_count": 7,
   "id": "b955b502",
   "metadata": {},
   "outputs": [
    {
     "data": {
      "text/plain": [
       "Index(['name', 'author', 'url', 'length', 'sample0', 'sample1', 'sample2',\n",
       "       'sample3', 'sample4', 'sample5', 'sample6', 'sample7', 'sample8',\n",
       "       'sample9'],\n",
       "      dtype='object')"
      ]
     },
     "execution_count": 7,
     "metadata": {},
     "output_type": "execute_result"
    }
   ],
   "source": [
    "books_df.columns"
   ]
  },
  {
   "cell_type": "code",
   "execution_count": 8,
   "id": "6033e4bb",
   "metadata": {},
   "outputs": [
    {
     "data": {
      "text/html": [
       "<div>\n",
       "<style scoped>\n",
       "    .dataframe tbody tr th:only-of-type {\n",
       "        vertical-align: middle;\n",
       "    }\n",
       "\n",
       "    .dataframe tbody tr th {\n",
       "        vertical-align: top;\n",
       "    }\n",
       "\n",
       "    .dataframe thead th {\n",
       "        text-align: right;\n",
       "    }\n",
       "</style>\n",
       "<table border=\"1\" class=\"dataframe\">\n",
       "  <thead>\n",
       "    <tr style=\"text-align: right;\">\n",
       "      <th></th>\n",
       "      <th>name</th>\n",
       "      <th>author</th>\n",
       "      <th>length</th>\n",
       "      <th>number</th>\n",
       "      <th>url</th>\n",
       "      <th>sample</th>\n",
       "    </tr>\n",
       "  </thead>\n",
       "  <tbody>\n",
       "    <tr>\n",
       "      <th>0</th>\n",
       "      <td>The Confessions of a Poacher</td>\n",
       "      <td>James Watson</td>\n",
       "      <td>25752</td>\n",
       "      <td>0</td>\n",
       "      <td>https://www.gutenberg.org/files/36970/36970-h/...</td>\n",
       "      <td>never done before. It was a bad case he said, ...</td>\n",
       "    </tr>\n",
       "    <tr>\n",
       "      <th>1</th>\n",
       "      <td>The Confessions of a Poacher</td>\n",
       "      <td>James Watson</td>\n",
       "      <td>25752</td>\n",
       "      <td>1</td>\n",
       "      <td>https://www.gutenberg.org/files/36970/36970-h/...</td>\n",
       "      <td>the greatest numbers. We took them alive in ne...</td>\n",
       "    </tr>\n",
       "    <tr>\n",
       "      <th>2</th>\n",
       "      <td>The Confessions of a Poacher</td>\n",
       "      <td>James Watson</td>\n",
       "      <td>25752</td>\n",
       "      <td>2</td>\n",
       "      <td>https://www.gutenberg.org/files/36970/36970-h/...</td>\n",
       "      <td>more rabbits than every other stroke of woodcr...</td>\n",
       "    </tr>\n",
       "    <tr>\n",
       "      <th>3</th>\n",
       "      <td>The Confessions of a Poacher</td>\n",
       "      <td>James Watson</td>\n",
       "      <td>25752</td>\n",
       "      <td>3</td>\n",
       "      <td>https://www.gutenberg.org/files/36970/36970-h/...</td>\n",
       "      <td>a remarkable addition to our fur and feather. ...</td>\n",
       "    </tr>\n",
       "    <tr>\n",
       "      <th>4</th>\n",
       "      <td>The Confessions of a Poacher</td>\n",
       "      <td>James Watson</td>\n",
       "      <td>25752</td>\n",
       "      <td>4</td>\n",
       "      <td>https://www.gutenberg.org/files/36970/36970-h/...</td>\n",
       "      <td>The only serious fights I ever had were when k...</td>\n",
       "    </tr>\n",
       "    <tr>\n",
       "      <th>5</th>\n",
       "      <td>The Confessions of a Poacher</td>\n",
       "      <td>James Watson</td>\n",
       "      <td>25752</td>\n",
       "      <td>5</td>\n",
       "      <td>https://www.gutenberg.org/files/36970/36970-h/...</td>\n",
       "      <td>he captures with his hands. Examine his aquari...</td>\n",
       "    </tr>\n",
       "    <tr>\n",
       "      <th>6</th>\n",
       "      <td>The Confessions of a Poacher</td>\n",
       "      <td>James Watson</td>\n",
       "      <td>25752</td>\n",
       "      <td>6</td>\n",
       "      <td>https://www.gutenberg.org/files/36970/36970-h/...</td>\n",
       "      <td>the marsh and shore birds he knew by heart, an...</td>\n",
       "    </tr>\n",
       "    <tr>\n",
       "      <th>7</th>\n",
       "      <td>The Confessions of a Poacher</td>\n",
       "      <td>James Watson</td>\n",
       "      <td>25752</td>\n",
       "      <td>7</td>\n",
       "      <td>https://www.gutenberg.org/files/36970/36970-h/...</td>\n",
       "      <td>and \"springes,\" and one morning on going to ex...</td>\n",
       "    </tr>\n",
       "    <tr>\n",
       "      <th>8</th>\n",
       "      <td>The Confessions of a Poacher</td>\n",
       "      <td>James Watson</td>\n",
       "      <td>25752</td>\n",
       "      <td>8</td>\n",
       "      <td>https://www.gutenberg.org/files/36970/36970-h/...</td>\n",
       "      <td>to feed immediately. This was the critical mom...</td>\n",
       "    </tr>\n",
       "    <tr>\n",
       "      <th>9</th>\n",
       "      <td>The Confessions of a Poacher</td>\n",
       "      <td>James Watson</td>\n",
       "      <td>25752</td>\n",
       "      <td>9</td>\n",
       "      <td>https://www.gutenberg.org/files/36970/36970-h/...</td>\n",
       "      <td>Kittiwake had worked a decoy, as had his fathe...</td>\n",
       "    </tr>\n",
       "  </tbody>\n",
       "</table>\n",
       "</div>"
      ],
      "text/plain": [
       "                           name        author  length  number  \\\n",
       "0  The Confessions of a Poacher  James Watson   25752       0   \n",
       "1  The Confessions of a Poacher  James Watson   25752       1   \n",
       "2  The Confessions of a Poacher  James Watson   25752       2   \n",
       "3  The Confessions of a Poacher  James Watson   25752       3   \n",
       "4  The Confessions of a Poacher  James Watson   25752       4   \n",
       "5  The Confessions of a Poacher  James Watson   25752       5   \n",
       "6  The Confessions of a Poacher  James Watson   25752       6   \n",
       "7  The Confessions of a Poacher  James Watson   25752       7   \n",
       "8  The Confessions of a Poacher  James Watson   25752       8   \n",
       "9  The Confessions of a Poacher  James Watson   25752       9   \n",
       "\n",
       "                                                 url  \\\n",
       "0  https://www.gutenberg.org/files/36970/36970-h/...   \n",
       "1  https://www.gutenberg.org/files/36970/36970-h/...   \n",
       "2  https://www.gutenberg.org/files/36970/36970-h/...   \n",
       "3  https://www.gutenberg.org/files/36970/36970-h/...   \n",
       "4  https://www.gutenberg.org/files/36970/36970-h/...   \n",
       "5  https://www.gutenberg.org/files/36970/36970-h/...   \n",
       "6  https://www.gutenberg.org/files/36970/36970-h/...   \n",
       "7  https://www.gutenberg.org/files/36970/36970-h/...   \n",
       "8  https://www.gutenberg.org/files/36970/36970-h/...   \n",
       "9  https://www.gutenberg.org/files/36970/36970-h/...   \n",
       "\n",
       "                                              sample  \n",
       "0  never done before. It was a bad case he said, ...  \n",
       "1  the greatest numbers. We took them alive in ne...  \n",
       "2  more rabbits than every other stroke of woodcr...  \n",
       "3  a remarkable addition to our fur and feather. ...  \n",
       "4  The only serious fights I ever had were when k...  \n",
       "5  he captures with his hands. Examine his aquari...  \n",
       "6  the marsh and shore birds he knew by heart, an...  \n",
       "7  and \"springes,\" and one morning on going to ex...  \n",
       "8  to feed immediately. This was the critical mom...  \n",
       "9  Kittiwake had worked a decoy, as had his fathe...  "
      ]
     },
     "execution_count": 8,
     "metadata": {},
     "output_type": "execute_result"
    }
   ],
   "source": [
    "l.head(10)"
   ]
  },
  {
   "cell_type": "code",
   "execution_count": 9,
   "id": "fd3f9ceb",
   "metadata": {},
   "outputs": [
    {
     "name": "stdout",
     "output_type": "stream",
     "text": [
      "0\n"
     ]
    }
   ],
   "source": [
    "print(sum(l.duplicated(subset = ['sample'])))"
   ]
  },
  {
   "cell_type": "code",
   "execution_count": 10,
   "id": "7fffa892",
   "metadata": {},
   "outputs": [],
   "source": [
    "l['tagged_sample'] = l['sample'].apply(lambda x : pos_tag(word_tokenize(x)))"
   ]
  },
  {
   "cell_type": "code",
   "execution_count": 11,
   "id": "5bd1fc60",
   "metadata": {},
   "outputs": [],
   "source": [
    "def clean_text(text):\n",
    "    # Clean text, remove end of lines, remove uppercase letters, puctuation and numbers.\n",
    "    text = text.replace('\\n','')\n",
    "    text = text.lower()\n",
    "    text = text.translate(str.maketrans('', '', string.punctuation))\n",
    "    r=re.compile(r'\\d')\n",
    "    text = r.sub('', text)\n",
    "    text = text.strip()\n",
    "    return text\n",
    "def stringit(x):\n",
    "    # Convert list of words to string\n",
    "    y = \" \"\n",
    "    \n",
    "    return y.join(x)\n",
    "def normalize_text(df, col, add_on= ''):\n",
    "    # Clean, Tokenize, and stem text. Remove stopwords from text. Returns a cleaned column, a tokenized column, and a column of tokens as string\n",
    "    df['clean_txt' + add_on] = df[col].apply(lambda x : clean_text(x))\n",
    "    df['tokenized_txt' + add_on] = df['clean_txt' + add_on].apply(lambda x : word_tokenize(x))\n",
    "    stopword = stopwords.words('english') # Set stopwords\n",
    "    df['tokenized_txt' + add_on] = df['tokenized_txt' + add_on].apply(lambda x : [word for word in x if word not in stopword]) # Remove stopwords for each row\n",
    "    df['tokenized_string' + add_on] = df['tokenized_txt' + add_on].apply(lambda x : stringit(x))\n",
    "    porter = nltk.stem.PorterStemmer() # Create stemmer\n",
    "    df['stemmed_txt' + add_on] = df['tokenized_txt' +add_on].apply(lambda x : [porter.stem(word) for word in x])\n",
    "    df['stemmed_string' + add_on] = df['stemmed_txt' + add_on].apply(lambda x : stringit(x))\n",
    "    \n",
    "normalize_text(l, 'sample') # Apply normilization"
   ]
  },
  {
   "cell_type": "code",
   "execution_count": 12,
   "id": "18c9a16d",
   "metadata": {},
   "outputs": [
    {
     "data": {
      "text/html": [
       "<div>\n",
       "<style scoped>\n",
       "    .dataframe tbody tr th:only-of-type {\n",
       "        vertical-align: middle;\n",
       "    }\n",
       "\n",
       "    .dataframe tbody tr th {\n",
       "        vertical-align: top;\n",
       "    }\n",
       "\n",
       "    .dataframe thead th {\n",
       "        text-align: right;\n",
       "    }\n",
       "</style>\n",
       "<table border=\"1\" class=\"dataframe\">\n",
       "  <thead>\n",
       "    <tr style=\"text-align: right;\">\n",
       "      <th></th>\n",
       "      <th>name</th>\n",
       "      <th>author</th>\n",
       "      <th>length</th>\n",
       "      <th>number</th>\n",
       "      <th>url</th>\n",
       "      <th>sample</th>\n",
       "      <th>tagged_sample</th>\n",
       "      <th>clean_txt</th>\n",
       "      <th>tokenized_txt</th>\n",
       "      <th>tokenized_string</th>\n",
       "      <th>stemmed_txt</th>\n",
       "      <th>stemmed_string</th>\n",
       "    </tr>\n",
       "  </thead>\n",
       "  <tbody>\n",
       "    <tr>\n",
       "      <th>0</th>\n",
       "      <td>The Confessions of a Poacher</td>\n",
       "      <td>James Watson</td>\n",
       "      <td>25752</td>\n",
       "      <td>0</td>\n",
       "      <td>https://www.gutenberg.org/files/36970/36970-h/...</td>\n",
       "      <td>never done before. It was a bad case he said, ...</td>\n",
       "      <td>[(never, RB), (done, VBN), (before, RB), (., ....</td>\n",
       "      <td>never done before it was a bad case he said bu...</td>\n",
       "      <td>[never, done, bad, case, said, added, never, c...</td>\n",
       "      <td>never done bad case said added never charged n...</td>\n",
       "      <td>[never, done, bad, case, said, ad, never, char...</td>\n",
       "      <td>never done bad case said ad never charg net cl...</td>\n",
       "    </tr>\n",
       "    <tr>\n",
       "      <th>1</th>\n",
       "      <td>The Confessions of a Poacher</td>\n",
       "      <td>James Watson</td>\n",
       "      <td>25752</td>\n",
       "      <td>1</td>\n",
       "      <td>https://www.gutenberg.org/files/36970/36970-h/...</td>\n",
       "      <td>the greatest numbers. We took them alive in ne...</td>\n",
       "      <td>[(the, DT), (greatest, JJS), (numbers, NNS), (...</td>\n",
       "      <td>the greatest numbers we took them alive in net...</td>\n",
       "      <td>[greatest, numbers, took, alive, nets, fattene...</td>\n",
       "      <td>greatest numbers took alive nets fattened soak...</td>\n",
       "      <td>[greatest, number, took, aliv, net, fatten, so...</td>\n",
       "      <td>greatest number took aliv net fatten soak whea...</td>\n",
       "    </tr>\n",
       "    <tr>\n",
       "      <th>2</th>\n",
       "      <td>The Confessions of a Poacher</td>\n",
       "      <td>James Watson</td>\n",
       "      <td>25752</td>\n",
       "      <td>2</td>\n",
       "      <td>https://www.gutenberg.org/files/36970/36970-h/...</td>\n",
       "      <td>more rabbits than every other stroke of woodcr...</td>\n",
       "      <td>[(more, RBR), (rabbits, NNS), (than, IN), (eve...</td>\n",
       "      <td>more rabbits than every other stroke of woodcr...</td>\n",
       "      <td>[rabbits, every, stroke, woodcraft, poacher, k...</td>\n",
       "      <td>rabbits every stroke woodcraft poacher knows t...</td>\n",
       "      <td>[rabbit, everi, stroke, woodcraft, poacher, kn...</td>\n",
       "      <td>rabbit everi stroke woodcraft poacher know tri...</td>\n",
       "    </tr>\n",
       "    <tr>\n",
       "      <th>3</th>\n",
       "      <td>The Confessions of a Poacher</td>\n",
       "      <td>James Watson</td>\n",
       "      <td>25752</td>\n",
       "      <td>3</td>\n",
       "      <td>https://www.gutenberg.org/files/36970/36970-h/...</td>\n",
       "      <td>a remarkable addition to our fur and feather. ...</td>\n",
       "      <td>[(a, DT), (remarkable, JJ), (addition, NN), (t...</td>\n",
       "      <td>a remarkable addition to our fur and feather i...</td>\n",
       "      <td>[remarkable, addition, fur, feather, darkness,...</td>\n",
       "      <td>remarkable addition fur feather darkness movem...</td>\n",
       "      <td>[remark, addit, fur, feather, dark, movement, ...</td>\n",
       "      <td>remark addit fur feather dark movement heard a...</td>\n",
       "    </tr>\n",
       "    <tr>\n",
       "      <th>4</th>\n",
       "      <td>The Confessions of a Poacher</td>\n",
       "      <td>James Watson</td>\n",
       "      <td>25752</td>\n",
       "      <td>4</td>\n",
       "      <td>https://www.gutenberg.org/files/36970/36970-h/...</td>\n",
       "      <td>The only serious fights I ever had were when k...</td>\n",
       "      <td>[(The, DT), (only, RB), (serious, JJ), (fights...</td>\n",
       "      <td>the only serious fights i ever had were when k...</td>\n",
       "      <td>[serious, fights, ever, keepers, threatened, s...</td>\n",
       "      <td>serious fights ever keepers threatened shoot d...</td>\n",
       "      <td>[seriou, fight, ever, keeper, threaten, shoot,...</td>\n",
       "      <td>seriou fight ever keeper threaten shoot dog se...</td>\n",
       "    </tr>\n",
       "  </tbody>\n",
       "</table>\n",
       "</div>"
      ],
      "text/plain": [
       "                           name        author  length  number  \\\n",
       "0  The Confessions of a Poacher  James Watson   25752       0   \n",
       "1  The Confessions of a Poacher  James Watson   25752       1   \n",
       "2  The Confessions of a Poacher  James Watson   25752       2   \n",
       "3  The Confessions of a Poacher  James Watson   25752       3   \n",
       "4  The Confessions of a Poacher  James Watson   25752       4   \n",
       "\n",
       "                                                 url  \\\n",
       "0  https://www.gutenberg.org/files/36970/36970-h/...   \n",
       "1  https://www.gutenberg.org/files/36970/36970-h/...   \n",
       "2  https://www.gutenberg.org/files/36970/36970-h/...   \n",
       "3  https://www.gutenberg.org/files/36970/36970-h/...   \n",
       "4  https://www.gutenberg.org/files/36970/36970-h/...   \n",
       "\n",
       "                                              sample  \\\n",
       "0  never done before. It was a bad case he said, ...   \n",
       "1  the greatest numbers. We took them alive in ne...   \n",
       "2  more rabbits than every other stroke of woodcr...   \n",
       "3  a remarkable addition to our fur and feather. ...   \n",
       "4  The only serious fights I ever had were when k...   \n",
       "\n",
       "                                       tagged_sample  \\\n",
       "0  [(never, RB), (done, VBN), (before, RB), (., ....   \n",
       "1  [(the, DT), (greatest, JJS), (numbers, NNS), (...   \n",
       "2  [(more, RBR), (rabbits, NNS), (than, IN), (eve...   \n",
       "3  [(a, DT), (remarkable, JJ), (addition, NN), (t...   \n",
       "4  [(The, DT), (only, RB), (serious, JJ), (fights...   \n",
       "\n",
       "                                           clean_txt  \\\n",
       "0  never done before it was a bad case he said bu...   \n",
       "1  the greatest numbers we took them alive in net...   \n",
       "2  more rabbits than every other stroke of woodcr...   \n",
       "3  a remarkable addition to our fur and feather i...   \n",
       "4  the only serious fights i ever had were when k...   \n",
       "\n",
       "                                       tokenized_txt  \\\n",
       "0  [never, done, bad, case, said, added, never, c...   \n",
       "1  [greatest, numbers, took, alive, nets, fattene...   \n",
       "2  [rabbits, every, stroke, woodcraft, poacher, k...   \n",
       "3  [remarkable, addition, fur, feather, darkness,...   \n",
       "4  [serious, fights, ever, keepers, threatened, s...   \n",
       "\n",
       "                                    tokenized_string  \\\n",
       "0  never done bad case said added never charged n...   \n",
       "1  greatest numbers took alive nets fattened soak...   \n",
       "2  rabbits every stroke woodcraft poacher knows t...   \n",
       "3  remarkable addition fur feather darkness movem...   \n",
       "4  serious fights ever keepers threatened shoot d...   \n",
       "\n",
       "                                         stemmed_txt  \\\n",
       "0  [never, done, bad, case, said, ad, never, char...   \n",
       "1  [greatest, number, took, aliv, net, fatten, so...   \n",
       "2  [rabbit, everi, stroke, woodcraft, poacher, kn...   \n",
       "3  [remark, addit, fur, feather, dark, movement, ...   \n",
       "4  [seriou, fight, ever, keeper, threaten, shoot,...   \n",
       "\n",
       "                                      stemmed_string  \n",
       "0  never done bad case said ad never charg net cl...  \n",
       "1  greatest number took aliv net fatten soak whea...  \n",
       "2  rabbit everi stroke woodcraft poacher know tri...  \n",
       "3  remark addit fur feather dark movement heard a...  \n",
       "4  seriou fight ever keeper threaten shoot dog se...  "
      ]
     },
     "execution_count": 12,
     "metadata": {},
     "output_type": "execute_result"
    }
   ],
   "source": [
    "l.head()"
   ]
  },
  {
   "cell_type": "code",
   "execution_count": 13,
   "id": "7591717a",
   "metadata": {},
   "outputs": [],
   "source": [
    "l.dropna(inplace= True)"
   ]
  },
  {
   "cell_type": "code",
   "execution_count": 14,
   "id": "1f7207f2",
   "metadata": {},
   "outputs": [
    {
     "data": {
      "text/html": [
       "<div>\n",
       "<style scoped>\n",
       "    .dataframe tbody tr th:only-of-type {\n",
       "        vertical-align: middle;\n",
       "    }\n",
       "\n",
       "    .dataframe tbody tr th {\n",
       "        vertical-align: top;\n",
       "    }\n",
       "\n",
       "    .dataframe thead th {\n",
       "        text-align: right;\n",
       "    }\n",
       "</style>\n",
       "<table border=\"1\" class=\"dataframe\">\n",
       "  <thead>\n",
       "    <tr style=\"text-align: right;\">\n",
       "      <th></th>\n",
       "      <th>name</th>\n",
       "      <th>author</th>\n",
       "      <th>length</th>\n",
       "      <th>number</th>\n",
       "      <th>url</th>\n",
       "      <th>sample</th>\n",
       "      <th>tagged_sample</th>\n",
       "      <th>clean_txt</th>\n",
       "      <th>tokenized_txt</th>\n",
       "      <th>tokenized_string</th>\n",
       "      <th>stemmed_txt</th>\n",
       "      <th>stemmed_string</th>\n",
       "    </tr>\n",
       "  </thead>\n",
       "  <tbody>\n",
       "    <tr>\n",
       "      <th>0</th>\n",
       "      <td>the confessions of a poacher</td>\n",
       "      <td>james watson</td>\n",
       "      <td>25752</td>\n",
       "      <td>0</td>\n",
       "      <td>https://www.gutenberg.org/files/36970/36970-h/...</td>\n",
       "      <td>never done before. It was a bad case he said, ...</td>\n",
       "      <td>[(never, RB), (done, VBN), (before, RB), (., ....</td>\n",
       "      <td>never done before it was a bad case he said bu...</td>\n",
       "      <td>[never, done, bad, case, said, added, never, c...</td>\n",
       "      <td>never done bad case said added never charged n...</td>\n",
       "      <td>[never, done, bad, case, said, ad, never, char...</td>\n",
       "      <td>never done bad case said ad never charg net cl...</td>\n",
       "    </tr>\n",
       "    <tr>\n",
       "      <th>1</th>\n",
       "      <td>the confessions of a poacher</td>\n",
       "      <td>james watson</td>\n",
       "      <td>25752</td>\n",
       "      <td>1</td>\n",
       "      <td>https://www.gutenberg.org/files/36970/36970-h/...</td>\n",
       "      <td>the greatest numbers. We took them alive in ne...</td>\n",
       "      <td>[(the, DT), (greatest, JJS), (numbers, NNS), (...</td>\n",
       "      <td>the greatest numbers we took them alive in net...</td>\n",
       "      <td>[greatest, numbers, took, alive, nets, fattene...</td>\n",
       "      <td>greatest numbers took alive nets fattened soak...</td>\n",
       "      <td>[greatest, number, took, aliv, net, fatten, so...</td>\n",
       "      <td>greatest number took aliv net fatten soak whea...</td>\n",
       "    </tr>\n",
       "    <tr>\n",
       "      <th>2</th>\n",
       "      <td>the confessions of a poacher</td>\n",
       "      <td>james watson</td>\n",
       "      <td>25752</td>\n",
       "      <td>2</td>\n",
       "      <td>https://www.gutenberg.org/files/36970/36970-h/...</td>\n",
       "      <td>more rabbits than every other stroke of woodcr...</td>\n",
       "      <td>[(more, RBR), (rabbits, NNS), (than, IN), (eve...</td>\n",
       "      <td>more rabbits than every other stroke of woodcr...</td>\n",
       "      <td>[rabbits, every, stroke, woodcraft, poacher, k...</td>\n",
       "      <td>rabbits every stroke woodcraft poacher knows t...</td>\n",
       "      <td>[rabbit, everi, stroke, woodcraft, poacher, kn...</td>\n",
       "      <td>rabbit everi stroke woodcraft poacher know tri...</td>\n",
       "    </tr>\n",
       "    <tr>\n",
       "      <th>3</th>\n",
       "      <td>the confessions of a poacher</td>\n",
       "      <td>james watson</td>\n",
       "      <td>25752</td>\n",
       "      <td>3</td>\n",
       "      <td>https://www.gutenberg.org/files/36970/36970-h/...</td>\n",
       "      <td>a remarkable addition to our fur and feather. ...</td>\n",
       "      <td>[(a, DT), (remarkable, JJ), (addition, NN), (t...</td>\n",
       "      <td>a remarkable addition to our fur and feather i...</td>\n",
       "      <td>[remarkable, addition, fur, feather, darkness,...</td>\n",
       "      <td>remarkable addition fur feather darkness movem...</td>\n",
       "      <td>[remark, addit, fur, feather, dark, movement, ...</td>\n",
       "      <td>remark addit fur feather dark movement heard a...</td>\n",
       "    </tr>\n",
       "    <tr>\n",
       "      <th>4</th>\n",
       "      <td>the confessions of a poacher</td>\n",
       "      <td>james watson</td>\n",
       "      <td>25752</td>\n",
       "      <td>4</td>\n",
       "      <td>https://www.gutenberg.org/files/36970/36970-h/...</td>\n",
       "      <td>The only serious fights I ever had were when k...</td>\n",
       "      <td>[(The, DT), (only, RB), (serious, JJ), (fights...</td>\n",
       "      <td>the only serious fights i ever had were when k...</td>\n",
       "      <td>[serious, fights, ever, keepers, threatened, s...</td>\n",
       "      <td>serious fights ever keepers threatened shoot d...</td>\n",
       "      <td>[seriou, fight, ever, keeper, threaten, shoot,...</td>\n",
       "      <td>seriou fight ever keeper threaten shoot dog se...</td>\n",
       "    </tr>\n",
       "  </tbody>\n",
       "</table>\n",
       "</div>"
      ],
      "text/plain": [
       "                           name        author  length  number  \\\n",
       "0  the confessions of a poacher  james watson   25752       0   \n",
       "1  the confessions of a poacher  james watson   25752       1   \n",
       "2  the confessions of a poacher  james watson   25752       2   \n",
       "3  the confessions of a poacher  james watson   25752       3   \n",
       "4  the confessions of a poacher  james watson   25752       4   \n",
       "\n",
       "                                                 url  \\\n",
       "0  https://www.gutenberg.org/files/36970/36970-h/...   \n",
       "1  https://www.gutenberg.org/files/36970/36970-h/...   \n",
       "2  https://www.gutenberg.org/files/36970/36970-h/...   \n",
       "3  https://www.gutenberg.org/files/36970/36970-h/...   \n",
       "4  https://www.gutenberg.org/files/36970/36970-h/...   \n",
       "\n",
       "                                              sample  \\\n",
       "0  never done before. It was a bad case he said, ...   \n",
       "1  the greatest numbers. We took them alive in ne...   \n",
       "2  more rabbits than every other stroke of woodcr...   \n",
       "3  a remarkable addition to our fur and feather. ...   \n",
       "4  The only serious fights I ever had were when k...   \n",
       "\n",
       "                                       tagged_sample  \\\n",
       "0  [(never, RB), (done, VBN), (before, RB), (., ....   \n",
       "1  [(the, DT), (greatest, JJS), (numbers, NNS), (...   \n",
       "2  [(more, RBR), (rabbits, NNS), (than, IN), (eve...   \n",
       "3  [(a, DT), (remarkable, JJ), (addition, NN), (t...   \n",
       "4  [(The, DT), (only, RB), (serious, JJ), (fights...   \n",
       "\n",
       "                                           clean_txt  \\\n",
       "0  never done before it was a bad case he said bu...   \n",
       "1  the greatest numbers we took them alive in net...   \n",
       "2  more rabbits than every other stroke of woodcr...   \n",
       "3  a remarkable addition to our fur and feather i...   \n",
       "4  the only serious fights i ever had were when k...   \n",
       "\n",
       "                                       tokenized_txt  \\\n",
       "0  [never, done, bad, case, said, added, never, c...   \n",
       "1  [greatest, numbers, took, alive, nets, fattene...   \n",
       "2  [rabbits, every, stroke, woodcraft, poacher, k...   \n",
       "3  [remarkable, addition, fur, feather, darkness,...   \n",
       "4  [serious, fights, ever, keepers, threatened, s...   \n",
       "\n",
       "                                    tokenized_string  \\\n",
       "0  never done bad case said added never charged n...   \n",
       "1  greatest numbers took alive nets fattened soak...   \n",
       "2  rabbits every stroke woodcraft poacher knows t...   \n",
       "3  remarkable addition fur feather darkness movem...   \n",
       "4  serious fights ever keepers threatened shoot d...   \n",
       "\n",
       "                                         stemmed_txt  \\\n",
       "0  [never, done, bad, case, said, ad, never, char...   \n",
       "1  [greatest, number, took, aliv, net, fatten, so...   \n",
       "2  [rabbit, everi, stroke, woodcraft, poacher, kn...   \n",
       "3  [remark, addit, fur, feather, dark, movement, ...   \n",
       "4  [seriou, fight, ever, keeper, threaten, shoot,...   \n",
       "\n",
       "                                      stemmed_string  \n",
       "0  never done bad case said ad never charg net cl...  \n",
       "1  greatest number took aliv net fatten soak whea...  \n",
       "2  rabbit everi stroke woodcraft poacher know tri...  \n",
       "3  remark addit fur feather dark movement heard a...  \n",
       "4  seriou fight ever keeper threaten shoot dog se...  "
      ]
     },
     "execution_count": 14,
     "metadata": {},
     "output_type": "execute_result"
    }
   ],
   "source": [
    "l['author'] = l['author'].apply(lambda x : clean_text(x)).astype('str')\n",
    "l['name'] = l['name'].apply(lambda x : clean_text(x)).astype('str')\n",
    "l.head()"
   ]
  },
  {
   "cell_type": "code",
   "execution_count": 15,
   "id": "80dba880",
   "metadata": {},
   "outputs": [],
   "source": [
    "l.isna().sum()\n",
    "l = l.dropna()"
   ]
  },
  {
   "cell_type": "code",
   "execution_count": 16,
   "id": "592c6e1d",
   "metadata": {},
   "outputs": [],
   "source": [
    "train = l[l['number'] != 9]\n",
    "test = l[l['number'] == 9]"
   ]
  },
  {
   "cell_type": "code",
   "execution_count": 17,
   "id": "f24d1808",
   "metadata": {},
   "outputs": [],
   "source": [
    "X = train['stemmed_string']\n",
    "y = train['name']\n",
    "X_train, X_val, y_train, y_val = train_test_split(X, y, test_size =0.3, random_state=11)"
   ]
  },
  {
   "cell_type": "code",
   "execution_count": 18,
   "id": "f24e582e",
   "metadata": {},
   "outputs": [
    {
     "data": {
      "text/plain": [
       "<AxesSubplot:>"
      ]
     },
     "execution_count": 18,
     "metadata": {},
     "output_type": "execute_result"
    },
    {
     "data": {
      "image/png": "[encoded data removed]",
      "text/plain": [
       "<Figure size 432x288 with 1 Axes>"
      ]
     },
     "metadata": {
      "needs_background": "light"
     },
     "output_type": "display_data"
    }
   ],
   "source": [
    "y_val.value_counts().hist(bins=30)"
   ]
  },
  {
   "cell_type": "code",
   "execution_count": 19,
   "id": "4640d694",
   "metadata": {},
   "outputs": [],
   "source": [
    "N_FEATURES = 15000 # Set number of features\n",
    "N_CLASSES = len(l['name'].unique()) # Set number of classes\n",
    "\n",
    "def build_network():\n",
    "    # Compile a neural network\n",
    "    nn = Sequential()\n",
    "    nn.add(Dense(500, activation='relu', input_shape= (N_FEATURES,)))\n",
    "    nn.add(Dense(150, activation= 'relu'))\n",
    "    nn.add(Dense(N_CLASSES, activation= 'softmax'))\n",
    "    nn.compile(\n",
    "        loss= 'categorical_crossentropy',\n",
    "        optimizer='adam',\n",
    "        metrics=['accuracy']\n",
    "    )\n",
    "    return nn"
   ]
  },
  {
   "cell_type": "code",
   "execution_count": 20,
   "id": "3cc07732",
   "metadata": {},
   "outputs": [],
   "source": [
    "vectorizer = TfidfVectorizer( max_features= 15000) # Create vectorizer\n",
    "tfidf_train = vectorizer.fit_transform(X_train) # Return features and tfidf values for training set\n",
    "tfidf_train.sort_indices() # Sort by index (required by tensorflow)\n",
    "tfidf_val = vectorizer.transform(X_val)  # Return tfidf values for test set\n",
    "tfidf_val.sort_indices()"
   ]
  },
  {
   "cell_type": "code",
   "execution_count": 21,
   "id": "0e241032",
   "metadata": {},
   "outputs": [
    {
     "name": "stderr",
     "output_type": "stream",
     "text": [
      "C:\\Users\\aarme\\AppData\\Local\\Temp/ipykernel_5116/3763399738.py:1: DeprecationWarning: KerasClassifier is deprecated, use Sci-Keras (https://github.com/adriangb/scikeras) instead. See https://www.adriangb.com/scikeras/stable/migration.html for help migrating.\n",
      "  dnn =  KerasClassifier(build_fn= build_network,\n"
     ]
    },
    {
     "name": "stdout",
     "output_type": "stream",
     "text": [
      "Epoch 1/15\n"
     ]
    },
    {
     "name": "stderr",
     "output_type": "stream",
     "text": [
      "C:\\Users\\aarme\\anaconda3\\lib\\site-packages\\tensorflow\\python\\framework\\indexed_slices.py:444: UserWarning: Converting sparse IndexedSlices(IndexedSlices(indices=Tensor(\"gradient_tape/sequential/dense/embedding_lookup_sparse/Reshape_1:0\", shape=(None,), dtype=int32), values=Tensor(\"gradient_tape/sequential/dense/embedding_lookup_sparse/Reshape:0\", shape=(None, 500), dtype=float32), dense_shape=Tensor(\"gradient_tape/sequential/dense/embedding_lookup_sparse/Cast:0\", shape=(2,), dtype=int32))) to a dense Tensor of unknown shape. This may consume a large amount of memory.\n",
      "  warnings.warn(\n"
     ]
    },
    {
     "name": "stdout",
     "output_type": "stream",
     "text": [
      "Epoch 2/15\n",
      "Epoch 3/15\n",
      "Epoch 4/15\n",
      "Epoch 5/15\n",
      "Epoch 6/15\n",
      "Epoch 7/15\n",
      "Epoch 8/15\n",
      "Epoch 9/15\n",
      "Epoch 10/15\n",
      "Epoch 11/15\n",
      "Epoch 12/15\n",
      "Epoch 13/15\n",
      "Epoch 14/15\n",
      "Epoch 15/15\n",
      "0.5053703703703704\n"
     ]
    }
   ],
   "source": [
    "dnn =  KerasClassifier(build_fn= build_network,\n",
    "                            epochs= 15,\n",
    "                            batch_size=128,\n",
    "                          verbose=10)\n",
    "train_k = dnn.fit(tfidf_train, y_train) # Train model\n",
    "# train[i] = train_k.history\n",
    "\n",
    "preds = dnn.predict(tfidf_val)\n",
    "accuracy = accuracy_score(y_val, preds)\n",
    "print(accuracy)"
   ]
  },
  {
   "cell_type": "code",
   "execution_count": 22,
   "id": "28da1b3c",
   "metadata": {},
   "outputs": [],
   "source": [
    "tfidf_test = vectorizer.transform(test['stemmed_string'])  # Return tfidf values for test set\n",
    "tfidf_test.sort_indices()"
   ]
  },
  {
   "cell_type": "code",
   "execution_count": 23,
   "id": "925952e4",
   "metadata": {},
   "outputs": [
    {
     "data": {
      "text/plain": [
       "0.545"
      ]
     },
     "execution_count": 23,
     "metadata": {},
     "output_type": "execute_result"
    }
   ],
   "source": [
    "tpred = dnn.predict(tfidf_test)\n",
    "accuracy_score(test['name'], tpred)"
   ]
  },
  {
   "cell_type": "code",
   "execution_count": 24,
   "id": "d9db5381",
   "metadata": {},
   "outputs": [],
   "source": [
    "X = train['stemmed_string']\n",
    "y2 = train['author']\n",
    "X2_train, X2_val, y2_train, y2_val = train_test_split(X, y2, test_size =0.3, random_state=11)\n",
    "\n",
    "N_FEATURES = 15000 # Set number of features\n",
    "N_CLASSES = len(l['author'].unique()) # Set number of classes\n",
    "\n",
    "def build_network():\n",
    "    # Compile a neural network\n",
    "    nn = Sequential()\n",
    "    nn.add(Dense(500, activation='relu', input_shape= (N_FEATURES,)))\n",
    "    nn.add(Dense(150, activation= 'relu'))\n",
    "    nn.add(Dense(N_CLASSES, activation= 'softmax'))\n",
    "    nn.compile(\n",
    "        loss= 'categorical_crossentropy',\n",
    "        optimizer='adam',\n",
    "        metrics=['accuracy']\n",
    "    )\n",
    "    return nn\n",
    "\n",
    "vectorizer = TfidfVectorizer(ngram_range= (1,5), max_features= N_FEATURES) # Create vectorizer\n",
    "tfidf_train = vectorizer.fit_transform(X2_train) # Return features and tfidf values for training set\n",
    "tfidf_train.sort_indices() # Sort by index (required by tensorflow)\n",
    "tfidf_val = vectorizer.transform(X2_val)  # Return tfidf values for test set\n",
    "tfidf_val.sort_indices()"
   ]
  },
  {
   "cell_type": "code",
   "execution_count": 25,
   "id": "76da0e78",
   "metadata": {},
   "outputs": [
    {
     "name": "stderr",
     "output_type": "stream",
     "text": [
      "C:\\Users\\aarme\\AppData\\Local\\Temp/ipykernel_5116/564709117.py:1: DeprecationWarning: KerasClassifier is deprecated, use Sci-Keras (https://github.com/adriangb/scikeras) instead. See https://www.adriangb.com/scikeras/stable/migration.html for help migrating.\n",
      "  dnn =  KerasClassifier(build_fn= build_network,\n"
     ]
    },
    {
     "name": "stdout",
     "output_type": "stream",
     "text": [
      "Epoch 1/20\n"
     ]
    },
    {
     "name": "stderr",
     "output_type": "stream",
     "text": [
      "C:\\Users\\aarme\\anaconda3\\lib\\site-packages\\tensorflow\\python\\framework\\indexed_slices.py:444: UserWarning: Converting sparse IndexedSlices(IndexedSlices(indices=Tensor(\"gradient_tape/sequential_1/dense_3/embedding_lookup_sparse/Reshape_1:0\", shape=(None,), dtype=int32), values=Tensor(\"gradient_tape/sequential_1/dense_3/embedding_lookup_sparse/Reshape:0\", shape=(None, 500), dtype=float32), dense_shape=Tensor(\"gradient_tape/sequential_1/dense_3/embedding_lookup_sparse/Cast:0\", shape=(2,), dtype=int32))) to a dense Tensor of unknown shape. This may consume a large amount of memory.\n",
      "  warnings.warn(\n"
     ]
    },
    {
     "name": "stdout",
     "output_type": "stream",
     "text": [
      "Epoch 2/20\n",
      "Epoch 3/20\n",
      "Epoch 4/20\n",
      "Epoch 5/20\n",
      "Epoch 6/20\n",
      "Epoch 7/20\n",
      "Epoch 8/20\n",
      "Epoch 9/20\n",
      "Epoch 10/20\n",
      "Epoch 11/20\n",
      "Epoch 12/20\n",
      "Epoch 13/20\n",
      "Epoch 14/20\n",
      "Epoch 15/20\n",
      "Epoch 16/20\n",
      "Epoch 17/20\n",
      "Epoch 18/20\n",
      "Epoch 19/20\n",
      "Epoch 20/20\n",
      "0.4711111111111111\n"
     ]
    }
   ],
   "source": [
    "dnn =  KerasClassifier(build_fn= build_network,\n",
    "                            epochs= 20,\n",
    "                            batch_size=128,\n",
    "                          verbose=10)\n",
    "train_k = dnn.fit(tfidf_train, y2_train) # Train model\n",
    "#     aut_train[i] = train_k.history\n",
    "preds = dnn.predict(tfidf_val)\n",
    "accuracy = accuracy_score(y2_val, preds)\n",
    "print(accuracy)"
   ]
  },
  {
   "cell_type": "code",
   "execution_count": 26,
   "id": "a5070e02",
   "metadata": {},
   "outputs": [
    {
     "data": {
      "text/plain": [
       "0.5165"
      ]
     },
     "execution_count": 26,
     "metadata": {},
     "output_type": "execute_result"
    }
   ],
   "source": [
    "tfidf_test = vectorizer.transform(test['stemmed_string'])  # Return tfidf values for test set\n",
    "tfidf_test.sort_indices()\n",
    "tpred = dnn.predict(tfidf_test)\n",
    "accuracy_score(test['author'], tpred)"
   ]
  },
  {
   "cell_type": "code",
   "execution_count": 27,
   "id": "6a7b7a94",
   "metadata": {},
   "outputs": [],
   "source": [
    "X = train['stemmed_string']\n",
    "y = train['name']\n",
    "X_train, X_val, y_train, y_val = train_test_split(X, y, test_size =0.3, random_state=11)\n",
    "\n",
    "N_FEATURES = 15000 # Set number of features\n",
    "N_CLASSES = len(l['name'].unique()) # Set number of classes\n",
    "\n",
    "def build_network():\n",
    "    # Compile a neural network\n",
    "    nn = Sequential()\n",
    "    nn.add(Dense(500, activation='relu', input_shape= (N_FEATURES,)))\n",
    "    nn.add(Dense(150, activation= 'relu'))\n",
    "    nn.add(Dense(N_CLASSES, activation= 'softmax'))\n",
    "    nn.compile(\n",
    "        loss= 'categorical_crossentropy',\n",
    "        optimizer='adam',\n",
    "        metrics=['accuracy']\n",
    "    )\n",
    "    return nn\n",
    "\n",
    "vectorizer = TfidfVectorizer(ngram_range= (1,5), max_features= N_FEATURES) # Create vectorizer\n",
    "tfidf_train = vectorizer.fit_transform(X_train) # Return features and tfidf values for training set\n",
    "tfidf_train.sort_indices() # Sort by index (required by tensorflow)\n",
    "tfidf_val = vectorizer.transform(X_val)  # Return tfidf values for test set\n",
    "tfidf_val.sort_indices()"
   ]
  },
  {
   "cell_type": "code",
   "execution_count": 28,
   "id": "0bfbad19",
   "metadata": {},
   "outputs": [
    {
     "name": "stderr",
     "output_type": "stream",
     "text": [
      "C:\\Users\\aarme\\AppData\\Local\\Temp/ipykernel_5116/1544357269.py:1: DeprecationWarning: KerasClassifier is deprecated, use Sci-Keras (https://github.com/adriangb/scikeras) instead. See https://www.adriangb.com/scikeras/stable/migration.html for help migrating.\n",
      "  dnn =  KerasClassifier(build_fn= build_network,\n"
     ]
    },
    {
     "name": "stdout",
     "output_type": "stream",
     "text": [
      "Epoch 1/20\n"
     ]
    },
    {
     "name": "stderr",
     "output_type": "stream",
     "text": [
      "C:\\Users\\aarme\\anaconda3\\lib\\site-packages\\tensorflow\\python\\framework\\indexed_slices.py:444: UserWarning: Converting sparse IndexedSlices(IndexedSlices(indices=Tensor(\"gradient_tape/sequential_2/dense_6/embedding_lookup_sparse/Reshape_1:0\", shape=(None,), dtype=int32), values=Tensor(\"gradient_tape/sequential_2/dense_6/embedding_lookup_sparse/Reshape:0\", shape=(None, 500), dtype=float32), dense_shape=Tensor(\"gradient_tape/sequential_2/dense_6/embedding_lookup_sparse/Cast:0\", shape=(2,), dtype=int32))) to a dense Tensor of unknown shape. This may consume a large amount of memory.\n",
      "  warnings.warn(\n"
     ]
    },
    {
     "name": "stdout",
     "output_type": "stream",
     "text": [
      "Epoch 2/20\n",
      "Epoch 3/20\n",
      "Epoch 4/20\n",
      "Epoch 5/20\n",
      "Epoch 6/20\n",
      "Epoch 7/20\n",
      "Epoch 8/20\n",
      "Epoch 9/20\n",
      "Epoch 10/20\n",
      "Epoch 11/20\n",
      "Epoch 12/20\n",
      "Epoch 13/20\n",
      "Epoch 14/20\n",
      "Epoch 15/20\n",
      "Epoch 16/20\n",
      "Epoch 17/20\n",
      "Epoch 18/20\n",
      "Epoch 19/20\n",
      "Epoch 20/20\n",
      "0.4811111111111111\n"
     ]
    }
   ],
   "source": [
    "dnn =  KerasClassifier(build_fn= build_network,\n",
    "                            epochs= 20,\n",
    "                            batch_size=128,\n",
    "                          verbose=10)\n",
    "train_k = dnn.fit(tfidf_train, y_train) # Train model\n",
    "#     n_train[i] = train_k.history\n",
    "preds = dnn.predict(tfidf_val)\n",
    "accuracy = accuracy_score(y_val, preds)\n",
    "print(accuracy)"
   ]
  },
  {
   "cell_type": "code",
   "execution_count": 29,
   "id": "c2e02fb5",
   "metadata": {},
   "outputs": [
    {
     "data": {
      "text/plain": [
       "0.523"
      ]
     },
     "execution_count": 29,
     "metadata": {},
     "output_type": "execute_result"
    }
   ],
   "source": [
    "tfidf_test = vectorizer.transform(test['stemmed_string'])  # Return tfidf values for test set\n",
    "tfidf_test.sort_indices()\n",
    "tpred = dnn.predict(tfidf_test)\n",
    "accuracy_score(test['name'], tpred)"
   ]
  },
  {
   "cell_type": "code",
   "execution_count": 32,
   "id": "beefc011",
   "metadata": {},
   "outputs": [
    {
     "data": {
      "text/plain": [
       "550"
      ]
     },
     "execution_count": 32,
     "metadata": {},
     "output_type": "execute_result"
    }
   ],
   "source": [
    "len(l.iloc[1]['sample'].split())"
   ]
  },
  {
   "cell_type": "code",
   "execution_count": null,
   "id": "d2a298c8",
   "metadata": {},
   "outputs": [],
   "source": []
  }
 ],
 "metadata": {
  "kernelspec": {
   "display_name": "Python 3 (ipykernel)",
   "language": "python",
   "name": "python3"
  },
  "language_info": {
   "codemirror_mode": {
    "name": "ipython",
    "version": 3
   },
   "file_extension": ".py",
   "mimetype": "text/x-python",
   "name": "python",
   "nbconvert_exporter": "python",
   "pygments_lexer": "ipython3",
   "version": "3.9.7"
  }
 },
 "nbformat": 4,
 "nbformat_minor": 5
}
